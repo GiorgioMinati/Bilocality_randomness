{
 "cells": [
  {
   "cell_type": "code",
   "execution_count": 11,
   "id": "82059a48-fc42-44ec-a91b-3b8370045111",
   "metadata": {},
   "outputs": [],
   "source": [
    "using JuMP, MosekTools\n",
    "using Plots, Combinatorics, LinearAlgebra\n",
    "using DelimitedFiles\n",
    "using PoissonRandom\n",
    "using NPZ\n",
    "using Ipopt\n",
    "include(\"QuantumNPA/QuantumNPA.jl\");\n",
    "using .QuantumNPA\n",
    "include(\"dist_builder.jl\");"
   ]
  },
  {
   "cell_type": "code",
   "execution_count": 2,
   "id": "d3abbd98-ab34-492c-84c7-f051593e15cb",
   "metadata": {},
   "outputs": [
    {
     "data": {
      "text/plain": [
       "1"
      ]
     },
     "execution_count": 2,
     "metadata": {},
     "output_type": "execute_result"
    }
   ],
   "source": [
    "using Base.Threads\n",
    "nthreads()"
   ]
  },
  {
   "cell_type": "markdown",
   "id": "61cef815-c9d9-4962-8794-f19951f29857",
   "metadata": {},
   "source": [
    "# Common definitions"
   ]
  },
  {
   "cell_type": "code",
   "execution_count": 3,
   "id": "7e34431e-632b-4cd4-9df3-b358ee106023",
   "metadata": {},
   "outputs": [
    {
     "data": {
      "text/plain": [
       "min_binary_search"
      ]
     },
     "execution_count": 3,
     "metadata": {},
     "output_type": "execute_result"
    }
   ],
   "source": [
    "\n",
    "function get_proj(obs)\n",
    "    vals, vecs = eigen(obs)\n",
    "    if vals[1] ≈ -1 && vals[2] ≈ 1\n",
    "        return [vecs[:,2]*vecs[:,2]', vecs[:,1]*vecs[:,1]']\n",
    "    elseif vals[1] ≈ 1 && vals[1] ≈ -1\n",
    "        return [vecs[:,1]*vecs[:,1]', vecs[:,2]*vecs[:,2]']\n",
    "    else\n",
    "        throw(\"Non dichotomic observable: Eigenvalues: $vals.\")\n",
    "    end\n",
    "end\n",
    "\n",
    "function _cyclic_mon(P, n, x1, x2)\n",
    "    m = Id\n",
    "    for (i, x) in enumerate(Iterators.cycle([x1, x2]))\n",
    "        m *= P[1, x]\n",
    "        i ≥ n && break\n",
    "    end\n",
    "    return m\n",
    "end\n",
    "\n",
    "function generate_projective_scvar(P, N, x1, x2; tail=Id, swapped=true, var_symbols=nothing)\n",
    "    vars = []\n",
    "    for n=2:N\n",
    "        Pn12 = _cyclic_mon(P, n, x1, x2)*tail\n",
    "        if isnothing(var_symbols)\n",
    "            αn12 = scalarfactor(Pn12)\n",
    "        else\n",
    "            αn12 = scalarfactor(\"$(var_symbols[1])_$(n)\", Pn12)\n",
    "        end\n",
    "        push!(vars, αn12)\n",
    "        if swapped \n",
    "            Pn21 = _cyclic_mon(P, n, x2, x1)*tail\n",
    "            if isnothing(var_symbols)\n",
    "                αn21 = scalarfactor(Pn21)\n",
    "            else\n",
    "                αn21 = scalarfactor(\"$(var_symbols[2])_$(n)\", Pn21)\n",
    "            end\n",
    "            push!(vars, αn21)\n",
    "        end\n",
    "    end\n",
    "    return vars\n",
    "end\n",
    "\n",
    "function generate_projective_scvar(P, N; tail=Id, swapped=true, var_symbols=nothing)\n",
    "    num_settings = size(PA)[2]\n",
    "    vars = []\n",
    "    for (x1, x2) in combinations(1:num_settings, 2)\n",
    "        if !isnothing(var_symbols)\n",
    "            var_symbols = map(s->\"$s$x1$x2\", var_symbols)\n",
    "        end\n",
    "        push!(vars, generate_projective_scvar(P, N, x1, x2, tail=tail, swapped=swapped, var_symbols=var_symbols)...)\n",
    "    end\n",
    "    return vars\n",
    "end\n",
    "\n",
    "\"\"\"Search for the minimum value inside `interval` for which `f(x)` is true.\n",
    "Returns an interval such that `x_min ∈ [x1, x2]`.\"\"\" \n",
    "function min_binary_search(f::Function, interval::Tuple{Float64, Float64}, N::Int; verbose=false)\n",
    "    min_int = [interval...]\n",
    "    for i=1:N\n",
    "        x = sum(min_int)/2\n",
    "        verbose && print(\"\\rChecking interval $min_int\")\n",
    "        if f(x)\n",
    "            min_int[2] = x\n",
    "        else\n",
    "            min_int[1] = x\n",
    "        end\n",
    "    end\n",
    "    verbose && println()\n",
    "    return min_int\n",
    "end\n",
    "\n",
    "\n"
   ]
  },
  {
   "cell_type": "markdown",
   "id": "3bec6ac4-299b-4f05-b854-c050c4adb5d8",
   "metadata": {},
   "source": [
    "## Definitions"
   ]
  },
  {
   "cell_type": "markdown",
   "id": "3930273d-99d0-4021-978d-28028f202a5d",
   "metadata": {},
   "source": [
    "### Strategy definitions"
   ]
  },
  {
   "cell_type": "code",
   "execution_count": 1,
   "id": "f5dc0ce7-1ac0-4274-8c0a-6fedbf3321aa",
   "metadata": {},
   "outputs": [
    {
     "ename": "LoadError",
     "evalue": "UndefVarError: `σ` not defined",
     "output_type": "error",
     "traceback": [
      "UndefVarError: `σ` not defined",
      "",
      "Stacktrace:",
      " [1] top-level scope",
      "   @ In[1]:22"
     ]
    }
   ],
   "source": [
    "ide = [1 0; 0 1]\n",
    "II = kron(ide, ide)\n",
    "\n",
    "# State cos(θ)|00> + sin(θ)|11>\n",
    "ψ = θ -> [cos(θ); 0; 0; sin(θ)]\n",
    "ρwer = (θ,v) -> v*(ψ(θ) * ψ(θ)') + (1-v)*II/4\n",
    "\n",
    "function gen_abxy_bell(v, θ; \n",
    "                 ρ=ρwer, \n",
    "                 obsA=[get_proj(σ[3]), get_proj(σ[1])], \n",
    "                 obsB=[get_proj((σ[1]+σ[3])/√2), get_proj((-σ[1]+σ[3])/√2)])\n",
    "    p = zeros(2,2,2,2)\n",
    "    state = ρ(θ,v)\n",
    "    for (a,b,x,y) in Iterators.product(1:2, 1:2, 1:2, 1:2)\n",
    "        p[a,b,x,y] = real(tr(state * kron(obsB[y][b], obsA[x][a])))\n",
    "    end\n",
    "    return p\n",
    "end\n",
    "\n",
    "# Tilted Tony\n",
    "μ(α, θ) = atan(sin(2θ/α))\n",
    "PA_atilted = [get_proj(σ[3]),\n",
    "              get_proj(σ[1])]\n",
    "PB_atilted(α, θ) = [get_proj(cos(μ(α,θ))*σ[3] + sin(μ(α,θ))*σ[1]),\n",
    "                    get_proj(cos(μ(α,θ))*σ[3] - sin(μ(α,θ))*σ[1])]\n",
    "\n",
    "function gen_abxy_atilted(v, θ, α)\n",
    "    return gen_abxy_bell(v, θ; \n",
    "                 ρ=ρwer, \n",
    "                 obsA=PA_atilted, \n",
    "                 obsB=PB_atilted(α, θ))\n",
    "end\n",
    "\n",
    "function bell_atilted_from_dist(p, α, β)\n",
    "    ab(x,y) = sum(p[a,b,x,y] * (-1)^(a+b) for a=1:2, b=1:2)\n",
    "    a(x) = sum(p[a,b,x,1] * (-1)^(a) for a=1:2, b=1:2)\n",
    "    return β*a(1) + α*ab(1,1) + ab(2,1) + α*ab(1,2) - ab(2,2)\n",
    "end\n",
    "\n",
    "# Tilted Wooltorton 1\n",
    "PA_wtilted1(δ) = [get_proj(σ[3]),\n",
    "                  get_proj(-sin(δ)*σ[3] + cos(δ)*σ[1])]\n",
    "PB_wtilted1(δ) = [get_proj(σ[1]),\n",
    "                  get_proj(cos(δ)*σ[3] - sin(δ)*σ[1])]\n",
    "\n",
    "function gen_abxy_wtilted1(v, δ; θ=π/4)\n",
    "    return gen_abxy_bell(v, θ;\n",
    "                 ρ=ρwer, \n",
    "                 obsA=PA_wtilted1(δ), \n",
    "                 obsB=PB_wtilted1(δ))\n",
    "end\n",
    "\n",
    "function p_bilocality_22_wtilted(δ; θ=π/4, v=1, id=1)\n",
    "    A = ΠA_wtilted1(δ)\n",
    "    C = ΠC_wtilted1(δ)\n",
    "    B = [[kron(B1[1], B2[1]) + kron(B1[2], B2[2]),\n",
    "          kron(B1[1], B2[2]) + kron(B1[2], B2[1])]\n",
    "        for (B1, B2) in zip(C, A)]\n",
    "    ρ = kron(ρ_bell(v, θ=θ, id=id),\n",
    "             ρ_bell(v, θ=θ, id=id))\n",
    "    return p_bilocality(A, B, C, ρ)\n",
    "end\n",
    "\n",
    "function bell_wtilted1_from_dist(p, δ)\n",
    "    ab(x,y) = sum(p[a,b,x,y] * (-1)^(a+b) for a=1:2, b=1:2)\n",
    "    return ab(1,1) + (ab(1,2) + ab(2,1))/sin(δ) - ab(2,2)/cos(2δ)\n",
    "end\n",
    "\n",
    "# Tilted Wooltorton 2\n",
    "PA_wtilted2(γ) = [get_proj(σ[3]),\n",
    "                  get_proj(cos(2π/3 - 2γ)*σ[3] + sin(2π/3 - 2γ)*σ[1])]\n",
    "PB_wtilted2(γ) = [get_proj(sin(3γ)*σ[3] + cos(3γ)*σ[1]),\n",
    "                  get_proj(cos(π/6 + γ)*σ[3] - sin(π/6 + γ)*σ[1])]\n",
    "\n",
    "function gen_abxy_wtilted2(v, γ; θ=π/4)\n",
    "    return gen_abxy_bell(v, θ;\n",
    "                 ρ=ρwer, \n",
    "                 obsA=PA_wtilted2(γ), \n",
    "                 obsB=PB_wtilted2(γ))\n",
    "end\n",
    "\n",
    "function bell_wtilted2_from_dist(p, γ)\n",
    "    ab(x,y) = sum(p[a,b,x,y] * (-1)^(a+b) for a=1:2, b=1:2)\n",
    "    c = 4*cos(γ+π/6)^2-1 \n",
    "    return ab(1,1) + c*(ab(1,2) + ab(2,1) - ab(2,2))\n",
    "end\n",
    "\n",
    "# Behavior constraints\n",
    "\n",
    "function get_bconstraints(p)\n",
    "    return [PA[1,1] - Id*sum(p[1,:,1,1]),\n",
    "            PA[1,2] - Id*sum(p[1,:,2,1]),\n",
    "            PB[1,1] - Id*sum(p[:,1,1,1]),\n",
    "            PB[1,2] - Id*sum(p[:,1,1,2]),\n",
    "            PA[1,1]*PB[1,1] - Id*p[1,1,1,1],\n",
    "            PA[1,1]*PB[1,2] - Id*p[1,1,1,2],\n",
    "            PA[1,2]*PB[1,1] - Id*p[1,1,2,1],\n",
    "            PA[1,2]*PB[1,2] - Id*p[1,1,2,2]]\n",
    "end"
   ]
  },
  {
   "cell_type": "markdown",
   "id": "58a9884c-ea59-43b7-a1b2-20aff5c19ed5",
   "metadata": {},
   "source": [
    "# Quantum Bilocality"
   ]
  },
  {
   "cell_type": "code",
   "execution_count": null,
   "id": "de26c251-4b68-482f-9fc2-2e7f293e070b",
   "metadata": {},
   "outputs": [],
   "source": [
    "function generate_bilocal_eq_constraints(p, PA::Matrix{Any}, PB::Matrix{Any}, PC::Matrix{Any})\n",
    "    nA, nX = size(PA)\n",
    "    nC, nZ = size(PC)\n",
    "    nB, nY = size(PB)\n",
    "    eqs = [PA[a,x]*PB[b,y]*PC[c,z] - Id*p[a,b,c,x,y,z] \n",
    "        for (a,b,c,x,y,z) in Iterators.product(1:nA, 1:nB, 1:nC, 1:nX, 1:nY, 1:nZ)]\n",
    "    eqs = [eqs...];\n",
    "    \n",
    "    return eqs\n",
    "end\n",
    "\n",
    "function generate_bilocal_eq_constraints(p, PA::Matrix{Any}, PB::Vector{Any}, PC::Matrix{Any})\n",
    "    nA, nX = size(PA)\n",
    "    nC, nZ = size(PC)\n",
    "    nB = size(PB)[1]\n",
    "    eqs = [PA[a,x]*PB[b]*PC[c,z] - Id*p[a,b,c,x,z]\n",
    "        for (a,b,c,x,z) in Iterators.product(1:nA, 1:nB, 1:nC, 1:nX, 1:nZ)]\n",
    "    eqs = [eqs...];\n",
    "    \n",
    "    return eqs\n",
    "end\n",
    "\n",
    "function bilo_is_feasible(p, PA, PB, PC; commutative=false, level=2)\n",
    "    eqs = generate_bilocal_eq_constraints(p, PA, PB, PC)\n",
    "    model = npa2jump(Id, level, se, eq=eqs, solver=Mosek.Optimizer, verbose=false)\n",
    "    optimize!(model)\n",
    "    return !is_solved_and_feasible(model)\n",
    "end\n",
    "\n",
    "function bilo_pguess(p, PA, PB, PC, PE, se; level=2, x=1, y=1, z=1, verbose=false)\n",
    "    nA, nX = size(PA)\n",
    "    nC, nZ = size(PC)\n",
    "    nB = size(PB)[1]\n",
    "    nE = size(PE)[1]\n",
    "    \n",
    "    eqs = generate_bilocal_eq_constraints(p, PA, PB, PC)\n",
    "    \n",
    "    # Select the correct pguess (guessing B or not) depending on the PE dimension\n",
    "    if nE > nA*nC\n",
    "        if length(size(PB)) > 1\n",
    "            pguess = sum(PA[a,x]*PB[b,y]*PC[c,z]*PE[(a-1) + (b-1)*nA + (c-1)*nA*nB + 1] for (a,b,c) in Iterators.product(1:nA, 1:nB, 1:nC))\n",
    "        else\n",
    "            pguess = sum(PA[a,x]*PB[b]*PC[c,z]*PE[(a-1) + (b-1)*nA + (c-1)*nA*nB + 1] for (a,b,c) in Iterators.product(1:nA, 1:nB, 1:nC))\n",
    "        end\n",
    "    else\n",
    "        pguess = sum(PA[a,x]*PC[c,z]*PE[(a-1) + (c-1)*nA + 1] for (a,c) in Iterators.product(1:nA, 1:nC))\n",
    "    end\n",
    "    \n",
    "    model = npa2jump(pguess, level, se, eq=eqs, solver=Mosek.Optimizer, verbose=verbose)\n",
    "    optimize!(model)\n",
    "    return objective_value(model)\n",
    "end\n",
    "\n",
    "function bilo_pguess(p, PA, PB, PC, PE, PF, se; \n",
    "        level=2, x=1, y=1, z=1, \n",
    "        fb0 = b -> b%2,\n",
    "        fb1 = b -> b÷2,\n",
    "        verbose=false)\n",
    "    nA, nX = size(PA)\n",
    "    nC, nZ = size(PC)\n",
    "    nB = size(PB)[1]\n",
    "    nE = size(PE)[1]\n",
    "    nF = size(PF)[1]\n",
    "    \n",
    "    eqs = generate_bilocal_eq_constraints(p, PA, PB, PC)\n",
    "    \n",
    "    # Select the correct pguess (guessing B or not) depending on the PE dimension\n",
    "    if nE*nF > nA*nC\n",
    "        if nB == 4\n",
    "            if length(size(PB)) > 1\n",
    "                pguess = sum(PA[a,x] * PB[b,y] * PC[c,z] * PE[(a-1)+fb0(b-1)*nA+1] * PF[(c-1)+fb1(b-1)*nC+1] \n",
    "                    for (a,b,c) in Iterators.product(1:nA, 1:nB, 1:nC))\n",
    "            else\n",
    "                pguess = sum(PA[a,x] * PB[b] * PC[c,z] * PE[(a-1)+fb0(b-1)*nA+1] * PF[(c-1)+fb1(b-1)*nC+1] \n",
    "                    for (a,b,c) in Iterators.product(1:nA, 1:nB, 1:nC))\n",
    "            end\n",
    "        elseif nB == 2\n",
    "            if nE == 2 && nF == 4\n",
    "                pguess = sum(PA[a,x] * PB[b] * PC[c,z] * PE[a] * PF[(c-1)+(b-1)*nC+1] \n",
    "                    for (a,b,c) in Iterators.product(1:nA, 1:nB, 1:nC))\n",
    "            elseif nE == 4 && nF == 2\n",
    "                pguess = sum(PA[a,x] * PB[b] * PC[c,z] * PE[(a-1)+(b-1)*nA+1] * PF[c]\n",
    "                    for (a,b,c) in Iterators.product(1:nA, 1:nB, 1:nC))\n",
    "            else\n",
    "                throw(\"Invalid Eavesdropper dimensions\")\n",
    "            end \n",
    "        else\n",
    "            throw(\"Only 1 or 2 bits central node is supported\")\n",
    "        end\n",
    "    else\n",
    "        pguess = sum(PA[a,x] * PC[c,z] * PE[a] * PF[c] \n",
    "            for (a,c) in Iterators.product(1:nA, 1:nC))\n",
    "    end\n",
    "    \n",
    "    model = npa2jump(pguess, level, se, eq=eqs, solver=Mosek.Optimizer, verbose=verbose)\n",
    "    optimize!(model)\n",
    "    return objective_value(model)\n",
    "end\n",
    "\n",
    "function _ef_fun_generator()\n",
    "    function _get_πfuncs(π)\n",
    "        return b -> π[b+1] % 2, b -> π[b+1] ÷ 2\n",
    "    end\n",
    "    return map(_get_πfuncs, permutations([0,1,2,3]))\n",
    "end\n",
    "\n",
    "# No settings on B\n",
    "function p_bilocality(A::Vector{Vector{Matrix{T}}}, \n",
    "                      B::Vector{Matrix{T}}, \n",
    "                      C::Vector{Vector{Matrix{T}}}, \n",
    "                      ρ::Matrix{T}) where T <: Complex\n",
    "    num_outs = (length(A[1]), length(B), length(C[1]))\n",
    "    num_sets = (length(A), length(C))\n",
    "    p = zeros(num_outs..., num_sets...)\n",
    "    for s in Iterators.product((1:n for n in num_sets)...)\n",
    "        for o in Iterators.product((1:n for n in num_outs)...)\n",
    "            ABC = kron(A[s[1]][o[1]], B[o[2]], C[s[2]][o[3]])\n",
    "            p[o..., s...] = real(tr(ABC*ρ))\n",
    "        end\n",
    "    end\n",
    "    return p\n",
    "end\n",
    "\n",
    "# B with settings\n",
    "function p_bilocality(A::Vector{Vector{Matrix{T}}}, \n",
    "                      B::Vector{Vector{Matrix{T}}}, \n",
    "                      C::Vector{Vector{Matrix{T}}}, \n",
    "                      ρ::Matrix{T}) where T <: Complex\n",
    "    num_outs = (length(A[1]), length(B[1]), length(C[1]))\n",
    "    num_sets = (length(A), length(B), length(C))\n",
    "    p = zeros(num_outs..., num_sets...)\n",
    "    for s in Iterators.product((1:n for n in num_sets)...)\n",
    "        for o in Iterators.product((1:n for n in num_outs)...)\n",
    "            ABC = kron(A[s[1]][o[1]], B[s[2]][o[2]], C[s[3]][o[3]])\n",
    "            p[o..., s...] = real(tr(ABC*ρ))\n",
    "        end\n",
    "    end\n",
    "    return p\n",
    "end\n",
    "\n",
    "ρ2_bell(v1, v2; id=4) = kron(ρ_bell(v1, id=id), ρ_bell(v2, id=id))\n",
    "\n",
    "σt(α1,α2) = [get_proj(sin(α1)*σ[3] + cos(α1)*σ[1]),\n",
    "             get_proj(sin(α2)*σ[3] + cos(α2)*σ[1])]\n",
    "\n",
    "ρ_bell(v; θ=π/4, id=4) = v*bell_state(id, θ=θ) + (1-v)*eye(4)/4\n",
    "\n",
    "μ(α, θ) = atan(sin(2θ/α))\n",
    "Π_atilted(α, θ) = [get_proj(cos(μ(α,θ))*σ[3] + sin(μ(α,θ))*σ[1]),\n",
    "                  get_proj(cos(μ(α,θ))*σ[3] - sin(μ(α,θ))*σ[1])]\n",
    "\n",
    "function p_bilocality_abell(;θ=π/4, v=1, α=1, id=4)\n",
    "    \n",
    "    B = [bell_state(k) for k=1:4]\n",
    "    A = σt(0, π/2)\n",
    "    C = Π_atilted(α, θ)\n",
    "    ρ = kron(ρ_bell(v, θ=θ, id=id), \n",
    "             ρ_bell(v, θ=θ, id=id))\n",
    "    return p_bilocality(A, B, C, ρ)\n",
    "end\n",
    "\n",
    "ΠA_wtilted1(δ) = [get_proj(σ[3]),\n",
    "                  get_proj(-sin(δ)*σ[3] + cos(δ)*σ[1])]\n",
    "ΠC_wtilted1(δ) = [get_proj(σ[1]),\n",
    "                  get_proj(cos(δ)*σ[3] - sin(δ)*σ[1])]\n",
    "\n",
    "function p_bilocality_wbell1(δ; θ=π/4, v=1, id=4)\n",
    "    B = [bell_state(k) for k=1:4]\n",
    "    A = ΠA_wtilted1(δ)\n",
    "    C = ΠC_wtilted1(δ)\n",
    "    ρ = kron(ρ_bell(v, θ=θ, id=id), \n",
    "             ρ_bell(v, θ=θ, id=id))\n",
    "    return p_bilocality(A, B, C, ρ)\n",
    "end\n",
    "\n",
    "ΠA_wtilted2(γ) = [get_proj(σ[3]),\n",
    "                  get_proj(cos(2π/3 - 2γ)*σ[3] + sin(2π/3 - 2γ)*σ[1])]\n",
    "ΠC_wtilted2(γ) = [get_proj(sin(3γ)*σ[3] + cos(3γ)*σ[1]),\n",
    "                  get_proj(cos(π/6 + γ)*σ[3] - sin(π/6 + γ)*σ[1])]\n",
    "\n",
    "function p_bilocality_wbell2(γ; θ=π/4, v=1, id=1)\n",
    "    B = [bell_state(k) for k=1:4]\n",
    "    A = ΠA_wtilted2(γ)\n",
    "    C = ΠC_wtilted2(γ)\n",
    "    ρ = kron(ρ_bell(v, θ=θ, id=id), \n",
    "             ρ_bell(v, θ=θ, id=id))\n",
    "    return p_bilocality(A, B, C, ρ)\n",
    "end\n",
    "\n",
    "\n",
    "rotated_BSM(θ) = [bell_state(i, θ=θ) for i=1:4]\n",
    "\n",
    "function p_bilocality_abellBSM(φ; θ=π/4, v=1, α=1, id=4)\n",
    "    B = rotated_BSM(φ)\n",
    "    A = σt(0, π/2)\n",
    "    C = Π_atilted(α, θ)\n",
    "    ρ = kron(ρ_bell(v, θ=θ, id=id), \n",
    "             ρ_bell(v, θ=θ, id=id))\n",
    "    return p_bilocality(A, B, C, ρ)\n",
    "end\n",
    "\n",
    "function p_bilocality_tiltedBSM1(δ, φ; θ=π/4, v=1, id=1)\n",
    "    B = rotated_BSM(φ)\n",
    "    A = ΠA_wtilted1(δ)\n",
    "    C = ΠC_wtilted1(δ)\n",
    "    ρ = kron(ρ_bell(v, θ=θ, id=id), \n",
    "             ρ_bell(v, θ=θ, id=id))\n",
    "    return p_bilocality(A, B, C, ρ)\n",
    "end\n",
    "\n",
    "function p_bilocality_tiltedBSM2(γ, φ; θ=π/4, v=1, id=1)\n",
    "    B = rotated_BSM(φ)\n",
    "    A = ΠA_wtilted2(γ)\n",
    "    C = ΠC_wtilted2(γ)\n",
    "    ρ = kron(ρ_bell(v, θ=θ, id=id), \n",
    "             ρ_bell(v, θ=θ, id=id))\n",
    "    return p_bilocality(A, B, C, ρ)\n",
    "end\n",
    "\n",
    "ΠA_chsh = [get_proj(σ[3]),\n",
    "              get_proj(σ[1])]\n",
    "ΠC_chsh = [get_proj((σ[3] + σ[1])/√2),\n",
    "           get_proj((σ[3] - σ[1])/√2)]\n",
    "\n",
    "function p_bilocality_24_chsh_rotBSM(φ; θ=π/4, v=1, α=1, id=1)\n",
    "    B = [rotated_BSM(π/4), rotated_BSM(φ)]\n",
    "    #A = ΠA_chsh\n",
    "    A = Π_atilted(α, θ)\n",
    "    C = Π_atilted(α, θ)\n",
    "    ρ = kron(ρ_bell(v, θ=θ, id=id),\n",
    "             ρ_bell(v, θ=θ, id=id))\n",
    "    return p_bilocality(A, B, C, ρ)\n",
    "end\n",
    "\n",
    "function p_bilocality_24_wtiltedBSM(δ, θ; θsrc=π/4, v=1, id=1)\n",
    "    B = [rotated_BSM(π/4), rotated_BSM(θ)]\n",
    "    \n",
    "    A = ΠA_wtilted1(δ)\n",
    "    C = ΠC_wtilted1(δ)\n",
    "    ρ = kron(ρ_bell(v, θ=θsrc, id=id),\n",
    "             ρ_bell(v, θ=θsrc, id=id))\n",
    "    return p_bilocality(A, B, C, ρ)\n",
    "end;"
   ]
  },
  {
   "cell_type": "markdown",
   "id": "5a7f469d-2df4-4cb3-8451-835c16fa7f4a",
   "metadata": {},
   "source": [
    "# Standard strategies"
   ]
  },
  {
   "cell_type": "markdown",
   "id": "91b24357-dc36-4bc6-93b5-afef5c4be617",
   "metadata": {},
   "source": [
    "We define \"standard strategies\" the measurement choices on the external nodes ($A$ and $C$) defined in Eq.(12) of the main text:\n",
    "\\begin{equation}\n",
    " A_{0,1} = C_{0,1} = \\frac{\\sigma_z + (-1)^{0,1} \\sigma_x}{\\sqrt{2}}\n",
    "\\end{equation}\n",
    "We consider different possible eavesdropping strategies and measurements in the central node. We denote the possible choices of measurements in the central node with the number of settings and outcomes of the measurement:\n",
    "\n",
    "- (1,4): Bell State Measurement (BSM)\n",
    "- (2,2): $B_0 = \\sigma_x \\otimes \\sigma_x$, $B_1 = \\sigma_z \\otimes \\sigma_z$\n",
    "\n",
    "Instead, the possible eavesdropping strategies are:\n",
    "- Strong Eavesdropper (SE)\n",
    "- Double Eavesdropper (DE)\n",
    "\n",
    "(forse DAG corrispondenti)\n"
   ]
  },
  {
   "cell_type": "markdown",
   "id": "d0755697-9a39-4b19-9e65-42b3ff5e273d",
   "metadata": {},
   "source": [
    "## (1, 4) measurement strategy"
   ]
  },
  {
   "cell_type": "markdown",
   "id": "b0db1629-86e6-453e-8a49-7a5adceeccb6",
   "metadata": {},
   "source": [
    "### Definitions"
   ]
  },
  {
   "cell_type": "markdown",
   "id": "814fa1a2-f1fa-4665-bfc1-5da3c5afd968",
   "metadata": {},
   "source": [
    "#### A, B, C projectors"
   ]
  },
  {
   "cell_type": "code",
   "execution_count": 20,
   "id": "1ab2e1dc-23e3-42a1-9ff1-1afd66092305",
   "metadata": {},
   "outputs": [],
   "source": [
    "# Define projectors corresponding to the three parties measurements\n",
    "PA = projector('A', 1:2, 1:2, full=true);\n",
    "PB_14= projector('B', 1:4, 1, full=true);\n",
    "PC = projector('C', 1:2, 1:2, full=true);"
   ]
  },
  {
   "cell_type": "markdown",
   "id": "ccb5e7c1-8831-42a5-a440-d68194c6feaa",
   "metadata": {},
   "source": [
    "#### Strong-Eavesdropper projectors"
   ]
  },
  {
   "cell_type": "code",
   "execution_count": 21,
   "id": "fb4cb7aa-dc23-4f9a-8e76-c8e4245d5561",
   "metadata": {},
   "outputs": [],
   "source": [
    "# Define projectors corresponding to the eavesdropper measurements\n",
    "PE2 = projector('D', 1:4, 1, full=true); # E guessing AC\n",
    "PE4 = projector('D', 1:16, 1, full=true); # E guessing ABC\n",
    "\n",
    "\n",
    "l = 5 # Order of the product of the scalar variables\n",
    "con = separability_structure([\"A\", \"B\", \"C\", \"D\"], (\"A\",\"C\")); # Separability constraints\n",
    "vars = generate_projective_scvar(PA, l, swapped=true); # Scalar variables\n",
    "se_14_strong = ScalarExtension(vars, con); # Scalar Extension"
   ]
  },
  {
   "cell_type": "markdown",
   "id": "40be3235-2fef-4c4b-ab08-b13c9a82c7b0",
   "metadata": {},
   "source": [
    "#### Double-Eavesdropper projectors"
   ]
  },
  {
   "cell_type": "markdown",
   "id": "d8504648-e41b-4cee-852b-aafd62e06a2b",
   "metadata": {},
   "source": [
    "Guessing ABC"
   ]
  },
  {
   "cell_type": "code",
   "execution_count": 22,
   "id": "f22b6ae8-5358-4d44-b4a3-d815a09eb39e",
   "metadata": {},
   "outputs": [],
   "source": [
    "# Define projectors corresponding to the eavesdroppers measurements\n",
    "PE2 = projector('D', 1:4, 1, full=true); # E guessing A,B1 (B1 = first bit of B's outcome)\n",
    "PF2 = projector('E', 1:4, 1, full=true); # F guessing C,B2 (B2 = second bit of B's outcome)\n",
    "\n",
    "\n",
    "con = separability_structure([\"A\", \"B\", \"C\", \"D\", \"E\"], (\"A\",\"C\"), (\"E\", \"D\"), (\"D\", \"C\"), (\"E\", \"A\")); # Separability constraints\n",
    "\n",
    "l=5 # Order of the product of the scalar variables\n",
    "\n",
    "# Scalar variables\n",
    "vars = [generate_projective_scvar(PA, l, swapped=true);\n",
    "        generate_projective_scvar(PA, l, tail=PE2[1], swapped=true);\n",
    "        generate_projective_scvar(PA, l, tail=PE2[2], swapped=true);\n",
    "        generate_projective_scvar(PA, l, tail=PE2[3], swapped=true);\n",
    "        [scalarfactor(PE2[i]) for i=1:3];\n",
    "]\n",
    "se_14_double_ABC = ScalarExtension(vars, con); # Scalar Extension"
   ]
  },
  {
   "cell_type": "markdown",
   "id": "64cef1c4-a313-4170-8429-d6cd73f2ba8d",
   "metadata": {},
   "source": [
    "Guessing only A and C"
   ]
  },
  {
   "cell_type": "code",
   "execution_count": 23,
   "id": "d67ec091-1238-4ea6-8bfc-451175ce964f",
   "metadata": {},
   "outputs": [],
   "source": [
    "PE1 = projector('D', 1:2, 1, full=true); # E guessing A\n",
    "PF1 = projector('E', 1:2, 1, full=true); # F guessing C\n",
    "\n",
    "con = separability_structure([\"A\", \"B\", \"C\", \"D\", \"E\"], (\"A\",\"C\"), (\"E\", \"D\"), (\"D\", \"C\"), (\"E\", \"A\")); # Separability constraints\n",
    "\n",
    "l=5 # Order of the product of the scalar variables\n",
    "\n",
    "# Scalar variables\n",
    "vars = [generate_projective_scvar(PA, l, swapped=true);\n",
    "        generate_projective_scvar(PA, l, tail=PE1[1], swapped=true);\n",
    "        [scalarfactor(PE1[1])];\n",
    "]\n",
    "se_14_double_AC = ScalarExtension(vars, con); # Scalar Extension"
   ]
  },
  {
   "cell_type": "markdown",
   "id": "3e776ea4-4b77-4874-a909-fd65c9b8ec5a",
   "metadata": {},
   "source": [
    "#### Measurements operators"
   ]
  },
  {
   "cell_type": "code",
   "execution_count": 24,
   "id": "fcae4bf4-54b6-47c2-997c-67322909fd08",
   "metadata": {},
   "outputs": [],
   "source": [
    "B14 = [bell_state(k) for k=1:4];\n",
    "\n",
    "A = σt(π/4, -π/4);\n",
    "C = σt(π/4, -π/4);"
   ]
  },
  {
   "cell_type": "markdown",
   "id": "67374bb7-b576-443e-b816-5ad82dd11dcc",
   "metadata": {},
   "source": [
    "### Strong Eavesdropper"
   ]
  },
  {
   "cell_type": "markdown",
   "id": "9bd82d99-3e74-4b64-8dc3-2354a23442d7",
   "metadata": {},
   "source": [
    "#### Guessing A, B, C"
   ]
  },
  {
   "cell_type": "code",
   "execution_count": 13,
   "id": "58d75f66-2461-405b-aa8e-352fe96937d2",
   "metadata": {},
   "outputs": [
    {
     "name": "stdout",
     "output_type": "stream",
     "text": [
      " v = 1.0\tPg = 0.3751984846310349"
     ]
    }
   ],
   "source": [
    "pgs = []\n",
    "level = 4 # Level of the NPA hierarchy\n",
    "vs = collect(0.0:0.01:1.0) # Visibilities of the state\n",
    "pgs = ones(length(vs))\n",
    "\n",
    "\n",
    "@threads for (i,v) ∈ collect(enumerate(vs))\n",
    "    p = p_bilocality(A, B14, C, ρ2_bell(v, v)) # Probability distribution p(a,b,c|x,z)\n",
    "    pg = bilo_pguess(p, PA, PB_14, PC, PE4, se_14_strong, level=level, x=1, z=1) # Solution of the SDP problem\n",
    "\n",
    "    print(\"\\r v = $v\\tPg = $pg\")\n",
    "    pgs[i] = pg\n",
    "end"
   ]
  },
  {
   "cell_type": "markdown",
   "id": "0981aca5-a1e0-4ee5-b153-83efb4ca7f1f",
   "metadata": {},
   "source": [
    "#### Guessing A, C"
   ]
  },
  {
   "cell_type": "code",
   "execution_count": 17,
   "id": "099afc5a-6ac6-4614-9995-68da8a3b55a5",
   "metadata": {},
   "outputs": [
    {
     "name": "stdout",
     "output_type": "stream",
     "text": [
      " v = 1.0\tPg = 0.3752320853300831"
     ]
    }
   ],
   "source": [
    "pgs = []\n",
    "level = 4 # Level of the NPA hierarchy\n",
    "vs = collect(0.0:0.01:1.0) # Visibilities of the state\n",
    "pgs = ones(length(vs))\n",
    "\n",
    "\n",
    "@threads for (i,v) ∈ collect(enumerate(v))\n",
    "    p = p_bilocality(A, B14, C, ρ2_bell(v, v)) # Probability distribution p(a,b,c|x,z)\n",
    "    pg = bilo_pguess(p, PA, PB_14, PC, PE2, se_14_strong, level=level, x=1, z=1) # Solution of the SDP problem\n",
    "\n",
    "    print(\"\\r v = $v\\tPg = $pg\")\n",
    "    pgs[i] = pg\n",
    "end"
   ]
  },
  {
   "cell_type": "markdown",
   "id": "91f3eeba-cfbe-4256-a694-05412c7988c5",
   "metadata": {},
   "source": [
    "### Double-Eavesdropper"
   ]
  },
  {
   "cell_type": "markdown",
   "id": "de0deab8-f732-47fb-89df-013f2c8d8c42",
   "metadata": {},
   "source": [
    "#### Guessing A, B, C"
   ]
  },
  {
   "cell_type": "code",
   "execution_count": 19,
   "id": "92ce1032-557c-4c5e-8be7-9f7dc0afaa4a",
   "metadata": {},
   "outputs": [
    {
     "name": "stdout",
     "output_type": "stream",
     "text": [
      " v = 1.0\tPg = 0.12507665621791897"
     ]
    }
   ],
   "source": [
    "pgs = []\n",
    "level = 4 # Level of the NPA hierarchy\n",
    "vs = collect(0.0:0.01:1.0) # Visibilities of the state\n",
    "pgs = ones(length(vs))\n",
    "@threads for (i,v) ∈ collect(enumerate(vs))\n",
    "    p = p_bilocality(A, B14, C, ρ2_bell(v, v)) # Probability distribution p(a,b,c|x,z)\n",
    "    pg = bilo_pguess(p, PA, PB_14, PC, PE2, PF2, se_14_double_ABC, level=level, x=1, z=1) # Solution of the SDP problem\n",
    "\n",
    "    print(\"\\r v = $v\\tPg = $pg\")\n",
    "    pgs[i] = pg\n",
    "end"
   ]
  },
  {
   "cell_type": "markdown",
   "id": "debd2113-6d6d-46f9-a76c-6b97a2901b45",
   "metadata": {},
   "source": [
    "#### Guessing A, C"
   ]
  },
  {
   "cell_type": "code",
   "execution_count": 20,
   "id": "1b01f697-5c21-4f82-b7c2-741545d246d1",
   "metadata": {},
   "outputs": [
    {
     "name": "stdout",
     "output_type": "stream",
     "text": [
      " v = 1.0\tPg = 0.3750652691063153"
     ]
    }
   ],
   "source": [
    "pgs = []\n",
    "level = 4 # Level of the NPA hierarchy\n",
    "vs = collect(0.0:0.01:1.0) \n",
    "pgs = ones(length(vs))\n",
    "@threads for (i,v) ∈ collect(enumerate([1.0]))\n",
    "    p = p_bilocality(A, B14, C, ρ2_bell(v, v)) # Probability distribution p(a,b,c|x,z)\n",
    "    pg = bilo_pguess(p, PA, PB_14, PC, PE1, PF1, se_14_double_AC, level=level, x=1, z=1)\n",
    "\n",
    "    print(\"\\r v = $v\\tPg = $pg\")\n",
    "    pgs[i] = pg\n",
    "end"
   ]
  },
  {
   "cell_type": "markdown",
   "id": "30c5c4c0-90ce-4345-b795-a970e897c907",
   "metadata": {},
   "source": [
    "## (2, 2) measurement strategy"
   ]
  },
  {
   "cell_type": "markdown",
   "id": "88ef50c8-65de-4f88-b216-31be4db7170f",
   "metadata": {},
   "source": [
    "### Definitions"
   ]
  },
  {
   "cell_type": "markdown",
   "id": "abbb86ba-f612-4969-8dbe-19b5fe045214",
   "metadata": {},
   "source": [
    "#### A, B, C projectors"
   ]
  },
  {
   "cell_type": "code",
   "execution_count": 22,
   "id": "498ad45d-5d4f-4278-a080-9d33852dac4b",
   "metadata": {},
   "outputs": [],
   "source": [
    "# Define projectors corresponding to the three parties measurements\n",
    "PA = projector('A', 1:2, 1:2, full=true);\n",
    "PB_22 = projector('B', 1:2, 1:2, full=true);\n",
    "PC = projector('C', 1:2, 1:2, full=true);"
   ]
  },
  {
   "cell_type": "markdown",
   "id": "5cf11114-ebcf-4901-85ed-b8c3b6f53b3e",
   "metadata": {},
   "source": [
    "#### Strong-Eavesdropper projectors"
   ]
  },
  {
   "cell_type": "code",
   "execution_count": 23,
   "id": "47782e6f-b655-430e-9bf6-0170da05d0d5",
   "metadata": {},
   "outputs": [],
   "source": [
    "# Define projectors corresponding to the eavesdropper measurements\n",
    "PE2 = projector('D', 1:4, 1, full=true); # E guessing A, C\n",
    "PE3 = projector('D', 1:8, 1, full=true); # E guessing A, B, C\n",
    "\n",
    "\n",
    "l = 5 # Order of the product of the scalar variables\n",
    "con = separability_structure([\"A\", \"B\", \"C\", \"D\"], (\"A\",\"C\")); # Separability constraints\n",
    "vars = generate_projective_scvar(PA, l, swapped=true); # Scalar variables \n",
    "se_22_strong = ScalarExtension(vars, con); # Scalar Extension "
   ]
  },
  {
   "cell_type": "markdown",
   "id": "c8516606-3ca3-428a-b15f-0fcd8397b149",
   "metadata": {},
   "source": [
    "#### Double-Eavesdropper projectors"
   ]
  },
  {
   "cell_type": "markdown",
   "id": "cc581850-6e90-4d8f-bb98-67e67fb85313",
   "metadata": {},
   "source": [
    "Guessing ABC"
   ]
  },
  {
   "cell_type": "code",
   "execution_count": 24,
   "id": "39037273-99ea-4add-9b4f-9dad4535a576",
   "metadata": {},
   "outputs": [],
   "source": [
    "# Define projectors corresponding to the eavesdroppers measurements\n",
    "PE2 = projector('D', 1:4, 1, full=true) # E guessing A, B \n",
    "PF1 = projector('E', 1:2, 1, full=true) # F guessing C\n",
    "\n",
    "\n",
    "con = separability_structure([\"A\", \"B\", \"C\", \"D\", \"E\"], (\"A\",\"C\"), (\"E\", \"D\"), (\"D\", \"C\"), (\"E\", \"A\")); # Separability constraints\n",
    "\n",
    "l=5 # Order of the product of the scalar variables\n",
    "\n",
    "# Scalar variables\n",
    "vars = [generate_projective_scvar(PA, l, swapped=true);\n",
    "        generate_projective_scvar(PA, l, tail=PE2[1], swapped=true);\n",
    "        generate_projective_scvar(PA, l, tail=PE2[2], swapped=true);\n",
    "        generate_projective_scvar(PA, l, tail=PE2[3], swapped=true);\n",
    "        [scalarfactor(PE2[i]) for i=1:3];\n",
    "]\n",
    "se_22_double_ABC = ScalarExtension(vars, con); # Scalar Extension"
   ]
  },
  {
   "cell_type": "markdown",
   "id": "c8522962-d4b6-483a-800a-a558c14c0b66",
   "metadata": {},
   "source": [
    "Guessing only A and C"
   ]
  },
  {
   "cell_type": "code",
   "execution_count": 25,
   "id": "f349bcef-f6e8-481e-b33f-d22c251d9f93",
   "metadata": {},
   "outputs": [],
   "source": [
    "PE1 = projector('E', 1:2, 1, full=true) # E guessing A\n",
    "PF1 = projector('D', 1:2, 1, full=true) # F guessing C\n",
    "\n",
    "con = separability_structure([\"A\", \"B\", \"C\", \"D\", \"E\"], (\"A\",\"C\"), (\"E\", \"D\"), (\"E\", \"C\"), (\"D\", \"A\")); # Separability constraints\n",
    "\n",
    "l=5 # Order of the product of the scalar variables\n",
    "\n",
    "# Scalar variables\n",
    "vars = [generate_projective_scvar(PA, l, swapped=true);\n",
    "        generate_projective_scvar(PA, l, tail=PE1[1], swapped=true);\n",
    "        [scalarfactor(PE1[1])];\n",
    "]\n",
    "se_22_double_AC = ScalarExtension(vars, con); # Scalar Extension"
   ]
  },
  {
   "cell_type": "markdown",
   "id": "0f0304cd-8243-4bc3-9fc1-716d447d03d7",
   "metadata": {},
   "source": [
    "#### Measurements operators"
   ]
  },
  {
   "cell_type": "markdown",
   "id": "9b5817c2-9ab6-4fe0-b5fc-6792d3e6c531",
   "metadata": {},
   "source": [
    "Both the (2,2) measurement operators have two pairs of degenerate eigenvalues (and the corresponding eigenvectors)  $\\lambda_{\\mathrm{deg}} = \\{-1,-1,1,1\\}$ and $\\Pi_{\\mathrm{deg}} = \\{ \\Pi_{-1}^i, \\Pi_{-1}^{ii}, \\Pi_1^i, \\Pi_1^{ii}  \\}$. We are interested in the bitwise product of the separate meassurements outcomes, and the corresponding projectors consists in the ones that project onto the degenerate spaces, i.e $\\Pi_{\\mathrm{non-deg}} = \\{ \\Pi_{-1}^i + \\Pi_{-1}^{ii}, \\Pi_1^i + \\Pi_1^{ii}  \\}$. These are given by the function `get_proj_22`\n"
   ]
  },
  {
   "cell_type": "code",
   "execution_count": 27,
   "id": "c6ee6165-e874-4768-8118-701cb2d78e54",
   "metadata": {},
   "outputs": [],
   "source": [
    "# Computes the projectors onto the non-degenerate eigenvalues\n",
    "function get_proj_22(op)\n",
    "    # Get eigenvalues and eigenvectors \n",
    "    eig = eigen(op)\n",
    "    eigenvalues = [round(e, digits=7) for e in eig.values]\n",
    "    eigenvectors = eig.vectors\n",
    "\n",
    "    occurred = Set()\n",
    "    proj_dict = Dict{Float64, Any}()\n",
    "\n",
    "    # Iterate over eigenvectors to identify the degenerate eigenvalues\n",
    "    for (idx, projector) in enumerate(eachcol(eigenvectors))\n",
    "        eigenvalue = eigenvalues[idx]\n",
    "\n",
    "        if eigenvalue in occurred\n",
    "            proj_dict[eigenvalue] += projector * projector'\n",
    "        else\n",
    "            push!(occurred, eigenvalue)\n",
    "            proj_dict[eigenvalue] = projector * projector'\n",
    "        end\n",
    "    end\n",
    "\n",
    "    # Sort the non-degeenrate eigenvalues and return the corresponding projectors in order\n",
    "    sorted_eigenvalues = sort(collect(keys(proj_dict)))\n",
    "    return [proj_dict[ev] for ev in sorted_eigenvalues]\n",
    "end;"
   ]
  },
  {
   "cell_type": "code",
   "execution_count": 28,
   "id": "aa108a02-16be-4210-8123-47023ae363ae",
   "metadata": {},
   "outputs": [],
   "source": [
    "B22 = [get_proj_22(kron(σ[1], σ[1])), get_proj_22(kron(σ[3], σ[3]))];\n",
    "\n",
    "A = σt(π/4, -π/4);\n",
    "C = σt(π/4, -π/4);"
   ]
  },
  {
   "cell_type": "markdown",
   "id": "f67d468c-c4db-4ba4-997b-c950d5d95281",
   "metadata": {},
   "source": [
    "### Strong Eavesdropper"
   ]
  },
  {
   "cell_type": "markdown",
   "id": "5cc80edb-b8c0-438a-a0f7-b0e195c55342",
   "metadata": {},
   "source": [
    "#### Guessing A, B, C"
   ]
  },
  {
   "cell_type": "code",
   "execution_count": 31,
   "id": "761a1b88-6e32-4412-b8b6-c44918389f7a",
   "metadata": {},
   "outputs": [
    {
     "name": "stdout",
     "output_type": "stream",
     "text": [
      " v = 1.0\tPg = 0.37523551603555194"
     ]
    }
   ],
   "source": [
    "pgs = []\n",
    "level = 4 # Level of the NPA hierarchy\n",
    "vs = collect(0.0:0.01:1.0) # Visibilities of the state\n",
    "pgs = ones(length(vs))\n",
    "\n",
    "\n",
    "@threads for (i,v) ∈ collect(enumerate(vs))\n",
    "    p = p_bilocality(A, B22, C, ρ2_bell(v, v)) # Probability distribution p(a,b,c|x,z)\n",
    "    pg = bilo_pguess(p, PA, PB_22, PC, PE3, se_22_strong, level=level, x=1, z=1) # Solution of the SDP problem\n",
    "\n",
    "    print(\"\\r v = $v\\tPg = $pg\")\n",
    "    pgs[i] = pg\n",
    "end"
   ]
  },
  {
   "cell_type": "markdown",
   "id": "63d6901d-d08b-4d5c-a233-05f097155116",
   "metadata": {},
   "source": [
    "#### Guessing A, C"
   ]
  },
  {
   "cell_type": "code",
   "execution_count": 32,
   "id": "2cd7a737-932e-4987-9488-cabba320b415",
   "metadata": {},
   "outputs": [
    {
     "name": "stdout",
     "output_type": "stream",
     "text": [
      " v = 1.0\tPg = 0.3751818925248358"
     ]
    }
   ],
   "source": [
    "pgs = []\n",
    "level = 4 # Level of the NPA hierarchy\n",
    "vs = collect(0.0:0.01:1.0) # Visibilities of the state\n",
    "pgs = ones(length(vs))\n",
    "\n",
    "\n",
    "@threads for (i,v) ∈ collect(enumerate(vs))\n",
    "    p = p_bilocality(A, B22, C, ρ2_bell(v, v)) # Probability distribution p(a,b,c|x,z)\n",
    "    pg = bilo_pguess(p, PA, PB_22, PC, PE2, se_22_strong, level=level, x=1, z=1) # Solution of the SDP problem\n",
    "\n",
    "    print(\"\\r v = $v\\tPg = $pg\")\n",
    "    pgs[i] = pg\n",
    "end"
   ]
  },
  {
   "cell_type": "markdown",
   "id": "ca4c13a7-af0d-418f-a71a-4709cb89d0e4",
   "metadata": {},
   "source": [
    "### Double-Eavesdropper"
   ]
  },
  {
   "cell_type": "markdown",
   "id": "0e47832d-532d-4973-b5a0-c63e402ee802",
   "metadata": {},
   "source": [
    "#### Guessing A, B, C"
   ]
  },
  {
   "cell_type": "code",
   "execution_count": 34,
   "id": "e8025105-ac1b-4439-8a5f-0327b6bb6caf",
   "metadata": {},
   "outputs": [
    {
     "name": "stdout",
     "output_type": "stream",
     "text": [
      " v = 1.0\tPg = 0.1874999999999967"
     ]
    }
   ],
   "source": [
    "pgs = []\n",
    "level = 4 # Level of the NPA hierarchy\n",
    "vs = collect(0.0:0.01:1.0) # Visibilities of the state\n",
    "pgs = ones(length(vs))\n",
    "@threads for (i,v) ∈ collect(enumerate(vs))\n",
    "    p = p_bilocality(A, B22, C, ρ2_bell(v, v)) # Probability distribution p(a,b,c|x,z)\n",
    "    pg = bilo_pguess(p, PA, PB_22, PC, PE2, PF1, se_22_double_ABC, level=level, x=1, z=1)\n",
    "\n",
    "    print(\"\\r v = $v\\tPg = $pg\")\n",
    "    pgs[i] = pg\n",
    "end"
   ]
  },
  {
   "cell_type": "markdown",
   "id": "06c749ad-e147-4f6d-b179-23b0f3821e41",
   "metadata": {},
   "source": [
    "#### Guessing A, C"
   ]
  },
  {
   "cell_type": "code",
   "execution_count": 35,
   "id": "4e1d02a7-b410-4c06-a398-b54e40f762fe",
   "metadata": {},
   "outputs": [
    {
     "name": "stdout",
     "output_type": "stream",
     "text": [
      " v = 1.0\tPg = 0.375101488099574"
     ]
    }
   ],
   "source": [
    "pgs = []\n",
    "level = 4 # Level of the NPA hierarchy\n",
    "vs = collect(0.0:0.01:1.0) # Visibilities of the state\n",
    "pgs = ones(length(vs))\n",
    "@threads for (i,v) ∈ collect(enumerate(vs))\n",
    "    p = p_bilocality(A, B22, C, ρ2_bell(v, v)) # Probability distribution p(a,b,c|x,z)\n",
    "    pg = bilo_pguess(p, PA, PB_22, PC, PE1, PF1, se_22_double_AC, level=level, x=1, z=1)\n",
    "\n",
    "    print(\"\\r v = $v\\tPg = $pg\")\n",
    "    pgs[i] = pg\n",
    "end"
   ]
  },
  {
   "cell_type": "markdown",
   "id": "5cf4b94a-fa91-4dbb-b0c9-2b64cac17b26",
   "metadata": {},
   "source": [
    "# Randomness certification with experimental data"
   ]
  },
  {
   "cell_type": "markdown",
   "id": "63b3a78d-e01a-4fd4-8d63-9c3f86abbf3a",
   "metadata": {},
   "source": [
    "## Experimental data"
   ]
  },
  {
   "cell_type": "markdown",
   "id": "a84cf56f-b73a-4858-869e-9091143e6861",
   "metadata": {},
   "source": [
    "In this section, we compute the amount of certifiable randomness from the experimental distributions obtained in [this work](https://www.nature.com/articles/ncomms14775), where the (1,4) measurement choices were implemented. Such data have been taken in the form of counts $N_{\\mathrm{exp}}(a,b,c|x,z)$ and, due to the experimental imperfections and the finite duration of the measurement, they may present fluctuations that make the experimental probability distribution $p_{\\mathrm{exp}}(a,b,c|x,z) = N_{\\mathrm{exp}}(a,b,c|x,z) / \\sum_{a,b,c} N_{\\mathrm{exp}}(a,b,c|x,z)$ to violate the no-signaling constraints, defined as:\n",
    "\\begin{equation}\n",
    "\\sum_a p(a,b,c|x,z) = \\sum_a p(a,b,c|x',z)\n",
    "\\end{equation}\n",
    "\\begin{equation}\n",
    "\\sum_c p(a,b,c|x,z) = \\sum_c p(a,b,c|x,z')\n",
    "\\end{equation}\n",
    "\n",
    "For this reason, for each $p_{\\mathrm{exp}}$, we find the closest no-signaling distribution by means of a maximumum likelihood problem."
   ]
  },
  {
   "cell_type": "code",
   "execution_count": 25,
   "id": "235da30f-4c9e-4a5e-b9ec-58b5a1e1d0e2",
   "metadata": {},
   "outputs": [],
   "source": [
    "\n",
    "\n",
    "# Maximum likelihood problem to find the no-signaling distribution which is closest to the experimental one\n",
    "function NS_constraint(NABC)\n",
    "    model = Model(Ipopt.Optimizer)\n",
    "    set_attribute(model, \"tol\", 1e-11)\n",
    "    set_silent(model)\n",
    "    \n",
    "    @variable(model, 0 <= pABC[1:2,1:4,1:2,1:2,1:2])\n",
    "    \n",
    "    # AB BC No-Signaling Constraints on observed set variable\n",
    "    @constraint(model, nsBC, sum(pABC[:,:,:,1,:],dims=1) - sum(pABC[:,:,:,2,:],dims=1) .== 0);\n",
    "    @constraint(model, nsAB, sum(pABC[:,:,:,:,1],dims=3) - sum(pABC[:,:,:,:,2],dims=3) .== 0);\n",
    "    \n",
    "    # Normalization\n",
    "    @constraint(model, norm, sum(pABC, dims=(1,2,3)) .== 1 )\n",
    "    \n",
    "    pAC = sum(pABC, dims=2)\n",
    "    pA_X = reshape(sum(pABC[:,:,:,:,1], dims=(2,3)), (2,1,1,2,1))\n",
    "    pC_Z = reshape(sum(pABC[:,:,:,1,:], dims=(1,2)), (1,1,2,1,2))\n",
    "    \n",
    "    # Conditional independence between A and C\n",
    "    @constraint(model, ciAC, pAC - pA_X .* pC_Z .== 0)\n",
    "    \n",
    "    @objective(model, Max, sum(NABC .* log.(pABC)))\n",
    "    \n",
    "    optimize!(model)\n",
    "\n",
    "    return value.(pABC)\n",
    "end;"
   ]
  },
  {
   "cell_type": "code",
   "execution_count": 26,
   "id": "10a7c20a-0b93-434b-9d35-1d5a5c0e19ab",
   "metadata": {},
   "outputs": [],
   "source": [
    "# Experimental counts N(a,b,c|x,z)\n",
    "exp_data_cc = npzread(\"data/exp_data/Punti_exp_counts.npz\");\n",
    "distr_keys = collect(filter(x->startswith(x, \"distr\"), keys(exp_data_cc)))\n",
    "distr_keys = sort(distr_keys, by=x->parse(Int, split(x, \"_\")[end]));"
   ]
  },
  {
   "cell_type": "code",
   "execution_count": null,
   "id": "65854a59-9c7c-4b6d-808e-8ff5a88d42d1",
   "metadata": {},
   "outputs": [],
   "source": [
    "# Monte Carlo for guessing probabilities\n",
    "\n",
    "N = length(distr_keys)\n",
    "n_sample = 50\n",
    "exp_pgs = ones((N,n_sample))\n",
    "exp_pg_avg = ones(N)\n",
    "exp_pg_std = ones(N)\n",
    "level = 3\n",
    "@threads for i=1:N\n",
    "    mc_distr = exp_data_cc[distr_keys[i]]\n",
    "    for j=1:n_sample\n",
    "        praw = mc_distr[j,:,:,:,:,1,:]\n",
    "        p = NS_constraint(praw) # Imposing the no-signaling constraints \n",
    "\n",
    "        #pg = bilo_pguess(p, PA, PB_14, PC, PE1, PF1, se_14_double_AC; level=level, x=1, z=1) # Double eavesdropper guessing A and C\n",
    "        #pg = bilo_pguess(p, PA, PB_14, PC, PE2, PF2, se_14_double_ABC; level=level, x=1, z=1) # Double eavesdropper guessing A, B, and C\n",
    "        pg = bilo_pguess(p, PA, PB_14, PC, PE4, se_14_strong; level=level, x=1, z=1) # Strong eavesdropper guessing A, B, C\n",
    "        \n",
    "        exp_pgs[i,j] = pg\n",
    "    end\n",
    "    exp_pg_avg[i] = sum(exp_pgs[i,:])./n_sample # Average guessing probability\n",
    "    exp_pg_std[i] = sqrt(sum((exp_pgs[i,:] .- exp_pg_avg[i]).^2) / (n_sample - 1)) # Standard deviation\n",
    "    print(\"\\r $i/$N -> Pguess[$i] = $(exp_pg_avg[i]) +/- $(exp_pg_std[i])\")\n",
    "end"
   ]
  },
  {
   "cell_type": "markdown",
   "id": "9f3342cc-ef49-4334-9084-73b37beffa13",
   "metadata": {},
   "source": [
    "## Theoretical model"
   ]
  },
  {
   "cell_type": "markdown",
   "id": "a1e8bb7b-14c9-4713-b626-8f0588733fcd",
   "metadata": {},
   "source": [
    "The theoretical model we use to simulate the experimental distributions has to take into account two main aspects:\n",
    "- Imperfect state generation: the quantum state of the photon pairs generated by the SPDC source can be modeled by adding both white and colored noise, obtaining a density matrix of the form\n",
    "    \\begin{equation}\n",
    "      \\rho = v \\ket{\\Psi^-}\\bra{\\Psi^-} + (1-v) \\left[ \\frac{c}{2} (\\ket{\\Psi^-}\\bra{\\Psi^-} + \\ket{\\Psi^+}\\bra{\\Psi^+}) + (1-c) \\frac{\\mathbb{1}}{4} \\right]\n",
    "    \\end{equation}  \n",
    "- Imperfect Bell state measurement: due to the partial indistinguishability of the photons incoming at Bob's measurement station, the actual measurement, instead of being a BSM, is described by the following effective POVMs\n",
    "    \\begin{equation}\n",
    "        \\begin{aligned}\n",
    "           & \\ket{\\Phi^+}\\bra{\\Phi^+} \\longrightarrow \\hat{F}_1 = \\frac{1-p}{2} \\ket{\\Phi^-}\\bra{\\Phi^-} + \\frac{1+p}{2}\\ket{\\Phi^+}\\bra{\\Phi^+},\\\\\n",
    "           & \\ket{\\Phi^-}\\bra{\\Phi^-} \\longrightarrow \\hat{F}_2 = \\frac{1+p}{2} \\ket{\\Phi^-}\\bra{\\Phi^-} + \\frac{1-p}{2}\\ket{\\Phi^+}\\bra{\\Phi^+},\\\\\n",
    "           & \\ket{\\Psi^+}\\bra{\\Psi^+} \\longrightarrow \\hat{F}_3 = \\frac{1-p}{2} \\ket{\\Psi^-}\\bra{\\Psi^-} + \\frac{1+p}{2}\\ket{\\Psi^+}\\bra{\\Psi^+},\\\\\n",
    "           & \\ket{\\Psi^-}\\bra{\\Psi^-} \\longrightarrow \\hat{F}_4 = \\frac{1+p}{2} \\ket{\\Psi^-}\\bra{\\Psi^-} + \\frac{1-p}{2}\\ket{\\Psi^+}\\bra{\\Psi^+}.\n",
    "        \\end{aligned}\n",
    "    \\end{equation}\n",
    "\n",
    "\n",
    "To simulate the [experiment](https://www.nature.com/articles/ncomms14775), we set the parameters $v$ and $p$ to their experimental values $v_{exp}=0.89$ and $c_{exp}=0.33$, while $p$ is changed in the range [0,1]."
   ]
  },
  {
   "cell_type": "code",
   "execution_count": 17,
   "id": "658b49f3-cf69-454e-8853-5e50049a446f",
   "metadata": {},
   "outputs": [],
   "source": [
    "teo_data = npzread(\"data/Punti_teo.npz\");\n",
    "viol = teo_data[\"BRGP_teo\"];\n",
    "distrs = teo_data[\"distr_teo\"];"
   ]
  },
  {
   "cell_type": "code",
   "execution_count": 21,
   "id": "97769b4a-4ec9-423c-a1bc-a299f646dca7",
   "metadata": {},
   "outputs": [
    {
     "name": "stdout",
     "output_type": "stream",
     "text": [
      " 1/30 -> Pguess[1] = 0.4580578609703012"
     ]
    }
   ],
   "source": [
    "N = 30\n",
    "v_exp = 0.89\n",
    "c_exp = 0.33\n",
    "p_inds = range(0, 1, 10) # Indistinguishability parameter\n",
    "level = 3\n",
    "\n",
    "teo_pgs = ones(N)\n",
    "teo_BRGP = zeros(N)\n",
    "\n",
    "@threads for (i, p_ind) ∈ collect(enumerate([1]))\n",
    "    p = distrs[30,:,:,:,:,1,:]\n",
    "    #pg = bilo_pguess(p, PA, PB_14, PC, PE1, PF1, se_14_double_AC; level=level, x=1, z=1) # Double eavesdropper guessing A and C\n",
    "    pg = bilo_pguess(p, PA, PB_14, PC, PE2, PF2, se_14_double_ABC; level=level, x=1, z=1) # Double eavesdropper guessing A, B, and C\n",
    "    #pg = bilo_pguess(p, PA, PB_14, PC, PE2, se_14_strong; level=level, x=1, z=1) # Strong eavesdropper guessing A, C\n",
    "        \n",
    "    teo_pgs[i] = pg\n",
    "    #teo_BRGP[i] = BRGP(p)\n",
    "    print(\"\\r $i/$N -> Pguess[$i] = $pg\")\n",
    "end"
   ]
  },
  {
   "cell_type": "markdown",
   "id": "2ebd2be0-78b5-4eff-9176-3f5c01fa02c3",
   "metadata": {},
   "source": [
    "# Tilted strategies"
   ]
  },
  {
   "cell_type": "markdown",
   "id": "e6ccfb92-57ba-443e-a4ed-ebb2d22b5007",
   "metadata": {},
   "source": [
    "These strategies employ different measurements on the external nodes. In particular, we define the following operators, parametrized by $\\delta$:\n",
    "\\begin{equation}\n",
    "    \\begin{aligned}\n",
    "    & A_0 = \\sigma_x \\qquad C_0 = \\sigma_z\\\\\n",
    "    & A_1 = \\cos{(\\delta)} \\sigma_x - \\sin{(\\delta)} \\sigma_z \\qquad C_1 = \\cos{(\\delta)} \\sigma_z - \\sin{(\\delta)} \\sigma_x\n",
    "    \\end{aligned}\n",
    "\\end{equation}\n",
    "\n",
    "For what concerns the measurement on the central node we consider two possible strategies:\n",
    "- (1,4): where Bob performs the standard BSM\n",
    "- (2,4): where Bob's measurements have 2 settings, consisting in standard BSM and rotated BSM, where the latter is defined as the projections on the basis $\\mathcal{B}_{\\theta} = \\{\\cos{\\theta} \\ket{00} + \\sin{\\theta} \\ket{11}, \\cos{\\theta} \\ket{00} - \\sin{\\theta} \\ket{11}, \\cos{\\theta} \\ket{01} + \\sin{\\theta} \\ket{10}, \\cos{\\theta} \\ket{01} - \\sin{\\theta} \\ket{10} \\}$"
   ]
  },
  {
   "cell_type": "markdown",
   "id": "fd8d781f-63d9-4c68-9b9b-fa682509d9db",
   "metadata": {},
   "source": [
    "## (1, 4) measurement strategy"
   ]
  },
  {
   "cell_type": "markdown",
   "id": "9cbd0421-fbfa-4294-9ef3-31881cd1822d",
   "metadata": {},
   "source": [
    "#### Guessing probability for $\\delta = \\pi/6, v \\in [0.7,1]$"
   ]
  },
  {
   "cell_type": "code",
   "execution_count": 111,
   "id": "e1acade5-1efa-40f2-9e57-8a6b709007f7",
   "metadata": {},
   "outputs": [
    {
     "name": "stdout",
     "output_type": "stream",
     "text": [
      " v = 1\tPg = 0.06286344044997592"
     ]
    }
   ],
   "source": [
    "M = 20\n",
    "level = 4\n",
    "\n",
    "vs = collect(0.7:0.3/M:1.0)\n",
    "δ = π/6\n",
    "pgs = ones(length(vs))\n",
    "@threads for (i,v) ∈ collect(enumerate([1]))\n",
    "    p = p_bilocality_wbell1(δ, v=v)\n",
    "    #pg = bilo_pguess(p, PA, PB_14, PC, PE4, se_14_strong; level=level, x=1, z=1) # Strong eavesdropper\n",
    "    pg = bilo_pguess(p, PA, PB_14, PC, PE2, PF2, se_14_double_ABC, level=level, x=1, z=1) # Double eavesdropper\n",
    "    print(\"\\r v = $v\\tPg = $pg\")\n",
    "    pgs[i] = pg\n",
    "end"
   ]
  },
  {
   "cell_type": "markdown",
   "id": "5305ce39-9498-46a7-90ea-4701455ec6fc",
   "metadata": {},
   "source": [
    "#### Guessing probability for $\\delta \\in [0, \\pi/6], v \\in [0.7, 1]$"
   ]
  },
  {
   "cell_type": "code",
   "execution_count": null,
   "id": "b7da3440-b08e-430b-9757-f57d20409e68",
   "metadata": {},
   "outputs": [],
   "source": [
    "N, M = 5, 20\n",
    "level = 4\n",
    "#PE = PE2\n",
    "PE = PE4\n",
    "ebits = Int(log2(size(PE)[1]))\n",
    "\n",
    "vs = collect(0.7:0.3/M:1.0)\n",
    "δs = collect(π/10:π/(10*N):π/5)\n",
    "pgs_wtilted1 = ones((length(vs),length(δs)))\n",
    "@threads for (i,v) ∈ collect(enumerate(vs))\n",
    "    for (j,δ) ∈ collect(enumerate(δs))\n",
    "        p = p_bilocality_wbell1(δ, v=v)\n",
    "        pg = bilo_pguess(p, PA, PB, PC, PE, se; level=level, x=1, z=1)\n",
    "        print(\"\\r v = $v\\tδ = $δ\\tPg = $pg\")\n",
    "        pgs_wtilted1[i,j] = pg\n",
    "    end\n",
    "end"
   ]
  },
  {
   "cell_type": "markdown",
   "id": "7eddd784-bd22-42e9-bb7f-13b420d53a8c",
   "metadata": {},
   "source": [
    "## (2,4) measurement strategy"
   ]
  },
  {
   "cell_type": "markdown",
   "id": "4ce1a0f5-28d4-43d4-9585-c82253d1fa24",
   "metadata": {},
   "source": [
    "#### Strong-Eavesdropper"
   ]
  },
  {
   "cell_type": "code",
   "execution_count": 12,
   "id": "51a2fb88-114a-4c99-ab5c-fe2be6653179",
   "metadata": {},
   "outputs": [],
   "source": [
    "# Define projectors corresponding to the three parties measurements\n",
    "PA = projector('A', 1:2, 1:2, full=true);\n",
    "PB_24= projector('B', 1:4, 1:2, full=true);\n",
    "PC = projector('C', 1:2, 1:2, full=true);"
   ]
  },
  {
   "cell_type": "code",
   "execution_count": 13,
   "id": "f114d5b5-689d-4e85-94e9-ff5d8c1b4496",
   "metadata": {},
   "outputs": [],
   "source": [
    "# Define projectors corresponding to the eavesdropper measurements\n",
    "PE2 = projector('D', 1:4, 1, full=true); # E guessing AC\n",
    "PE4 = projector('D', 1:16, 1, full=true); # E guessing ABC\n",
    "\n",
    "l = 5 # Order of the product of the scalar variables\n",
    "con = separability_structure([\"A\", \"B\", \"C\", \"D\"], (\"A\",\"C\")); # Separability constraints\n",
    "vars = generate_projective_scvar(PA, l, swapped=true); # Scalar variables\n",
    "se_24_strong = ScalarExtension(vars, con); # Scalar Extension"
   ]
  },
  {
   "cell_type": "code",
   "execution_count": null,
   "id": "01cf9e74-2957-48ea-b7ce-e645f16f71fc",
   "metadata": {},
   "outputs": [],
   "source": [
    "N, M = 10, 10\n",
    "δ_interval = [0.1, π/6-.1]\n",
    "θ_interval = [0, π/2]\n",
    "level = 4\n",
    "\n",
    "δs = collect(δ_interval[1]:(δ_interval[2]-δ_interval[1])/N:δ_interval[2])\n",
    "θs = collect(θ_interval[1]:(θ_interval[2]-θ_interval[1])/M:θ_interval[2])\n",
    "pgs_tiltedBSM1 = ones((length(δs),length(θs)))\n",
    "\n",
    "@threads for ((i,δ), (j,θ)) ∈ collect(Iterators.product(enumerate(δs), enumerate(θs)))\n",
    "    p = p_bilocality_24_wtiltedBSM(δ, θ)\n",
    "    pg = bilo_pguess(p, PA, PB_24, PC, PE4, se_24_strong; level=level, x=1, y=1, z=1) # Strong eavesdropper\n",
    "    \n",
    "    # Note: it is not necessary to compute the guessing probability for the Double eavesdropper scenario with the (2,4) strategy,\n",
    "    # as the (1,4) strategy already suffices to reach the logical maximum of 4 bits\n",
    "    \n",
    "    print(\"\\r δ = $δ\\tφ = $φ\\tPg = $pg\")\n",
    "    pgs_tiltedBSM1[i,j] = pg\n",
    "end"
   ]
  }
 ],
 "metadata": {
  "kernelspec": {
   "display_name": "Julia 1.9.0",
   "language": "julia",
   "name": "julia-1.9"
  },
  "language_info": {
   "file_extension": ".jl",
   "mimetype": "application/julia",
   "name": "julia",
   "version": "1.9.0"
  }
 },
 "nbformat": 4,
 "nbformat_minor": 5
}
