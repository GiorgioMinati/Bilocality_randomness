{
 "cells": [
  {
   "cell_type": "code",
   "execution_count": null,
   "id": "82059a48-fc42-44ec-a91b-3b8370045111",
   "metadata": {},
   "outputs": [],
   "source": [
    "using JuMP, MosekTools\n",
    "using Plots, Combinatorics, LinearAlgebra\n",
    "using DelimitedFiles\n",
    "using PoissonRandom\n",
    "using NPZ\n",
    "using Ipopt\n",
    "include(\"quantumnpa-scalar_extension/QuantumNPA.jl\");\n",
    "using .QuantumNPA"
   ]
  },
  {
   "cell_type": "code",
   "execution_count": null,
   "id": "d3abbd98-ab34-492c-84c7-f051593e15cb",
   "metadata": {},
   "outputs": [],
   "source": [
    "using Base.Threads\n",
    "nthreads()"
   ]
  },
  {
   "cell_type": "markdown",
   "id": "61cef815-c9d9-4962-8794-f19951f29857",
   "metadata": {},
   "source": [
    "# Common definitions"
   ]
  },
  {
   "cell_type": "code",
   "execution_count": 1,
   "id": "7e34431e-632b-4cd4-9df3-b358ee106023",
   "metadata": {},
   "outputs": [
    {
     "data": {
      "text/plain": [
       "min_binary_search"
      ]
     },
     "execution_count": 1,
     "metadata": {},
     "output_type": "execute_result"
    }
   ],
   "source": [
    "\n",
    "function get_proj(obs)\n",
    "    vals, vecs = eigen(obs)\n",
    "    if vals[1] ≈ -1 && vals[2] ≈ 1\n",
    "        return [vecs[:,2]*vecs[:,2]', vecs[:,1]*vecs[:,1]']\n",
    "    elseif vals[1] ≈ 1 && vals[1] ≈ -1\n",
    "        return [vecs[:,1]*vecs[:,1]', vecs[:,2]*vecs[:,2]']\n",
    "    else\n",
    "        throw(\"Non dichotomic observable: Eigenvalues: $vals.\")\n",
    "    end\n",
    "end\n",
    "\n",
    "function _cyclic_mon(P, n, x1, x2)\n",
    "    m = Id\n",
    "    for (i, x) in enumerate(Iterators.cycle([x1, x2]))\n",
    "        m *= P[1, x]\n",
    "        i ≥ n && break\n",
    "    end\n",
    "    return m\n",
    "end\n",
    "\n",
    "function generate_projective_scvar(P, N, x1, x2; tail=Id, swapped=true, var_symbols=nothing)\n",
    "    vars = []\n",
    "    for n=2:N\n",
    "        Pn12 = _cyclic_mon(P, n, x1, x2)*tail\n",
    "        if isnothing(var_symbols)\n",
    "            αn12 = scalarfactor(Pn12)\n",
    "        else\n",
    "            αn12 = scalarfactor(\"$(var_symbols[1])_$(n)\", Pn12)\n",
    "        end\n",
    "        push!(vars, αn12)\n",
    "        if swapped \n",
    "            Pn21 = _cyclic_mon(P, n, x2, x1)*tail\n",
    "            if isnothing(var_symbols)\n",
    "                αn21 = scalarfactor(Pn21)\n",
    "            else\n",
    "                αn21 = scalarfactor(\"$(var_symbols[2])_$(n)\", Pn21)\n",
    "            end\n",
    "            push!(vars, αn21)\n",
    "        end\n",
    "    end\n",
    "    return vars\n",
    "end\n",
    "\n",
    "function generate_projective_scvar(P, N; tail=Id, swapped=true, var_symbols=nothing)\n",
    "    num_settings = size(PA)[2]\n",
    "    vars = []\n",
    "    for (x1, x2) in combinations(1:num_settings, 2)\n",
    "        if !isnothing(var_symbols)\n",
    "            var_symbols = map(s->\"$s$x1$x2\", var_symbols)\n",
    "        end\n",
    "        push!(vars, generate_projective_scvar(P, N, x1, x2, tail=tail, swapped=swapped, var_symbols=var_symbols)...)\n",
    "    end\n",
    "    return vars\n",
    "end\n",
    "\n",
    "\"\"\"Search for the minimum value inside `interval` for which `f(x)` is true.\n",
    "Returns an interval such that `x_min ∈ [x1, x2]`.\"\"\" \n",
    "function min_binary_search(f::Function, interval::Tuple{Float64, Float64}, N::Int; verbose=false)\n",
    "    min_int = [interval...]\n",
    "    for i=1:N\n",
    "        x = sum(min_int)/2\n",
    "        verbose && print(\"\\rChecking interval $min_int\")\n",
    "        if f(x)\n",
    "            min_int[2] = x\n",
    "        else\n",
    "            min_int[1] = x\n",
    "        end\n",
    "    end\n",
    "    verbose && println()\n",
    "    return min_int\n",
    "end\n",
    "\n",
    "\n"
   ]
  },
  {
   "cell_type": "code",
   "execution_count": 2,
   "id": "2c045d24-9512-4122-a88b-d1731697c1dd",
   "metadata": {},
   "outputs": [],
   "source": [
    "\n",
    "function bell_state(n; θ=π/4)\n",
    "    bell_vec = [[cos(θ), 0, 0, sin(θ)], [cos(θ), 0, 0, -sin(θ)], [0, cos(θ), sin(θ), 0], [0, cos(θ), -sin(θ), 0]]\n",
    "    bell_state_list = [v*v' for v in bell_vec]\n",
    "    return Complex.(bell_state_list[n])\n",
    "end\n",
    "\n",
    "function eye(n)\n",
    "    return 1* Matrix(I, n, n)\n",
    "end\n",
    "\n",
    "σx = Matrix([[0, 1] [1, 0]])\n",
    "σy = Matrix([[0, 1im]  [-1im, 0]])\n",
    "σz = Matrix([[1, 0] [0, -1]])\n",
    "σ = [σx, σy, σz];"
   ]
  },
  {
   "cell_type": "markdown",
   "id": "3bec6ac4-299b-4f05-b854-c050c4adb5d8",
   "metadata": {},
   "source": [
    "## Definitions"
   ]
  },
  {
   "cell_type": "markdown",
   "id": "3930273d-99d0-4021-978d-28028f202a5d",
   "metadata": {},
   "source": [
    "### Strategy definitions"
   ]
  },
  {
   "cell_type": "code",
   "execution_count": 3,
   "id": "f5dc0ce7-1ac0-4274-8c0a-6fedbf3321aa",
   "metadata": {},
   "outputs": [
    {
     "ename": "LoadError",
     "evalue": "UndefVarError: `eigen` not defined",
     "output_type": "error",
     "traceback": [
      "UndefVarError: `eigen` not defined",
      "",
      "Stacktrace:",
      " [1] get_proj(obs::Matrix{Complex{Int64}})",
      "   @ Main ./In[1]:3",
      " [2] top-level scope",
      "   @ In[3]:22"
     ]
    }
   ],
   "source": [
    "ide = [1 0; 0 1]\n",
    "II = kron(ide, ide)\n",
    "\n",
    "# State cos(θ)|00> + sin(θ)|11>\n",
    "ψ = θ -> [cos(θ); 0; 0; sin(θ)]\n",
    "ρwer = (θ,v) -> v*(ψ(θ) * ψ(θ)') + (1-v)*II/4\n",
    "\n",
    "function gen_abxy_bell(v, θ; \n",
    "                 ρ=ρwer, \n",
    "                 obsA=[get_proj(σ[3]), get_proj(σ[1])], \n",
    "                 obsB=[get_proj((σ[1]+σ[3])/√2), get_proj((-σ[1]+σ[3])/√2)])\n",
    "    p = zeros(2,2,2,2)\n",
    "    state = ρ(θ,v)\n",
    "    for (a,b,x,y) in Iterators.product(1:2, 1:2, 1:2, 1:2)\n",
    "        p[a,b,x,y] = real(tr(state * kron(obsB[y][b], obsA[x][a])))\n",
    "    end\n",
    "    return p\n",
    "end\n",
    "\n",
    "# Tilted Tony\n",
    "μ(α, θ) = atan(sin(2θ/α))\n",
    "PA_atilted = [get_proj(σ[3]),\n",
    "              get_proj(σ[1])]\n",
    "PB_atilted(α, θ) = [get_proj(cos(μ(α,θ))*σ[3] + sin(μ(α,θ))*σ[1]),\n",
    "                    get_proj(cos(μ(α,θ))*σ[3] - sin(μ(α,θ))*σ[1])]\n",
    "\n",
    "function gen_abxy_atilted(v, θ, α)\n",
    "    return gen_abxy_bell(v, θ; \n",
    "                 ρ=ρwer, \n",
    "                 obsA=PA_atilted, \n",
    "                 obsB=PB_atilted(α, θ))\n",
    "end\n",
    "\n",
    "function bell_atilted_from_dist(p, α, β)\n",
    "    ab(x,y) = sum(p[a,b,x,y] * (-1)^(a+b) for a=1:2, b=1:2)\n",
    "    a(x) = sum(p[a,b,x,1] * (-1)^(a) for a=1:2, b=1:2)\n",
    "    return β*a(1) + α*ab(1,1) + ab(2,1) + α*ab(1,2) - ab(2,2)\n",
    "end\n",
    "\n",
    "# Tilted Wooltorton 1\n",
    "PA_wtilted1(δ) = [get_proj(σ[3]),\n",
    "                  get_proj(-sin(δ)*σ[3] + cos(δ)*σ[1])]\n",
    "PB_wtilted1(δ) = [get_proj(σ[1]),\n",
    "                  get_proj(cos(δ)*σ[3] - sin(δ)*σ[1])]\n",
    "\n",
    "function gen_abxy_wtilted1(v, δ; θ=π/4)\n",
    "    return gen_abxy_bell(v, θ;\n",
    "                 ρ=ρwer, \n",
    "                 obsA=PA_wtilted1(δ), \n",
    "                 obsB=PB_wtilted1(δ))\n",
    "end\n",
    "\n",
    "function p_bilocality_22_wtilted(δ; θ=π/4, v=1, id=1)\n",
    "    A = ΠA_wtilted1(δ)\n",
    "    C = ΠC_wtilted1(δ)\n",
    "    B = [[kron(B1[1], B2[1]) + kron(B1[2], B2[2]),\n",
    "          kron(B1[1], B2[2]) + kron(B1[2], B2[1])]\n",
    "        for (B1, B2) in zip(C, A)]\n",
    "    ρ = kron(ρ_bell(v, θ=θ, id=id),\n",
    "             ρ_bell(v, θ=θ, id=id))\n",
    "    return p_bilocality(A, B, C, ρ)\n",
    "end\n",
    "\n",
    "function bell_wtilted1_from_dist(p, δ)\n",
    "    ab(x,y) = sum(p[a,b,x,y] * (-1)^(a+b) for a=1:2, b=1:2)\n",
    "    return ab(1,1) + (ab(1,2) + ab(2,1))/sin(δ) - ab(2,2)/cos(2δ)\n",
    "end\n",
    "\n",
    "# Tilted Wooltorton 2\n",
    "PA_wtilted2(γ) = [get_proj(σ[3]),\n",
    "                  get_proj(cos(2π/3 - 2γ)*σ[3] + sin(2π/3 - 2γ)*σ[1])]\n",
    "PB_wtilted2(γ) = [get_proj(sin(3γ)*σ[3] + cos(3γ)*σ[1]),\n",
    "                  get_proj(cos(π/6 + γ)*σ[3] - sin(π/6 + γ)*σ[1])]\n",
    "\n",
    "function gen_abxy_wtilted2(v, γ; θ=π/4)\n",
    "    return gen_abxy_bell(v, θ;\n",
    "                 ρ=ρwer, \n",
    "                 obsA=PA_wtilted2(γ), \n",
    "                 obsB=PB_wtilted2(γ))\n",
    "end\n",
    "\n",
    "function bell_wtilted2_from_dist(p, γ)\n",
    "    ab(x,y) = sum(p[a,b,x,y] * (-1)^(a+b) for a=1:2, b=1:2)\n",
    "    c = 4*cos(γ+π/6)^2-1 \n",
    "    return ab(1,1) + c*(ab(1,2) + ab(2,1) - ab(2,2))\n",
    "end\n",
    "\n",
    "# Behavior constraints\n",
    "\n",
    "function get_bconstraints(p)\n",
    "    return [PA[1,1] - Id*sum(p[1,:,1,1]),\n",
    "            PA[1,2] - Id*sum(p[1,:,2,1]),\n",
    "            PB[1,1] - Id*sum(p[:,1,1,1]),\n",
    "            PB[1,2] - Id*sum(p[:,1,1,2]),\n",
    "            PA[1,1]*PB[1,1] - Id*p[1,1,1,1],\n",
    "            PA[1,1]*PB[1,2] - Id*p[1,1,1,2],\n",
    "            PA[1,2]*PB[1,1] - Id*p[1,1,2,1],\n",
    "            PA[1,2]*PB[1,2] - Id*p[1,1,2,2]]\n",
    "end"
   ]
  },
  {
   "cell_type": "markdown",
   "id": "58a9884c-ea59-43b7-a1b2-20aff5c19ed5",
   "metadata": {},
   "source": [
    "# Quantum Bilocality"
   ]
  },
  {
   "cell_type": "code",
   "execution_count": 4,
   "id": "268dd360-0b19-4390-ab55-42f4f9e9c7c0",
   "metadata": {},
   "outputs": [
    {
     "ename": "LoadError",
     "evalue": "UndefVarError: `eigen` not defined",
     "output_type": "error",
     "traceback": [
      "UndefVarError: `eigen` not defined",
      "",
      "Stacktrace:",
      " [1] get_proj(obs::Matrix{Complex{Int64}})",
      "   @ Main ./In[1]:3",
      " [2] top-level scope",
      "   @ In[4]:220"
     ]
    }
   ],
   "source": [
    "function generate_bilocal_eq_constraints(p, PA::Matrix{Any}, PB::Matrix{Any}, PC::Matrix{Any})\n",
    "    nA, nX = size(PA)\n",
    "    nC, nZ = size(PC)\n",
    "    nB, nY = size(PB)\n",
    "    eqs = [PA[a,x]*PB[b,y]*PC[c,z] - Id*p[a,b,c,x,y,z] \n",
    "        for (a,b,c,x,y,z) in Iterators.product(1:nA, 1:nB, 1:nC, 1:nX, 1:nY, 1:nZ)]\n",
    "    eqs = [eqs...];\n",
    "    \n",
    "    return eqs\n",
    "end\n",
    "\n",
    "function generate_bilocal_eq_constraints(p, PA::Matrix{Any}, PB::Vector{Any}, PC::Matrix{Any})\n",
    "    nA, nX = size(PA)\n",
    "    nC, nZ = size(PC)\n",
    "    nB = size(PB)[1]\n",
    "    eqs = [PA[a,x]*PB[b]*PC[c,z] - Id*p[a,b,c,x,z]\n",
    "        for (a,b,c,x,z) in Iterators.product(1:nA, 1:nB, 1:nC, 1:nX, 1:nZ)]\n",
    "    eqs = [eqs...];\n",
    "    \n",
    "    return eqs\n",
    "end\n",
    "\n",
    "function bilo_is_feasible(p, PA, PB, PC; commutative=false, level=2)\n",
    "    eqs = generate_bilocal_eq_constraints(p, PA, PB, PC)\n",
    "    model = npa2jump(Id, level, se, eq=eqs, solver=Mosek.Optimizer, verbose=false)\n",
    "    optimize!(model)\n",
    "    return !is_solved_and_feasible(model)\n",
    "end\n",
    "\n",
    "function bilo_pguess(p, PA, PB, PC, PE, se; level=2, x=1, y=1, z=1, verbose=false)\n",
    "    nA, nX = size(PA)\n",
    "    nC, nZ = size(PC)\n",
    "    nB = size(PB)[1]\n",
    "    nE = size(PE)[1]\n",
    "    \n",
    "    eqs = generate_bilocal_eq_constraints(p, PA, PB, PC)\n",
    "    \n",
    "    # Select the correct pguess (guessing B or not) depending on the PE dimension\n",
    "    if nE > nA*nC\n",
    "        if length(size(PB)) > 1\n",
    "            pguess = sum(PA[a,x]*PB[b,y]*PC[c,z]*PE[(a-1) + (b-1)*nA + (c-1)*nA*nB + 1] for (a,b,c) in Iterators.product(1:nA, 1:nB, 1:nC))\n",
    "        else\n",
    "            pguess = sum(PA[a,x]*PB[b]*PC[c,z]*PE[(a-1) + (b-1)*nA + (c-1)*nA*nB + 1] for (a,b,c) in Iterators.product(1:nA, 1:nB, 1:nC))\n",
    "        end\n",
    "    else\n",
    "        pguess = sum(PA[a,x]*PC[c,z]*PE[(a-1) + (c-1)*nA + 1] for (a,c) in Iterators.product(1:nA, 1:nC))\n",
    "    end\n",
    "    \n",
    "    model = npa2jump(pguess, level, se, eq=eqs, solver=Mosek.Optimizer, verbose=verbose)\n",
    "    optimize!(model)\n",
    "    return objective_value(model)\n",
    "end\n",
    "\n",
    "function bilo_pguess(p, PA, PB, PC, PE, PF, se; \n",
    "        level=2, x=1, y=1, z=1, \n",
    "        fb0 = b -> b%2,\n",
    "        fb1 = b -> b÷2,\n",
    "        verbose=false)\n",
    "    nA, nX = size(PA)\n",
    "    nC, nZ = size(PC)\n",
    "    nB = size(PB)[1]\n",
    "    nE = size(PE)[1]\n",
    "    nF = size(PF)[1]\n",
    "    \n",
    "    eqs = generate_bilocal_eq_constraints(p, PA, PB, PC)\n",
    "    \n",
    "    # Select the correct pguess (guessing B or not) depending on the PE dimension\n",
    "    if nE*nF > nA*nC\n",
    "        if nB == 4\n",
    "            if length(size(PB)) > 1\n",
    "                pguess = sum(PA[a,x] * PB[b,y] * PC[c,z] * PE[(a-1)+fb0(b-1)*nA+1] * PF[(c-1)+fb1(b-1)*nC+1] \n",
    "                    for (a,b,c) in Iterators.product(1:nA, 1:nB, 1:nC))\n",
    "            else\n",
    "                pguess = sum(PA[a,x] * PB[b] * PC[c,z] * PE[(a-1)+fb0(b-1)*nA+1] * PF[(c-1)+fb1(b-1)*nC+1] \n",
    "                    for (a,b,c) in Iterators.product(1:nA, 1:nB, 1:nC))\n",
    "            end\n",
    "        elseif nB == 2\n",
    "            if nE == 2 && nF == 4\n",
    "                pguess = sum(PA[a,x] * PB[b] * PC[c,z] * PE[a] * PF[(c-1)+(b-1)*nC+1] \n",
    "                    for (a,b,c) in Iterators.product(1:nA, 1:nB, 1:nC))\n",
    "            elseif nE == 4 && nF == 2\n",
    "                pguess = sum(PA[a,x] * PB[b] * PC[c,z] * PE[(a-1)+(b-1)*nA+1] * PF[c]\n",
    "                    for (a,b,c) in Iterators.product(1:nA, 1:nB, 1:nC))\n",
    "            else\n",
    "                throw(\"Invalid Eavesdropper dimensions\")\n",
    "            end \n",
    "        else\n",
    "            throw(\"Only 1 or 2 bits central node is supported\")\n",
    "        end\n",
    "    else\n",
    "        pguess = sum(PA[a,x] * PC[c,z] * PE[a] * PF[c] \n",
    "            for (a,c) in Iterators.product(1:nA, 1:nC))\n",
    "    end\n",
    "    \n",
    "    model = npa2jump(pguess, level, se, eq=eqs, solver=Mosek.Optimizer, verbose=verbose)\n",
    "    optimize!(model)\n",
    "    return objective_value(model)\n",
    "end\n",
    "\n",
    "function _ef_fun_generator()\n",
    "    function _get_πfuncs(π)\n",
    "        return b -> π[b+1] % 2, b -> π[b+1] ÷ 2\n",
    "    end\n",
    "    return map(_get_πfuncs, permutations([0,1,2,3]))\n",
    "end\n",
    "\n",
    "# No settings on B\n",
    "function p_bilocality(A::Vector{Vector{Matrix{T}}}, \n",
    "                      B::Vector{Matrix{T}}, \n",
    "                      C::Vector{Vector{Matrix{T}}}, \n",
    "                      ρ::Matrix{T}) where T <: Complex\n",
    "    num_outs = (length(A[1]), length(B), length(C[1]))\n",
    "    num_sets = (length(A), length(C))\n",
    "    p = zeros(num_outs..., num_sets...)\n",
    "    for s in Iterators.product((1:n for n in num_sets)...)\n",
    "        for o in Iterators.product((1:n for n in num_outs)...)\n",
    "            ABC = kron(A[s[1]][o[1]], B[o[2]], C[s[2]][o[3]])\n",
    "            p[o..., s...] = real(tr(ABC*ρ))\n",
    "        end\n",
    "    end\n",
    "    return p\n",
    "end\n",
    "\n",
    "# B with settings\n",
    "function p_bilocality(A::Vector{Vector{Matrix{T}}}, \n",
    "                      B::Vector{Vector{Matrix{T}}}, \n",
    "                      C::Vector{Vector{Matrix{T}}}, \n",
    "                      ρ::Matrix{T}) where T <: Complex\n",
    "    num_outs = (length(A[1]), length(B[1]), length(C[1]))\n",
    "    num_sets = (length(A), length(B), length(C))\n",
    "    p = zeros(num_outs..., num_sets...)\n",
    "    for s in Iterators.product((1:n for n in num_sets)...)\n",
    "        for o in Iterators.product((1:n for n in num_outs)...)\n",
    "            ABC = kron(A[s[1]][o[1]], B[s[2]][o[2]], C[s[3]][o[3]])\n",
    "            p[o..., s...] = real(tr(ABC*ρ))\n",
    "        end\n",
    "    end\n",
    "    return p\n",
    "end\n",
    "\n",
    "ρ2_bell(v1, v2; id=4) = kron(ρ_bell(v1, id=id), ρ_bell(v2, id=id))\n",
    "\n",
    "σt(α1,α2) = [get_proj(sin(α1)*σ[3] + cos(α1)*σ[1]),\n",
    "             get_proj(sin(α2)*σ[3] + cos(α2)*σ[1])]\n",
    "\n",
    "ρ_bell(v; θ=π/4, id=4) = v*bell_state(id, θ=θ) + (1-v)*eye(4)/4\n",
    "\n",
    "μ(α, θ) = atan(sin(2θ/α))\n",
    "Π_atilted(α, θ) = [get_proj(cos(μ(α,θ))*σ[3] + sin(μ(α,θ))*σ[1]),\n",
    "                  get_proj(cos(μ(α,θ))*σ[3] - sin(μ(α,θ))*σ[1])]\n",
    "\n",
    "function p_bilocality_abell(;θ=π/4, v=1, α=1, id=4)\n",
    "    \n",
    "    B = [bell_state(k) for k=1:4]\n",
    "    A = σt(0, π/2)\n",
    "    C = Π_atilted(α, θ)\n",
    "    ρ = kron(ρ_bell(v, θ=θ, id=id), \n",
    "             ρ_bell(v, θ=θ, id=id))\n",
    "    return p_bilocality(A, B, C, ρ)\n",
    "end\n",
    "\n",
    "ΠA_wtilted1(δ) = [get_proj(σ[3]),\n",
    "                  get_proj(-sin(δ)*σ[3] + cos(δ)*σ[1])]\n",
    "ΠC_wtilted1(δ) = [get_proj(σ[1]),\n",
    "                  get_proj(cos(δ)*σ[3] - sin(δ)*σ[1])]\n",
    "\n",
    "function p_bilocality_wbell1(δ; θ=π/4, v=1, id=4)\n",
    "    B = [bell_state(k) for k=1:4]\n",
    "    A = ΠA_wtilted1(δ)\n",
    "    C = ΠC_wtilted1(δ)\n",
    "    ρ = kron(ρ_bell(v, θ=θ, id=id), \n",
    "             ρ_bell(v, θ=θ, id=id))\n",
    "    return p_bilocality(A, B, C, ρ)\n",
    "end\n",
    "\n",
    "ΠA_wtilted2(γ) = [get_proj(σ[3]),\n",
    "                  get_proj(cos(2π/3 - 2γ)*σ[3] + sin(2π/3 - 2γ)*σ[1])]\n",
    "ΠC_wtilted2(γ) = [get_proj(sin(3γ)*σ[3] + cos(3γ)*σ[1]),\n",
    "                  get_proj(cos(π/6 + γ)*σ[3] - sin(π/6 + γ)*σ[1])]\n",
    "\n",
    "function p_bilocality_wbell2(γ; θ=π/4, v=1, id=1)\n",
    "    B = [bell_state(k) for k=1:4]\n",
    "    A = ΠA_wtilted2(γ)\n",
    "    C = ΠC_wtilted2(γ)\n",
    "    ρ = kron(ρ_bell(v, θ=θ, id=id), \n",
    "             ρ_bell(v, θ=θ, id=id))\n",
    "    return p_bilocality(A, B, C, ρ)\n",
    "end\n",
    "\n",
    "\n",
    "rotated_BSM(θ) = [bell_state(i, θ=θ) for i=1:4]\n",
    "\n",
    "function p_bilocality_abellBSM(φ; θ=π/4, v=1, α=1, id=4)\n",
    "    B = rotated_BSM(φ)\n",
    "    A = σt(0, π/2)\n",
    "    C = Π_atilted(α, θ)\n",
    "    ρ = kron(ρ_bell(v, θ=θ, id=id), \n",
    "             ρ_bell(v, θ=θ, id=id))\n",
    "    return p_bilocality(A, B, C, ρ)\n",
    "end\n",
    "\n",
    "function p_bilocality_tiltedBSM1(δ, φ; θ=π/4, v=1, id=1)\n",
    "    B = rotated_BSM(φ)\n",
    "    A = ΠA_wtilted1(δ)\n",
    "    C = ΠC_wtilted1(δ)\n",
    "    ρ = kron(ρ_bell(v, θ=θ, id=id), \n",
    "             ρ_bell(v, θ=θ, id=id))\n",
    "    return p_bilocality(A, B, C, ρ)\n",
    "end\n",
    "\n",
    "function p_bilocality_tiltedBSM2(γ, φ; θ=π/4, v=1, id=1)\n",
    "    B = rotated_BSM(φ)\n",
    "    A = ΠA_wtilted2(γ)\n",
    "    C = ΠC_wtilted2(γ)\n",
    "    ρ = kron(ρ_bell(v, θ=θ, id=id), \n",
    "             ρ_bell(v, θ=θ, id=id))\n",
    "    return p_bilocality(A, B, C, ρ)\n",
    "end\n",
    "\n",
    "ΠA_chsh = [get_proj(σ[3]),\n",
    "              get_proj(σ[1])]\n",
    "ΠC_chsh = [get_proj((σ[3] + σ[1])/√2),\n",
    "           get_proj((σ[3] - σ[1])/√2)]\n",
    "\n",
    "function p_bilocality_24_chsh_rotBSM(φ; θ=π/4, v=1, α=1, id=1)\n",
    "    B = [rotated_BSM(π/4), rotated_BSM(φ)]\n",
    "    #A = ΠA_chsh\n",
    "    A = Π_atilted(α, θ)\n",
    "    C = Π_atilted(α, θ)\n",
    "    ρ = kron(ρ_bell(v, θ=θ, id=id),\n",
    "             ρ_bell(v, θ=θ, id=id))\n",
    "    return p_bilocality(A, B, C, ρ)\n",
    "end\n",
    "\n",
    "function p_bilocality_24_wtiltedBSM(δ, θ; θsrc=π/4, v=1, id=1)\n",
    "    B = [rotated_BSM(π/4), rotated_BSM(θ)]\n",
    "    \n",
    "    A = ΠA_wtilted1(δ)\n",
    "    C = ΠC_wtilted1(δ)\n",
    "    ρ = kron(ρ_bell(v, θ=θsrc, id=id),\n",
    "             ρ_bell(v, θ=θsrc, id=id))\n",
    "    return p_bilocality(A, B, C, ρ)\n",
    "end;\n"
   ]
  },
  {
   "cell_type": "markdown",
   "id": "5a7f469d-2df4-4cb3-8451-835c16fa7f4a",
   "metadata": {},
   "source": [
    "# Standard strategies"
   ]
  },
  {
   "cell_type": "markdown",
   "id": "91b24357-dc36-4bc6-93b5-afef5c4be617",
   "metadata": {},
   "source": [
    "We define \"standard strategies\" the measurement choices on the external nodes ($A$ and $C$) defined in Eq.(12) of the main text:\n",
    "\\begin{equation}\n",
    " A_{0,1} = C_{0,1} = \\frac{\\sigma_z + (-1)^{0,1} \\sigma_x}{\\sqrt{2}}\n",
    "\\end{equation}\n",
    "We consider different possible eavesdropping strategies and measurements in the central node. We denote the possible choices of measurements in the central node with the number of settings and outcomes of the measurement:\n",
    "\n",
    "- (1,4): Bell State Measurement (BSM)\n",
    "- (2,2): $B_0 = \\sigma_x \\otimes \\sigma_x$, $B_1 = \\sigma_z \\otimes \\sigma_z$\n",
    "\n",
    "Instead, the possible eavesdropping strategies are:\n",
    "- Strong Eavesdropper (SE)\n",
    "- Double Eavesdropper (DE)\n",
    "\n",
    "(forse DAG corrispondenti)\n"
   ]
  },
  {
   "cell_type": "markdown",
   "id": "d0755697-9a39-4b19-9e65-42b3ff5e273d",
   "metadata": {},
   "source": [
    "## (1, 4) measurement strategy"
   ]
  },
  {
   "cell_type": "markdown",
   "id": "b0db1629-86e6-453e-8a49-7a5adceeccb6",
   "metadata": {},
   "source": [
    "### Definitions"
   ]
  },
  {
   "cell_type": "markdown",
   "id": "814fa1a2-f1fa-4665-bfc1-5da3c5afd968",
   "metadata": {},
   "source": [
    "#### A, B, C projectors"
   ]
  },
  {
   "cell_type": "code",
   "execution_count": 20,
   "id": "1ab2e1dc-23e3-42a1-9ff1-1afd66092305",
   "metadata": {},
   "outputs": [],
   "source": [
    "# Define projectors corresponding to the three parties measurements\n",
    "PA = projector('A', 1:2, 1:2, full=true);\n",
    "PB_14= projector('B', 1:4, 1, full=true);\n",
    "PC = projector('C', 1:2, 1:2, full=true);"
   ]
  },
  {
   "cell_type": "markdown",
   "id": "ccb5e7c1-8831-42a5-a440-d68194c6feaa",
   "metadata": {},
   "source": [
    "#### Strong-Eavesdropper projectors"
   ]
  },
  {
   "cell_type": "code",
   "execution_count": 21,
   "id": "fb4cb7aa-dc23-4f9a-8e76-c8e4245d5561",
   "metadata": {},
   "outputs": [],
   "source": [
    "# Define projectors corresponding to the eavesdropper measurements\n",
    "PE2 = projector('D', 1:4, 1, full=true); # E guessing AC\n",
    "PE4 = projector('D', 1:16, 1, full=true); # E guessing ABC\n",
    "\n",
    "\n",
    "l = 5 # Order of the product of the scalar variables\n",
    "con = separability_structure([\"A\", \"B\", \"C\", \"D\"], (\"A\",\"C\")); # Separability constraints\n",
    "vars = generate_projective_scvar(PA, l, swapped=true); # Scalar variables\n",
    "se_14_strong = ScalarExtension(vars, con); # Scalar Extension"
   ]
  },
  {
   "cell_type": "markdown",
   "id": "40be3235-2fef-4c4b-ab08-b13c9a82c7b0",
   "metadata": {},
   "source": [
    "#### Double-Eavesdropper projectors"
   ]
  },
  {
   "cell_type": "markdown",
   "id": "d8504648-e41b-4cee-852b-aafd62e06a2b",
   "metadata": {},
   "source": [
    "Guessing ABC"
   ]
  },
  {
   "cell_type": "code",
   "execution_count": 22,
   "id": "f22b6ae8-5358-4d44-b4a3-d815a09eb39e",
   "metadata": {},
   "outputs": [],
   "source": [
    "# Define projectors corresponding to the eavesdroppers measurements\n",
    "PE2 = projector('D', 1:4, 1, full=true); # E guessing A,B1 (B1 = first bit of B's outcome)\n",
    "PF2 = projector('E', 1:4, 1, full=true); # F guessing C,B2 (B2 = second bit of B's outcome)\n",
    "\n",
    "\n",
    "con = separability_structure([\"A\", \"B\", \"C\", \"D\", \"E\"], (\"A\",\"C\"), (\"E\", \"D\"), (\"D\", \"C\"), (\"E\", \"A\")); # Separability constraints\n",
    "\n",
    "l=5 # Order of the product of the scalar variables\n",
    "\n",
    "# Scalar variables\n",
    "vars = [generate_projective_scvar(PA, l, swapped=true);\n",
    "        generate_projective_scvar(PA, l, tail=PE2[1], swapped=true);\n",
    "        generate_projective_scvar(PA, l, tail=PE2[2], swapped=true);\n",
    "        generate_projective_scvar(PA, l, tail=PE2[3], swapped=true);\n",
    "        [scalarfactor(PE2[i]) for i=1:3];\n",
    "]\n",
    "se_14_double_ABC = ScalarExtension(vars, con); # Scalar Extension"
   ]
  },
  {
   "cell_type": "markdown",
   "id": "64cef1c4-a313-4170-8429-d6cd73f2ba8d",
   "metadata": {},
   "source": [
    "Guessing only A and C"
   ]
  },
  {
   "cell_type": "code",
   "execution_count": 23,
   "id": "d67ec091-1238-4ea6-8bfc-451175ce964f",
   "metadata": {},
   "outputs": [],
   "source": [
    "PE1 = projector('D', 1:2, 1, full=true); # E guessing A\n",
    "PF1 = projector('E', 1:2, 1, full=true); # F guessing C\n",
    "\n",
    "con = separability_structure([\"A\", \"B\", \"C\", \"D\", \"E\"], (\"A\",\"C\"), (\"E\", \"D\"), (\"D\", \"C\"), (\"E\", \"A\")); # Separability constraints\n",
    "\n",
    "l=5 # Order of the product of the scalar variables\n",
    "\n",
    "# Scalar variables\n",
    "vars = [generate_projective_scvar(PA, l, swapped=true);\n",
    "        generate_projective_scvar(PA, l, tail=PE1[1], swapped=true);\n",
    "        [scalarfactor(PE1[1])];\n",
    "]\n",
    "se_14_double_AC = ScalarExtension(vars, con); # Scalar Extension"
   ]
  },
  {
   "cell_type": "markdown",
   "id": "3e776ea4-4b77-4874-a909-fd65c9b8ec5a",
   "metadata": {},
   "source": [
    "#### Measurements operators"
   ]
  },
  {
   "cell_type": "code",
   "execution_count": 24,
   "id": "fcae4bf4-54b6-47c2-997c-67322909fd08",
   "metadata": {},
   "outputs": [],
   "source": [
    "B14 = [bell_state(k) for k=1:4];\n",
    "\n",
    "A = σt(π/4, -π/4);\n",
    "C = σt(π/4, -π/4);"
   ]
  },
  {
   "cell_type": "markdown",
   "id": "67374bb7-b576-443e-b816-5ad82dd11dcc",
   "metadata": {},
   "source": [
    "### Strong Eavesdropper"
   ]
  },
  {
   "cell_type": "markdown",
   "id": "9bd82d99-3e74-4b64-8dc3-2354a23442d7",
   "metadata": {},
   "source": [
    "#### Guessing A, B, C"
   ]
  },
  {
   "cell_type": "code",
   "execution_count": 13,
   "id": "58d75f66-2461-405b-aa8e-352fe96937d2",
   "metadata": {},
   "outputs": [
    {
     "name": "stdout",
     "output_type": "stream",
     "text": [
      " v = 1.0\tPg = 0.3751984846310349"
     ]
    }
   ],
   "source": [
    "pgs = []\n",
    "level = 4 # Level of the NPA hierarchy\n",
    "vs = collect(0.0:0.01:1.0) # Visibilities of the state\n",
    "pgs = ones(length(vs))\n",
    "\n",
    "\n",
    "@threads for (i,v) ∈ collect(enumerate(vs))\n",
    "    p = p_bilocality(A, B14, C, ρ2_bell(v, v)) # Probability distribution p(a,b,c|x,z)\n",
    "    pg = bilo_pguess(p, PA, PB_14, PC, PE4, se_14_strong, level=level, x=1, z=1) # Solution of the SDP problem\n",
    "\n",
    "    print(\"\\r v = $v\\tPg = $pg\")\n",
    "    pgs[i] = pg\n",
    "end"
   ]
  },
  {
   "cell_type": "markdown",
   "id": "0981aca5-a1e0-4ee5-b153-83efb4ca7f1f",
   "metadata": {},
   "source": [
    "#### Guessing A, C"
   ]
  },
  {
   "cell_type": "code",
   "execution_count": 17,
   "id": "099afc5a-6ac6-4614-9995-68da8a3b55a5",
   "metadata": {},
   "outputs": [
    {
     "name": "stdout",
     "output_type": "stream",
     "text": [
      " v = 1.0\tPg = 0.3752320853300831"
     ]
    }
   ],
   "source": [
    "pgs = []\n",
    "level = 4 # Level of the NPA hierarchy\n",
    "vs = collect(0.0:0.01:1.0) # Visibilities of the state\n",
    "pgs = ones(length(vs))\n",
    "\n",
    "\n",
    "@threads for (i,v) ∈ collect(enumerate(v))\n",
    "    p = p_bilocality(A, B14, C, ρ2_bell(v, v)) # Probability distribution p(a,b,c|x,z)\n",
    "    pg = bilo_pguess(p, PA, PB_14, PC, PE2, se_14_strong, level=level, x=1, z=1) # Solution of the SDP problem\n",
    "\n",
    "    print(\"\\r v = $v\\tPg = $pg\")\n",
    "    pgs[i] = pg\n",
    "end"
   ]
  },
  {
   "cell_type": "markdown",
   "id": "91f3eeba-cfbe-4256-a694-05412c7988c5",
   "metadata": {},
   "source": [
    "### Double-Eavesdropper"
   ]
  },
  {
   "cell_type": "markdown",
   "id": "de0deab8-f732-47fb-89df-013f2c8d8c42",
   "metadata": {},
   "source": [
    "#### Guessing A, B, C"
   ]
  },
  {
   "cell_type": "code",
   "execution_count": 19,
   "id": "92ce1032-557c-4c5e-8be7-9f7dc0afaa4a",
   "metadata": {},
   "outputs": [
    {
     "name": "stdout",
     "output_type": "stream",
     "text": [
      " v = 1.0\tPg = 0.12507665621791897"
     ]
    }
   ],
   "source": [
    "pgs = []\n",
    "level = 4 # Level of the NPA hierarchy\n",
    "vs = collect(0.0:0.01:1.0) # Visibilities of the state\n",
    "pgs = ones(length(vs))\n",
    "@threads for (i,v) ∈ collect(enumerate(vs))\n",
    "    p = p_bilocality(A, B14, C, ρ2_bell(v, v)) # Probability distribution p(a,b,c|x,z)\n",
    "    pg = bilo_pguess(p, PA, PB_14, PC, PE2, PF2, se_14_double_ABC, level=level, x=1, z=1) # Solution of the SDP problem\n",
    "\n",
    "    print(\"\\r v = $v\\tPg = $pg\")\n",
    "    pgs[i] = pg\n",
    "end"
   ]
  },
  {
   "cell_type": "markdown",
   "id": "debd2113-6d6d-46f9-a76c-6b97a2901b45",
   "metadata": {},
   "source": [
    "#### Guessing A, C"
   ]
  },
  {
   "cell_type": "code",
   "execution_count": 20,
   "id": "1b01f697-5c21-4f82-b7c2-741545d246d1",
   "metadata": {},
   "outputs": [
    {
     "name": "stdout",
     "output_type": "stream",
     "text": [
      " v = 1.0\tPg = 0.3750652691063153"
     ]
    }
   ],
   "source": [
    "pgs = []\n",
    "level = 4 # Level of the NPA hierarchy\n",
    "vs = collect(0.0:0.01:1.0) \n",
    "pgs = ones(length(vs))\n",
    "@threads for (i,v) ∈ collect(enumerate([1.0]))\n",
    "    p = p_bilocality(A, B14, C, ρ2_bell(v, v)) # Probability distribution p(a,b,c|x,z)\n",
    "    pg = bilo_pguess(p, PA, PB_14, PC, PE1, PF1, se_14_double_AC, level=level, x=1, z=1)\n",
    "\n",
    "    print(\"\\r v = $v\\tPg = $pg\")\n",
    "    pgs[i] = pg\n",
    "end"
   ]
  },
  {
   "cell_type": "markdown",
   "id": "30c5c4c0-90ce-4345-b795-a970e897c907",
   "metadata": {},
   "source": [
    "## (2, 2) measurement strategy"
   ]
  },
  {
   "cell_type": "markdown",
   "id": "88ef50c8-65de-4f88-b216-31be4db7170f",
   "metadata": {},
   "source": [
    "### Definitions"
   ]
  },
  {
   "cell_type": "markdown",
   "id": "abbb86ba-f612-4969-8dbe-19b5fe045214",
   "metadata": {},
   "source": [
    "#### A, B, C projectors"
   ]
  },
  {
   "cell_type": "code",
   "execution_count": 22,
   "id": "498ad45d-5d4f-4278-a080-9d33852dac4b",
   "metadata": {},
   "outputs": [],
   "source": [
    "# Define projectors corresponding to the three parties measurements\n",
    "PA = projector('A', 1:2, 1:2, full=true);\n",
    "PB_22 = projector('B', 1:2, 1:2, full=true);\n",
    "PC = projector('C', 1:2, 1:2, full=true);"
   ]
  },
  {
   "cell_type": "markdown",
   "id": "5cf11114-ebcf-4901-85ed-b8c3b6f53b3e",
   "metadata": {},
   "source": [
    "#### Strong-Eavesdropper projectors"
   ]
  },
  {
   "cell_type": "code",
   "execution_count": 23,
   "id": "47782e6f-b655-430e-9bf6-0170da05d0d5",
   "metadata": {},
   "outputs": [],
   "source": [
    "# Define projectors corresponding to the eavesdropper measurements\n",
    "PE2 = projector('D', 1:4, 1, full=true); # E guessing A, C\n",
    "PE3 = projector('D', 1:8, 1, full=true); # E guessing A, B, C\n",
    "\n",
    "\n",
    "l = 5 # Order of the product of the scalar variables\n",
    "con = separability_structure([\"A\", \"B\", \"C\", \"D\"], (\"A\",\"C\")); # Separability constraints\n",
    "vars = generate_projective_scvar(PA, l, swapped=true); # Scalar variables \n",
    "se_22_strong = ScalarExtension(vars, con); # Scalar Extension "
   ]
  },
  {
   "cell_type": "markdown",
   "id": "c8516606-3ca3-428a-b15f-0fcd8397b149",
   "metadata": {},
   "source": [
    "#### Double-Eavesdropper projectors"
   ]
  },
  {
   "cell_type": "markdown",
   "id": "cc581850-6e90-4d8f-bb98-67e67fb85313",
   "metadata": {},
   "source": [
    "Guessing ABC"
   ]
  },
  {
   "cell_type": "code",
   "execution_count": 24,
   "id": "39037273-99ea-4add-9b4f-9dad4535a576",
   "metadata": {},
   "outputs": [],
   "source": [
    "# Define projectors corresponding to the eavesdroppers measurements\n",
    "PE2 = projector('D', 1:4, 1, full=true) # E guessing A, B \n",
    "PF1 = projector('E', 1:2, 1, full=true) # F guessing C\n",
    "\n",
    "\n",
    "con = separability_structure([\"A\", \"B\", \"C\", \"D\", \"E\"], (\"A\",\"C\"), (\"E\", \"D\"), (\"D\", \"C\"), (\"E\", \"A\")); # Separability constraints\n",
    "\n",
    "l=5 # Order of the product of the scalar variables\n",
    "\n",
    "# Scalar variables\n",
    "vars = [generate_projective_scvar(PA, l, swapped=true);\n",
    "        generate_projective_scvar(PA, l, tail=PE2[1], swapped=true);\n",
    "        generate_projective_scvar(PA, l, tail=PE2[2], swapped=true);\n",
    "        generate_projective_scvar(PA, l, tail=PE2[3], swapped=true);\n",
    "        [scalarfactor(PE2[i]) for i=1:3];\n",
    "]\n",
    "se_22_double_ABC = ScalarExtension(vars, con); # Scalar Extension"
   ]
  },
  {
   "cell_type": "markdown",
   "id": "c8522962-d4b6-483a-800a-a558c14c0b66",
   "metadata": {},
   "source": [
    "Guessing only A and C"
   ]
  },
  {
   "cell_type": "code",
   "execution_count": 25,
   "id": "f349bcef-f6e8-481e-b33f-d22c251d9f93",
   "metadata": {},
   "outputs": [],
   "source": [
    "PE1 = projector('E', 1:2, 1, full=true) # E guessing A\n",
    "PF1 = projector('D', 1:2, 1, full=true) # F guessing C\n",
    "\n",
    "con = separability_structure([\"A\", \"B\", \"C\", \"D\", \"E\"], (\"A\",\"C\"), (\"E\", \"D\"), (\"E\", \"C\"), (\"D\", \"A\")); # Separability constraints\n",
    "\n",
    "l=5 # Order of the product of the scalar variables\n",
    "\n",
    "# Scalar variables\n",
    "vars = [generate_projective_scvar(PA, l, swapped=true);\n",
    "        generate_projective_scvar(PA, l, tail=PE1[1], swapped=true);\n",
    "        [scalarfactor(PE1[1])];\n",
    "]\n",
    "se_22_double_AC = ScalarExtension(vars, con); # Scalar Extension"
   ]
  },
  {
   "cell_type": "markdown",
   "id": "0f0304cd-8243-4bc3-9fc1-716d447d03d7",
   "metadata": {},
   "source": [
    "#### Measurements operators"
   ]
  },
  {
   "cell_type": "markdown",
   "id": "9b5817c2-9ab6-4fe0-b5fc-6792d3e6c531",
   "metadata": {},
   "source": [
    "Both the (2,2) measurement operators have two pairs of degenerate eigenvalues (and the corresponding eigenvectors)  $\\lambda_{\\mathrm{deg}} = \\{-1,-1,1,1\\}$ and $\\Pi_{\\mathrm{deg}} = \\{ \\Pi_{-1}^i, \\Pi_{-1}^{ii}, \\Pi_1^i, \\Pi_1^{ii}  \\}$. We are interested in the bitwise product of the separate meassurements outcomes, and the corresponding projectors consists in the ones that project onto the degenerate spaces, i.e $\\Pi_{\\mathrm{non-deg}} = \\{ \\Pi_{-1}^i + \\Pi_{-1}^{ii}, \\Pi_1^i + \\Pi_1^{ii}  \\}$. These are given by the function `get_proj_22`\n"
   ]
  },
  {
   "cell_type": "code",
   "execution_count": 27,
   "id": "c6ee6165-e874-4768-8118-701cb2d78e54",
   "metadata": {},
   "outputs": [],
   "source": [
    "# Computes the projectors onto the non-degenerate eigenvalues\n",
    "function get_proj_22(op)\n",
    "    # Get eigenvalues and eigenvectors \n",
    "    eig = eigen(op)\n",
    "    eigenvalues = [round(e, digits=7) for e in eig.values]\n",
    "    eigenvectors = eig.vectors\n",
    "\n",
    "    occurred = Set()\n",
    "    proj_dict = Dict{Float64, Any}()\n",
    "\n",
    "    # Iterate over eigenvectors to identify the degenerate eigenvalues\n",
    "    for (idx, projector) in enumerate(eachcol(eigenvectors))\n",
    "        eigenvalue = eigenvalues[idx]\n",
    "\n",
    "        if eigenvalue in occurred\n",
    "            proj_dict[eigenvalue] += projector * projector'\n",
    "        else\n",
    "            push!(occurred, eigenvalue)\n",
    "            proj_dict[eigenvalue] = projector * projector'\n",
    "        end\n",
    "    end\n",
    "\n",
    "    # Sort the non-degeenrate eigenvalues and return the corresponding projectors in order\n",
    "    sorted_eigenvalues = sort(collect(keys(proj_dict)))\n",
    "    return [proj_dict[ev] for ev in sorted_eigenvalues]\n",
    "end;"
   ]
  },
  {
   "cell_type": "code",
   "execution_count": 28,
   "id": "aa108a02-16be-4210-8123-47023ae363ae",
   "metadata": {},
   "outputs": [],
   "source": [
    "B22 = [get_proj_22(kron(σ[1], σ[1])), get_proj_22(kron(σ[3], σ[3]))];\n",
    "\n",
    "A = σt(π/4, -π/4);\n",
    "C = σt(π/4, -π/4);"
   ]
  },
  {
   "cell_type": "markdown",
   "id": "f67d468c-c4db-4ba4-997b-c950d5d95281",
   "metadata": {},
   "source": [
    "### Strong Eavesdropper"
   ]
  },
  {
   "cell_type": "markdown",
   "id": "5cc80edb-b8c0-438a-a0f7-b0e195c55342",
   "metadata": {},
   "source": [
    "#### Guessing A, B, C"
   ]
  },
  {
   "cell_type": "code",
   "execution_count": 31,
   "id": "761a1b88-6e32-4412-b8b6-c44918389f7a",
   "metadata": {},
   "outputs": [
    {
     "name": "stdout",
     "output_type": "stream",
     "text": [
      " v = 1.0\tPg = 0.37523551603555194"
     ]
    }
   ],
   "source": [
    "pgs = []\n",
    "level = 4 # Level of the NPA hierarchy\n",
    "vs = collect(0.0:0.01:1.0) # Visibilities of the state\n",
    "pgs = ones(length(vs))\n",
    "\n",
    "\n",
    "@threads for (i,v) ∈ collect(enumerate(vs))\n",
    "    p = p_bilocality(A, B22, C, ρ2_bell(v, v)) # Probability distribution p(a,b,c|x,z)\n",
    "    pg = bilo_pguess(p, PA, PB_22, PC, PE3, se_22_strong, level=level, x=1, z=1) # Solution of the SDP problem\n",
    "\n",
    "    print(\"\\r v = $v\\tPg = $pg\")\n",
    "    pgs[i] = pg\n",
    "end"
   ]
  },
  {
   "cell_type": "markdown",
   "id": "63d6901d-d08b-4d5c-a233-05f097155116",
   "metadata": {},
   "source": [
    "#### Guessing A, C"
   ]
  },
  {
   "cell_type": "code",
   "execution_count": 32,
   "id": "2cd7a737-932e-4987-9488-cabba320b415",
   "metadata": {},
   "outputs": [
    {
     "name": "stdout",
     "output_type": "stream",
     "text": [
      " v = 1.0\tPg = 0.3751818925248358"
     ]
    }
   ],
   "source": [
    "pgs = []\n",
    "level = 4 # Level of the NPA hierarchy\n",
    "vs = collect(0.0:0.01:1.0) # Visibilities of the state\n",
    "pgs = ones(length(vs))\n",
    "\n",
    "\n",
    "@threads for (i,v) ∈ collect(enumerate(vs))\n",
    "    p = p_bilocality(A, B22, C, ρ2_bell(v, v)) # Probability distribution p(a,b,c|x,z)\n",
    "    pg = bilo_pguess(p, PA, PB_22, PC, PE2, se_22_strong, level=level, x=1, z=1) # Solution of the SDP problem\n",
    "\n",
    "    print(\"\\r v = $v\\tPg = $pg\")\n",
    "    pgs[i] = pg\n",
    "end"
   ]
  },
  {
   "cell_type": "markdown",
   "id": "ca4c13a7-af0d-418f-a71a-4709cb89d0e4",
   "metadata": {},
   "source": [
    "### Double-Eavesdropper"
   ]
  },
  {
   "cell_type": "markdown",
   "id": "0e47832d-532d-4973-b5a0-c63e402ee802",
   "metadata": {},
   "source": [
    "#### Guessing A, B, C"
   ]
  },
  {
   "cell_type": "code",
   "execution_count": 34,
   "id": "e8025105-ac1b-4439-8a5f-0327b6bb6caf",
   "metadata": {},
   "outputs": [
    {
     "name": "stdout",
     "output_type": "stream",
     "text": [
      " v = 1.0\tPg = 0.1874999999999967"
     ]
    }
   ],
   "source": [
    "pgs = []\n",
    "level = 4 # Level of the NPA hierarchy\n",
    "vs = collect(0.0:0.01:1.0) # Visibilities of the state\n",
    "pgs = ones(length(vs))\n",
    "@threads for (i,v) ∈ collect(enumerate(vs))\n",
    "    p = p_bilocality(A, B22, C, ρ2_bell(v, v)) # Probability distribution p(a,b,c|x,z)\n",
    "    pg = bilo_pguess(p, PA, PB_22, PC, PE2, PF1, se_22_double_ABC, level=level, x=1, z=1)\n",
    "\n",
    "    print(\"\\r v = $v\\tPg = $pg\")\n",
    "    pgs[i] = pg\n",
    "end"
   ]
  },
  {
   "cell_type": "markdown",
   "id": "06c749ad-e147-4f6d-b179-23b0f3821e41",
   "metadata": {},
   "source": [
    "#### Guessing A, C"
   ]
  },
  {
   "cell_type": "code",
   "execution_count": 35,
   "id": "4e1d02a7-b410-4c06-a398-b54e40f762fe",
   "metadata": {},
   "outputs": [
    {
     "name": "stdout",
     "output_type": "stream",
     "text": [
      " v = 1.0\tPg = 0.375101488099574"
     ]
    }
   ],
   "source": [
    "pgs = []\n",
    "level = 4 # Level of the NPA hierarchy\n",
    "vs = collect(0.0:0.01:1.0) # Visibilities of the state\n",
    "pgs = ones(length(vs))\n",
    "@threads for (i,v) ∈ collect(enumerate(vs))\n",
    "    p = p_bilocality(A, B22, C, ρ2_bell(v, v)) # Probability distribution p(a,b,c|x,z)\n",
    "    pg = bilo_pguess(p, PA, PB_22, PC, PE1, PF1, se_22_double_AC, level=level, x=1, z=1)\n",
    "\n",
    "    print(\"\\r v = $v\\tPg = $pg\")\n",
    "    pgs[i] = pg\n",
    "end"
   ]
  },
  {
   "cell_type": "markdown",
   "id": "5cf4b94a-fa91-4dbb-b0c9-2b64cac17b26",
   "metadata": {},
   "source": [
    "# Randomness certification with experimental data"
   ]
  },
  {
   "cell_type": "markdown",
   "id": "63b3a78d-e01a-4fd4-8d63-9c3f86abbf3a",
   "metadata": {},
   "source": [
    "## Experimental data"
   ]
  },
  {
   "cell_type": "markdown",
   "id": "a84cf56f-b73a-4858-869e-9091143e6861",
   "metadata": {},
   "source": [
    "In this section, we compute the amount of certifiable randomness from the experimental distributions obtained in [this work](https://www.nature.com/articles/ncomms14775), where the (1,4) measurement choices were implemented. Such data have been taken in the form of counts $N_{\\mathrm{exp}}(a,b,c|x,z)$ and, due to the experimental imperfections and the finite duration of the measurement, they may present fluctuations that make the experimental probability distribution $p_{\\mathrm{exp}}(a,b,c|x,z) = N_{\\mathrm{exp}}(a,b,c|x,z) / \\sum_{a,b,c} N_{\\mathrm{exp}}(a,b,c|x,z)$ to violate the no-signaling constraints, defined as:\n",
    "\\begin{equation}\n",
    "\\sum_a p(a,b,c|x,z) = \\sum_a p(a,b,c|x',z)\n",
    "\\end{equation}\n",
    "\\begin{equation}\n",
    "\\sum_c p(a,b,c|x,z) = \\sum_c p(a,b,c|x,z')\n",
    "\\end{equation}\n",
    "\n",
    "For this reason, for each $p_{\\mathrm{exp}}$, we find the closest no-signaling distribution by means of a maximumum likelihood problem."
   ]
  },
  {
   "cell_type": "code",
   "execution_count": 25,
   "id": "235da30f-4c9e-4a5e-b9ec-58b5a1e1d0e2",
   "metadata": {},
   "outputs": [],
   "source": [
    "\n",
    "\n",
    "# Maximum likelihood problem to find the no-signaling distribution which is closest to the experimental one\n",
    "function NS_constraint(NABC)\n",
    "    model = Model(Ipopt.Optimizer)\n",
    "    set_attribute(model, \"tol\", 1e-11)\n",
    "    set_silent(model)\n",
    "    \n",
    "    @variable(model, 0 <= pABC[1:2,1:4,1:2,1:2,1:2])\n",
    "    \n",
    "    # AB BC No-Signaling Constraints on observed set variable\n",
    "    @constraint(model, nsBC, sum(pABC[:,:,:,1,:],dims=1) - sum(pABC[:,:,:,2,:],dims=1) .== 0);\n",
    "    @constraint(model, nsAB, sum(pABC[:,:,:,:,1],dims=3) - sum(pABC[:,:,:,:,2],dims=3) .== 0);\n",
    "    \n",
    "    # Normalization\n",
    "    @constraint(model, norm, sum(pABC, dims=(1,2,3)) .== 1 )\n",
    "    \n",
    "    pAC = sum(pABC, dims=2)\n",
    "    pA_X = reshape(sum(pABC[:,:,:,:,1], dims=(2,3)), (2,1,1,2,1))\n",
    "    pC_Z = reshape(sum(pABC[:,:,:,1,:], dims=(1,2)), (1,1,2,1,2))\n",
    "    \n",
    "    # Conditional independence between A and C\n",
    "    @constraint(model, ciAC, pAC - pA_X .* pC_Z .== 0)\n",
    "    \n",
    "    @objective(model, Max, sum(NABC .* log.(pABC)))\n",
    "    \n",
    "    optimize!(model)\n",
    "\n",
    "    return value.(pABC)\n",
    "end;"
   ]
  },
  {
   "cell_type": "code",
   "execution_count": 26,
   "id": "10a7c20a-0b93-434b-9d35-1d5a5c0e19ab",
   "metadata": {},
   "outputs": [],
   "source": [
    "# Experimental counts N(a,b,c|x,z)\n",
    "exp_data_cc = npzread(\"data/exp_data/Punti_exp_counts.npz\");\n",
    "distr_keys = collect(filter(x->startswith(x, \"distr\"), keys(exp_data_cc)))\n",
    "distr_keys = sort(distr_keys, by=x->parse(Int, split(x, \"_\")[end]));"
   ]
  },
  {
   "cell_type": "code",
   "execution_count": 27,
   "id": "f25960cc-793e-4f32-89e5-08457877003c",
   "metadata": {},
   "outputs": [
    {
     "ename": "LoadError",
     "evalue": "TaskFailedException\n\n\u001b[91m    nested task error: \u001b[39mInterruptException:\n    Stacktrace:\n      [1] \u001b[0m\u001b[1msigatomic_end\u001b[22m\n    \u001b[90m    @\u001b[39m \u001b[90m./\u001b[39m\u001b[90m\u001b[4mc.jl:452\u001b[24m\u001b[39m\u001b[90m [inlined]\u001b[39m\n      [2] \u001b[0m\u001b[1mdisable_sigint\u001b[22m\n    \u001b[90m    @\u001b[39m \u001b[90m./\u001b[39m\u001b[90m\u001b[4mc.jl:475\u001b[24m\u001b[39m\u001b[90m [inlined]\u001b[39m\n      [3] \u001b[0m\u001b[1moptimize\u001b[22m\u001b[0m\u001b[1m(\u001b[22m\u001b[90mtask\u001b[39m::\u001b[0mMosek.Task\u001b[0m\u001b[1m)\u001b[22m\n    \u001b[90m    @\u001b[39m \u001b[32mMosek\u001b[39m \u001b[90m~/.julia/packages/Mosek/cMwUF/src/\u001b[39m\u001b[90m\u001b[4mmsk_functions.jl:2382\u001b[24m\u001b[39m\n      [4] \u001b[0m\u001b[1moptimize!\u001b[22m\u001b[0m\u001b[1m(\u001b[22m\u001b[90mm\u001b[39m::\u001b[0mMosekTools.Optimizer\u001b[0m\u001b[1m)\u001b[22m\n    \u001b[90m    @\u001b[39m \u001b[33mMosekTools\u001b[39m \u001b[90m~/.julia/packages/MosekTools/Rz3pf/src/\u001b[39m\u001b[90m\u001b[4mMosekTools.jl:314\u001b[24m\u001b[39m\n      [5] \u001b[0m\u001b[1moptimize!\u001b[22m\n    \u001b[90m    @\u001b[39m \u001b[90m~/.julia/packages/MathOptInterface/HB8aJ/src/Bridges/\u001b[39m\u001b[90m\u001b[4mbridge_optimizer.jl:367\u001b[24m\u001b[39m\u001b[90m [inlined]\u001b[39m\n      [6] \u001b[0m\u001b[1moptimize!\u001b[22m\n    \u001b[90m    @\u001b[39m \u001b[90m~/.julia/packages/MathOptInterface/HB8aJ/src/\u001b[39m\u001b[90m\u001b[4mMathOptInterface.jl:122\u001b[24m\u001b[39m\u001b[90m [inlined]\u001b[39m\n      [7] \u001b[0m\u001b[1moptimize!\u001b[22m\u001b[0m\u001b[1m(\u001b[22m\u001b[90mm\u001b[39m::\u001b[0mMathOptInterface.Utilities.CachingOptimizer\u001b[90m{MathOptInterface.Bridges.LazyBridgeOptimizer{MosekTools.Optimizer}, MathOptInterface.Utilities.UniversalFallback{MathOptInterface.Utilities.Model{Float64}}}\u001b[39m\u001b[0m\u001b[1m)\u001b[22m\n    \u001b[90m    @\u001b[39m \u001b[35mMathOptInterface.Utilities\u001b[39m \u001b[90m~/.julia/packages/MathOptInterface/HB8aJ/src/Utilities/\u001b[39m\u001b[90m\u001b[4mcachingoptimizer.jl:321\u001b[24m\u001b[39m\n      [8] \u001b[0m\u001b[1moptimize!\u001b[22m\u001b[0m\u001b[1m(\u001b[22m\u001b[90mmodel\u001b[39m::\u001b[0mModel; \u001b[90mignore_optimize_hook\u001b[39m::\u001b[0mBool, \u001b[90m_differentiation_backend\u001b[39m::\u001b[0mMathOptInterface.Nonlinear.SparseReverseMode, \u001b[90mkwargs\u001b[39m::\u001b[0mBase.Pairs\u001b[90m{Symbol, Union{}, Tuple{}, NamedTuple{(), Tuple{}}}\u001b[39m\u001b[0m\u001b[1m)\u001b[22m\n    \u001b[90m    @\u001b[39m \u001b[36mJuMP\u001b[39m \u001b[90m~/.julia/packages/JuMP/V9nZm/src/\u001b[39m\u001b[90m\u001b[4moptimizer_interface.jl:595\u001b[24m\u001b[39m\n      [9] \u001b[0m\u001b[1moptimize!\u001b[22m\n    \u001b[90m    @\u001b[39m \u001b[90m~/.julia/packages/JuMP/V9nZm/src/\u001b[39m\u001b[90m\u001b[4moptimizer_interface.jl:546\u001b[24m\u001b[39m\u001b[90m [inlined]\u001b[39m\n     [10] \u001b[0m\u001b[1mbilo_pguess\u001b[22m\u001b[0m\u001b[1m(\u001b[22m\u001b[90mp\u001b[39m::\u001b[0mArray\u001b[90m{Float64, 5}\u001b[39m, \u001b[90mPA\u001b[39m::\u001b[0mMatrix\u001b[90m{Any}\u001b[39m, \u001b[90mPB\u001b[39m::\u001b[0mVector\u001b[90m{Any}\u001b[39m, \u001b[90mPC\u001b[39m::\u001b[0mMatrix\u001b[90m{Any}\u001b[39m, \u001b[90mPE\u001b[39m::\u001b[0mVector\u001b[90m{Any}\u001b[39m, \u001b[90mse\u001b[39m::\u001b[0mScalarExtension; \u001b[90mlevel\u001b[39m::\u001b[0mInt64, \u001b[90mx\u001b[39m::\u001b[0mInt64, \u001b[90my\u001b[39m::\u001b[0mInt64, \u001b[90mz\u001b[39m::\u001b[0mInt64, \u001b[90mverbose\u001b[39m::\u001b[0mBool\u001b[0m\u001b[1m)\u001b[22m\n    \u001b[90m    @\u001b[39m \u001b[36mMain\u001b[39m \u001b[90m./\u001b[39m\u001b[90m\u001b[4mIn[19]:50\u001b[24m\u001b[39m\n     [11] \u001b[0m\u001b[1mmacro expansion\u001b[22m\n    \u001b[90m    @\u001b[39m \u001b[90m./\u001b[39m\u001b[90m\u001b[4mIn[27]:17\u001b[24m\u001b[39m\u001b[90m [inlined]\u001b[39m\n     [12] \u001b[0m\u001b[1m(::var\"#547#threadsfor_fun#210\"{var\"#547#threadsfor_fun#209#211\"{UnitRange{Int64}}})\u001b[22m\u001b[0m\u001b[1m(\u001b[22m\u001b[90mtid\u001b[39m::\u001b[0mInt64; \u001b[90monethread\u001b[39m::\u001b[0mBool\u001b[0m\u001b[1m)\u001b[22m\n    \u001b[90m    @\u001b[39m \u001b[36mMain\u001b[39m \u001b[90m./\u001b[39m\u001b[90m\u001b[4mthreadingconstructs.jl:163\u001b[24m\u001b[39m\n     [13] \u001b[0m\u001b[1m#547#threadsfor_fun\u001b[22m\n    \u001b[90m    @\u001b[39m \u001b[90m./\u001b[39m\u001b[90m\u001b[4mthreadingconstructs.jl:130\u001b[24m\u001b[39m\u001b[90m [inlined]\u001b[39m\n     [14] \u001b[0m\u001b[1m(::Base.Threads.var\"#1#2\"{var\"#547#threadsfor_fun#210\"{var\"#547#threadsfor_fun#209#211\"{UnitRange{Int64}}}, Int64})\u001b[22m\u001b[0m\u001b[1m(\u001b[22m\u001b[0m\u001b[1m)\u001b[22m\n    \u001b[90m    @\u001b[39m \u001b[90mBase.Threads\u001b[39m \u001b[90m./\u001b[39m\u001b[90m\u001b[4mthreadingconstructs.jl:108\u001b[24m\u001b[39m",
     "output_type": "error",
     "traceback": [
      "TaskFailedException\n\n\u001b[91m    nested task error: \u001b[39mInterruptException:\n    Stacktrace:\n      [1] \u001b[0m\u001b[1msigatomic_end\u001b[22m\n    \u001b[90m    @\u001b[39m \u001b[90m./\u001b[39m\u001b[90m\u001b[4mc.jl:452\u001b[24m\u001b[39m\u001b[90m [inlined]\u001b[39m\n      [2] \u001b[0m\u001b[1mdisable_sigint\u001b[22m\n    \u001b[90m    @\u001b[39m \u001b[90m./\u001b[39m\u001b[90m\u001b[4mc.jl:475\u001b[24m\u001b[39m\u001b[90m [inlined]\u001b[39m\n      [3] \u001b[0m\u001b[1moptimize\u001b[22m\u001b[0m\u001b[1m(\u001b[22m\u001b[90mtask\u001b[39m::\u001b[0mMosek.Task\u001b[0m\u001b[1m)\u001b[22m\n    \u001b[90m    @\u001b[39m \u001b[32mMosek\u001b[39m \u001b[90m~/.julia/packages/Mosek/cMwUF/src/\u001b[39m\u001b[90m\u001b[4mmsk_functions.jl:2382\u001b[24m\u001b[39m\n      [4] \u001b[0m\u001b[1moptimize!\u001b[22m\u001b[0m\u001b[1m(\u001b[22m\u001b[90mm\u001b[39m::\u001b[0mMosekTools.Optimizer\u001b[0m\u001b[1m)\u001b[22m\n    \u001b[90m    @\u001b[39m \u001b[33mMosekTools\u001b[39m \u001b[90m~/.julia/packages/MosekTools/Rz3pf/src/\u001b[39m\u001b[90m\u001b[4mMosekTools.jl:314\u001b[24m\u001b[39m\n      [5] \u001b[0m\u001b[1moptimize!\u001b[22m\n    \u001b[90m    @\u001b[39m \u001b[90m~/.julia/packages/MathOptInterface/HB8aJ/src/Bridges/\u001b[39m\u001b[90m\u001b[4mbridge_optimizer.jl:367\u001b[24m\u001b[39m\u001b[90m [inlined]\u001b[39m\n      [6] \u001b[0m\u001b[1moptimize!\u001b[22m\n    \u001b[90m    @\u001b[39m \u001b[90m~/.julia/packages/MathOptInterface/HB8aJ/src/\u001b[39m\u001b[90m\u001b[4mMathOptInterface.jl:122\u001b[24m\u001b[39m\u001b[90m [inlined]\u001b[39m\n      [7] \u001b[0m\u001b[1moptimize!\u001b[22m\u001b[0m\u001b[1m(\u001b[22m\u001b[90mm\u001b[39m::\u001b[0mMathOptInterface.Utilities.CachingOptimizer\u001b[90m{MathOptInterface.Bridges.LazyBridgeOptimizer{MosekTools.Optimizer}, MathOptInterface.Utilities.UniversalFallback{MathOptInterface.Utilities.Model{Float64}}}\u001b[39m\u001b[0m\u001b[1m)\u001b[22m\n    \u001b[90m    @\u001b[39m \u001b[35mMathOptInterface.Utilities\u001b[39m \u001b[90m~/.julia/packages/MathOptInterface/HB8aJ/src/Utilities/\u001b[39m\u001b[90m\u001b[4mcachingoptimizer.jl:321\u001b[24m\u001b[39m\n      [8] \u001b[0m\u001b[1moptimize!\u001b[22m\u001b[0m\u001b[1m(\u001b[22m\u001b[90mmodel\u001b[39m::\u001b[0mModel; \u001b[90mignore_optimize_hook\u001b[39m::\u001b[0mBool, \u001b[90m_differentiation_backend\u001b[39m::\u001b[0mMathOptInterface.Nonlinear.SparseReverseMode, \u001b[90mkwargs\u001b[39m::\u001b[0mBase.Pairs\u001b[90m{Symbol, Union{}, Tuple{}, NamedTuple{(), Tuple{}}}\u001b[39m\u001b[0m\u001b[1m)\u001b[22m\n    \u001b[90m    @\u001b[39m \u001b[36mJuMP\u001b[39m \u001b[90m~/.julia/packages/JuMP/V9nZm/src/\u001b[39m\u001b[90m\u001b[4moptimizer_interface.jl:595\u001b[24m\u001b[39m\n      [9] \u001b[0m\u001b[1moptimize!\u001b[22m\n    \u001b[90m    @\u001b[39m \u001b[90m~/.julia/packages/JuMP/V9nZm/src/\u001b[39m\u001b[90m\u001b[4moptimizer_interface.jl:546\u001b[24m\u001b[39m\u001b[90m [inlined]\u001b[39m\n     [10] \u001b[0m\u001b[1mbilo_pguess\u001b[22m\u001b[0m\u001b[1m(\u001b[22m\u001b[90mp\u001b[39m::\u001b[0mArray\u001b[90m{Float64, 5}\u001b[39m, \u001b[90mPA\u001b[39m::\u001b[0mMatrix\u001b[90m{Any}\u001b[39m, \u001b[90mPB\u001b[39m::\u001b[0mVector\u001b[90m{Any}\u001b[39m, \u001b[90mPC\u001b[39m::\u001b[0mMatrix\u001b[90m{Any}\u001b[39m, \u001b[90mPE\u001b[39m::\u001b[0mVector\u001b[90m{Any}\u001b[39m, \u001b[90mse\u001b[39m::\u001b[0mScalarExtension; \u001b[90mlevel\u001b[39m::\u001b[0mInt64, \u001b[90mx\u001b[39m::\u001b[0mInt64, \u001b[90my\u001b[39m::\u001b[0mInt64, \u001b[90mz\u001b[39m::\u001b[0mInt64, \u001b[90mverbose\u001b[39m::\u001b[0mBool\u001b[0m\u001b[1m)\u001b[22m\n    \u001b[90m    @\u001b[39m \u001b[36mMain\u001b[39m \u001b[90m./\u001b[39m\u001b[90m\u001b[4mIn[19]:50\u001b[24m\u001b[39m\n     [11] \u001b[0m\u001b[1mmacro expansion\u001b[22m\n    \u001b[90m    @\u001b[39m \u001b[90m./\u001b[39m\u001b[90m\u001b[4mIn[27]:17\u001b[24m\u001b[39m\u001b[90m [inlined]\u001b[39m\n     [12] \u001b[0m\u001b[1m(::var\"#547#threadsfor_fun#210\"{var\"#547#threadsfor_fun#209#211\"{UnitRange{Int64}}})\u001b[22m\u001b[0m\u001b[1m(\u001b[22m\u001b[90mtid\u001b[39m::\u001b[0mInt64; \u001b[90monethread\u001b[39m::\u001b[0mBool\u001b[0m\u001b[1m)\u001b[22m\n    \u001b[90m    @\u001b[39m \u001b[36mMain\u001b[39m \u001b[90m./\u001b[39m\u001b[90m\u001b[4mthreadingconstructs.jl:163\u001b[24m\u001b[39m\n     [13] \u001b[0m\u001b[1m#547#threadsfor_fun\u001b[22m\n    \u001b[90m    @\u001b[39m \u001b[90m./\u001b[39m\u001b[90m\u001b[4mthreadingconstructs.jl:130\u001b[24m\u001b[39m\u001b[90m [inlined]\u001b[39m\n     [14] \u001b[0m\u001b[1m(::Base.Threads.var\"#1#2\"{var\"#547#threadsfor_fun#210\"{var\"#547#threadsfor_fun#209#211\"{UnitRange{Int64}}}, Int64})\u001b[22m\u001b[0m\u001b[1m(\u001b[22m\u001b[0m\u001b[1m)\u001b[22m\n    \u001b[90m    @\u001b[39m \u001b[90mBase.Threads\u001b[39m \u001b[90m./\u001b[39m\u001b[90m\u001b[4mthreadingconstructs.jl:108\u001b[24m\u001b[39m",
      "",
      "Stacktrace:",
      " [1] threading_run(fun::var\"#547#threadsfor_fun#210\"{var\"#547#threadsfor_fun#209#211\"{UnitRange{Int64}}}, static::Bool)",
      "   @ Base.Threads ./threadingconstructs.jl:120",
      " [2] top-level scope",
      "   @ ./threadingconstructs.jl:168"
     ]
    }
   ],
   "source": [
    "# Monte Carlo for guessing probabilities\n",
    "\n",
    "N = length(distr_keys)\n",
    "n_sample = 50\n",
    "exp_pgs = ones((N,n_sample))\n",
    "exp_pg_avg = ones(N)\n",
    "exp_pg_std = ones(N)\n",
    "level = 3\n",
    "@threads for i=1:N\n",
    "    mc_distr = exp_data_cc[distr_keys[i]]\n",
    "    for j=1:n_sample\n",
    "        praw = mc_distr[j,:,:,:,:,1,:]\n",
    "        p = NS_constraint(praw) # Imposing the no-signaling constraints \n",
    "\n",
    "        #pg = bilo_pguess(p, PA, PB_14, PC, PE1, PF1, se_14_double_AC; level=level, x=1, z=1) # Double eavesdropper guessing A and C\n",
    "        #pg = bilo_pguess(p, PA, PB_14, PC, PE2, PF2, se_14_double_ABC; level=level, x=1, z=1) # Double eavesdropper guessing A, B, and C\n",
    "        pg = bilo_pguess(p, PA, PB_14, PC, PE4, se_14_strong; level=level, x=1, z=1) # Strong eavesdropper guessing A, B, C\n",
    "        \n",
    "        exp_pgs[i,j] = pg\n",
    "    end\n",
    "    exp_pg_avg[i] = sum(exp_pgs[i,:])./n_sample # Average guessing probability\n",
    "    exp_pg_std[i] = sqrt(sum((exp_pgs[i,:] .- exp_pg_avg[i]).^2) / (n_sample - 1)) # Standard deviation\n",
    "    print(\"\\r $i/$N -> Pguess[$i] = $(exp_pg_avg[i]) +/- $(exp_pg_std[i])\")\n",
    "end\n",
    "\n"
   ]
  },
  {
   "cell_type": "markdown",
   "id": "9f3342cc-ef49-4334-9084-73b37beffa13",
   "metadata": {},
   "source": [
    "## Theoretical model"
   ]
  },
  {
   "cell_type": "markdown",
   "id": "a1e8bb7b-14c9-4713-b626-8f0588733fcd",
   "metadata": {},
   "source": [
    "The theoretical model we use to simulate the experimental distributions has to take into account two main aspects:\n",
    "- Imperfect state generation: the quantum state of the photon pairs generated by the SPDC source can be modeled by adding both white and colored noise, obtaining a density matrix of the form\n",
    "    \\begin{equation}\n",
    "      \\rho = v \\ket{\\Psi^-}\\bra{\\Psi^-} + (1-v) \\left[ \\frac{c}{2} (\\ket{\\Psi^-}\\bra{\\Psi^-} + \\ket{\\Psi^+}\\bra{\\Psi^+}) + (1-c) \\frac{\\mathbb{1}}{4} \\right]\n",
    "    \\end{equation}  \n",
    "- Imperfect Bell state measurement: due to the partial indistinguishability of the photons incoming at Bob's measurement station, the actual measurement, instead of being a BSM, is described by the following effective POVMs\n",
    "    \\begin{equation}\n",
    "        \\begin{aligned}\n",
    "           & \\ket{\\Phi^+}\\bra{\\Phi^+} \\longrightarrow \\hat{F}_1 = \\frac{1-p}{2} \\ket{\\Phi^-}\\bra{\\Phi^-} + \\frac{1+p}{2}\\ket{\\Phi^+}\\bra{\\Phi^+},\\\\\n",
    "           & \\ket{\\Phi^-}\\bra{\\Phi^-} \\longrightarrow \\hat{F}_2 = \\frac{1+p}{2} \\ket{\\Phi^-}\\bra{\\Phi^-} + \\frac{1-p}{2}\\ket{\\Phi^+}\\bra{\\Phi^+},\\\\\n",
    "           & \\ket{\\Psi^+}\\bra{\\Psi^+} \\longrightarrow \\hat{F}_3 = \\frac{1-p}{2} \\ket{\\Psi^-}\\bra{\\Psi^-} + \\frac{1+p}{2}\\ket{\\Psi^+}\\bra{\\Psi^+},\\\\\n",
    "           & \\ket{\\Psi^-}\\bra{\\Psi^-} \\longrightarrow \\hat{F}_4 = \\frac{1+p}{2} \\ket{\\Psi^-}\\bra{\\Psi^-} + \\frac{1-p}{2}\\ket{\\Psi^+}\\bra{\\Psi^+}.\n",
    "        \\end{aligned}\n",
    "    \\end{equation}\n",
    "\n",
    "\n",
    "To simulate the [experiment](https://www.nature.com/articles/ncomms14775), we set the parameters $v$ and $p$ to their experimental values $v_{exp}=0.89$ and $c_{exp}=0.33$, while $p$ is changed in the range [0,1]."
   ]
  },
  {
   "cell_type": "code",
   "execution_count": 17,
   "id": "658b49f3-cf69-454e-8853-5e50049a446f",
   "metadata": {},
   "outputs": [],
   "source": [
    "teo_data = npzread(\"data/Punti_teo.npz\");\n",
    "viol = teo_data[\"BRGP_teo\"];\n",
    "distrs = teo_data[\"distr_teo\"];"
   ]
  },
  {
   "cell_type": "code",
   "execution_count": 21,
   "id": "97769b4a-4ec9-423c-a1bc-a299f646dca7",
   "metadata": {},
   "outputs": [
    {
     "name": "stdout",
     "output_type": "stream",
     "text": [
      " 1/30 -> Pguess[1] = 0.4580578609703012"
     ]
    }
   ],
   "source": [
    "N = 30\n",
    "v_exp = 0.89\n",
    "c_exp = 0.33\n",
    "p_inds = range(0, 1, 10) # Indistinguishability parameter\n",
    "level = 3\n",
    "\n",
    "teo_pgs = ones(N)\n",
    "teo_BRGP = zeros(N)\n",
    "\n",
    "@threads for (i, p_ind) ∈ collect(enumerate([1]))\n",
    "    p = distrs[30,:,:,:,:,1,:]\n",
    "    #pg = bilo_pguess(p, PA, PB_14, PC, PE1, PF1, se_14_double_AC; level=level, x=1, z=1) # Double eavesdropper guessing A and C\n",
    "    pg = bilo_pguess(p, PA, PB_14, PC, PE2, PF2, se_14_double_ABC; level=level, x=1, z=1) # Double eavesdropper guessing A, B, and C\n",
    "    #pg = bilo_pguess(p, PA, PB_14, PC, PE2, se_14_strong; level=level, x=1, z=1) # Strong eavesdropper guessing A, C\n",
    "        \n",
    "    teo_pgs[i] = pg\n",
    "    #teo_BRGP[i] = BRGP(p)\n",
    "    print(\"\\r $i/$N -> Pguess[$i] = $pg\")\n",
    "end"
   ]
  },
  {
   "cell_type": "markdown",
   "id": "2ebd2be0-78b5-4eff-9176-3f5c01fa02c3",
   "metadata": {},
   "source": [
    "# Tilted strategies"
   ]
  },
  {
   "cell_type": "markdown",
   "id": "e6ccfb92-57ba-443e-a4ed-ebb2d22b5007",
   "metadata": {},
   "source": [
    "These strategies employ different measurements on the external nodes. In particular, we define the following operators, parametrized by $\\delta$:\n",
    "\\begin{equation}\n",
    "    \\begin{aligned}\n",
    "    & A_0 = \\sigma_x \\qquad C_0 = \\sigma_z\\\\\n",
    "    & A_1 = \\cos{(\\delta)} \\sigma_x - \\sin{(\\delta)} \\sigma_z \\qquad C_1 = \\cos{(\\delta)} \\sigma_z - \\sin{(\\delta)} \\sigma_x\n",
    "    \\end{aligned}\n",
    "\\end{equation}\n",
    "\n",
    "For what concerns the measurement on the central node we consider two possible strategies:\n",
    "- (1,4): where Bob performs the standard BSM\n",
    "- (2,4): where Bob's measurements have 2 settings, consisting in standard BSM and rotated BSM, where the latter is defined as the projections on the basis $\\mathcal{B}_{\\theta} = \\{\\cos{\\theta} \\ket{00} + \\sin{\\theta} \\ket{11}, \\cos{\\theta} \\ket{00} - \\sin{\\theta} \\ket{11}, \\cos{\\theta} \\ket{01} + \\sin{\\theta} \\ket{10}, \\cos{\\theta} \\ket{01} - \\sin{\\theta} \\ket{10} \\}$"
   ]
  },
  {
   "cell_type": "markdown",
   "id": "fd8d781f-63d9-4c68-9b9b-fa682509d9db",
   "metadata": {},
   "source": [
    "## (1, 4) measurement strategy"
   ]
  },
  {
   "cell_type": "markdown",
   "id": "9cbd0421-fbfa-4294-9ef3-31881cd1822d",
   "metadata": {},
   "source": [
    "#### Guessing probability for $\\delta = \\pi/6, v \\in [0.7,1]$"
   ]
  },
  {
   "cell_type": "code",
   "execution_count": 111,
   "id": "e1acade5-1efa-40f2-9e57-8a6b709007f7",
   "metadata": {},
   "outputs": [
    {
     "name": "stdout",
     "output_type": "stream",
     "text": [
      " v = 1\tPg = 0.06286344044997592"
     ]
    }
   ],
   "source": [
    "M = 20\n",
    "level = 4\n",
    "\n",
    "vs = collect(0.7:0.3/M:1.0)\n",
    "δ = π/6\n",
    "pgs = ones(length(vs))\n",
    "@threads for (i,v) ∈ collect(enumerate([1]))\n",
    "    p = p_bilocality_wbell1(δ, v=v)\n",
    "    #pg = bilo_pguess(p, PA, PB_14, PC, PE4, se_14_strong; level=level, x=1, z=1) # Strong eavesdropper\n",
    "    pg = bilo_pguess(p, PA, PB_14, PC, PE2, PF2, se_14_double_ABC, level=level, x=1, z=1) # Double eavesdropper\n",
    "    print(\"\\r v = $v\\tPg = $pg\")\n",
    "    pgs[i] = pg\n",
    "end"
   ]
  },
  {
   "cell_type": "markdown",
   "id": "5305ce39-9498-46a7-90ea-4701455ec6fc",
   "metadata": {},
   "source": [
    "#### Guessing probability for $\\delta \\in [0, \\pi/6], v \\in [0.7, 1]$"
   ]
  },
  {
   "cell_type": "code",
   "execution_count": null,
   "id": "b7da3440-b08e-430b-9757-f57d20409e68",
   "metadata": {},
   "outputs": [],
   "source": [
    "N, M = 5, 20\n",
    "level = 4\n",
    "#PE = PE2\n",
    "PE = PE4\n",
    "ebits = Int(log2(size(PE)[1]))\n",
    "\n",
    "vs = collect(0.7:0.3/M:1.0)\n",
    "δs = collect(π/10:π/(10*N):π/5)\n",
    "pgs_wtilted1 = ones((length(vs),length(δs)))\n",
    "@threads for (i,v) ∈ collect(enumerate(vs))\n",
    "    for (j,δ) ∈ collect(enumerate(δs))\n",
    "        p = p_bilocality_wbell1(δ, v=v)\n",
    "        pg = bilo_pguess(p, PA, PB, PC, PE, se; level=level, x=1, z=1)\n",
    "        print(\"\\r v = $v\\tδ = $δ\\tPg = $pg\")\n",
    "        pgs_wtilted1[i,j] = pg\n",
    "    end\n",
    "end"
   ]
  },
  {
   "cell_type": "markdown",
   "id": "7eddd784-bd22-42e9-bb7f-13b420d53a8c",
   "metadata": {},
   "source": [
    "## (2,4) measurement strategy"
   ]
  },
  {
   "cell_type": "markdown",
   "id": "4ce1a0f5-28d4-43d4-9585-c82253d1fa24",
   "metadata": {},
   "source": [
    "#### Strong-Eavesdropper"
   ]
  },
  {
   "cell_type": "code",
   "execution_count": 12,
   "id": "51a2fb88-114a-4c99-ab5c-fe2be6653179",
   "metadata": {},
   "outputs": [],
   "source": [
    "# Define projectors corresponding to the three parties measurements\n",
    "PA = projector('A', 1:2, 1:2, full=true);\n",
    "PB_24= projector('B', 1:4, 1:2, full=true);\n",
    "PC = projector('C', 1:2, 1:2, full=true);"
   ]
  },
  {
   "cell_type": "code",
   "execution_count": 13,
   "id": "f114d5b5-689d-4e85-94e9-ff5d8c1b4496",
   "metadata": {},
   "outputs": [],
   "source": [
    "# Define projectors corresponding to the eavesdropper measurements\n",
    "PE2 = projector('D', 1:4, 1, full=true); # E guessing AC\n",
    "PE4 = projector('D', 1:16, 1, full=true); # E guessing ABC\n",
    "\n",
    "l = 5 # Order of the product of the scalar variables\n",
    "con = separability_structure([\"A\", \"B\", \"C\", \"D\"], (\"A\",\"C\")); # Separability constraints\n",
    "vars = generate_projective_scvar(PA, l, swapped=true); # Scalar variables\n",
    "se_24_strong = ScalarExtension(vars, con); # Scalar Extension"
   ]
  },
  {
   "cell_type": "code",
   "execution_count": 17,
   "id": "f3205974-dcab-4632-88fb-fcf2120e4c22",
   "metadata": {},
   "outputs": [
    {
     "name": "stderr",
     "output_type": "stream",
     "text": [
      "\u001b[91m\u001b[1m┌ \u001b[22m\u001b[39m\u001b[91m\u001b[1mError: \u001b[22m\u001b[39mContradiction Id = 0 in equality constraints.\n",
      "\u001b[91m\u001b[1m└ \u001b[22m\u001b[39m\u001b[90m@ Main.QuantumNPA ~/Desktop/Tesi magistrale/ScalarExtension/giorgio_randomness/scalar extension julia/network_randomness-master/quantumnpa-scalar_extension/src/ops_scalar.jl:312\u001b[39m\n",
      "WARNING: Force throwing a SIGINT\n"
     ]
    },
    {
     "ename": "LoadError",
     "evalue": "SYSTEM: show(lasterr) caused an error",
     "output_type": "error",
     "traceback": [
      "SYSTEM: show(lasterr) caused an error",
      "",
      "Stacktrace:",
      " [1] threading_run(fun::var\"#417#threadsfor_fun#105\"{var\"#417#threadsfor_fun#104#106\"{Vector{Tuple{Tuple{Int64, Float64}, Tuple{Int64, Float64}}}}}, static::Bool)",
      "   @ Base.Threads ./threadingconstructs.jl:120",
      " [2] top-level scope",
      "   @ ./threadingconstructs.jl:168"
     ]
    }
   ],
   "source": [
    "N, M = 10, 10\n",
    "δ_interval = [0.1, π/6-.1]\n",
    "θ_interval = [0, π/2]\n",
    "level = 4\n",
    "\n",
    "δs = collect(δ_interval[1]:(δ_interval[2]-δ_interval[1])/N:δ_interval[2])\n",
    "θs = collect(θ_interval[1]:(θ_interval[2]-θ_interval[1])/M:θ_interval[2])\n",
    "pgs_tiltedBSM1 = ones((length(δs),length(θs)))\n",
    "\n",
    "@threads for ((i,δ), (j,θ)) ∈ collect(Iterators.product(enumerate([δ_interval[2]]), enumerate(θ_interval[2])))\n",
    "    p = p_bilocality_24_wtiltedBSM(δ, θ)\n",
    "    pg = bilo_pguess(p, PA, PB_24, PC, PE4, se_24_strong; level=level, x=1, y=1, z=1) # Strong eavesdropper\n",
    "    \n",
    "    # Note: it is not necessary to compute the guessing probability for the Double eavesdropper scenario with the (2,4) strategy,\n",
    "    # as the (1,4) strategy already suffices to reach the logical maximum of 4 bits\n",
    "    \n",
    "    print(\"\\r δ = $δ\\tφ = $φ\\tPg = $pg\")\n",
    "    pgs_tiltedBSM1[i,j] = pg\n",
    "end"
   ]
  },
  {
   "cell_type": "code",
   "execution_count": 18,
   "id": "1ee62084-d819-4449-b427-eac56aed9f05",
   "metadata": {},
   "outputs": [
    {
     "ename": "InterruptException",
     "evalue": "InterruptException:",
     "output_type": "error",
     "traceback": [
      "InterruptException:",
      "",
      "Stacktrace:",
      " [1] execute_request(socket::ZMQ.Socket, msg::IJulia.Msg)",
      "   @ IJulia ~/.julia/packages/IJulia/6TIq1/src/execute_request.jl:107",
      " [2] #invokelatest#2",
      "   @ ./essentials.jl:816 [inlined]",
      " [3] invokelatest",
      "   @ ./essentials.jl:813 [inlined]",
      " [4] eventloop(socket::ZMQ.Socket)",
      "   @ IJulia ~/.julia/packages/IJulia/6TIq1/src/eventloop.jl:8",
      " [5] (::IJulia.var\"#15#18\")()",
      "   @ IJulia ./task.jl:514"
     ]
    }
   ],
   "source": [
    "-log2(pgs_tiltedBSM1[1,1])"
   ]
  },
  {
   "cell_type": "markdown",
   "id": "7c75ef51-f18e-4c97-971c-44ed8a71f4ea",
   "metadata": {},
   "source": [
    "# ALTRO"
   ]
  },
  {
   "cell_type": "markdown",
   "id": "e7e2c75b-695f-46e4-b1ef-eafe2cc1d955",
   "metadata": {},
   "source": [
    "## 22 Case"
   ]
  },
  {
   "cell_type": "code",
   "execution_count": null,
   "id": "13138459-a86a-48cb-80ec-96356a943ba8",
   "metadata": {},
   "outputs": [],
   "source": []
  },
  {
   "cell_type": "code",
   "execution_count": 105,
   "id": "91ebb8db-5be2-48b0-b417-dde8c2681244",
   "metadata": {},
   "outputs": [],
   "source": [
    "B = [bell_state(k) for k=1:4]\n",
    "A = σt(0, π/2)\n",
    "#A = σt(π/4, -π/4)\n",
    "C = σt(π/4, -π/4)\n",
    "B = [[kron(B1[1], B2[1]) + kron(B1[2], B2[2]),\n",
    "      kron(B1[1], B2[2]) + kron(B1[2], B2[1])]\n",
    "        for (B1, B2) in zip(σt(0, π/2), σt(0, π/2))]\n",
    "\n",
    "p = p_bilocality(A, B, C, ρ2_bell(1, 1));\n",
    "#log2(maximum(sum(p, dims=2)))\n",
    "#log2(maximum(p))"
   ]
  },
  {
   "cell_type": "code",
   "execution_count": 106,
   "id": "1eaedaae-4319-4bdd-8fab-0e7c483b4084",
   "metadata": {},
   "outputs": [
    {
     "data": {
      "text/plain": [
       "2.2284466968363876"
      ]
     },
     "execution_count": 106,
     "metadata": {},
     "output_type": "execute_result"
    }
   ],
   "source": [
    "-log2(maximum(p))"
   ]
  },
  {
   "cell_type": "code",
   "execution_count": 107,
   "id": "498a5f2c-212c-4a42-a5cf-1715e6ae9aaf",
   "metadata": {
    "scrolled": true
   },
   "outputs": [
    {
     "data": {
      "text/plain": [
       "-1.228446696836389"
      ]
     },
     "execution_count": 107,
     "metadata": {},
     "output_type": "execute_result"
    }
   ],
   "source": [
    "log2(sum([maximum(p[:,b,:,1,1,1]) for b=1:2]))"
   ]
  },
  {
   "cell_type": "code",
   "execution_count": 113,
   "id": "d34037fe-05bd-4fe7-bc8a-eba98b243f98",
   "metadata": {},
   "outputs": [
    {
     "data": {
      "text/plain": [
       "2×2 Matrix{Any}:\n",
       " PC1|1       PC1|2\n",
       " Id - PC1|1  Id - PC1|2"
      ]
     },
     "execution_count": 113,
     "metadata": {},
     "output_type": "execute_result"
    }
   ],
   "source": [
    "PA = projector('A', 1:2, 1:2, full=true)\n",
    "PB = projector('B', 1:2, 1:2, full=true)\n",
    "PC = projector('C', 1:2, 1:2, full=true)"
   ]
  },
  {
   "cell_type": "code",
   "execution_count": 115,
   "id": "37339aff-9a0e-48b0-ad3b-78bf847d13cb",
   "metadata": {},
   "outputs": [
    {
     "data": {
      "text/plain": [
       "0.25009290427079156"
      ]
     },
     "execution_count": 115,
     "metadata": {},
     "output_type": "execute_result"
    }
   ],
   "source": [
    "pg = bilo_pguess(p, PA, PB, PC, PE1, PF2, se, level=4, x=1, z=1)"
   ]
  },
  {
   "cell_type": "code",
   "execution_count": 109,
   "id": "cbfd00f4-3910-4d24-aff1-fe0e009f2339",
   "metadata": {},
   "outputs": [
    {
     "data": {
      "text/plain": [
       "ScalarExtension(Dict{Monomial, Monomial}(PA1|2 PA1|1 => <PA1|2 PA1|1>, PA1|2 PA1|1 PA1|2 => <PA1|2 PA1|1 PA1|2>, PA1|1 PA1|2 PA1|1 => <PA1|1 PA1|2 PA1|1>, PA1|1 PA1|2 => <PA1|1 PA1|2>), Set([(2, 4), (1, 2), (3, 4), (1, 4), (2, 3)]))"
      ]
     },
     "execution_count": 109,
     "metadata": {},
     "output_type": "execute_result"
    }
   ],
   "source": [
    "PE2 = projector('D', 1:4, 1, full=true) # Eve guessing AC\n",
    "PE3 = projector('D', 1:8, 1, full=true) # Eve guessing ABC\n",
    "\n",
    "# Define scalar variables\n",
    "con = separability_structure([\"A\", \"B\", \"C\", \"D\"], (\"A\",\"C\"));\n",
    "vars = generate_projective_scvar(PA, 3, swapped=true)#, var_symbols=(\"α\",\"β\"))\n",
    "se = ScalarExtension(vars, con)"
   ]
  },
  {
   "cell_type": "code",
   "execution_count": 110,
   "id": "c7e2b2b2-c4b6-44d5-ad19-1414949d894a",
   "metadata": {},
   "outputs": [
    {
     "data": {
      "text/plain": [
       "0.42694853409686173"
      ]
     },
     "execution_count": 110,
     "metadata": {},
     "output_type": "execute_result"
    }
   ],
   "source": [
    "pg = bilo_pguess(p, PA, PB, PC, PE3, se, level=4, x=1, z=1)"
   ]
  },
  {
   "cell_type": "code",
   "execution_count": 112,
   "id": "427a53e5-9ab4-4ccf-8fc7-c5f9ffb5860f",
   "metadata": {},
   "outputs": [
    {
     "data": {
      "text/plain": [
       "-1.2278659221802595"
      ]
     },
     "execution_count": 112,
     "metadata": {},
     "output_type": "execute_result"
    }
   ],
   "source": [
    "log2(pg)"
   ]
  },
  {
   "cell_type": "code",
   "execution_count": null,
   "id": "3a5950a3-c86c-44ff-89c6-f5cb3d1deec2",
   "metadata": {},
   "outputs": [],
   "source": [
    "N = 10\n",
    "δ_interval = [0.1, π/6-.1]\n",
    "level = 4\n",
    "#PE = PE2\n",
    "PE = PE3\n",
    "ebits = Int(log2(size(PE)[1]))\n",
    "\n",
    "δs = collect(δ_interval[1]:(δ_interval[2]-δ_interval[1])/N:δ_interval[2])\n",
    "pgs_22_wtilted = ones(length(δs))\n",
    "\n",
    "@threads for (i,δ) ∈ collect(enumerate(δs))\n",
    "    p = p_bilocality_22_wtilted(δ)\n",
    "    pg = bilo_pguess(p, PA, PB, PC, PE, se; level=level, x=1, z=1)\n",
    "    print(\"\\r δ = $δ\\tPg = $pg\")\n",
    "    pgs_22_wtilted[i] = pg\n",
    "end"
   ]
  },
  {
   "cell_type": "code",
   "execution_count": 47,
   "id": "3bf13b29-c3d7-46e9-b62d-18e0332a2599",
   "metadata": {},
   "outputs": [],
   "source": [
    "ebits = Int(log2(size(PE)[1]))\n",
    "open(\"data/pguess_vs_δ_bilo22_eve$(ebits)_npa$(level)_x1y1.txt\", \"w\") do io\n",
    "    writedlm(io, [pgs_22_wtilted, δs])\n",
    "end"
   ]
  },
  {
   "cell_type": "code",
   "execution_count": 45,
   "id": "ecf33508-1fb6-4fb4-90af-607b07fd1a4a",
   "metadata": {},
   "outputs": [
    {
     "data": {
      "text/plain": [
       "1.4143730834451167"
      ]
     },
     "execution_count": 45,
     "metadata": {},
     "output_type": "execute_result"
    }
   ],
   "source": [
    "maximum(-log2.(pgs_22_wtilted))"
   ]
  },
  {
   "cell_type": "markdown",
   "id": "60259dea-7bea-4f8e-94ed-f68e2e05c066",
   "metadata": {},
   "source": [
    "#### Plot"
   ]
  },
  {
   "cell_type": "code",
   "execution_count": 48,
   "id": "526ac9c6-2421-4faa-bb12-d80a1dae01bd",
   "metadata": {},
   "outputs": [
    {
     "data": {
      "image/png": "[encoded data removed]",
      "image/svg+xml": [
       "<?xml version=\"1.0\" encoding=\"utf-8\"?>\n",
       "<svg xmlns=\"http://www.w3.org/2000/svg\" xmlns:xlink=\"http://www.w3.org/1999/xlink\" width=\"600\" height=\"400\" viewBox=\"0 0 2400 1600\">\n",
       "<defs>\n",
       "  <clipPath id=\"clip500\">\n",
       "    <rect x=\"0\" y=\"0\" width=\"2400\" height=\"1600\"/>\n",
       "  </clipPath>\n",
       "</defs>\n",
       "<path clip-path=\"url(#clip500)\" d=\"M0 1600 L2400 1600 L2400 0 L0 0  Z\" fill=\"#ffffff\" fill-rule=\"evenodd\" fill-opacity=\"1\"/>\n",
       "<defs>\n",
       "  <clipPath id=\"clip501\">\n",
       "    <rect x=\"480\" y=\"0\" width=\"1681\" height=\"1600\"/>\n",
       "  </clipPath>\n",
       "</defs>\n",
       "<path clip-path=\"url(#clip500)\" d=\"M337.944 1423.18 L2352.76 1423.18 L2352.76 47.2441 L337.944 47.2441  Z\" fill=\"#ffffff\" fill-rule=\"evenodd\" fill-opacity=\"1\"/>\n",
       "<defs>\n",
       "  <clipPath id=\"clip502\">\n",
       "    <rect x=\"337\" y=\"47\" width=\"2016\" height=\"1377\"/>\n",
       "  </clipPath>\n",
       "</defs>\n",
       "<polyline clip-path=\"url(#clip502)\" style=\"stroke:#000000; stroke-linecap:round; stroke-linejoin:round; stroke-width:2; stroke-opacity:0.1; fill:none\" points=\"394.967,1423.18 394.967,47.2441 \"/>\n",
       "<polyline clip-path=\"url(#clip502)\" style=\"stroke:#000000; stroke-linecap:round; stroke-linejoin:round; stroke-width:2; stroke-opacity:0.1; fill:none\" points=\"982.351,1423.18 982.351,47.2441 \"/>\n",
       "<polyline clip-path=\"url(#clip502)\" style=\"stroke:#000000; stroke-linecap:round; stroke-linejoin:round; stroke-width:2; stroke-opacity:0.1; fill:none\" points=\"1569.73,1423.18 1569.73,47.2441 \"/>\n",
       "<polyline clip-path=\"url(#clip502)\" style=\"stroke:#000000; stroke-linecap:round; stroke-linejoin:round; stroke-width:2; stroke-opacity:0.1; fill:none\" points=\"2157.12,1423.18 2157.12,47.2441 \"/>\n",
       "<polyline clip-path=\"url(#clip500)\" style=\"stroke:#000000; stroke-linecap:round; stroke-linejoin:round; stroke-width:4; stroke-opacity:1; fill:none\" points=\"337.944,1423.18 2352.76,1423.18 \"/>\n",
       "<polyline clip-path=\"url(#clip500)\" style=\"stroke:#000000; stroke-linecap:round; stroke-linejoin:round; stroke-width:4; stroke-opacity:1; fill:none\" points=\"394.967,1423.18 394.967,1404.28 \"/>\n",
       "<polyline clip-path=\"url(#clip500)\" style=\"stroke:#000000; stroke-linecap:round; stroke-linejoin:round; stroke-width:4; stroke-opacity:1; fill:none\" points=\"982.351,1423.18 982.351,1404.28 \"/>\n",
       "<polyline clip-path=\"url(#clip500)\" style=\"stroke:#000000; stroke-linecap:round; stroke-linejoin:round; stroke-width:4; stroke-opacity:1; fill:none\" points=\"1569.73,1423.18 1569.73,1404.28 \"/>\n",
       "<polyline clip-path=\"url(#clip500)\" style=\"stroke:#000000; stroke-linecap:round; stroke-linejoin:round; stroke-width:4; stroke-opacity:1; fill:none\" points=\"2157.12,1423.18 2157.12,1404.28 \"/>\n",
       "<path clip-path=\"url(#clip500)\" d=\"M372.965 1454.1 Q369.354 1454.1 367.525 1457.66 Q365.72 1461.2 365.72 1468.33 Q365.72 1475.44 367.525 1479.01 Q369.354 1482.55 372.965 1482.55 Q376.599 1482.55 378.405 1479.01 Q380.234 1475.44 380.234 1468.33 Q380.234 1461.2 378.405 1457.66 Q376.599 1454.1 372.965 1454.1 M372.965 1450.39 Q378.775 1450.39 381.831 1455 Q384.909 1459.58 384.909 1468.33 Q384.909 1477.06 381.831 1481.67 Q378.775 1486.25 372.965 1486.25 Q367.155 1486.25 364.076 1481.67 Q361.021 1477.06 361.021 1468.33 Q361.021 1459.58 364.076 1455 Q367.155 1450.39 372.965 1450.39 Z\" fill=\"#000000\" fill-rule=\"nonzero\" fill-opacity=\"1\" /><path clip-path=\"url(#clip500)\" d=\"M393.127 1479.7 L398.011 1479.7 L398.011 1485.58 L393.127 1485.58 L393.127 1479.7 Z\" fill=\"#000000\" fill-rule=\"nonzero\" fill-opacity=\"1\" /><path clip-path=\"url(#clip500)\" d=\"M409.007 1481.64 L416.645 1481.64 L416.645 1455.28 L408.335 1456.95 L408.335 1452.69 L416.599 1451.02 L421.275 1451.02 L421.275 1481.64 L428.914 1481.64 L428.914 1485.58 L409.007 1485.58 L409.007 1481.64 Z\" fill=\"#000000\" fill-rule=\"nonzero\" fill-opacity=\"1\" /><path clip-path=\"url(#clip500)\" d=\"M960.534 1454.1 Q956.923 1454.1 955.094 1457.66 Q953.288 1461.2 953.288 1468.33 Q953.288 1475.44 955.094 1479.01 Q956.923 1482.55 960.534 1482.55 Q964.168 1482.55 965.974 1479.01 Q967.802 1475.44 967.802 1468.33 Q967.802 1461.2 965.974 1457.66 Q964.168 1454.1 960.534 1454.1 M960.534 1450.39 Q966.344 1450.39 969.399 1455 Q972.478 1459.58 972.478 1468.33 Q972.478 1477.06 969.399 1481.67 Q966.344 1486.25 960.534 1486.25 Q954.724 1486.25 951.645 1481.67 Q948.589 1477.06 948.589 1468.33 Q948.589 1459.58 951.645 1455 Q954.724 1450.39 960.534 1450.39 Z\" fill=\"#000000\" fill-rule=\"nonzero\" fill-opacity=\"1\" /><path clip-path=\"url(#clip500)\" d=\"M980.696 1479.7 L985.58 1479.7 L985.58 1485.58 L980.696 1485.58 L980.696 1479.7 Z\" fill=\"#000000\" fill-rule=\"nonzero\" fill-opacity=\"1\" /><path clip-path=\"url(#clip500)\" d=\"M999.793 1481.64 L1016.11 1481.64 L1016.11 1485.58 L994.168 1485.58 L994.168 1481.64 Q996.83 1478.89 1001.41 1474.26 Q1006.02 1469.61 1007.2 1468.27 Q1009.45 1465.74 1010.33 1464.01 Q1011.23 1462.25 1011.23 1460.56 Q1011.23 1457.8 1009.28 1456.07 Q1007.36 1454.33 1004.26 1454.33 Q1002.06 1454.33 999.608 1455.09 Q997.177 1455.86 994.399 1457.41 L994.399 1452.69 Q997.223 1451.55 999.677 1450.97 Q1002.13 1450.39 1004.17 1450.39 Q1009.54 1450.39 1012.73 1453.08 Q1015.93 1455.77 1015.93 1460.26 Q1015.93 1462.39 1015.12 1464.31 Q1014.33 1466.2 1012.22 1468.8 Q1011.64 1469.47 1008.54 1472.69 Q1005.44 1475.88 999.793 1481.64 Z\" fill=\"#000000\" fill-rule=\"nonzero\" fill-opacity=\"1\" /><path clip-path=\"url(#clip500)\" d=\"M1547.44 1454.1 Q1543.83 1454.1 1542 1457.66 Q1540.2 1461.2 1540.2 1468.33 Q1540.2 1475.44 1542 1479.01 Q1543.83 1482.55 1547.44 1482.55 Q1551.08 1482.55 1552.88 1479.01 Q1554.71 1475.44 1554.71 1468.33 Q1554.71 1461.2 1552.88 1457.66 Q1551.08 1454.1 1547.44 1454.1 M1547.44 1450.39 Q1553.25 1450.39 1556.31 1455 Q1559.39 1459.58 1559.39 1468.33 Q1559.39 1477.06 1556.31 1481.67 Q1553.25 1486.25 1547.44 1486.25 Q1541.63 1486.25 1538.55 1481.67 Q1535.5 1477.06 1535.5 1468.33 Q1535.5 1459.58 1538.55 1455 Q1541.63 1450.39 1547.44 1450.39 Z\" fill=\"#000000\" fill-rule=\"nonzero\" fill-opacity=\"1\" /><path clip-path=\"url(#clip500)\" d=\"M1567.6 1479.7 L1572.49 1479.7 L1572.49 1485.58 L1567.6 1485.58 L1567.6 1479.7 Z\" fill=\"#000000\" fill-rule=\"nonzero\" fill-opacity=\"1\" /><path clip-path=\"url(#clip500)\" d=\"M1596.84 1466.95 Q1600.2 1467.66 1602.07 1469.93 Q1603.97 1472.2 1603.97 1475.53 Q1603.97 1480.65 1600.45 1483.45 Q1596.93 1486.25 1590.45 1486.25 Q1588.28 1486.25 1585.96 1485.81 Q1583.67 1485.39 1581.22 1484.54 L1581.22 1480.02 Q1583.16 1481.16 1585.47 1481.74 Q1587.79 1482.32 1590.31 1482.32 Q1594.71 1482.32 1597 1480.58 Q1599.32 1478.84 1599.32 1475.53 Q1599.32 1472.48 1597.16 1470.77 Q1595.03 1469.03 1591.22 1469.03 L1587.19 1469.03 L1587.19 1465.19 L1591.4 1465.19 Q1594.85 1465.19 1596.68 1463.82 Q1598.51 1462.43 1598.51 1459.84 Q1598.51 1457.18 1596.61 1455.77 Q1594.73 1454.33 1591.22 1454.33 Q1589.29 1454.33 1587.1 1454.75 Q1584.9 1455.16 1582.26 1456.04 L1582.26 1451.88 Q1584.92 1451.14 1587.23 1450.77 Q1589.57 1450.39 1591.63 1450.39 Q1596.96 1450.39 1600.06 1452.83 Q1603.16 1455.23 1603.16 1459.35 Q1603.16 1462.22 1601.52 1464.21 Q1599.87 1466.18 1596.84 1466.95 Z\" fill=\"#000000\" fill-rule=\"nonzero\" fill-opacity=\"1\" /><path clip-path=\"url(#clip500)\" d=\"M2134.26 1454.1 Q2130.65 1454.1 2128.82 1457.66 Q2127.01 1461.2 2127.01 1468.33 Q2127.01 1475.44 2128.82 1479.01 Q2130.65 1482.55 2134.26 1482.55 Q2137.89 1482.55 2139.7 1479.01 Q2141.53 1475.44 2141.53 1468.33 Q2141.53 1461.2 2139.7 1457.66 Q2137.89 1454.1 2134.26 1454.1 M2134.26 1450.39 Q2140.07 1450.39 2143.12 1455 Q2146.2 1459.58 2146.2 1468.33 Q2146.2 1477.06 2143.12 1481.67 Q2140.07 1486.25 2134.26 1486.25 Q2128.45 1486.25 2125.37 1481.67 Q2122.31 1477.06 2122.31 1468.33 Q2122.31 1459.58 2125.37 1455 Q2128.45 1450.39 2134.26 1450.39 Z\" fill=\"#000000\" fill-rule=\"nonzero\" fill-opacity=\"1\" /><path clip-path=\"url(#clip500)\" d=\"M2154.42 1479.7 L2159.31 1479.7 L2159.31 1485.58 L2154.42 1485.58 L2154.42 1479.7 Z\" fill=\"#000000\" fill-rule=\"nonzero\" fill-opacity=\"1\" /><path clip-path=\"url(#clip500)\" d=\"M2182.34 1455.09 L2170.53 1473.54 L2182.34 1473.54 L2182.34 1455.09 M2181.11 1451.02 L2186.99 1451.02 L2186.99 1473.54 L2191.92 1473.54 L2191.92 1477.43 L2186.99 1477.43 L2186.99 1485.58 L2182.34 1485.58 L2182.34 1477.43 L2166.74 1477.43 L2166.74 1472.92 L2181.11 1451.02 Z\" fill=\"#000000\" fill-rule=\"nonzero\" fill-opacity=\"1\" /><path clip-path=\"url(#clip500)\" d=\"M1357.84 1518.43 Q1357.84 1518.91 1357.49 1519.62 Q1357.16 1520.26 1356.49 1520.68 Q1355.84 1521.07 1355.14 1521.07 Q1354.91 1521.07 1354.39 1520.94 Q1353.53 1520.55 1352.17 1519.69 Q1350.82 1518.82 1349.6 1518.27 Q1348.4 1517.69 1347.08 1517.62 Q1345.92 1517.62 1344.96 1518.04 Q1344.09 1518.53 1343.51 1519.56 Q1343.25 1519.98 1343.25 1520.68 Q1343.25 1521.68 1343.8 1523 Q1344.35 1524.32 1345.47 1526.03 Q1346.63 1527.74 1347.47 1528.9 Q1348.31 1530.02 1349.76 1531.89 Q1349.89 1532.05 1349.95 1532.15 Q1350.01 1532.21 1350.11 1532.37 Q1350.21 1532.5 1350.3 1532.6 Q1353.36 1536.43 1354.14 1540.65 Q1354.33 1542.13 1354.33 1543.68 Q1354.33 1546.77 1353.4 1550.41 Q1352.59 1553.73 1350.88 1556.59 Q1349.18 1559.43 1346.6 1561.3 Q1344.06 1563.16 1341.29 1563.16 Q1338.55 1563.16 1336.3 1561.97 Q1334.04 1560.75 1332.69 1558.65 Q1330.85 1555.88 1330.85 1552.05 Q1330.85 1549.89 1331.37 1548.06 Q1332.08 1545.13 1333.75 1542.42 Q1335.43 1539.72 1337.84 1537.62 Q1341.51 1534.53 1345.51 1533.66 Q1343.64 1530.12 1342.54 1527.38 Q1341.48 1524.61 1341.48 1522.26 Q1341.48 1520.2 1342.25 1518.88 Q1342.93 1517.46 1344.31 1516.66 Q1345.47 1515.95 1347.15 1515.6 Q1348.18 1515.47 1348.86 1515.47 Q1351.14 1515.47 1356.46 1516.72 Q1357.84 1517.04 1357.84 1518.43 M1349.79 1546.32 Q1349.79 1544.35 1349.47 1543.03 Q1348.86 1539.81 1346.41 1535.37 L1346.21 1535.05 Q1343.09 1535.95 1340.55 1538.69 Q1337.36 1542.04 1335.75 1548.38 Q1334.88 1551.92 1334.88 1553.92 Q1334.88 1556.08 1335.68 1557.95 Q1336.46 1559.68 1337.91 1560.68 Q1339.39 1561.68 1341.35 1561.68 Q1342.83 1561.68 1344.12 1560.84 Q1345.41 1559.97 1346.34 1558.46 Q1347.28 1556.95 1347.92 1555.3 Q1348.6 1553.63 1349.11 1551.67 Q1349.79 1549.02 1349.79 1546.32 Z\" fill=\"#000000\" fill-rule=\"nonzero\" fill-opacity=\"1\" /><polyline clip-path=\"url(#clip502)\" style=\"stroke:#000000; stroke-linecap:round; stroke-linejoin:round; stroke-width:2; stroke-opacity:0.1; fill:none\" points=\"337.944,1339.36 2352.76,1339.36 \"/>\n",
       "<polyline clip-path=\"url(#clip502)\" style=\"stroke:#000000; stroke-linecap:round; stroke-linejoin:round; stroke-width:2; stroke-opacity:0.1; fill:none\" points=\"337.944,1060.4 2352.76,1060.4 \"/>\n",
       "<polyline clip-path=\"url(#clip502)\" style=\"stroke:#000000; stroke-linecap:round; stroke-linejoin:round; stroke-width:2; stroke-opacity:0.1; fill:none\" points=\"337.944,781.442 2352.76,781.442 \"/>\n",
       "<polyline clip-path=\"url(#clip502)\" style=\"stroke:#000000; stroke-linecap:round; stroke-linejoin:round; stroke-width:2; stroke-opacity:0.1; fill:none\" points=\"337.944,502.484 2352.76,502.484 \"/>\n",
       "<polyline clip-path=\"url(#clip502)\" style=\"stroke:#000000; stroke-linecap:round; stroke-linejoin:round; stroke-width:2; stroke-opacity:0.1; fill:none\" points=\"337.944,223.526 2352.76,223.526 \"/>\n",
       "<polyline clip-path=\"url(#clip500)\" style=\"stroke:#000000; stroke-linecap:round; stroke-linejoin:round; stroke-width:4; stroke-opacity:1; fill:none\" points=\"337.944,1423.18 337.944,47.2441 \"/>\n",
       "<polyline clip-path=\"url(#clip500)\" style=\"stroke:#000000; stroke-linecap:round; stroke-linejoin:round; stroke-width:4; stroke-opacity:1; fill:none\" points=\"337.944,1339.36 356.842,1339.36 \"/>\n",
       "<polyline clip-path=\"url(#clip500)\" style=\"stroke:#000000; stroke-linecap:round; stroke-linejoin:round; stroke-width:4; stroke-opacity:1; fill:none\" points=\"337.944,1060.4 356.842,1060.4 \"/>\n",
       "<polyline clip-path=\"url(#clip500)\" style=\"stroke:#000000; stroke-linecap:round; stroke-linejoin:round; stroke-width:4; stroke-opacity:1; fill:none\" points=\"337.944,781.442 356.842,781.442 \"/>\n",
       "<polyline clip-path=\"url(#clip500)\" style=\"stroke:#000000; stroke-linecap:round; stroke-linejoin:round; stroke-width:4; stroke-opacity:1; fill:none\" points=\"337.944,502.484 356.842,502.484 \"/>\n",
       "<polyline clip-path=\"url(#clip500)\" style=\"stroke:#000000; stroke-linecap:round; stroke-linejoin:round; stroke-width:4; stroke-opacity:1; fill:none\" points=\"337.944,223.526 356.842,223.526 \"/>\n",
       "<path clip-path=\"url(#clip500)\" d=\"M115.927 1352.7 L123.566 1352.7 L123.566 1326.34 L115.256 1328 L115.256 1323.74 L123.519 1322.08 L128.195 1322.08 L128.195 1352.7 L135.834 1352.7 L135.834 1356.64 L115.927 1356.64 L115.927 1352.7 Z\" fill=\"#000000\" fill-rule=\"nonzero\" fill-opacity=\"1\" /><path clip-path=\"url(#clip500)\" d=\"M145.279 1350.76 L150.163 1350.76 L150.163 1356.64 L145.279 1356.64 L145.279 1350.76 Z\" fill=\"#000000\" fill-rule=\"nonzero\" fill-opacity=\"1\" /><path clip-path=\"url(#clip500)\" d=\"M173.195 1326.15 L161.39 1344.6 L173.195 1344.6 L173.195 1326.15 M171.968 1322.08 L177.848 1322.08 L177.848 1344.6 L182.778 1344.6 L182.778 1348.49 L177.848 1348.49 L177.848 1356.64 L173.195 1356.64 L173.195 1348.49 L157.593 1348.49 L157.593 1343.98 L171.968 1322.08 Z\" fill=\"#000000\" fill-rule=\"nonzero\" fill-opacity=\"1\" /><path clip-path=\"url(#clip500)\" d=\"M191.32 1352.7 L198.959 1352.7 L198.959 1326.34 L190.649 1328 L190.649 1323.74 L198.912 1322.08 L203.588 1322.08 L203.588 1352.7 L211.227 1352.7 L211.227 1356.64 L191.32 1356.64 L191.32 1352.7 Z\" fill=\"#000000\" fill-rule=\"nonzero\" fill-opacity=\"1\" /><path clip-path=\"url(#clip500)\" d=\"M234.838 1338 Q238.195 1338.72 240.07 1340.99 Q241.968 1343.26 241.968 1346.59 Q241.968 1351.71 238.449 1354.51 Q234.931 1357.31 228.449 1357.31 Q226.273 1357.31 223.959 1356.87 Q221.667 1356.45 219.213 1355.6 L219.213 1351.08 Q221.158 1352.22 223.473 1352.79 Q225.787 1353.37 228.31 1353.37 Q232.709 1353.37 235 1351.64 Q237.315 1349.9 237.315 1346.59 Q237.315 1343.54 235.162 1341.82 Q233.033 1340.09 229.213 1340.09 L225.185 1340.09 L225.185 1336.24 L229.398 1336.24 Q232.847 1336.24 234.676 1334.88 Q236.505 1333.49 236.505 1330.9 Q236.505 1328.23 234.607 1326.82 Q232.732 1325.39 229.213 1325.39 Q227.292 1325.39 225.093 1325.8 Q222.894 1326.22 220.255 1327.1 L220.255 1322.93 Q222.917 1322.19 225.232 1321.82 Q227.57 1321.45 229.63 1321.45 Q234.954 1321.45 238.056 1323.88 Q241.158 1326.29 241.158 1330.41 Q241.158 1333.28 239.514 1335.27 Q237.871 1337.24 234.838 1338 Z\" fill=\"#000000\" fill-rule=\"nonzero\" fill-opacity=\"1\" /><path clip-path=\"url(#clip500)\" d=\"M254.861 1352.7 L271.181 1352.7 L271.181 1356.64 L249.236 1356.64 L249.236 1352.7 Q251.898 1349.95 256.482 1345.32 Q261.088 1340.67 262.269 1339.32 Q264.514 1336.8 265.394 1335.06 Q266.296 1333.3 266.296 1331.61 Q266.296 1328.86 264.352 1327.12 Q262.431 1325.39 259.329 1325.39 Q257.13 1325.39 254.676 1326.15 Q252.246 1326.92 249.468 1328.47 L249.468 1323.74 Q252.292 1322.61 254.746 1322.03 Q257.199 1321.45 259.236 1321.45 Q264.607 1321.45 267.801 1324.14 Q270.995 1326.82 270.995 1331.31 Q270.995 1333.44 270.185 1335.36 Q269.398 1337.26 267.292 1339.86 Q266.713 1340.53 263.611 1343.74 Q260.509 1346.94 254.861 1352.7 Z\" fill=\"#000000\" fill-rule=\"nonzero\" fill-opacity=\"1\" /><path clip-path=\"url(#clip500)\" d=\"M281.042 1322.08 L299.398 1322.08 L299.398 1326.01 L285.324 1326.01 L285.324 1334.48 Q286.343 1334.14 287.361 1333.98 Q288.38 1333.79 289.398 1333.79 Q295.185 1333.79 298.565 1336.96 Q301.944 1340.13 301.944 1345.55 Q301.944 1351.13 298.472 1354.23 Q295 1357.31 288.681 1357.31 Q286.505 1357.31 284.236 1356.94 Q281.991 1356.57 279.583 1355.83 L279.583 1351.13 Q281.667 1352.26 283.889 1352.82 Q286.111 1353.37 288.588 1353.37 Q292.593 1353.37 294.93 1351.27 Q297.268 1349.16 297.268 1345.55 Q297.268 1341.94 294.93 1339.83 Q292.593 1337.73 288.588 1337.73 Q286.713 1337.73 284.838 1338.14 Q282.986 1338.56 281.042 1339.44 L281.042 1322.08 Z\" fill=\"#000000\" fill-rule=\"nonzero\" fill-opacity=\"1\" /><path clip-path=\"url(#clip500)\" d=\"M114.931 1073.74 L122.57 1073.74 L122.57 1047.38 L114.26 1049.05 L114.26 1044.79 L122.524 1043.12 L127.2 1043.12 L127.2 1073.74 L134.839 1073.74 L134.839 1077.68 L114.931 1077.68 L114.931 1073.74 Z\" fill=\"#000000\" fill-rule=\"nonzero\" fill-opacity=\"1\" /><path clip-path=\"url(#clip500)\" d=\"M144.283 1071.8 L149.167 1071.8 L149.167 1077.68 L144.283 1077.68 L144.283 1071.8 Z\" fill=\"#000000\" fill-rule=\"nonzero\" fill-opacity=\"1\" /><path clip-path=\"url(#clip500)\" d=\"M172.2 1047.19 L160.394 1065.64 L172.2 1065.64 L172.2 1047.19 M170.973 1043.12 L176.852 1043.12 L176.852 1065.64 L181.783 1065.64 L181.783 1069.53 L176.852 1069.53 L176.852 1077.68 L172.2 1077.68 L172.2 1069.53 L156.598 1069.53 L156.598 1065.02 L170.973 1043.12 Z\" fill=\"#000000\" fill-rule=\"nonzero\" fill-opacity=\"1\" /><path clip-path=\"url(#clip500)\" d=\"M190.325 1073.74 L197.963 1073.74 L197.963 1047.38 L189.653 1049.05 L189.653 1044.79 L197.917 1043.12 L202.593 1043.12 L202.593 1073.74 L210.232 1073.74 L210.232 1077.68 L190.325 1077.68 L190.325 1073.74 Z\" fill=\"#000000\" fill-rule=\"nonzero\" fill-opacity=\"1\" /><path clip-path=\"url(#clip500)\" d=\"M233.843 1059.05 Q237.199 1059.76 239.074 1062.03 Q240.972 1064.3 240.972 1067.63 Q240.972 1072.75 237.454 1075.55 Q233.935 1078.35 227.454 1078.35 Q225.278 1078.35 222.963 1077.91 Q220.672 1077.49 218.218 1076.64 L218.218 1072.12 Q220.162 1073.26 222.477 1073.84 Q224.792 1074.42 227.315 1074.42 Q231.713 1074.42 234.005 1072.68 Q236.32 1070.94 236.32 1067.63 Q236.32 1064.58 234.167 1062.86 Q232.037 1061.13 228.218 1061.13 L224.19 1061.13 L224.19 1057.29 L228.403 1057.29 Q231.852 1057.29 233.681 1055.92 Q235.51 1054.53 235.51 1051.94 Q235.51 1049.28 233.611 1047.86 Q231.736 1046.43 228.218 1046.43 Q226.297 1046.43 224.098 1046.85 Q221.898 1047.26 219.26 1048.14 L219.26 1043.98 Q221.922 1043.24 224.236 1042.86 Q226.574 1042.49 228.635 1042.49 Q233.959 1042.49 237.06 1044.93 Q240.162 1047.33 240.162 1051.45 Q240.162 1054.32 238.519 1056.31 Q236.875 1058.28 233.843 1059.05 Z\" fill=\"#000000\" fill-rule=\"nonzero\" fill-opacity=\"1\" /><path clip-path=\"url(#clip500)\" d=\"M249.884 1043.12 L268.241 1043.12 L268.241 1047.05 L254.167 1047.05 L254.167 1055.53 Q255.185 1055.18 256.204 1055.02 Q257.222 1054.83 258.241 1054.83 Q264.028 1054.83 267.407 1058 Q270.787 1061.18 270.787 1066.59 Q270.787 1072.17 267.315 1075.27 Q263.843 1078.35 257.523 1078.35 Q255.347 1078.35 253.079 1077.98 Q250.833 1077.61 248.426 1076.87 L248.426 1072.17 Q250.509 1073.3 252.732 1073.86 Q254.954 1074.42 257.431 1074.42 Q261.435 1074.42 263.773 1072.31 Q266.111 1070.2 266.111 1066.59 Q266.111 1062.98 263.773 1060.87 Q261.435 1058.77 257.431 1058.77 Q255.556 1058.77 253.681 1059.18 Q251.829 1059.6 249.884 1060.48 L249.884 1043.12 Z\" fill=\"#000000\" fill-rule=\"nonzero\" fill-opacity=\"1\" /><path clip-path=\"url(#clip500)\" d=\"M290 1046.2 Q286.389 1046.2 284.56 1049.76 Q282.755 1053.3 282.755 1060.43 Q282.755 1067.54 284.56 1071.11 Q286.389 1074.65 290 1074.65 Q293.634 1074.65 295.44 1071.11 Q297.268 1067.54 297.268 1060.43 Q297.268 1053.3 295.44 1049.76 Q293.634 1046.2 290 1046.2 M290 1042.49 Q295.81 1042.49 298.866 1047.1 Q301.944 1051.68 301.944 1060.43 Q301.944 1069.16 298.866 1073.77 Q295.81 1078.35 290 1078.35 Q284.19 1078.35 281.111 1073.77 Q278.056 1069.16 278.056 1060.43 Q278.056 1051.68 281.111 1047.1 Q284.19 1042.49 290 1042.49 Z\" fill=\"#000000\" fill-rule=\"nonzero\" fill-opacity=\"1\" /><path clip-path=\"url(#clip500)\" d=\"M115.927 794.787 L123.566 794.787 L123.566 768.421 L115.256 770.088 L115.256 765.828 L123.519 764.162 L128.195 764.162 L128.195 794.787 L135.834 794.787 L135.834 798.722 L115.927 798.722 L115.927 794.787 Z\" fill=\"#000000\" fill-rule=\"nonzero\" fill-opacity=\"1\" /><path clip-path=\"url(#clip500)\" d=\"M145.279 792.842 L150.163 792.842 L150.163 798.722 L145.279 798.722 L145.279 792.842 Z\" fill=\"#000000\" fill-rule=\"nonzero\" fill-opacity=\"1\" /><path clip-path=\"url(#clip500)\" d=\"M173.195 768.236 L161.39 786.685 L173.195 786.685 L173.195 768.236 M171.968 764.162 L177.848 764.162 L177.848 786.685 L182.778 786.685 L182.778 790.574 L177.848 790.574 L177.848 798.722 L173.195 798.722 L173.195 790.574 L157.593 790.574 L157.593 786.06 L171.968 764.162 Z\" fill=\"#000000\" fill-rule=\"nonzero\" fill-opacity=\"1\" /><path clip-path=\"url(#clip500)\" d=\"M191.32 794.787 L198.959 794.787 L198.959 768.421 L190.649 770.088 L190.649 765.828 L198.912 764.162 L203.588 764.162 L203.588 794.787 L211.227 794.787 L211.227 798.722 L191.32 798.722 L191.32 794.787 Z\" fill=\"#000000\" fill-rule=\"nonzero\" fill-opacity=\"1\" /><path clip-path=\"url(#clip500)\" d=\"M234.838 780.088 Q238.195 780.805 240.07 783.074 Q241.968 785.342 241.968 788.675 Q241.968 793.791 238.449 796.592 Q234.931 799.393 228.449 799.393 Q226.273 799.393 223.959 798.953 Q221.667 798.537 219.213 797.68 L219.213 793.166 Q221.158 794.3 223.473 794.879 Q225.787 795.458 228.31 795.458 Q232.709 795.458 235 793.722 Q237.315 791.986 237.315 788.675 Q237.315 785.62 235.162 783.907 Q233.033 782.171 229.213 782.171 L225.185 782.171 L225.185 778.328 L229.398 778.328 Q232.847 778.328 234.676 776.963 Q236.505 775.574 236.505 772.981 Q236.505 770.319 234.607 768.907 Q232.732 767.472 229.213 767.472 Q227.292 767.472 225.093 767.889 Q222.894 768.305 220.255 769.185 L220.255 765.018 Q222.917 764.277 225.232 763.907 Q227.57 763.537 229.63 763.537 Q234.954 763.537 238.056 765.967 Q241.158 768.375 241.158 772.495 Q241.158 775.365 239.514 777.356 Q237.871 779.324 234.838 780.088 Z\" fill=\"#000000\" fill-rule=\"nonzero\" fill-opacity=\"1\" /><path clip-path=\"url(#clip500)\" d=\"M249.653 764.162 L271.875 764.162 L271.875 766.152 L259.329 798.722 L254.445 798.722 L266.25 768.097 L249.653 768.097 L249.653 764.162 Z\" fill=\"#000000\" fill-rule=\"nonzero\" fill-opacity=\"1\" /><path clip-path=\"url(#clip500)\" d=\"M281.042 764.162 L299.398 764.162 L299.398 768.097 L285.324 768.097 L285.324 776.569 Q286.343 776.222 287.361 776.06 Q288.38 775.875 289.398 775.875 Q295.185 775.875 298.565 779.046 Q301.944 782.217 301.944 787.634 Q301.944 793.212 298.472 796.314 Q295 799.393 288.681 799.393 Q286.505 799.393 284.236 799.023 Q281.991 798.652 279.583 797.912 L279.583 793.212 Q281.667 794.347 283.889 794.902 Q286.111 795.458 288.588 795.458 Q292.593 795.458 294.93 793.351 Q297.268 791.245 297.268 787.634 Q297.268 784.023 294.93 781.916 Q292.593 779.81 288.588 779.81 Q286.713 779.81 284.838 780.226 Q282.986 780.643 281.042 781.523 L281.042 764.162 Z\" fill=\"#000000\" fill-rule=\"nonzero\" fill-opacity=\"1\" /><path clip-path=\"url(#clip500)\" d=\"M114.931 515.829 L122.57 515.829 L122.57 489.463 L114.26 491.13 L114.26 486.871 L122.524 485.204 L127.2 485.204 L127.2 515.829 L134.839 515.829 L134.839 519.764 L114.931 519.764 L114.931 515.829 Z\" fill=\"#000000\" fill-rule=\"nonzero\" fill-opacity=\"1\" /><path clip-path=\"url(#clip500)\" d=\"M144.283 513.884 L149.167 513.884 L149.167 519.764 L144.283 519.764 L144.283 513.884 Z\" fill=\"#000000\" fill-rule=\"nonzero\" fill-opacity=\"1\" /><path clip-path=\"url(#clip500)\" d=\"M172.2 489.278 L160.394 507.727 L172.2 507.727 L172.2 489.278 M170.973 485.204 L176.852 485.204 L176.852 507.727 L181.783 507.727 L181.783 511.616 L176.852 511.616 L176.852 519.764 L172.2 519.764 L172.2 511.616 L156.598 511.616 L156.598 507.102 L170.973 485.204 Z\" fill=\"#000000\" fill-rule=\"nonzero\" fill-opacity=\"1\" /><path clip-path=\"url(#clip500)\" d=\"M190.325 515.829 L197.963 515.829 L197.963 489.463 L189.653 491.13 L189.653 486.871 L197.917 485.204 L202.593 485.204 L202.593 515.829 L210.232 515.829 L210.232 519.764 L190.325 519.764 L190.325 515.829 Z\" fill=\"#000000\" fill-rule=\"nonzero\" fill-opacity=\"1\" /><path clip-path=\"url(#clip500)\" d=\"M232.523 489.278 L220.718 507.727 L232.523 507.727 L232.523 489.278 M231.297 485.204 L237.176 485.204 L237.176 507.727 L242.107 507.727 L242.107 511.616 L237.176 511.616 L237.176 519.764 L232.523 519.764 L232.523 511.616 L216.922 511.616 L216.922 507.102 L231.297 485.204 Z\" fill=\"#000000\" fill-rule=\"nonzero\" fill-opacity=\"1\" /><path clip-path=\"url(#clip500)\" d=\"M259.838 488.283 Q256.227 488.283 254.398 491.847 Q252.593 495.389 252.593 502.519 Q252.593 509.625 254.398 513.19 Q256.227 516.731 259.838 516.731 Q263.472 516.731 265.278 513.19 Q267.107 509.625 267.107 502.519 Q267.107 495.389 265.278 491.847 Q263.472 488.283 259.838 488.283 M259.838 484.579 Q265.648 484.579 268.704 489.185 Q271.782 493.769 271.782 502.519 Q271.782 511.245 268.704 515.852 Q265.648 520.435 259.838 520.435 Q254.028 520.435 250.949 515.852 Q247.894 511.245 247.894 502.519 Q247.894 493.769 250.949 489.185 Q254.028 484.579 259.838 484.579 Z\" fill=\"#000000\" fill-rule=\"nonzero\" fill-opacity=\"1\" /><path clip-path=\"url(#clip500)\" d=\"M290 488.283 Q286.389 488.283 284.56 491.847 Q282.755 495.389 282.755 502.519 Q282.755 509.625 284.56 513.19 Q286.389 516.731 290 516.731 Q293.634 516.731 295.44 513.19 Q297.268 509.625 297.268 502.519 Q297.268 495.389 295.44 491.847 Q293.634 488.283 290 488.283 M290 484.579 Q295.81 484.579 298.866 489.185 Q301.944 493.769 301.944 502.519 Q301.944 511.245 298.866 515.852 Q295.81 520.435 290 520.435 Q284.19 520.435 281.111 515.852 Q278.056 511.245 278.056 502.519 Q278.056 493.769 281.111 489.185 Q284.19 484.579 290 484.579 Z\" fill=\"#000000\" fill-rule=\"nonzero\" fill-opacity=\"1\" /><path clip-path=\"url(#clip500)\" d=\"M115.927 236.871 L123.566 236.871 L123.566 210.505 L115.256 212.172 L115.256 207.913 L123.519 206.246 L128.195 206.246 L128.195 236.871 L135.834 236.871 L135.834 240.806 L115.927 240.806 L115.927 236.871 Z\" fill=\"#000000\" fill-rule=\"nonzero\" fill-opacity=\"1\" /><path clip-path=\"url(#clip500)\" d=\"M145.279 234.926 L150.163 234.926 L150.163 240.806 L145.279 240.806 L145.279 234.926 Z\" fill=\"#000000\" fill-rule=\"nonzero\" fill-opacity=\"1\" /><path clip-path=\"url(#clip500)\" d=\"M173.195 210.32 L161.39 228.769 L173.195 228.769 L173.195 210.32 M171.968 206.246 L177.848 206.246 L177.848 228.769 L182.778 228.769 L182.778 232.658 L177.848 232.658 L177.848 240.806 L173.195 240.806 L173.195 232.658 L157.593 232.658 L157.593 228.144 L171.968 206.246 Z\" fill=\"#000000\" fill-rule=\"nonzero\" fill-opacity=\"1\" /><path clip-path=\"url(#clip500)\" d=\"M191.32 236.871 L198.959 236.871 L198.959 210.505 L190.649 212.172 L190.649 207.913 L198.912 206.246 L203.588 206.246 L203.588 236.871 L211.227 236.871 L211.227 240.806 L191.32 240.806 L191.32 236.871 Z\" fill=\"#000000\" fill-rule=\"nonzero\" fill-opacity=\"1\" /><path clip-path=\"url(#clip500)\" d=\"M233.519 210.32 L221.713 228.769 L233.519 228.769 L233.519 210.32 M232.292 206.246 L238.172 206.246 L238.172 228.769 L243.102 228.769 L243.102 232.658 L238.172 232.658 L238.172 240.806 L233.519 240.806 L233.519 232.658 L217.917 232.658 L217.917 228.144 L232.292 206.246 Z\" fill=\"#000000\" fill-rule=\"nonzero\" fill-opacity=\"1\" /><path clip-path=\"url(#clip500)\" d=\"M254.861 236.871 L271.181 236.871 L271.181 240.806 L249.236 240.806 L249.236 236.871 Q251.898 234.116 256.482 229.487 Q261.088 224.834 262.269 223.491 Q264.514 220.968 265.394 219.232 Q266.296 217.473 266.296 215.783 Q266.296 213.028 264.352 211.292 Q262.431 209.556 259.329 209.556 Q257.13 209.556 254.676 210.32 Q252.246 211.084 249.468 212.635 L249.468 207.913 Q252.292 206.778 254.746 206.2 Q257.199 205.621 259.236 205.621 Q264.607 205.621 267.801 208.306 Q270.995 210.991 270.995 215.482 Q270.995 217.612 270.185 219.533 Q269.398 221.431 267.292 224.024 Q266.713 224.695 263.611 227.913 Q260.509 231.107 254.861 236.871 Z\" fill=\"#000000\" fill-rule=\"nonzero\" fill-opacity=\"1\" /><path clip-path=\"url(#clip500)\" d=\"M281.042 206.246 L299.398 206.246 L299.398 210.181 L285.324 210.181 L285.324 218.653 Q286.343 218.306 287.361 218.144 Q288.38 217.959 289.398 217.959 Q295.185 217.959 298.565 221.13 Q301.944 224.301 301.944 229.718 Q301.944 235.297 298.472 238.399 Q295 241.477 288.681 241.477 Q286.505 241.477 284.236 241.107 Q281.991 240.737 279.583 239.996 L279.583 235.297 Q281.667 236.431 283.889 236.987 Q286.111 237.542 288.588 237.542 Q292.593 237.542 294.93 235.436 Q297.268 233.329 297.268 229.718 Q297.268 226.107 294.93 224.001 Q292.593 221.894 288.588 221.894 Q286.713 221.894 284.838 222.311 Q282.986 222.727 281.042 223.607 L281.042 206.246 Z\" fill=\"#000000\" fill-rule=\"nonzero\" fill-opacity=\"1\" /><path clip-path=\"url(#clip500)\" d=\"M18.419 755.979 Q19.353 755.979 19.5462 756.398 Q19.7394 756.785 19.7394 758.202 Q19.7394 760.617 20.0615 761.712 Q20.3513 762.775 20.8666 763.097 Q21.3497 763.387 22.7668 763.741 L58.3865 772.662 Q58.4187 772.662 58.8695 772.759 Q59.2882 772.855 59.5137 772.855 Q59.9323 772.855 60.19 772.598 Q60.4476 772.308 60.5765 771.599 Q60.6731 770.891 60.7053 770.343 Q60.7053 769.764 60.7053 768.572 Q60.7053 767.09 60.9629 766.865 Q61.124 766.736 61.4138 766.736 Q62.0257 766.736 62.3478 766.994 Q62.6376 767.219 62.702 767.445 Q62.7343 767.638 62.7343 768.024 Q62.7343 768.701 62.6698 770.15 Q62.6054 771.599 62.6054 772.34 L62.541 776.559 L62.7343 784.933 Q62.7343 785.834 61.9935 785.834 Q61.3494 785.834 61.0595 785.609 Q60.7697 785.383 60.7375 785.158 Q60.7053 784.9 60.7053 784.256 Q60.7053 780.939 60.3832 779.844 Q60.029 778.717 58.5153 778.266 L40.319 773.725 L40.319 793.821 L58.3865 798.33 Q58.4187 798.33 58.8695 798.427 Q59.2882 798.523 59.5137 798.523 Q59.9323 798.523 60.19 798.266 Q60.4476 797.976 60.5765 797.267 Q60.6731 796.559 60.7053 796.011 Q60.7053 795.432 60.7053 794.24 Q60.7053 792.759 60.9629 792.501 Q61.124 792.372 61.4138 792.372 Q61.8647 792.372 62.1868 792.501 Q62.4766 792.598 62.5732 792.855 Q62.6698 793.081 62.702 793.242 Q62.7343 793.403 62.7343 793.693 Q62.7343 794.369 62.6698 795.818 Q62.6054 797.235 62.6054 797.976 L62.541 802.195 L62.7343 810.568 Q62.7343 811.502 61.9935 811.502 Q61.3494 811.502 61.0918 811.277 Q60.8019 811.051 60.7697 810.762 Q60.7053 810.472 60.7053 809.731 Q60.7053 808.121 60.6087 807.155 Q60.512 806.188 60.3832 805.576 Q60.2222 804.932 59.7713 804.61 Q59.3204 804.256 58.934 804.095 Q58.5153 803.934 57.5813 803.709 L22.1549 794.884 Q21.0921 794.627 20.931 794.627 Q20.3191 794.627 20.1581 795.013 Q19.9649 795.367 19.8682 796.398 L19.7394 798.91 Q19.7394 799.683 19.7072 800.005 Q19.675 800.295 19.514 800.52 Q19.353 800.746 18.9987 800.746 Q18.5478 800.746 18.258 800.649 Q17.9359 800.52 17.8393 800.295 Q17.7427 800.069 17.7105 799.908 Q17.6783 799.747 17.6783 799.49 L17.8715 790.987 L17.6783 782.549 Q17.6783 781.615 18.419 781.615 Q19.353 781.615 19.5462 782.034 Q19.7394 782.453 19.7394 783.87 Q19.7394 786.221 20.0615 787.316 Q20.3513 788.411 20.8666 788.765 Q21.3819 789.087 22.7668 789.409 L38.2578 793.306 L38.2578 773.177 L22.1549 769.216 Q20.9955 768.958 20.931 768.958 Q20.3191 768.958 20.1581 769.345 Q19.9649 769.699 19.8682 770.73 L19.7394 773.242 Q19.7394 774.015 19.7072 774.337 Q19.675 774.627 19.514 774.884 Q19.353 775.11 18.9987 775.11 Q18.5478 775.11 18.258 775.013 Q17.9359 774.884 17.8393 774.659 Q17.7427 774.433 17.7105 774.272 Q17.6783 774.111 17.6783 773.854 L17.8715 765.351 L17.6783 756.881 Q17.6783 755.979 18.419 755.979 Z\" fill=\"#000000\" fill-rule=\"nonzero\" fill-opacity=\"1\" /><path clip-path=\"url(#clip500)\" d=\"M74.2676 711.649 Q74.4479 711.649 75.1468 711.852 Q75.8457 712.055 76.9278 712.551 Q78.0099 713.024 79.0018 713.701 Q79.9712 714.354 80.6926 715.436 Q81.3915 716.496 81.3915 717.713 Q81.3915 719.337 80.3094 720.419 Q79.2273 721.501 77.6041 721.501 Q76.7249 721.501 75.0566 720.892 Q67.4367 718.029 64.7089 718.029 Q61.4851 718.029 61.4851 720.531 Q61.4851 721.952 62.0712 723.237 Q62.6574 724.522 63.469 725.356 Q64.2805 726.19 65.2048 726.844 Q66.1292 727.497 66.7378 727.791 Q67.3465 728.061 67.6171 728.129 L78.7539 730.902 Q79.7007 731.127 80.1516 731.285 Q80.6025 731.443 80.9857 731.871 Q81.3915 732.299 81.3915 732.976 Q81.3915 733.539 81.0534 733.945 Q80.7152 734.328 80.129 734.328 Q80.0389 734.328 79.5654 734.216 Q79.092 734.103 78.4382 733.945 Q77.7845 733.787 77.4012 733.72 Q74.3352 732.908 73.9069 732.795 L68.5414 731.51 Q65.8812 730.811 64.7089 730.811 Q61.4851 730.811 61.4851 733.314 Q61.4851 734.554 61.9585 735.726 Q62.4094 736.876 63.0406 737.665 Q63.6719 738.454 64.5511 739.175 Q65.4077 739.874 65.9939 740.235 Q66.5575 740.573 67.1211 740.844 L69.4206 741.43 Q70.0518 741.565 72.5091 742.219 L76.6798 743.233 Q79.7909 743.955 80.084 744.113 Q80.7152 744.338 81.0534 744.834 Q81.3915 745.33 81.3915 745.826 Q81.3915 746.389 81.0534 746.773 Q80.7152 747.156 80.129 747.156 Q80.0389 747.156 79.7007 747.088 Q79.3625 747.021 78.8891 746.908 Q78.4157 746.795 78.1452 746.75 L67.4818 744.067 Q65.543 743.571 64.9343 743.459 Q64.3031 743.323 63.6042 743.323 Q61.4851 743.323 61.4851 744.766 Q61.4851 745.939 62.8828 746.705 Q64.2805 747.472 66.9858 748.125 Q67.7298 748.328 67.8876 748.464 Q68.0454 748.576 68.0454 748.914 Q68.0229 749.478 67.572 749.478 Q67.4593 749.478 66.7378 749.298 Q66.0164 749.117 64.9343 748.779 Q63.8297 748.418 63.1082 748.035 Q62.6348 747.81 62.3192 747.607 Q62.0036 747.404 61.5076 746.998 Q61.0116 746.592 60.7411 745.984 Q60.4706 745.375 60.4706 744.631 Q60.4706 742.985 61.5302 741.768 Q62.5897 740.528 64.4834 740.37 Q60.4706 737.372 60.4706 733.179 Q60.4706 730.811 61.6654 729.391 Q62.8152 728.061 64.9343 727.903 Q60.4706 724.792 60.4706 720.374 Q60.4706 717.826 61.8007 716.451 Q63.1082 715.076 65.4077 715.076 Q66.6026 715.076 68.8795 715.684 Q71.1339 716.293 72.2612 716.699 Q73.3884 717.105 75.5526 717.894 Q77.6267 718.728 78.844 718.728 Q79.6331 718.728 79.9938 718.457 Q80.3545 718.187 80.3545 717.601 Q80.3545 716.699 79.836 715.91 Q79.2949 715.121 78.4157 714.557 Q77.5139 713.971 76.6122 713.588 Q75.6879 713.205 74.6508 712.911 Q74.0872 712.731 73.952 712.641 Q73.8167 712.528 73.8167 712.213 Q73.8167 711.649 74.2676 711.649 Z\" fill=\"#000000\" fill-rule=\"nonzero\" fill-opacity=\"1\" /><path clip-path=\"url(#clip500)\" d=\"M52.0165 697.725 Q53.0085 697.725 53.7524 698.536 Q54.4739 699.325 54.4739 700.182 Q54.4739 700.971 54.0004 701.467 Q53.5045 701.941 52.8056 701.941 Q51.8813 701.941 51.1148 701.151 Q50.3483 700.362 50.3483 699.438 Q50.3483 698.672 50.8217 698.198 Q51.2951 697.725 52.0165 697.725 M74.2676 697.319 Q74.4479 697.319 75.1693 697.522 Q75.8682 697.725 76.9503 698.221 Q78.0099 698.694 79.0018 699.348 Q79.9938 700.002 80.6926 701.084 Q81.3915 702.143 81.3915 703.361 Q81.3915 705.007 80.3094 706.089 Q79.2273 707.148 77.6041 707.148 Q76.7249 707.148 73.9069 706.089 Q65.7008 703.023 65.3627 702.91 Q64.0776 702.391 62.9504 702.391 Q62.4319 702.391 62.1163 702.504 Q61.7781 702.617 61.6654 702.842 Q61.5302 703.068 61.5076 703.203 Q61.4851 703.316 61.4851 703.541 Q61.4851 704.871 62.8377 706.111 Q64.1904 707.351 67.2113 708.208 Q67.7749 708.388 67.9101 708.501 Q68.0454 708.614 68.0454 708.952 Q68.0229 709.515 67.572 709.515 Q67.4367 709.515 66.9182 709.358 Q66.3771 709.2 65.5656 708.907 Q64.7314 708.614 63.8747 708.095 Q62.9955 707.577 62.229 706.945 Q61.4625 706.292 60.9666 705.367 Q60.4706 704.443 60.4706 703.406 Q60.4706 701.715 61.5752 700.678 Q62.6574 699.618 64.258 699.618 Q65.1372 699.618 66.6928 700.227 Q68.7217 700.971 69.3755 701.242 L74.2225 703.045 Q75.9809 703.699 76.522 703.902 Q77.0405 704.082 77.6717 704.24 Q78.2804 704.375 78.844 704.375 Q79.6331 704.375 79.9938 704.127 Q80.3545 703.857 80.3545 703.271 Q80.3545 701.647 78.7539 700.453 Q77.1307 699.258 74.6508 698.559 Q74.5832 698.536 74.4705 698.514 Q73.9069 698.333 73.8392 698.153 Q73.8167 698.063 73.8167 697.883 Q73.8167 697.319 74.2676 697.319 Z\" fill=\"#000000\" fill-rule=\"nonzero\" fill-opacity=\"1\" /><path clip-path=\"url(#clip500)\" d=\"M74.2676 668.358 Q74.4479 668.358 75.1468 668.56 Q75.8457 668.763 76.9278 669.259 Q78.0099 669.733 79.0018 670.387 Q79.9712 671.04 80.6926 672.122 Q81.3915 673.182 81.3915 674.399 Q81.3915 676.023 80.3094 677.105 Q79.2273 678.187 77.6041 678.187 Q76.7023 678.187 75.4624 677.713 Q67.4593 674.715 64.7089 674.715 Q61.4851 674.715 61.4851 677.217 Q61.4851 678.457 61.9585 679.63 Q62.4094 680.779 63.0406 681.568 Q63.6719 682.357 64.5511 683.079 Q65.4077 683.778 65.9939 684.138 Q66.5575 684.477 67.1211 684.747 L69.4206 685.333 Q70.0518 685.469 72.5091 686.122 L76.6798 687.137 Q79.7909 687.858 80.084 688.016 Q80.7152 688.241 81.0534 688.737 Q81.3915 689.233 81.3915 689.729 Q81.3915 690.293 81.0534 690.676 Q80.7152 691.059 80.129 691.059 Q80.0389 691.059 79.7007 690.992 Q79.3625 690.924 78.8891 690.811 Q78.4157 690.699 78.1452 690.654 L67.4818 687.971 Q65.543 687.475 64.9343 687.362 Q64.3031 687.227 63.6042 687.227 Q61.4851 687.227 61.4851 688.67 Q61.4851 689.842 62.8828 690.609 Q64.2805 691.375 66.9858 692.029 Q67.7298 692.232 67.8876 692.367 Q68.0454 692.48 68.0454 692.818 Q68.0229 693.382 67.572 693.382 Q67.4593 693.382 66.7153 693.201 Q65.9713 693.021 64.9118 692.683 Q63.8297 692.322 63.1082 691.984 Q62.5672 691.691 62.3192 691.533 Q62.0487 691.353 61.5302 690.924 Q60.9891 690.473 60.7411 689.887 Q60.4706 689.278 60.4706 688.535 Q60.4706 686.866 61.5527 685.649 Q62.6123 684.432 64.4834 684.274 Q60.4706 681.275 60.4706 677.082 Q60.4706 674.602 61.7781 673.182 Q63.0857 671.762 65.4077 671.762 Q65.9488 671.762 66.6477 671.874 Q67.324 671.965 68.1807 672.19 Q69.0373 672.393 69.6911 672.573 Q70.3449 672.754 71.4045 673.114 Q72.4415 673.475 72.8924 673.633 Q73.3433 673.791 74.4028 674.174 Q75.4399 674.535 75.5526 674.58 Q77.6492 675.414 78.844 675.414 Q79.6331 675.414 79.9938 675.166 Q80.3545 674.895 80.3545 674.309 Q80.3545 672.731 78.7989 671.559 Q77.2209 670.364 74.6508 669.597 Q74.0872 669.417 73.952 669.327 Q73.8167 669.214 73.8167 668.899 Q73.8167 668.358 74.2676 668.358 Z\" fill=\"#000000\" fill-rule=\"nonzero\" fill-opacity=\"1\" /><polyline clip-path=\"url(#clip502)\" style=\"stroke:#009af9; stroke-linecap:round; stroke-linejoin:round; stroke-width:4; stroke-opacity:1; fill:none\" points=\"394.967,1384.24 585.044,1318.81 775.12,396.732 965.197,324.181 1155.27,302.849 1345.35,310.972 1535.43,350.338 1725.5,200.305 1915.58,189.559 2105.66,138.847 2295.73,86.1857 \"/>\n",
       "<path clip-path=\"url(#clip500)\" d=\"M405.105 196.789 L717.535 196.789 L717.535 93.1086 L405.105 93.1086  Z\" fill=\"#ffffff\" fill-rule=\"evenodd\" fill-opacity=\"1\"/>\n",
       "<polyline clip-path=\"url(#clip500)\" style=\"stroke:#000000; stroke-linecap:round; stroke-linejoin:round; stroke-width:4; stroke-opacity:1; fill:none\" points=\"405.105,196.789 717.535,196.789 717.535,93.1086 405.105,93.1086 405.105,196.789 \"/>\n",
       "<polyline clip-path=\"url(#clip500)\" style=\"stroke:#009af9; stroke-linecap:round; stroke-linejoin:round; stroke-width:4; stroke-opacity:1; fill:none\" points=\"427.492,144.949 561.812,144.949 \"/>\n",
       "<path clip-path=\"url(#clip500)\" d=\"M624.579 122.165 Q624.579 122.844 624.275 122.984 Q623.994 123.125 622.963 123.125 Q621.207 123.125 620.41 123.359 Q619.637 123.57 619.403 123.945 Q619.192 124.296 618.935 125.327 L612.447 151.232 Q612.447 151.255 612.376 151.583 Q612.306 151.888 612.306 152.052 Q612.306 152.356 612.493 152.544 Q612.704 152.731 613.219 152.825 Q613.735 152.895 614.133 152.918 Q614.555 152.918 615.421 152.918 Q616.499 152.918 616.663 153.106 Q616.756 153.223 616.756 153.434 Q616.756 153.879 616.569 154.113 Q616.405 154.324 616.241 154.371 Q616.1 154.394 615.819 154.394 Q615.328 154.394 614.274 154.347 Q613.219 154.3 612.681 154.3 L609.612 154.253 L603.523 154.394 Q602.867 154.394 602.867 153.855 Q602.867 153.387 603.031 153.176 Q603.195 152.965 603.359 152.942 Q603.546 152.918 604.014 152.918 Q606.427 152.918 607.223 152.684 Q608.043 152.426 608.371 151.326 L611.674 138.092 L597.058 138.092 L593.779 151.232 Q593.779 151.255 593.709 151.583 Q593.638 151.888 593.638 152.052 Q593.638 152.356 593.826 152.544 Q594.037 152.731 594.552 152.825 Q595.067 152.895 595.465 152.918 Q595.887 152.918 596.754 152.918 Q597.831 152.918 598.018 153.106 Q598.112 153.223 598.112 153.434 Q598.112 153.762 598.018 153.996 Q597.948 154.207 597.761 154.277 Q597.597 154.347 597.48 154.371 Q597.362 154.394 597.152 154.394 Q596.66 154.394 595.606 154.347 Q594.575 154.3 594.037 154.3 L590.968 154.253 L584.878 154.394 Q584.199 154.394 584.199 153.855 Q584.199 153.387 584.363 153.199 Q584.527 152.989 584.738 152.965 Q584.949 152.918 585.487 152.918 Q586.658 152.918 587.361 152.848 Q588.064 152.778 588.509 152.684 Q588.977 152.567 589.211 152.239 Q589.469 151.911 589.586 151.63 Q589.703 151.326 589.867 150.646 L596.285 124.882 Q596.472 124.109 596.472 123.992 Q596.472 123.547 596.191 123.429 Q595.934 123.289 595.184 123.219 L593.357 123.125 Q592.795 123.125 592.561 123.102 Q592.35 123.078 592.186 122.961 Q592.022 122.844 592.022 122.586 Q592.022 122.258 592.092 122.048 Q592.186 121.813 592.35 121.743 Q592.514 121.673 592.631 121.649 Q592.748 121.626 592.936 121.626 L599.119 121.766 L605.256 121.626 Q605.935 121.626 605.935 122.165 Q605.935 122.844 605.631 122.984 Q605.326 123.125 604.296 123.125 Q602.586 123.125 601.789 123.359 Q600.993 123.57 600.735 123.945 Q600.501 124.32 600.267 125.327 L597.433 136.593 L612.072 136.593 L614.953 124.882 Q615.14 124.038 615.14 123.992 Q615.14 123.547 614.859 123.429 Q614.601 123.289 613.852 123.219 L612.025 123.125 Q611.463 123.125 611.229 123.102 Q611.018 123.078 610.83 122.961 Q610.666 122.844 610.666 122.586 Q610.666 122.258 610.737 122.048 Q610.83 121.813 610.994 121.743 Q611.158 121.673 611.275 121.649 Q611.393 121.626 611.58 121.626 L617.763 121.766 L623.924 121.626 Q624.579 121.626 624.579 122.165 Z\" fill=\"#000000\" fill-rule=\"nonzero\" fill-opacity=\"1\" /><path clip-path=\"url(#clip500)\" d=\"M656.815 162.781 Q656.815 162.912 656.668 163.42 Q656.52 163.928 656.16 164.715 Q655.815 165.502 655.323 166.224 Q654.848 166.929 654.061 167.453 Q653.29 167.962 652.405 167.962 Q651.225 167.962 650.438 167.175 Q649.651 166.388 649.651 165.207 Q649.651 164.568 650.093 163.354 Q652.175 157.813 652.175 155.829 Q652.175 153.484 650.356 153.484 Q649.323 153.484 648.388 153.911 Q647.454 154.337 646.847 154.927 Q646.24 155.517 645.765 156.19 Q645.289 156.862 645.076 157.304 Q644.879 157.747 644.83 157.944 L642.814 166.043 Q642.65 166.732 642.535 167.06 Q642.42 167.388 642.109 167.667 Q641.797 167.962 641.305 167.962 Q640.895 167.962 640.6 167.716 Q640.321 167.47 640.321 167.043 Q640.321 166.978 640.403 166.634 Q640.485 166.289 640.6 165.814 Q640.715 165.338 640.764 165.06 Q641.354 162.83 641.436 162.518 L642.371 158.616 Q642.879 156.681 642.879 155.829 Q642.879 153.484 641.059 153.484 Q640.157 153.484 639.305 153.829 Q638.469 154.156 637.895 154.616 Q637.321 155.075 636.796 155.714 Q636.288 156.337 636.026 156.763 Q635.78 157.173 635.583 157.583 L635.157 159.256 Q635.058 159.715 634.583 161.502 L633.845 164.535 Q633.32 166.798 633.206 167.011 Q633.042 167.47 632.681 167.716 Q632.32 167.962 631.96 167.962 Q631.55 167.962 631.271 167.716 Q630.992 167.47 630.992 167.043 Q630.992 166.978 631.041 166.732 Q631.091 166.486 631.173 166.142 Q631.255 165.797 631.287 165.601 L633.238 157.846 Q633.599 156.435 633.681 155.993 Q633.779 155.534 633.779 155.025 Q633.779 153.484 632.73 153.484 Q631.878 153.484 631.32 154.501 Q630.763 155.517 630.287 157.485 Q630.14 158.026 630.041 158.141 Q629.959 158.255 629.713 158.255 Q629.303 158.239 629.303 157.911 Q629.303 157.829 629.435 157.304 Q629.566 156.78 629.812 155.993 Q630.074 155.189 630.353 154.665 Q630.517 154.32 630.664 154.091 Q630.812 153.861 631.107 153.501 Q631.402 153.14 631.845 152.943 Q632.287 152.746 632.829 152.746 Q634.025 152.746 634.911 153.517 Q635.813 154.288 635.927 155.665 Q638.108 152.746 641.158 152.746 Q642.879 152.746 643.912 153.615 Q644.879 154.452 644.994 155.993 Q647.257 152.746 650.47 152.746 Q652.323 152.746 653.323 153.714 Q654.323 154.665 654.323 156.337 Q654.323 157.206 653.881 158.862 Q653.438 160.502 653.143 161.321 Q652.848 162.141 652.274 163.715 Q651.667 165.224 651.667 166.109 Q651.667 166.683 651.864 166.945 Q652.061 167.207 652.487 167.207 Q653.143 167.207 653.717 166.83 Q654.291 166.437 654.7 165.797 Q655.127 165.142 655.405 164.486 Q655.684 163.814 655.897 163.059 Q656.028 162.649 656.094 162.551 Q656.176 162.453 656.406 162.453 Q656.815 162.453 656.815 162.781 Z\" fill=\"#000000\" fill-rule=\"nonzero\" fill-opacity=\"1\" /><path clip-path=\"url(#clip500)\" d=\"M666.935 146.598 Q666.935 147.319 666.345 147.861 Q665.771 148.385 665.148 148.385 Q664.574 148.385 664.213 148.041 Q663.869 147.68 663.869 147.172 Q663.869 146.5 664.443 145.942 Q665.017 145.385 665.689 145.385 Q666.247 145.385 666.591 145.729 Q666.935 146.073 666.935 146.598 M667.23 162.781 Q667.23 162.912 667.083 163.436 Q666.935 163.945 666.574 164.732 Q666.23 165.502 665.755 166.224 Q665.279 166.945 664.492 167.453 Q663.722 167.962 662.836 167.962 Q661.639 167.962 660.852 167.175 Q660.082 166.388 660.082 165.207 Q660.082 164.568 660.852 162.518 Q663.082 156.55 663.164 156.304 Q663.541 155.37 663.541 154.55 Q663.541 154.173 663.459 153.943 Q663.377 153.697 663.213 153.615 Q663.049 153.517 662.951 153.501 Q662.869 153.484 662.705 153.484 Q661.738 153.484 660.836 154.468 Q659.934 155.452 659.311 157.649 Q659.18 158.059 659.098 158.157 Q659.016 158.255 658.77 158.255 Q658.36 158.239 658.36 157.911 Q658.36 157.813 658.475 157.436 Q658.59 157.042 658.803 156.452 Q659.016 155.845 659.393 155.222 Q659.77 154.583 660.229 154.025 Q660.705 153.468 661.377 153.107 Q662.049 152.746 662.803 152.746 Q664.033 152.746 664.787 153.55 Q665.558 154.337 665.558 155.501 Q665.558 156.14 665.115 157.272 Q664.574 158.747 664.377 159.223 L663.066 162.748 Q662.59 164.027 662.443 164.42 Q662.312 164.797 662.197 165.256 Q662.098 165.699 662.098 166.109 Q662.098 166.683 662.279 166.945 Q662.476 167.207 662.902 167.207 Q664.082 167.207 664.951 166.043 Q665.82 164.863 666.329 163.059 Q666.345 163.01 666.361 162.928 Q666.492 162.518 666.624 162.469 Q666.689 162.453 666.82 162.453 Q667.23 162.453 667.23 162.781 Z\" fill=\"#000000\" fill-rule=\"nonzero\" fill-opacity=\"1\" /><path clip-path=\"url(#clip500)\" d=\"M688.29 162.781 Q688.29 162.912 688.143 163.42 Q687.995 163.928 687.635 164.715 Q687.29 165.502 686.815 166.224 Q686.339 166.929 685.552 167.453 Q684.782 167.962 683.896 167.962 Q682.716 167.962 681.929 167.175 Q681.142 166.388 681.142 165.207 Q681.142 164.551 681.486 163.65 Q683.667 157.829 683.667 155.829 Q683.667 153.484 681.847 153.484 Q680.945 153.484 680.093 153.829 Q679.256 154.156 678.683 154.616 Q678.109 155.075 677.584 155.714 Q677.076 156.337 676.813 156.763 Q676.567 157.173 676.371 157.583 L675.944 159.256 Q675.846 159.715 675.371 161.502 L674.633 164.535 Q674.108 166.798 673.993 167.011 Q673.829 167.47 673.469 167.716 Q673.108 167.962 672.747 167.962 Q672.337 167.962 672.059 167.716 Q671.78 167.47 671.78 167.043 Q671.78 166.978 671.829 166.732 Q671.878 166.486 671.96 166.142 Q672.042 165.797 672.075 165.601 L674.026 157.846 Q674.387 156.435 674.469 155.993 Q674.567 155.534 674.567 155.025 Q674.567 153.484 673.518 153.484 Q672.665 153.484 672.108 154.501 Q671.55 155.517 671.075 157.485 Q670.927 158.026 670.829 158.141 Q670.747 158.255 670.501 158.255 Q670.091 158.239 670.091 157.911 Q670.091 157.829 670.222 157.288 Q670.354 156.747 670.599 155.976 Q670.862 155.189 671.108 154.665 Q671.321 154.271 671.436 154.091 Q671.567 153.894 671.878 153.517 Q672.206 153.124 672.633 152.943 Q673.075 152.746 673.616 152.746 Q674.83 152.746 675.715 153.533 Q676.6 154.304 676.715 155.665 Q678.896 152.746 681.945 152.746 Q683.749 152.746 684.782 153.697 Q685.815 154.648 685.815 156.337 Q685.815 156.731 685.733 157.239 Q685.667 157.731 685.503 158.354 Q685.356 158.977 685.224 159.452 Q685.093 159.928 684.831 160.698 Q684.569 161.453 684.454 161.78 Q684.339 162.108 684.06 162.879 Q683.798 163.633 683.765 163.715 Q683.159 165.24 683.159 166.109 Q683.159 166.683 683.339 166.945 Q683.536 167.207 683.962 167.207 Q685.11 167.207 685.962 166.076 Q686.831 164.928 687.389 163.059 Q687.52 162.649 687.585 162.551 Q687.667 162.453 687.897 162.453 Q688.29 162.453 688.29 162.781 Z\" fill=\"#000000\" fill-rule=\"nonzero\" fill-opacity=\"1\" /></svg>\n"
      ],
      "text/html": [
       "<?xml version=\"1.0\" encoding=\"utf-8\"?>\n",
       "<svg xmlns=\"http://www.w3.org/2000/svg\" xmlns:xlink=\"http://www.w3.org/1999/xlink\" width=\"600\" height=\"400\" viewBox=\"0 0 2400 1600\">\n",
       "<defs>\n",
       "  <clipPath id=\"clip550\">\n",
       "    <rect x=\"0\" y=\"0\" width=\"2400\" height=\"1600\"/>\n",
       "  </clipPath>\n",
       "</defs>\n",
       "<path clip-path=\"url(#clip550)\" d=\"M0 1600 L2400 1600 L2400 0 L0 0  Z\" fill=\"#ffffff\" fill-rule=\"evenodd\" fill-opacity=\"1\"/>\n",
       "<defs>\n",
       "  <clipPath id=\"clip551\">\n",
       "    <rect x=\"480\" y=\"0\" width=\"1681\" height=\"1600\"/>\n",
       "  </clipPath>\n",
       "</defs>\n",
       "<path clip-path=\"url(#clip550)\" d=\"M337.944 1423.18 L2352.76 1423.18 L2352.76 47.2441 L337.944 47.2441  Z\" fill=\"#ffffff\" fill-rule=\"evenodd\" fill-opacity=\"1\"/>\n",
       "<defs>\n",
       "  <clipPath id=\"clip552\">\n",
       "    <rect x=\"337\" y=\"47\" width=\"2016\" height=\"1377\"/>\n",
       "  </clipPath>\n",
       "</defs>\n",
       "<polyline clip-path=\"url(#clip552)\" style=\"stroke:#000000; stroke-linecap:round; stroke-linejoin:round; stroke-width:2; stroke-opacity:0.1; fill:none\" points=\"394.967,1423.18 394.967,47.2441 \"/>\n",
       "<polyline clip-path=\"url(#clip552)\" style=\"stroke:#000000; stroke-linecap:round; stroke-linejoin:round; stroke-width:2; stroke-opacity:0.1; fill:none\" points=\"982.351,1423.18 982.351,47.2441 \"/>\n",
       "<polyline clip-path=\"url(#clip552)\" style=\"stroke:#000000; stroke-linecap:round; stroke-linejoin:round; stroke-width:2; stroke-opacity:0.1; fill:none\" points=\"1569.73,1423.18 1569.73,47.2441 \"/>\n",
       "<polyline clip-path=\"url(#clip552)\" style=\"stroke:#000000; stroke-linecap:round; stroke-linejoin:round; stroke-width:2; stroke-opacity:0.1; fill:none\" points=\"2157.12,1423.18 2157.12,47.2441 \"/>\n",
       "<polyline clip-path=\"url(#clip550)\" style=\"stroke:#000000; stroke-linecap:round; stroke-linejoin:round; stroke-width:4; stroke-opacity:1; fill:none\" points=\"337.944,1423.18 2352.76,1423.18 \"/>\n",
       "<polyline clip-path=\"url(#clip550)\" style=\"stroke:#000000; stroke-linecap:round; stroke-linejoin:round; stroke-width:4; stroke-opacity:1; fill:none\" points=\"394.967,1423.18 394.967,1404.28 \"/>\n",
       "<polyline clip-path=\"url(#clip550)\" style=\"stroke:#000000; stroke-linecap:round; stroke-linejoin:round; stroke-width:4; stroke-opacity:1; fill:none\" points=\"982.351,1423.18 982.351,1404.28 \"/>\n",
       "<polyline clip-path=\"url(#clip550)\" style=\"stroke:#000000; stroke-linecap:round; stroke-linejoin:round; stroke-width:4; stroke-opacity:1; fill:none\" points=\"1569.73,1423.18 1569.73,1404.28 \"/>\n",
       "<polyline clip-path=\"url(#clip550)\" style=\"stroke:#000000; stroke-linecap:round; stroke-linejoin:round; stroke-width:4; stroke-opacity:1; fill:none\" points=\"2157.12,1423.18 2157.12,1404.28 \"/>\n",
       "<path clip-path=\"url(#clip550)\" d=\"M372.965 1454.1 Q369.354 1454.1 367.525 1457.66 Q365.72 1461.2 365.72 1468.33 Q365.72 1475.44 367.525 1479.01 Q369.354 1482.55 372.965 1482.55 Q376.599 1482.55 378.405 1479.01 Q380.234 1475.44 380.234 1468.33 Q380.234 1461.2 378.405 1457.66 Q376.599 1454.1 372.965 1454.1 M372.965 1450.39 Q378.775 1450.39 381.831 1455 Q384.909 1459.58 384.909 1468.33 Q384.909 1477.06 381.831 1481.67 Q378.775 1486.25 372.965 1486.25 Q367.155 1486.25 364.076 1481.67 Q361.021 1477.06 361.021 1468.33 Q361.021 1459.58 364.076 1455 Q367.155 1450.39 372.965 1450.39 Z\" fill=\"#000000\" fill-rule=\"nonzero\" fill-opacity=\"1\" /><path clip-path=\"url(#clip550)\" d=\"M393.127 1479.7 L398.011 1479.7 L398.011 1485.58 L393.127 1485.58 L393.127 1479.7 Z\" fill=\"#000000\" fill-rule=\"nonzero\" fill-opacity=\"1\" /><path clip-path=\"url(#clip550)\" d=\"M409.007 1481.64 L416.645 1481.64 L416.645 1455.28 L408.335 1456.95 L408.335 1452.69 L416.599 1451.02 L421.275 1451.02 L421.275 1481.64 L428.914 1481.64 L428.914 1485.58 L409.007 1485.58 L409.007 1481.64 Z\" fill=\"#000000\" fill-rule=\"nonzero\" fill-opacity=\"1\" /><path clip-path=\"url(#clip550)\" d=\"M960.534 1454.1 Q956.923 1454.1 955.094 1457.66 Q953.288 1461.2 953.288 1468.33 Q953.288 1475.44 955.094 1479.01 Q956.923 1482.55 960.534 1482.55 Q964.168 1482.55 965.974 1479.01 Q967.802 1475.44 967.802 1468.33 Q967.802 1461.2 965.974 1457.66 Q964.168 1454.1 960.534 1454.1 M960.534 1450.39 Q966.344 1450.39 969.399 1455 Q972.478 1459.58 972.478 1468.33 Q972.478 1477.06 969.399 1481.67 Q966.344 1486.25 960.534 1486.25 Q954.724 1486.25 951.645 1481.67 Q948.589 1477.06 948.589 1468.33 Q948.589 1459.58 951.645 1455 Q954.724 1450.39 960.534 1450.39 Z\" fill=\"#000000\" fill-rule=\"nonzero\" fill-opacity=\"1\" /><path clip-path=\"url(#clip550)\" d=\"M980.696 1479.7 L985.58 1479.7 L985.58 1485.58 L980.696 1485.58 L980.696 1479.7 Z\" fill=\"#000000\" fill-rule=\"nonzero\" fill-opacity=\"1\" /><path clip-path=\"url(#clip550)\" d=\"M999.793 1481.64 L1016.11 1481.64 L1016.11 1485.58 L994.168 1485.58 L994.168 1481.64 Q996.83 1478.89 1001.41 1474.26 Q1006.02 1469.61 1007.2 1468.27 Q1009.45 1465.74 1010.33 1464.01 Q1011.23 1462.25 1011.23 1460.56 Q1011.23 1457.8 1009.28 1456.07 Q1007.36 1454.33 1004.26 1454.33 Q1002.06 1454.33 999.608 1455.09 Q997.177 1455.86 994.399 1457.41 L994.399 1452.69 Q997.223 1451.55 999.677 1450.97 Q1002.13 1450.39 1004.17 1450.39 Q1009.54 1450.39 1012.73 1453.08 Q1015.93 1455.77 1015.93 1460.26 Q1015.93 1462.39 1015.12 1464.31 Q1014.33 1466.2 1012.22 1468.8 Q1011.64 1469.47 1008.54 1472.69 Q1005.44 1475.88 999.793 1481.64 Z\" fill=\"#000000\" fill-rule=\"nonzero\" fill-opacity=\"1\" /><path clip-path=\"url(#clip550)\" d=\"M1547.44 1454.1 Q1543.83 1454.1 1542 1457.66 Q1540.2 1461.2 1540.2 1468.33 Q1540.2 1475.44 1542 1479.01 Q1543.83 1482.55 1547.44 1482.55 Q1551.08 1482.55 1552.88 1479.01 Q1554.71 1475.44 1554.71 1468.33 Q1554.71 1461.2 1552.88 1457.66 Q1551.08 1454.1 1547.44 1454.1 M1547.44 1450.39 Q1553.25 1450.39 1556.31 1455 Q1559.39 1459.58 1559.39 1468.33 Q1559.39 1477.06 1556.31 1481.67 Q1553.25 1486.25 1547.44 1486.25 Q1541.63 1486.25 1538.55 1481.67 Q1535.5 1477.06 1535.5 1468.33 Q1535.5 1459.58 1538.55 1455 Q1541.63 1450.39 1547.44 1450.39 Z\" fill=\"#000000\" fill-rule=\"nonzero\" fill-opacity=\"1\" /><path clip-path=\"url(#clip550)\" d=\"M1567.6 1479.7 L1572.49 1479.7 L1572.49 1485.58 L1567.6 1485.58 L1567.6 1479.7 Z\" fill=\"#000000\" fill-rule=\"nonzero\" fill-opacity=\"1\" /><path clip-path=\"url(#clip550)\" d=\"M1596.84 1466.95 Q1600.2 1467.66 1602.07 1469.93 Q1603.97 1472.2 1603.97 1475.53 Q1603.97 1480.65 1600.45 1483.45 Q1596.93 1486.25 1590.45 1486.25 Q1588.28 1486.25 1585.96 1485.81 Q1583.67 1485.39 1581.22 1484.54 L1581.22 1480.02 Q1583.16 1481.16 1585.47 1481.74 Q1587.79 1482.32 1590.31 1482.32 Q1594.71 1482.32 1597 1480.58 Q1599.32 1478.84 1599.32 1475.53 Q1599.32 1472.48 1597.16 1470.77 Q1595.03 1469.03 1591.22 1469.03 L1587.19 1469.03 L1587.19 1465.19 L1591.4 1465.19 Q1594.85 1465.19 1596.68 1463.82 Q1598.51 1462.43 1598.51 1459.84 Q1598.51 1457.18 1596.61 1455.77 Q1594.73 1454.33 1591.22 1454.33 Q1589.29 1454.33 1587.1 1454.75 Q1584.9 1455.16 1582.26 1456.04 L1582.26 1451.88 Q1584.92 1451.14 1587.23 1450.77 Q1589.57 1450.39 1591.63 1450.39 Q1596.96 1450.39 1600.06 1452.83 Q1603.16 1455.23 1603.16 1459.35 Q1603.16 1462.22 1601.52 1464.21 Q1599.87 1466.18 1596.84 1466.95 Z\" fill=\"#000000\" fill-rule=\"nonzero\" fill-opacity=\"1\" /><path clip-path=\"url(#clip550)\" d=\"M2134.26 1454.1 Q2130.65 1454.1 2128.82 1457.66 Q2127.01 1461.2 2127.01 1468.33 Q2127.01 1475.44 2128.82 1479.01 Q2130.65 1482.55 2134.26 1482.55 Q2137.89 1482.55 2139.7 1479.01 Q2141.53 1475.44 2141.53 1468.33 Q2141.53 1461.2 2139.7 1457.66 Q2137.89 1454.1 2134.26 1454.1 M2134.26 1450.39 Q2140.07 1450.39 2143.12 1455 Q2146.2 1459.58 2146.2 1468.33 Q2146.2 1477.06 2143.12 1481.67 Q2140.07 1486.25 2134.26 1486.25 Q2128.45 1486.25 2125.37 1481.67 Q2122.31 1477.06 2122.31 1468.33 Q2122.31 1459.58 2125.37 1455 Q2128.45 1450.39 2134.26 1450.39 Z\" fill=\"#000000\" fill-rule=\"nonzero\" fill-opacity=\"1\" /><path clip-path=\"url(#clip550)\" d=\"M2154.42 1479.7 L2159.31 1479.7 L2159.31 1485.58 L2154.42 1485.58 L2154.42 1479.7 Z\" fill=\"#000000\" fill-rule=\"nonzero\" fill-opacity=\"1\" /><path clip-path=\"url(#clip550)\" d=\"M2182.34 1455.09 L2170.53 1473.54 L2182.34 1473.54 L2182.34 1455.09 M2181.11 1451.02 L2186.99 1451.02 L2186.99 1473.54 L2191.92 1473.54 L2191.92 1477.43 L2186.99 1477.43 L2186.99 1485.58 L2182.34 1485.58 L2182.34 1477.43 L2166.74 1477.43 L2166.74 1472.92 L2181.11 1451.02 Z\" fill=\"#000000\" fill-rule=\"nonzero\" fill-opacity=\"1\" /><path clip-path=\"url(#clip550)\" d=\"M1357.84 1518.43 Q1357.84 1518.91 1357.49 1519.62 Q1357.16 1520.26 1356.49 1520.68 Q1355.84 1521.07 1355.14 1521.07 Q1354.91 1521.07 1354.39 1520.94 Q1353.53 1520.55 1352.17 1519.69 Q1350.82 1518.82 1349.6 1518.27 Q1348.4 1517.69 1347.08 1517.62 Q1345.92 1517.62 1344.96 1518.04 Q1344.09 1518.53 1343.51 1519.56 Q1343.25 1519.98 1343.25 1520.68 Q1343.25 1521.68 1343.8 1523 Q1344.35 1524.32 1345.47 1526.03 Q1346.63 1527.74 1347.47 1528.9 Q1348.31 1530.02 1349.76 1531.89 Q1349.89 1532.05 1349.95 1532.15 Q1350.01 1532.21 1350.11 1532.37 Q1350.21 1532.5 1350.3 1532.6 Q1353.36 1536.43 1354.14 1540.65 Q1354.33 1542.13 1354.33 1543.68 Q1354.33 1546.77 1353.4 1550.41 Q1352.59 1553.73 1350.88 1556.59 Q1349.18 1559.43 1346.6 1561.3 Q1344.06 1563.16 1341.29 1563.16 Q1338.55 1563.16 1336.3 1561.97 Q1334.04 1560.75 1332.69 1558.65 Q1330.85 1555.88 1330.85 1552.05 Q1330.85 1549.89 1331.37 1548.06 Q1332.08 1545.13 1333.75 1542.42 Q1335.43 1539.72 1337.84 1537.62 Q1341.51 1534.53 1345.51 1533.66 Q1343.64 1530.12 1342.54 1527.38 Q1341.48 1524.61 1341.48 1522.26 Q1341.48 1520.2 1342.25 1518.88 Q1342.93 1517.46 1344.31 1516.66 Q1345.47 1515.95 1347.15 1515.6 Q1348.18 1515.47 1348.86 1515.47 Q1351.14 1515.47 1356.46 1516.72 Q1357.84 1517.04 1357.84 1518.43 M1349.79 1546.32 Q1349.79 1544.35 1349.47 1543.03 Q1348.86 1539.81 1346.41 1535.37 L1346.21 1535.05 Q1343.09 1535.95 1340.55 1538.69 Q1337.36 1542.04 1335.75 1548.38 Q1334.88 1551.92 1334.88 1553.92 Q1334.88 1556.08 1335.68 1557.95 Q1336.46 1559.68 1337.91 1560.68 Q1339.39 1561.68 1341.35 1561.68 Q1342.83 1561.68 1344.12 1560.84 Q1345.41 1559.97 1346.34 1558.46 Q1347.28 1556.95 1347.92 1555.3 Q1348.6 1553.63 1349.11 1551.67 Q1349.79 1549.02 1349.79 1546.32 Z\" fill=\"#000000\" fill-rule=\"nonzero\" fill-opacity=\"1\" /><polyline clip-path=\"url(#clip552)\" style=\"stroke:#000000; stroke-linecap:round; stroke-linejoin:round; stroke-width:2; stroke-opacity:0.1; fill:none\" points=\"337.944,1339.36 2352.76,1339.36 \"/>\n",
       "<polyline clip-path=\"url(#clip552)\" style=\"stroke:#000000; stroke-linecap:round; stroke-linejoin:round; stroke-width:2; stroke-opacity:0.1; fill:none\" points=\"337.944,1060.4 2352.76,1060.4 \"/>\n",
       "<polyline clip-path=\"url(#clip552)\" style=\"stroke:#000000; stroke-linecap:round; stroke-linejoin:round; stroke-width:2; stroke-opacity:0.1; fill:none\" points=\"337.944,781.442 2352.76,781.442 \"/>\n",
       "<polyline clip-path=\"url(#clip552)\" style=\"stroke:#000000; stroke-linecap:round; stroke-linejoin:round; stroke-width:2; stroke-opacity:0.1; fill:none\" points=\"337.944,502.484 2352.76,502.484 \"/>\n",
       "<polyline clip-path=\"url(#clip552)\" style=\"stroke:#000000; stroke-linecap:round; stroke-linejoin:round; stroke-width:2; stroke-opacity:0.1; fill:none\" points=\"337.944,223.526 2352.76,223.526 \"/>\n",
       "<polyline clip-path=\"url(#clip550)\" style=\"stroke:#000000; stroke-linecap:round; stroke-linejoin:round; stroke-width:4; stroke-opacity:1; fill:none\" points=\"337.944,1423.18 337.944,47.2441 \"/>\n",
       "<polyline clip-path=\"url(#clip550)\" style=\"stroke:#000000; stroke-linecap:round; stroke-linejoin:round; stroke-width:4; stroke-opacity:1; fill:none\" points=\"337.944,1339.36 356.842,1339.36 \"/>\n",
       "<polyline clip-path=\"url(#clip550)\" style=\"stroke:#000000; stroke-linecap:round; stroke-linejoin:round; stroke-width:4; stroke-opacity:1; fill:none\" points=\"337.944,1060.4 356.842,1060.4 \"/>\n",
       "<polyline clip-path=\"url(#clip550)\" style=\"stroke:#000000; stroke-linecap:round; stroke-linejoin:round; stroke-width:4; stroke-opacity:1; fill:none\" points=\"337.944,781.442 356.842,781.442 \"/>\n",
       "<polyline clip-path=\"url(#clip550)\" style=\"stroke:#000000; stroke-linecap:round; stroke-linejoin:round; stroke-width:4; stroke-opacity:1; fill:none\" points=\"337.944,502.484 356.842,502.484 \"/>\n",
       "<polyline clip-path=\"url(#clip550)\" style=\"stroke:#000000; stroke-linecap:round; stroke-linejoin:round; stroke-width:4; stroke-opacity:1; fill:none\" points=\"337.944,223.526 356.842,223.526 \"/>\n",
       "<path clip-path=\"url(#clip550)\" d=\"M115.927 1352.7 L123.566 1352.7 L123.566 1326.34 L115.256 1328 L115.256 1323.74 L123.519 1322.08 L128.195 1322.08 L128.195 1352.7 L135.834 1352.7 L135.834 1356.64 L115.927 1356.64 L115.927 1352.7 Z\" fill=\"#000000\" fill-rule=\"nonzero\" fill-opacity=\"1\" /><path clip-path=\"url(#clip550)\" d=\"M145.279 1350.76 L150.163 1350.76 L150.163 1356.64 L145.279 1356.64 L145.279 1350.76 Z\" fill=\"#000000\" fill-rule=\"nonzero\" fill-opacity=\"1\" /><path clip-path=\"url(#clip550)\" d=\"M173.195 1326.15 L161.39 1344.6 L173.195 1344.6 L173.195 1326.15 M171.968 1322.08 L177.848 1322.08 L177.848 1344.6 L182.778 1344.6 L182.778 1348.49 L177.848 1348.49 L177.848 1356.64 L173.195 1356.64 L173.195 1348.49 L157.593 1348.49 L157.593 1343.98 L171.968 1322.08 Z\" fill=\"#000000\" fill-rule=\"nonzero\" fill-opacity=\"1\" /><path clip-path=\"url(#clip550)\" d=\"M191.32 1352.7 L198.959 1352.7 L198.959 1326.34 L190.649 1328 L190.649 1323.74 L198.912 1322.08 L203.588 1322.08 L203.588 1352.7 L211.227 1352.7 L211.227 1356.64 L191.32 1356.64 L191.32 1352.7 Z\" fill=\"#000000\" fill-rule=\"nonzero\" fill-opacity=\"1\" /><path clip-path=\"url(#clip550)\" d=\"M234.838 1338 Q238.195 1338.72 240.07 1340.99 Q241.968 1343.26 241.968 1346.59 Q241.968 1351.71 238.449 1354.51 Q234.931 1357.31 228.449 1357.31 Q226.273 1357.31 223.959 1356.87 Q221.667 1356.45 219.213 1355.6 L219.213 1351.08 Q221.158 1352.22 223.473 1352.79 Q225.787 1353.37 228.31 1353.37 Q232.709 1353.37 235 1351.64 Q237.315 1349.9 237.315 1346.59 Q237.315 1343.54 235.162 1341.82 Q233.033 1340.09 229.213 1340.09 L225.185 1340.09 L225.185 1336.24 L229.398 1336.24 Q232.847 1336.24 234.676 1334.88 Q236.505 1333.49 236.505 1330.9 Q236.505 1328.23 234.607 1326.82 Q232.732 1325.39 229.213 1325.39 Q227.292 1325.39 225.093 1325.8 Q222.894 1326.22 220.255 1327.1 L220.255 1322.93 Q222.917 1322.19 225.232 1321.82 Q227.57 1321.45 229.63 1321.45 Q234.954 1321.45 238.056 1323.88 Q241.158 1326.29 241.158 1330.41 Q241.158 1333.28 239.514 1335.27 Q237.871 1337.24 234.838 1338 Z\" fill=\"#000000\" fill-rule=\"nonzero\" fill-opacity=\"1\" /><path clip-path=\"url(#clip550)\" d=\"M254.861 1352.7 L271.181 1352.7 L271.181 1356.64 L249.236 1356.64 L249.236 1352.7 Q251.898 1349.95 256.482 1345.32 Q261.088 1340.67 262.269 1339.32 Q264.514 1336.8 265.394 1335.06 Q266.296 1333.3 266.296 1331.61 Q266.296 1328.86 264.352 1327.12 Q262.431 1325.39 259.329 1325.39 Q257.13 1325.39 254.676 1326.15 Q252.246 1326.92 249.468 1328.47 L249.468 1323.74 Q252.292 1322.61 254.746 1322.03 Q257.199 1321.45 259.236 1321.45 Q264.607 1321.45 267.801 1324.14 Q270.995 1326.82 270.995 1331.31 Q270.995 1333.44 270.185 1335.36 Q269.398 1337.26 267.292 1339.86 Q266.713 1340.53 263.611 1343.74 Q260.509 1346.94 254.861 1352.7 Z\" fill=\"#000000\" fill-rule=\"nonzero\" fill-opacity=\"1\" /><path clip-path=\"url(#clip550)\" d=\"M281.042 1322.08 L299.398 1322.08 L299.398 1326.01 L285.324 1326.01 L285.324 1334.48 Q286.343 1334.14 287.361 1333.98 Q288.38 1333.79 289.398 1333.79 Q295.185 1333.79 298.565 1336.96 Q301.944 1340.13 301.944 1345.55 Q301.944 1351.13 298.472 1354.23 Q295 1357.31 288.681 1357.31 Q286.505 1357.31 284.236 1356.94 Q281.991 1356.57 279.583 1355.83 L279.583 1351.13 Q281.667 1352.26 283.889 1352.82 Q286.111 1353.37 288.588 1353.37 Q292.593 1353.37 294.93 1351.27 Q297.268 1349.16 297.268 1345.55 Q297.268 1341.94 294.93 1339.83 Q292.593 1337.73 288.588 1337.73 Q286.713 1337.73 284.838 1338.14 Q282.986 1338.56 281.042 1339.44 L281.042 1322.08 Z\" fill=\"#000000\" fill-rule=\"nonzero\" fill-opacity=\"1\" /><path clip-path=\"url(#clip550)\" d=\"M114.931 1073.74 L122.57 1073.74 L122.57 1047.38 L114.26 1049.05 L114.26 1044.79 L122.524 1043.12 L127.2 1043.12 L127.2 1073.74 L134.839 1073.74 L134.839 1077.68 L114.931 1077.68 L114.931 1073.74 Z\" fill=\"#000000\" fill-rule=\"nonzero\" fill-opacity=\"1\" /><path clip-path=\"url(#clip550)\" d=\"M144.283 1071.8 L149.167 1071.8 L149.167 1077.68 L144.283 1077.68 L144.283 1071.8 Z\" fill=\"#000000\" fill-rule=\"nonzero\" fill-opacity=\"1\" /><path clip-path=\"url(#clip550)\" d=\"M172.2 1047.19 L160.394 1065.64 L172.2 1065.64 L172.2 1047.19 M170.973 1043.12 L176.852 1043.12 L176.852 1065.64 L181.783 1065.64 L181.783 1069.53 L176.852 1069.53 L176.852 1077.68 L172.2 1077.68 L172.2 1069.53 L156.598 1069.53 L156.598 1065.02 L170.973 1043.12 Z\" fill=\"#000000\" fill-rule=\"nonzero\" fill-opacity=\"1\" /><path clip-path=\"url(#clip550)\" d=\"M190.325 1073.74 L197.963 1073.74 L197.963 1047.38 L189.653 1049.05 L189.653 1044.79 L197.917 1043.12 L202.593 1043.12 L202.593 1073.74 L210.232 1073.74 L210.232 1077.68 L190.325 1077.68 L190.325 1073.74 Z\" fill=\"#000000\" fill-rule=\"nonzero\" fill-opacity=\"1\" /><path clip-path=\"url(#clip550)\" d=\"M233.843 1059.05 Q237.199 1059.76 239.074 1062.03 Q240.972 1064.3 240.972 1067.63 Q240.972 1072.75 237.454 1075.55 Q233.935 1078.35 227.454 1078.35 Q225.278 1078.35 222.963 1077.91 Q220.672 1077.49 218.218 1076.64 L218.218 1072.12 Q220.162 1073.26 222.477 1073.84 Q224.792 1074.42 227.315 1074.42 Q231.713 1074.42 234.005 1072.68 Q236.32 1070.94 236.32 1067.63 Q236.32 1064.58 234.167 1062.86 Q232.037 1061.13 228.218 1061.13 L224.19 1061.13 L224.19 1057.29 L228.403 1057.29 Q231.852 1057.29 233.681 1055.92 Q235.51 1054.53 235.51 1051.94 Q235.51 1049.28 233.611 1047.86 Q231.736 1046.43 228.218 1046.43 Q226.297 1046.43 224.098 1046.85 Q221.898 1047.26 219.26 1048.14 L219.26 1043.98 Q221.922 1043.24 224.236 1042.86 Q226.574 1042.49 228.635 1042.49 Q233.959 1042.49 237.06 1044.93 Q240.162 1047.33 240.162 1051.45 Q240.162 1054.32 238.519 1056.31 Q236.875 1058.28 233.843 1059.05 Z\" fill=\"#000000\" fill-rule=\"nonzero\" fill-opacity=\"1\" /><path clip-path=\"url(#clip550)\" d=\"M249.884 1043.12 L268.241 1043.12 L268.241 1047.05 L254.167 1047.05 L254.167 1055.53 Q255.185 1055.18 256.204 1055.02 Q257.222 1054.83 258.241 1054.83 Q264.028 1054.83 267.407 1058 Q270.787 1061.18 270.787 1066.59 Q270.787 1072.17 267.315 1075.27 Q263.843 1078.35 257.523 1078.35 Q255.347 1078.35 253.079 1077.98 Q250.833 1077.61 248.426 1076.87 L248.426 1072.17 Q250.509 1073.3 252.732 1073.86 Q254.954 1074.42 257.431 1074.42 Q261.435 1074.42 263.773 1072.31 Q266.111 1070.2 266.111 1066.59 Q266.111 1062.98 263.773 1060.87 Q261.435 1058.77 257.431 1058.77 Q255.556 1058.77 253.681 1059.18 Q251.829 1059.6 249.884 1060.48 L249.884 1043.12 Z\" fill=\"#000000\" fill-rule=\"nonzero\" fill-opacity=\"1\" /><path clip-path=\"url(#clip550)\" d=\"M290 1046.2 Q286.389 1046.2 284.56 1049.76 Q282.755 1053.3 282.755 1060.43 Q282.755 1067.54 284.56 1071.11 Q286.389 1074.65 290 1074.65 Q293.634 1074.65 295.44 1071.11 Q297.268 1067.54 297.268 1060.43 Q297.268 1053.3 295.44 1049.76 Q293.634 1046.2 290 1046.2 M290 1042.49 Q295.81 1042.49 298.866 1047.1 Q301.944 1051.68 301.944 1060.43 Q301.944 1069.16 298.866 1073.77 Q295.81 1078.35 290 1078.35 Q284.19 1078.35 281.111 1073.77 Q278.056 1069.16 278.056 1060.43 Q278.056 1051.68 281.111 1047.1 Q284.19 1042.49 290 1042.49 Z\" fill=\"#000000\" fill-rule=\"nonzero\" fill-opacity=\"1\" /><path clip-path=\"url(#clip550)\" d=\"M115.927 794.787 L123.566 794.787 L123.566 768.421 L115.256 770.088 L115.256 765.828 L123.519 764.162 L128.195 764.162 L128.195 794.787 L135.834 794.787 L135.834 798.722 L115.927 798.722 L115.927 794.787 Z\" fill=\"#000000\" fill-rule=\"nonzero\" fill-opacity=\"1\" /><path clip-path=\"url(#clip550)\" d=\"M145.279 792.842 L150.163 792.842 L150.163 798.722 L145.279 798.722 L145.279 792.842 Z\" fill=\"#000000\" fill-rule=\"nonzero\" fill-opacity=\"1\" /><path clip-path=\"url(#clip550)\" d=\"M173.195 768.236 L161.39 786.685 L173.195 786.685 L173.195 768.236 M171.968 764.162 L177.848 764.162 L177.848 786.685 L182.778 786.685 L182.778 790.574 L177.848 790.574 L177.848 798.722 L173.195 798.722 L173.195 790.574 L157.593 790.574 L157.593 786.06 L171.968 764.162 Z\" fill=\"#000000\" fill-rule=\"nonzero\" fill-opacity=\"1\" /><path clip-path=\"url(#clip550)\" d=\"M191.32 794.787 L198.959 794.787 L198.959 768.421 L190.649 770.088 L190.649 765.828 L198.912 764.162 L203.588 764.162 L203.588 794.787 L211.227 794.787 L211.227 798.722 L191.32 798.722 L191.32 794.787 Z\" fill=\"#000000\" fill-rule=\"nonzero\" fill-opacity=\"1\" /><path clip-path=\"url(#clip550)\" d=\"M234.838 780.088 Q238.195 780.805 240.07 783.074 Q241.968 785.342 241.968 788.675 Q241.968 793.791 238.449 796.592 Q234.931 799.393 228.449 799.393 Q226.273 799.393 223.959 798.953 Q221.667 798.537 219.213 797.68 L219.213 793.166 Q221.158 794.3 223.473 794.879 Q225.787 795.458 228.31 795.458 Q232.709 795.458 235 793.722 Q237.315 791.986 237.315 788.675 Q237.315 785.62 235.162 783.907 Q233.033 782.171 229.213 782.171 L225.185 782.171 L225.185 778.328 L229.398 778.328 Q232.847 778.328 234.676 776.963 Q236.505 775.574 236.505 772.981 Q236.505 770.319 234.607 768.907 Q232.732 767.472 229.213 767.472 Q227.292 767.472 225.093 767.889 Q222.894 768.305 220.255 769.185 L220.255 765.018 Q222.917 764.277 225.232 763.907 Q227.57 763.537 229.63 763.537 Q234.954 763.537 238.056 765.967 Q241.158 768.375 241.158 772.495 Q241.158 775.365 239.514 777.356 Q237.871 779.324 234.838 780.088 Z\" fill=\"#000000\" fill-rule=\"nonzero\" fill-opacity=\"1\" /><path clip-path=\"url(#clip550)\" d=\"M249.653 764.162 L271.875 764.162 L271.875 766.152 L259.329 798.722 L254.445 798.722 L266.25 768.097 L249.653 768.097 L249.653 764.162 Z\" fill=\"#000000\" fill-rule=\"nonzero\" fill-opacity=\"1\" /><path clip-path=\"url(#clip550)\" d=\"M281.042 764.162 L299.398 764.162 L299.398 768.097 L285.324 768.097 L285.324 776.569 Q286.343 776.222 287.361 776.06 Q288.38 775.875 289.398 775.875 Q295.185 775.875 298.565 779.046 Q301.944 782.217 301.944 787.634 Q301.944 793.212 298.472 796.314 Q295 799.393 288.681 799.393 Q286.505 799.393 284.236 799.023 Q281.991 798.652 279.583 797.912 L279.583 793.212 Q281.667 794.347 283.889 794.902 Q286.111 795.458 288.588 795.458 Q292.593 795.458 294.93 793.351 Q297.268 791.245 297.268 787.634 Q297.268 784.023 294.93 781.916 Q292.593 779.81 288.588 779.81 Q286.713 779.81 284.838 780.226 Q282.986 780.643 281.042 781.523 L281.042 764.162 Z\" fill=\"#000000\" fill-rule=\"nonzero\" fill-opacity=\"1\" /><path clip-path=\"url(#clip550)\" d=\"M114.931 515.829 L122.57 515.829 L122.57 489.463 L114.26 491.13 L114.26 486.871 L122.524 485.204 L127.2 485.204 L127.2 515.829 L134.839 515.829 L134.839 519.764 L114.931 519.764 L114.931 515.829 Z\" fill=\"#000000\" fill-rule=\"nonzero\" fill-opacity=\"1\" /><path clip-path=\"url(#clip550)\" d=\"M144.283 513.884 L149.167 513.884 L149.167 519.764 L144.283 519.764 L144.283 513.884 Z\" fill=\"#000000\" fill-rule=\"nonzero\" fill-opacity=\"1\" /><path clip-path=\"url(#clip550)\" d=\"M172.2 489.278 L160.394 507.727 L172.2 507.727 L172.2 489.278 M170.973 485.204 L176.852 485.204 L176.852 507.727 L181.783 507.727 L181.783 511.616 L176.852 511.616 L176.852 519.764 L172.2 519.764 L172.2 511.616 L156.598 511.616 L156.598 507.102 L170.973 485.204 Z\" fill=\"#000000\" fill-rule=\"nonzero\" fill-opacity=\"1\" /><path clip-path=\"url(#clip550)\" d=\"M190.325 515.829 L197.963 515.829 L197.963 489.463 L189.653 491.13 L189.653 486.871 L197.917 485.204 L202.593 485.204 L202.593 515.829 L210.232 515.829 L210.232 519.764 L190.325 519.764 L190.325 515.829 Z\" fill=\"#000000\" fill-rule=\"nonzero\" fill-opacity=\"1\" /><path clip-path=\"url(#clip550)\" d=\"M232.523 489.278 L220.718 507.727 L232.523 507.727 L232.523 489.278 M231.297 485.204 L237.176 485.204 L237.176 507.727 L242.107 507.727 L242.107 511.616 L237.176 511.616 L237.176 519.764 L232.523 519.764 L232.523 511.616 L216.922 511.616 L216.922 507.102 L231.297 485.204 Z\" fill=\"#000000\" fill-rule=\"nonzero\" fill-opacity=\"1\" /><path clip-path=\"url(#clip550)\" d=\"M259.838 488.283 Q256.227 488.283 254.398 491.847 Q252.593 495.389 252.593 502.519 Q252.593 509.625 254.398 513.19 Q256.227 516.731 259.838 516.731 Q263.472 516.731 265.278 513.19 Q267.107 509.625 267.107 502.519 Q267.107 495.389 265.278 491.847 Q263.472 488.283 259.838 488.283 M259.838 484.579 Q265.648 484.579 268.704 489.185 Q271.782 493.769 271.782 502.519 Q271.782 511.245 268.704 515.852 Q265.648 520.435 259.838 520.435 Q254.028 520.435 250.949 515.852 Q247.894 511.245 247.894 502.519 Q247.894 493.769 250.949 489.185 Q254.028 484.579 259.838 484.579 Z\" fill=\"#000000\" fill-rule=\"nonzero\" fill-opacity=\"1\" /><path clip-path=\"url(#clip550)\" d=\"M290 488.283 Q286.389 488.283 284.56 491.847 Q282.755 495.389 282.755 502.519 Q282.755 509.625 284.56 513.19 Q286.389 516.731 290 516.731 Q293.634 516.731 295.44 513.19 Q297.268 509.625 297.268 502.519 Q297.268 495.389 295.44 491.847 Q293.634 488.283 290 488.283 M290 484.579 Q295.81 484.579 298.866 489.185 Q301.944 493.769 301.944 502.519 Q301.944 511.245 298.866 515.852 Q295.81 520.435 290 520.435 Q284.19 520.435 281.111 515.852 Q278.056 511.245 278.056 502.519 Q278.056 493.769 281.111 489.185 Q284.19 484.579 290 484.579 Z\" fill=\"#000000\" fill-rule=\"nonzero\" fill-opacity=\"1\" /><path clip-path=\"url(#clip550)\" d=\"M115.927 236.871 L123.566 236.871 L123.566 210.505 L115.256 212.172 L115.256 207.913 L123.519 206.246 L128.195 206.246 L128.195 236.871 L135.834 236.871 L135.834 240.806 L115.927 240.806 L115.927 236.871 Z\" fill=\"#000000\" fill-rule=\"nonzero\" fill-opacity=\"1\" /><path clip-path=\"url(#clip550)\" d=\"M145.279 234.926 L150.163 234.926 L150.163 240.806 L145.279 240.806 L145.279 234.926 Z\" fill=\"#000000\" fill-rule=\"nonzero\" fill-opacity=\"1\" /><path clip-path=\"url(#clip550)\" d=\"M173.195 210.32 L161.39 228.769 L173.195 228.769 L173.195 210.32 M171.968 206.246 L177.848 206.246 L177.848 228.769 L182.778 228.769 L182.778 232.658 L177.848 232.658 L177.848 240.806 L173.195 240.806 L173.195 232.658 L157.593 232.658 L157.593 228.144 L171.968 206.246 Z\" fill=\"#000000\" fill-rule=\"nonzero\" fill-opacity=\"1\" /><path clip-path=\"url(#clip550)\" d=\"M191.32 236.871 L198.959 236.871 L198.959 210.505 L190.649 212.172 L190.649 207.913 L198.912 206.246 L203.588 206.246 L203.588 236.871 L211.227 236.871 L211.227 240.806 L191.32 240.806 L191.32 236.871 Z\" fill=\"#000000\" fill-rule=\"nonzero\" fill-opacity=\"1\" /><path clip-path=\"url(#clip550)\" d=\"M233.519 210.32 L221.713 228.769 L233.519 228.769 L233.519 210.32 M232.292 206.246 L238.172 206.246 L238.172 228.769 L243.102 228.769 L243.102 232.658 L238.172 232.658 L238.172 240.806 L233.519 240.806 L233.519 232.658 L217.917 232.658 L217.917 228.144 L232.292 206.246 Z\" fill=\"#000000\" fill-rule=\"nonzero\" fill-opacity=\"1\" /><path clip-path=\"url(#clip550)\" d=\"M254.861 236.871 L271.181 236.871 L271.181 240.806 L249.236 240.806 L249.236 236.871 Q251.898 234.116 256.482 229.487 Q261.088 224.834 262.269 223.491 Q264.514 220.968 265.394 219.232 Q266.296 217.473 266.296 215.783 Q266.296 213.028 264.352 211.292 Q262.431 209.556 259.329 209.556 Q257.13 209.556 254.676 210.32 Q252.246 211.084 249.468 212.635 L249.468 207.913 Q252.292 206.778 254.746 206.2 Q257.199 205.621 259.236 205.621 Q264.607 205.621 267.801 208.306 Q270.995 210.991 270.995 215.482 Q270.995 217.612 270.185 219.533 Q269.398 221.431 267.292 224.024 Q266.713 224.695 263.611 227.913 Q260.509 231.107 254.861 236.871 Z\" fill=\"#000000\" fill-rule=\"nonzero\" fill-opacity=\"1\" /><path clip-path=\"url(#clip550)\" d=\"M281.042 206.246 L299.398 206.246 L299.398 210.181 L285.324 210.181 L285.324 218.653 Q286.343 218.306 287.361 218.144 Q288.38 217.959 289.398 217.959 Q295.185 217.959 298.565 221.13 Q301.944 224.301 301.944 229.718 Q301.944 235.297 298.472 238.399 Q295 241.477 288.681 241.477 Q286.505 241.477 284.236 241.107 Q281.991 240.737 279.583 239.996 L279.583 235.297 Q281.667 236.431 283.889 236.987 Q286.111 237.542 288.588 237.542 Q292.593 237.542 294.93 235.436 Q297.268 233.329 297.268 229.718 Q297.268 226.107 294.93 224.001 Q292.593 221.894 288.588 221.894 Q286.713 221.894 284.838 222.311 Q282.986 222.727 281.042 223.607 L281.042 206.246 Z\" fill=\"#000000\" fill-rule=\"nonzero\" fill-opacity=\"1\" /><path clip-path=\"url(#clip550)\" d=\"M18.419 755.979 Q19.353 755.979 19.5462 756.398 Q19.7394 756.785 19.7394 758.202 Q19.7394 760.617 20.0615 761.712 Q20.3513 762.775 20.8666 763.097 Q21.3497 763.387 22.7668 763.741 L58.3865 772.662 Q58.4187 772.662 58.8695 772.759 Q59.2882 772.855 59.5137 772.855 Q59.9323 772.855 60.19 772.598 Q60.4476 772.308 60.5765 771.599 Q60.6731 770.891 60.7053 770.343 Q60.7053 769.764 60.7053 768.572 Q60.7053 767.09 60.9629 766.865 Q61.124 766.736 61.4138 766.736 Q62.0257 766.736 62.3478 766.994 Q62.6376 767.219 62.702 767.445 Q62.7343 767.638 62.7343 768.024 Q62.7343 768.701 62.6698 770.15 Q62.6054 771.599 62.6054 772.34 L62.541 776.559 L62.7343 784.933 Q62.7343 785.834 61.9935 785.834 Q61.3494 785.834 61.0595 785.609 Q60.7697 785.383 60.7375 785.158 Q60.7053 784.9 60.7053 784.256 Q60.7053 780.939 60.3832 779.844 Q60.029 778.717 58.5153 778.266 L40.319 773.725 L40.319 793.821 L58.3865 798.33 Q58.4187 798.33 58.8695 798.427 Q59.2882 798.523 59.5137 798.523 Q59.9323 798.523 60.19 798.266 Q60.4476 797.976 60.5765 797.267 Q60.6731 796.559 60.7053 796.011 Q60.7053 795.432 60.7053 794.24 Q60.7053 792.759 60.9629 792.501 Q61.124 792.372 61.4138 792.372 Q61.8647 792.372 62.1868 792.501 Q62.4766 792.598 62.5732 792.855 Q62.6698 793.081 62.702 793.242 Q62.7343 793.403 62.7343 793.693 Q62.7343 794.369 62.6698 795.818 Q62.6054 797.235 62.6054 797.976 L62.541 802.195 L62.7343 810.568 Q62.7343 811.502 61.9935 811.502 Q61.3494 811.502 61.0918 811.277 Q60.8019 811.051 60.7697 810.762 Q60.7053 810.472 60.7053 809.731 Q60.7053 808.121 60.6087 807.155 Q60.512 806.188 60.3832 805.576 Q60.2222 804.932 59.7713 804.61 Q59.3204 804.256 58.934 804.095 Q58.5153 803.934 57.5813 803.709 L22.1549 794.884 Q21.0921 794.627 20.931 794.627 Q20.3191 794.627 20.1581 795.013 Q19.9649 795.367 19.8682 796.398 L19.7394 798.91 Q19.7394 799.683 19.7072 800.005 Q19.675 800.295 19.514 800.52 Q19.353 800.746 18.9987 800.746 Q18.5478 800.746 18.258 800.649 Q17.9359 800.52 17.8393 800.295 Q17.7427 800.069 17.7105 799.908 Q17.6783 799.747 17.6783 799.49 L17.8715 790.987 L17.6783 782.549 Q17.6783 781.615 18.419 781.615 Q19.353 781.615 19.5462 782.034 Q19.7394 782.453 19.7394 783.87 Q19.7394 786.221 20.0615 787.316 Q20.3513 788.411 20.8666 788.765 Q21.3819 789.087 22.7668 789.409 L38.2578 793.306 L38.2578 773.177 L22.1549 769.216 Q20.9955 768.958 20.931 768.958 Q20.3191 768.958 20.1581 769.345 Q19.9649 769.699 19.8682 770.73 L19.7394 773.242 Q19.7394 774.015 19.7072 774.337 Q19.675 774.627 19.514 774.884 Q19.353 775.11 18.9987 775.11 Q18.5478 775.11 18.258 775.013 Q17.9359 774.884 17.8393 774.659 Q17.7427 774.433 17.7105 774.272 Q17.6783 774.111 17.6783 773.854 L17.8715 765.351 L17.6783 756.881 Q17.6783 755.979 18.419 755.979 Z\" fill=\"#000000\" fill-rule=\"nonzero\" fill-opacity=\"1\" /><path clip-path=\"url(#clip550)\" d=\"M74.2676 711.649 Q74.4479 711.649 75.1468 711.852 Q75.8457 712.055 76.9278 712.551 Q78.0099 713.024 79.0018 713.701 Q79.9712 714.354 80.6926 715.436 Q81.3915 716.496 81.3915 717.713 Q81.3915 719.337 80.3094 720.419 Q79.2273 721.501 77.6041 721.501 Q76.7249 721.501 75.0566 720.892 Q67.4367 718.029 64.7089 718.029 Q61.4851 718.029 61.4851 720.531 Q61.4851 721.952 62.0712 723.237 Q62.6574 724.522 63.469 725.356 Q64.2805 726.19 65.2048 726.844 Q66.1292 727.497 66.7378 727.791 Q67.3465 728.061 67.6171 728.129 L78.7539 730.902 Q79.7007 731.127 80.1516 731.285 Q80.6025 731.443 80.9857 731.871 Q81.3915 732.299 81.3915 732.976 Q81.3915 733.539 81.0534 733.945 Q80.7152 734.328 80.129 734.328 Q80.0389 734.328 79.5654 734.216 Q79.092 734.103 78.4382 733.945 Q77.7845 733.787 77.4012 733.72 Q74.3352 732.908 73.9069 732.795 L68.5414 731.51 Q65.8812 730.811 64.7089 730.811 Q61.4851 730.811 61.4851 733.314 Q61.4851 734.554 61.9585 735.726 Q62.4094 736.876 63.0406 737.665 Q63.6719 738.454 64.5511 739.175 Q65.4077 739.874 65.9939 740.235 Q66.5575 740.573 67.1211 740.844 L69.4206 741.43 Q70.0518 741.565 72.5091 742.219 L76.6798 743.233 Q79.7909 743.955 80.084 744.113 Q80.7152 744.338 81.0534 744.834 Q81.3915 745.33 81.3915 745.826 Q81.3915 746.389 81.0534 746.773 Q80.7152 747.156 80.129 747.156 Q80.0389 747.156 79.7007 747.088 Q79.3625 747.021 78.8891 746.908 Q78.4157 746.795 78.1452 746.75 L67.4818 744.067 Q65.543 743.571 64.9343 743.459 Q64.3031 743.323 63.6042 743.323 Q61.4851 743.323 61.4851 744.766 Q61.4851 745.939 62.8828 746.705 Q64.2805 747.472 66.9858 748.125 Q67.7298 748.328 67.8876 748.464 Q68.0454 748.576 68.0454 748.914 Q68.0229 749.478 67.572 749.478 Q67.4593 749.478 66.7378 749.298 Q66.0164 749.117 64.9343 748.779 Q63.8297 748.418 63.1082 748.035 Q62.6348 747.81 62.3192 747.607 Q62.0036 747.404 61.5076 746.998 Q61.0116 746.592 60.7411 745.984 Q60.4706 745.375 60.4706 744.631 Q60.4706 742.985 61.5302 741.768 Q62.5897 740.528 64.4834 740.37 Q60.4706 737.372 60.4706 733.179 Q60.4706 730.811 61.6654 729.391 Q62.8152 728.061 64.9343 727.903 Q60.4706 724.792 60.4706 720.374 Q60.4706 717.826 61.8007 716.451 Q63.1082 715.076 65.4077 715.076 Q66.6026 715.076 68.8795 715.684 Q71.1339 716.293 72.2612 716.699 Q73.3884 717.105 75.5526 717.894 Q77.6267 718.728 78.844 718.728 Q79.6331 718.728 79.9938 718.457 Q80.3545 718.187 80.3545 717.601 Q80.3545 716.699 79.836 715.91 Q79.2949 715.121 78.4157 714.557 Q77.5139 713.971 76.6122 713.588 Q75.6879 713.205 74.6508 712.911 Q74.0872 712.731 73.952 712.641 Q73.8167 712.528 73.8167 712.213 Q73.8167 711.649 74.2676 711.649 Z\" fill=\"#000000\" fill-rule=\"nonzero\" fill-opacity=\"1\" /><path clip-path=\"url(#clip550)\" d=\"M52.0165 697.725 Q53.0085 697.725 53.7524 698.536 Q54.4739 699.325 54.4739 700.182 Q54.4739 700.971 54.0004 701.467 Q53.5045 701.941 52.8056 701.941 Q51.8813 701.941 51.1148 701.151 Q50.3483 700.362 50.3483 699.438 Q50.3483 698.672 50.8217 698.198 Q51.2951 697.725 52.0165 697.725 M74.2676 697.319 Q74.4479 697.319 75.1693 697.522 Q75.8682 697.725 76.9503 698.221 Q78.0099 698.694 79.0018 699.348 Q79.9938 700.002 80.6926 701.084 Q81.3915 702.143 81.3915 703.361 Q81.3915 705.007 80.3094 706.089 Q79.2273 707.148 77.6041 707.148 Q76.7249 707.148 73.9069 706.089 Q65.7008 703.023 65.3627 702.91 Q64.0776 702.391 62.9504 702.391 Q62.4319 702.391 62.1163 702.504 Q61.7781 702.617 61.6654 702.842 Q61.5302 703.068 61.5076 703.203 Q61.4851 703.316 61.4851 703.541 Q61.4851 704.871 62.8377 706.111 Q64.1904 707.351 67.2113 708.208 Q67.7749 708.388 67.9101 708.501 Q68.0454 708.614 68.0454 708.952 Q68.0229 709.515 67.572 709.515 Q67.4367 709.515 66.9182 709.358 Q66.3771 709.2 65.5656 708.907 Q64.7314 708.614 63.8747 708.095 Q62.9955 707.577 62.229 706.945 Q61.4625 706.292 60.9666 705.367 Q60.4706 704.443 60.4706 703.406 Q60.4706 701.715 61.5752 700.678 Q62.6574 699.618 64.258 699.618 Q65.1372 699.618 66.6928 700.227 Q68.7217 700.971 69.3755 701.242 L74.2225 703.045 Q75.9809 703.699 76.522 703.902 Q77.0405 704.082 77.6717 704.24 Q78.2804 704.375 78.844 704.375 Q79.6331 704.375 79.9938 704.127 Q80.3545 703.857 80.3545 703.271 Q80.3545 701.647 78.7539 700.453 Q77.1307 699.258 74.6508 698.559 Q74.5832 698.536 74.4705 698.514 Q73.9069 698.333 73.8392 698.153 Q73.8167 698.063 73.8167 697.883 Q73.8167 697.319 74.2676 697.319 Z\" fill=\"#000000\" fill-rule=\"nonzero\" fill-opacity=\"1\" /><path clip-path=\"url(#clip550)\" d=\"M74.2676 668.358 Q74.4479 668.358 75.1468 668.56 Q75.8457 668.763 76.9278 669.259 Q78.0099 669.733 79.0018 670.387 Q79.9712 671.04 80.6926 672.122 Q81.3915 673.182 81.3915 674.399 Q81.3915 676.023 80.3094 677.105 Q79.2273 678.187 77.6041 678.187 Q76.7023 678.187 75.4624 677.713 Q67.4593 674.715 64.7089 674.715 Q61.4851 674.715 61.4851 677.217 Q61.4851 678.457 61.9585 679.63 Q62.4094 680.779 63.0406 681.568 Q63.6719 682.357 64.5511 683.079 Q65.4077 683.778 65.9939 684.138 Q66.5575 684.477 67.1211 684.747 L69.4206 685.333 Q70.0518 685.469 72.5091 686.122 L76.6798 687.137 Q79.7909 687.858 80.084 688.016 Q80.7152 688.241 81.0534 688.737 Q81.3915 689.233 81.3915 689.729 Q81.3915 690.293 81.0534 690.676 Q80.7152 691.059 80.129 691.059 Q80.0389 691.059 79.7007 690.992 Q79.3625 690.924 78.8891 690.811 Q78.4157 690.699 78.1452 690.654 L67.4818 687.971 Q65.543 687.475 64.9343 687.362 Q64.3031 687.227 63.6042 687.227 Q61.4851 687.227 61.4851 688.67 Q61.4851 689.842 62.8828 690.609 Q64.2805 691.375 66.9858 692.029 Q67.7298 692.232 67.8876 692.367 Q68.0454 692.48 68.0454 692.818 Q68.0229 693.382 67.572 693.382 Q67.4593 693.382 66.7153 693.201 Q65.9713 693.021 64.9118 692.683 Q63.8297 692.322 63.1082 691.984 Q62.5672 691.691 62.3192 691.533 Q62.0487 691.353 61.5302 690.924 Q60.9891 690.473 60.7411 689.887 Q60.4706 689.278 60.4706 688.535 Q60.4706 686.866 61.5527 685.649 Q62.6123 684.432 64.4834 684.274 Q60.4706 681.275 60.4706 677.082 Q60.4706 674.602 61.7781 673.182 Q63.0857 671.762 65.4077 671.762 Q65.9488 671.762 66.6477 671.874 Q67.324 671.965 68.1807 672.19 Q69.0373 672.393 69.6911 672.573 Q70.3449 672.754 71.4045 673.114 Q72.4415 673.475 72.8924 673.633 Q73.3433 673.791 74.4028 674.174 Q75.4399 674.535 75.5526 674.58 Q77.6492 675.414 78.844 675.414 Q79.6331 675.414 79.9938 675.166 Q80.3545 674.895 80.3545 674.309 Q80.3545 672.731 78.7989 671.559 Q77.2209 670.364 74.6508 669.597 Q74.0872 669.417 73.952 669.327 Q73.8167 669.214 73.8167 668.899 Q73.8167 668.358 74.2676 668.358 Z\" fill=\"#000000\" fill-rule=\"nonzero\" fill-opacity=\"1\" /><polyline clip-path=\"url(#clip552)\" style=\"stroke:#009af9; stroke-linecap:round; stroke-linejoin:round; stroke-width:4; stroke-opacity:1; fill:none\" points=\"394.967,1384.24 585.044,1318.81 775.12,396.732 965.197,324.181 1155.27,302.849 1345.35,310.972 1535.43,350.338 1725.5,200.305 1915.58,189.559 2105.66,138.847 2295.73,86.1857 \"/>\n",
       "<path clip-path=\"url(#clip550)\" d=\"M405.105 196.789 L717.535 196.789 L717.535 93.1086 L405.105 93.1086  Z\" fill=\"#ffffff\" fill-rule=\"evenodd\" fill-opacity=\"1\"/>\n",
       "<polyline clip-path=\"url(#clip550)\" style=\"stroke:#000000; stroke-linecap:round; stroke-linejoin:round; stroke-width:4; stroke-opacity:1; fill:none\" points=\"405.105,196.789 717.535,196.789 717.535,93.1086 405.105,93.1086 405.105,196.789 \"/>\n",
       "<polyline clip-path=\"url(#clip550)\" style=\"stroke:#009af9; stroke-linecap:round; stroke-linejoin:round; stroke-width:4; stroke-opacity:1; fill:none\" points=\"427.492,144.949 561.812,144.949 \"/>\n",
       "<path clip-path=\"url(#clip550)\" d=\"M624.579 122.165 Q624.579 122.844 624.275 122.984 Q623.994 123.125 622.963 123.125 Q621.207 123.125 620.41 123.359 Q619.637 123.57 619.403 123.945 Q619.192 124.296 618.935 125.327 L612.447 151.232 Q612.447 151.255 612.376 151.583 Q612.306 151.888 612.306 152.052 Q612.306 152.356 612.493 152.544 Q612.704 152.731 613.219 152.825 Q613.735 152.895 614.133 152.918 Q614.555 152.918 615.421 152.918 Q616.499 152.918 616.663 153.106 Q616.756 153.223 616.756 153.434 Q616.756 153.879 616.569 154.113 Q616.405 154.324 616.241 154.371 Q616.1 154.394 615.819 154.394 Q615.328 154.394 614.274 154.347 Q613.219 154.3 612.681 154.3 L609.612 154.253 L603.523 154.394 Q602.867 154.394 602.867 153.855 Q602.867 153.387 603.031 153.176 Q603.195 152.965 603.359 152.942 Q603.546 152.918 604.014 152.918 Q606.427 152.918 607.223 152.684 Q608.043 152.426 608.371 151.326 L611.674 138.092 L597.058 138.092 L593.779 151.232 Q593.779 151.255 593.709 151.583 Q593.638 151.888 593.638 152.052 Q593.638 152.356 593.826 152.544 Q594.037 152.731 594.552 152.825 Q595.067 152.895 595.465 152.918 Q595.887 152.918 596.754 152.918 Q597.831 152.918 598.018 153.106 Q598.112 153.223 598.112 153.434 Q598.112 153.762 598.018 153.996 Q597.948 154.207 597.761 154.277 Q597.597 154.347 597.48 154.371 Q597.362 154.394 597.152 154.394 Q596.66 154.394 595.606 154.347 Q594.575 154.3 594.037 154.3 L590.968 154.253 L584.878 154.394 Q584.199 154.394 584.199 153.855 Q584.199 153.387 584.363 153.199 Q584.527 152.989 584.738 152.965 Q584.949 152.918 585.487 152.918 Q586.658 152.918 587.361 152.848 Q588.064 152.778 588.509 152.684 Q588.977 152.567 589.211 152.239 Q589.469 151.911 589.586 151.63 Q589.703 151.326 589.867 150.646 L596.285 124.882 Q596.472 124.109 596.472 123.992 Q596.472 123.547 596.191 123.429 Q595.934 123.289 595.184 123.219 L593.357 123.125 Q592.795 123.125 592.561 123.102 Q592.35 123.078 592.186 122.961 Q592.022 122.844 592.022 122.586 Q592.022 122.258 592.092 122.048 Q592.186 121.813 592.35 121.743 Q592.514 121.673 592.631 121.649 Q592.748 121.626 592.936 121.626 L599.119 121.766 L605.256 121.626 Q605.935 121.626 605.935 122.165 Q605.935 122.844 605.631 122.984 Q605.326 123.125 604.296 123.125 Q602.586 123.125 601.789 123.359 Q600.993 123.57 600.735 123.945 Q600.501 124.32 600.267 125.327 L597.433 136.593 L612.072 136.593 L614.953 124.882 Q615.14 124.038 615.14 123.992 Q615.14 123.547 614.859 123.429 Q614.601 123.289 613.852 123.219 L612.025 123.125 Q611.463 123.125 611.229 123.102 Q611.018 123.078 610.83 122.961 Q610.666 122.844 610.666 122.586 Q610.666 122.258 610.737 122.048 Q610.83 121.813 610.994 121.743 Q611.158 121.673 611.275 121.649 Q611.393 121.626 611.58 121.626 L617.763 121.766 L623.924 121.626 Q624.579 121.626 624.579 122.165 Z\" fill=\"#000000\" fill-rule=\"nonzero\" fill-opacity=\"1\" /><path clip-path=\"url(#clip550)\" d=\"M656.815 162.781 Q656.815 162.912 656.668 163.42 Q656.52 163.928 656.16 164.715 Q655.815 165.502 655.323 166.224 Q654.848 166.929 654.061 167.453 Q653.29 167.962 652.405 167.962 Q651.225 167.962 650.438 167.175 Q649.651 166.388 649.651 165.207 Q649.651 164.568 650.093 163.354 Q652.175 157.813 652.175 155.829 Q652.175 153.484 650.356 153.484 Q649.323 153.484 648.388 153.911 Q647.454 154.337 646.847 154.927 Q646.24 155.517 645.765 156.19 Q645.289 156.862 645.076 157.304 Q644.879 157.747 644.83 157.944 L642.814 166.043 Q642.65 166.732 642.535 167.06 Q642.42 167.388 642.109 167.667 Q641.797 167.962 641.305 167.962 Q640.895 167.962 640.6 167.716 Q640.321 167.47 640.321 167.043 Q640.321 166.978 640.403 166.634 Q640.485 166.289 640.6 165.814 Q640.715 165.338 640.764 165.06 Q641.354 162.83 641.436 162.518 L642.371 158.616 Q642.879 156.681 642.879 155.829 Q642.879 153.484 641.059 153.484 Q640.157 153.484 639.305 153.829 Q638.469 154.156 637.895 154.616 Q637.321 155.075 636.796 155.714 Q636.288 156.337 636.026 156.763 Q635.78 157.173 635.583 157.583 L635.157 159.256 Q635.058 159.715 634.583 161.502 L633.845 164.535 Q633.32 166.798 633.206 167.011 Q633.042 167.47 632.681 167.716 Q632.32 167.962 631.96 167.962 Q631.55 167.962 631.271 167.716 Q630.992 167.47 630.992 167.043 Q630.992 166.978 631.041 166.732 Q631.091 166.486 631.173 166.142 Q631.255 165.797 631.287 165.601 L633.238 157.846 Q633.599 156.435 633.681 155.993 Q633.779 155.534 633.779 155.025 Q633.779 153.484 632.73 153.484 Q631.878 153.484 631.32 154.501 Q630.763 155.517 630.287 157.485 Q630.14 158.026 630.041 158.141 Q629.959 158.255 629.713 158.255 Q629.303 158.239 629.303 157.911 Q629.303 157.829 629.435 157.304 Q629.566 156.78 629.812 155.993 Q630.074 155.189 630.353 154.665 Q630.517 154.32 630.664 154.091 Q630.812 153.861 631.107 153.501 Q631.402 153.14 631.845 152.943 Q632.287 152.746 632.829 152.746 Q634.025 152.746 634.911 153.517 Q635.813 154.288 635.927 155.665 Q638.108 152.746 641.158 152.746 Q642.879 152.746 643.912 153.615 Q644.879 154.452 644.994 155.993 Q647.257 152.746 650.47 152.746 Q652.323 152.746 653.323 153.714 Q654.323 154.665 654.323 156.337 Q654.323 157.206 653.881 158.862 Q653.438 160.502 653.143 161.321 Q652.848 162.141 652.274 163.715 Q651.667 165.224 651.667 166.109 Q651.667 166.683 651.864 166.945 Q652.061 167.207 652.487 167.207 Q653.143 167.207 653.717 166.83 Q654.291 166.437 654.7 165.797 Q655.127 165.142 655.405 164.486 Q655.684 163.814 655.897 163.059 Q656.028 162.649 656.094 162.551 Q656.176 162.453 656.406 162.453 Q656.815 162.453 656.815 162.781 Z\" fill=\"#000000\" fill-rule=\"nonzero\" fill-opacity=\"1\" /><path clip-path=\"url(#clip550)\" d=\"M666.935 146.598 Q666.935 147.319 666.345 147.861 Q665.771 148.385 665.148 148.385 Q664.574 148.385 664.213 148.041 Q663.869 147.68 663.869 147.172 Q663.869 146.5 664.443 145.942 Q665.017 145.385 665.689 145.385 Q666.247 145.385 666.591 145.729 Q666.935 146.073 666.935 146.598 M667.23 162.781 Q667.23 162.912 667.083 163.436 Q666.935 163.945 666.574 164.732 Q666.23 165.502 665.755 166.224 Q665.279 166.945 664.492 167.453 Q663.722 167.962 662.836 167.962 Q661.639 167.962 660.852 167.175 Q660.082 166.388 660.082 165.207 Q660.082 164.568 660.852 162.518 Q663.082 156.55 663.164 156.304 Q663.541 155.37 663.541 154.55 Q663.541 154.173 663.459 153.943 Q663.377 153.697 663.213 153.615 Q663.049 153.517 662.951 153.501 Q662.869 153.484 662.705 153.484 Q661.738 153.484 660.836 154.468 Q659.934 155.452 659.311 157.649 Q659.18 158.059 659.098 158.157 Q659.016 158.255 658.77 158.255 Q658.36 158.239 658.36 157.911 Q658.36 157.813 658.475 157.436 Q658.59 157.042 658.803 156.452 Q659.016 155.845 659.393 155.222 Q659.77 154.583 660.229 154.025 Q660.705 153.468 661.377 153.107 Q662.049 152.746 662.803 152.746 Q664.033 152.746 664.787 153.55 Q665.558 154.337 665.558 155.501 Q665.558 156.14 665.115 157.272 Q664.574 158.747 664.377 159.223 L663.066 162.748 Q662.59 164.027 662.443 164.42 Q662.312 164.797 662.197 165.256 Q662.098 165.699 662.098 166.109 Q662.098 166.683 662.279 166.945 Q662.476 167.207 662.902 167.207 Q664.082 167.207 664.951 166.043 Q665.82 164.863 666.329 163.059 Q666.345 163.01 666.361 162.928 Q666.492 162.518 666.624 162.469 Q666.689 162.453 666.82 162.453 Q667.23 162.453 667.23 162.781 Z\" fill=\"#000000\" fill-rule=\"nonzero\" fill-opacity=\"1\" /><path clip-path=\"url(#clip550)\" d=\"M688.29 162.781 Q688.29 162.912 688.143 163.42 Q687.995 163.928 687.635 164.715 Q687.29 165.502 686.815 166.224 Q686.339 166.929 685.552 167.453 Q684.782 167.962 683.896 167.962 Q682.716 167.962 681.929 167.175 Q681.142 166.388 681.142 165.207 Q681.142 164.551 681.486 163.65 Q683.667 157.829 683.667 155.829 Q683.667 153.484 681.847 153.484 Q680.945 153.484 680.093 153.829 Q679.256 154.156 678.683 154.616 Q678.109 155.075 677.584 155.714 Q677.076 156.337 676.813 156.763 Q676.567 157.173 676.371 157.583 L675.944 159.256 Q675.846 159.715 675.371 161.502 L674.633 164.535 Q674.108 166.798 673.993 167.011 Q673.829 167.47 673.469 167.716 Q673.108 167.962 672.747 167.962 Q672.337 167.962 672.059 167.716 Q671.78 167.47 671.78 167.043 Q671.78 166.978 671.829 166.732 Q671.878 166.486 671.96 166.142 Q672.042 165.797 672.075 165.601 L674.026 157.846 Q674.387 156.435 674.469 155.993 Q674.567 155.534 674.567 155.025 Q674.567 153.484 673.518 153.484 Q672.665 153.484 672.108 154.501 Q671.55 155.517 671.075 157.485 Q670.927 158.026 670.829 158.141 Q670.747 158.255 670.501 158.255 Q670.091 158.239 670.091 157.911 Q670.091 157.829 670.222 157.288 Q670.354 156.747 670.599 155.976 Q670.862 155.189 671.108 154.665 Q671.321 154.271 671.436 154.091 Q671.567 153.894 671.878 153.517 Q672.206 153.124 672.633 152.943 Q673.075 152.746 673.616 152.746 Q674.83 152.746 675.715 153.533 Q676.6 154.304 676.715 155.665 Q678.896 152.746 681.945 152.746 Q683.749 152.746 684.782 153.697 Q685.815 154.648 685.815 156.337 Q685.815 156.731 685.733 157.239 Q685.667 157.731 685.503 158.354 Q685.356 158.977 685.224 159.452 Q685.093 159.928 684.831 160.698 Q684.569 161.453 684.454 161.78 Q684.339 162.108 684.06 162.879 Q683.798 163.633 683.765 163.715 Q683.159 165.24 683.159 166.109 Q683.159 166.683 683.339 166.945 Q683.536 167.207 683.962 167.207 Q685.11 167.207 685.962 166.076 Q686.831 164.928 687.389 163.059 Q687.52 162.649 687.585 162.551 Q687.667 162.453 687.897 162.453 Q688.29 162.453 688.29 162.781 Z\" fill=\"#000000\" fill-rule=\"nonzero\" fill-opacity=\"1\" /></svg>\n"
      ]
     },
     "execution_count": 48,
     "metadata": {},
     "output_type": "execute_result"
    }
   ],
   "source": [
    "p = plot(δs, -log2.(pgs_22_wtilted), label=\"\\$H_{min}\\$\")# for \\$v=$(round(vs[end], digits=3))\\$\")\n",
    "#for i in [13,15,17,18,19,20]\n",
    "#    plot!(p, γs, -log2.(pgs_wtilted2[i,:]), label=\"\\$H_{min}\\$ for \\$v=$(round(vs[i], digits=3))\\$\")\n",
    "#end\n",
    "xlabel!(\"\\$\\\\delta\\$\")\n",
    "ylabel!(\"\\$H_{min}\\$\")\n",
    "#savefig(p, \"plots/hmin_vs_δ_bilo22_eve$ebits.svg\")\n",
    "p"
   ]
  },
  {
   "cell_type": "markdown",
   "id": "63765148-4020-47d1-a177-64a58ec49120",
   "metadata": {},
   "source": [
    "## 24 Case"
   ]
  },
  {
   "cell_type": "code",
   "execution_count": 8,
   "id": "5832b9c7-f28e-48cd-882f-e8345ba0456e",
   "metadata": {},
   "outputs": [
    {
     "data": {
      "text/plain": [
       "ScalarExtension(Dict{Monomial, Monomial}(PA1|2 PA1|1 => <PA1|2 PA1|1>, PA1|2 PA1|1 PA1|2 PA1|1 PA1|2 => <PA1|2 PA1|1 PA1|2 PA1|1 PA1|2>, PA1|1 PA1|2 PA1|1 PA1|2 PA1|1 => <PA1|1 PA1|2 PA1|1 PA1|2 PA1|1>, PA1|2 PA1|1 PA1|2 => <PA1|2 PA1|1 PA1|2>, PA1|1 PA1|2 PA1|1 PA1|2 => <PA1|1 PA1|2 PA1|1 PA1|2>, PA1|1 PA1|2 PA1|1 => <PA1|1 PA1|2 PA1|1>, PA1|2 PA1|1 PA1|2 PA1|1 => <PA1|2 PA1|1 PA1|2 PA1|1>, PA1|1 PA1|2 => <PA1|1 PA1|2>), Set([(2, 4), (1, 2), (3, 4), (1, 4), (2, 3)]))"
      ]
     },
     "execution_count": 8,
     "metadata": {},
     "output_type": "execute_result"
    }
   ],
   "source": [
    "PA = projector('A', 1:2, 1:2, full=true)\n",
    "PB = projector('B', 1:4, 1:2, full=true)\n",
    "PC = projector('C', 1:2, 1:2, full=true)\n",
    "PE2 = projector('D', 1:4, 1, full=true) # Eve guessing AC\n",
    "PE4 = projector('D', 1:16, 1, full=true) # Eve guessing ABC\n",
    "\n",
    "# Define scalar variables\n",
    "con = separability_structure([\"A\", \"B\", \"C\", \"D\"], (\"A\",\"C\"));\n",
    "vars = generate_projective_scvar(PA, 5, swapped=true)#, var_symbols=(\"α\",\"β\"))\n",
    "se = ScalarExtension(vars, con)"
   ]
  },
  {
   "cell_type": "code",
   "execution_count": 70,
   "id": "a1c83e31-02b5-4f1f-9ee8-0a79bf611436",
   "metadata": {
    "collapsed": true,
    "jupyter": {
     "outputs_hidden": true
    }
   },
   "outputs": [
    {
     "name": "stdout",
     "output_type": "stream",
     "text": [
      "Problem\n",
      "  Name                   :                 \n",
      "  Objective sense        : minimize        \n",
      "  Type                   : CONIC (conic optimization problem)\n",
      "  Constraints            : 34736           \n",
      "  Affine conic cons.     : 0               \n",
      "  Disjunctive cons.      : 0               \n",
      "  Cones                  : 0               \n",
      "  Scalar variables       : 0               \n",
      "  Matrix variables       : 1 (scalarized: 685035)\n",
      "  Integer variables      : 0               \n",
      "\n",
      "Optimizer started.\n",
      "Presolve started.\n",
      "Linear dependency checker started.\n",
      "Linear dependency checker terminated.\n",
      "Eliminator started.\n",
      "Freed constraints in eliminator : 0\n",
      "Eliminator terminated.\n",
      "Eliminator - tries                  : 1                 time                   : 0.00            \n",
      "Lin. dep.  - tries                  : 1                 time                   : 0.00            \n",
      "Lin. dep.  - primal attempts        : 1                 successes              : 1               \n",
      "Lin. dep.  - dual attempts          : 0                 successes              : 0               \n",
      "Lin. dep.  - primal deps.           : 0                 dual deps.             : 0               \n",
      "Presolve terminated. Time: 0.00    \n",
      "GP based matrix reordering started.\n",
      "GP based matrix reordering terminated.\n",
      "Optimizer  - threads                : 12              \n",
      "Optimizer  - solved problem         : the primal      \n",
      "Optimizer  - Constraints            : 34736           \n",
      "Optimizer  - Cones                  : 0               \n",
      "Optimizer  - Scalar variables       : 0                 conic                  : 0               \n",
      "Optimizer  - Semi-definite variables: 1                 scalarized             : 685035          \n",
      "Factor     - setup time             : 15.15           \n",
      "Factor     - dense det. time        : 0.00              GP order time          : 0.01            \n",
      "Factor     - nonzeros before factor : 6.03e+08          after factor           : 6.03e+08        \n",
      "Factor     - dense dim.             : 0                 flops                  : 1.40e+13        \n",
      "ITE PFEAS    DFEAS    GFEAS    PRSTATUS   POBJ              DOBJ              MU       TIME  \n",
      "0   3.0e+00  1.0e+00  1.1e+01  0.00e+00   1.025000000e+01   5.551115123e-17   1.0e+00  15.65 \n",
      "1   2.3e+00  7.8e-01  6.8e+00  -4.12e-01  1.222147551e+01   4.704153433e+00   7.8e-01  43.41 \n",
      "2   1.6e+00  5.4e-01  3.2e+00  6.53e-01   6.736831585e+00   1.992512227e+00   5.4e-01  71.99 \n",
      "3   6.5e-01  2.2e-01  5.3e-01  1.52e+00   2.708096902e+00   1.554552078e+00   2.2e-01  101.06\n",
      "4   2.5e-01  8.3e-02  9.0e-02  2.32e+00   1.106230865e+00   8.640957380e-01   8.3e-02  132.45\n",
      "5   1.5e-01  4.9e-02  4.3e-02  1.35e+00   9.430206084e-01   8.010275633e-01   4.9e-02  160.76\n",
      "6   3.3e-02  1.1e-02  6.4e-03  9.84e-01   5.448143103e-01   5.048923388e-01   1.1e-02  194.64\n",
      "7   5.7e-03  1.9e-03  5.1e-04  5.29e-01   3.012209281e-01   2.918129047e-01   1.9e-03  228.64\n",
      "8   2.8e-03  9.4e-04  1.9e-04  6.70e-01   2.847782593e-01   2.794923873e-01   9.4e-04  257.15\n",
      "9   5.9e-04  2.0e-04  2.2e-05  6.96e-01   2.637004902e-01   2.623233460e-01   2.0e-04  290.95\n",
      "10  2.4e-04  8.0e-05  6.3e-06  6.50e-01   2.594104035e-01   2.587608275e-01   8.0e-05  319.66\n",
      "11  5.9e-05  2.0e-05  1.0e-06  5.43e-01   2.547033053e-01   2.544945625e-01   2.0e-05  350.02\n",
      "12  1.9e-05  6.5e-06  2.4e-07  5.20e-01   2.531784209e-01   2.530917900e-01   6.5e-06  379.31\n",
      "13  3.3e-06  1.1e-06  2.9e-08  4.04e-01   2.516349133e-01   2.516143554e-01   1.1e-06  413.43\n",
      "14  1.5e-06  5.1e-07  1.0e-08  1.93e-01   2.513667674e-01   2.513551473e-01   5.1e-07  442.55\n",
      "15  7.7e-07  2.5e-07  5.2e-09  1.82e-01   2.509401355e-01   2.509323046e-01   2.5e-07  471.66\n",
      "16  1.9e-07  3.1e-08  4.1e-10  4.22e-01   2.504524921e-01   2.504516738e-01   3.1e-08  505.52\n",
      "17  4.9e-08  8.1e-09  7.7e-11  4.70e-01   2.503073226e-01   2.503072501e-01   8.1e-09  542.33\n",
      "18  1.9e-08  3.1e-09  2.7e-11  3.53e-01   2.502036502e-01   2.502038070e-01   3.1e-09  573.39\n",
      "19  6.2e-09  1.1e-09  6.7e-12  5.57e-01   2.501539100e-01   2.501540551e-01   1.0e-09  604.77\n",
      "20  2.8e-09  4.9e-10  3.1e-12  3.18e-01   2.501088919e-01   2.501090950e-01   4.6e-10  635.82\n",
      "21  5.9e-10  6.9e-10  6.3e-13  5.12e-01   2.500782392e-01   2.500783653e-01   1.3e-10  666.44\n",
      "22  9.4e-10  6.9e-10  6.3e-13  1.07e+00   2.500782344e-01   2.500783604e-01   1.3e-10  727.63\n",
      "23  1.0e-09  6.9e-10  6.3e-13  3.75e-01   2.500782193e-01   2.500783453e-01   1.3e-10  762.07\n",
      "24  9.8e-10  6.9e-10  6.3e-13  1.13e+00   2.500782158e-01   2.500783419e-01   1.3e-10  796.89\n",
      "Optimizer terminated. Time: 823.79  \n",
      "\n"
     ]
    },
    {
     "data": {
      "text/plain": [
       "0.25007821584836704"
      ]
     },
     "execution_count": 70,
     "metadata": {},
     "output_type": "execute_result"
    }
   ],
   "source": [
    "p = p_bilocality_24_chsh_rotBSM(π/8)\n",
    "pg = bilo_pguess(p, PA, PB, PC, PE4, se, level=3, x=1, z=1, verbose=true)\n",
    "-log2(pg)"
   ]
  },
  {
   "cell_type": "code",
   "execution_count": 8,
   "id": "c5748fda-de32-4641-937a-e45699b02815",
   "metadata": {
    "collapsed": true,
    "jupyter": {
     "outputs_hidden": true
    }
   },
   "outputs": [
    {
     "name": "stdout",
     "output_type": "stream",
     "text": [
      "Problem\n",
      "  Name                   :                 \n",
      "  Objective sense        : minimize        \n",
      "  Type                   : CONIC (conic optimization problem)\n",
      "  Constraints            : 34736           \n",
      "  Affine conic cons.     : 0               \n",
      "  Disjunctive cons.      : 0               \n",
      "  Cones                  : 0               \n",
      "  Scalar variables       : 0               \n",
      "  Matrix variables       : 1 (scalarized: 685035)\n",
      "  Integer variables      : 0               \n",
      "\n",
      "Optimizer started.\n",
      "Presolve started.\n",
      "Linear dependency checker started.\n",
      "Linear dependency checker terminated.\n",
      "Eliminator started.\n",
      "Freed constraints in eliminator : 0\n",
      "Eliminator terminated.\n",
      "Eliminator - tries                  : 1                 time                   : 0.00            \n",
      "Lin. dep.  - tries                  : 1                 time                   : 0.00            \n",
      "Lin. dep.  - primal attempts        : 1                 successes              : 1               \n",
      "Lin. dep.  - dual attempts          : 0                 successes              : 0               \n",
      "Lin. dep.  - primal deps.           : 0                 dual deps.             : 0               \n",
      "Presolve terminated. Time: 0.01    \n",
      "GP based matrix reordering started.\n",
      "GP based matrix reordering terminated.\n",
      "Optimizer  - threads                : 12              \n",
      "Optimizer  - solved problem         : the primal      \n",
      "Optimizer  - Constraints            : 34736           \n",
      "Optimizer  - Cones                  : 0               \n",
      "Optimizer  - Scalar variables       : 0                 conic                  : 0               \n",
      "Optimizer  - Semi-definite variables: 1                 scalarized             : 685035          \n",
      "Factor     - setup time             : 15.20           \n",
      "Factor     - dense det. time        : 0.00              GP order time          : 0.01            \n",
      "Factor     - nonzeros before factor : 6.03e+08          after factor           : 6.03e+08        \n",
      "Factor     - dense dim.             : 0                 flops                  : 1.40e+13        \n",
      "ITE PFEAS    DFEAS    GFEAS    PRSTATUS   POBJ              DOBJ              MU       TIME  \n",
      "0   3.0e+00  1.0e+00  1.1e+01  0.00e+00   1.014044806e+01   6.250000000e-02   1.0e+00  15.74 \n",
      "1   2.3e+00  7.8e-01  6.6e+00  -4.06e-01  1.220567658e+01   4.848791153e+00   7.8e-01  43.06 \n",
      "2   1.6e+00  5.5e-01  3.1e+00  6.83e-01   6.707418610e+00   2.082610798e+00   5.5e-01  71.17 \n",
      "3   5.9e-01  2.0e-01  3.2e-01  1.59e+00   2.491757323e+00   1.582070805e+00   2.0e-01  100.73\n",
      "4   2.1e-01  7.1e-02  6.7e-02  2.19e+00   1.012604143e+00   8.106235476e-01   7.1e-02  130.84\n",
      "5   7.2e-02  2.4e-02  1.5e-02  1.17e+00   7.125531347e-01   6.390194578e-01   2.4e-02  162.93\n",
      "6   3.4e-02  1.1e-02  5.8e-03  6.91e-01   4.984679239e-01   4.566631640e-01   1.1e-02  191.47\n",
      "7   6.7e-03  2.2e-03  6.7e-04  7.44e-01   2.689352331e-01   2.582754311e-01   2.2e-03  224.98\n",
      "8   1.0e-03  3.5e-04  5.4e-05  5.60e-01   1.697707402e-01   1.675238667e-01   3.5e-04  258.27\n",
      "9   8.0e-04  2.7e-04  3.9e-05  4.87e-01   1.633583996e-01   1.614333965e-01   2.7e-04  286.84\n",
      "10  1.5e-04  5.1e-05  4.3e-06  6.25e-01   1.432393750e-01   1.427659380e-01   5.1e-05  320.48\n",
      "11  2.7e-05  9.0e-06  5.0e-07  5.09e-01   1.342591215e-01   1.341411150e-01   9.0e-06  354.26\n",
      "12  1.3e-05  4.3e-06  1.9e-07  3.03e-01   1.320827653e-01   1.320120618e-01   4.3e-06  383.46\n",
      "13  6.7e-06  2.2e-06  9.5e-08  3.24e-01   1.303275626e-01   1.302799350e-01   2.2e-06  411.97\n",
      "14  8.7e-07  2.9e-07  8.2e-09  4.48e-01   1.276469472e-01   1.276403203e-01   2.9e-07  445.98\n",
      "15  1.3e-07  4.2e-08  8.6e-10  4.31e-01   1.263455718e-01   1.263456813e-01   4.2e-08  479.71\n",
      "16  3.5e-08  1.2e-08  1.8e-10  4.21e-01   1.258781570e-01   1.258787803e-01   1.2e-08  512.80\n",
      "17  1.4e-08  4.6e-09  6.3e-11  3.74e-01   1.256322413e-01   1.256329891e-01   4.6e-09  543.78\n",
      "18  5.0e-09  1.7e-09  1.8e-11  4.42e-01   1.254531753e-01   1.254537713e-01   1.6e-09  574.80\n",
      "19  2.2e-09  7.4e-10  7.3e-12  3.67e-01   1.253451567e-01   1.253457176e-01   7.4e-10  606.01\n",
      "20  6.9e-10  2.4e-10  1.8e-12  4.16e-01   1.252362409e-01   1.252366312e-01   2.3e-10  637.30\n",
      "21  8.1e-10  2.4e-10  1.8e-12  3.65e-01   1.252349245e-01   1.252353135e-01   2.3e-10  670.22\n",
      "22  9.1e-10  2.4e-10  1.7e-12  3.62e-01   1.252347585e-01   1.252351473e-01   2.2e-10  704.04\n",
      "23  7.9e-10  2.4e-10  1.7e-12  3.62e-01   1.252340879e-01   1.252344761e-01   2.2e-10  737.22\n",
      "24  8.9e-10  2.4e-10  1.7e-12  3.60e-01   1.252327307e-01   1.252331176e-01   2.2e-10  770.56\n",
      "25  7.4e-10  1.6e-10  1.1e-12  3.56e-01   1.252067290e-01   1.252070904e-01   1.5e-10  802.08\n",
      "26  6.6e-10  1.4e-10  1.0e-12  3.55e-01   1.252004872e-01   1.252008400e-01   1.4e-10  834.15\n",
      "27  7.1e-10  1.4e-10  1.0e-12  3.44e-01   1.252004757e-01   1.252008285e-01   1.4e-10  868.96\n",
      "28  7.3e-10  1.4e-10  1.0e-12  3.75e-01   1.252004292e-01   1.252007819e-01   1.4e-10  903.39\n",
      "29  7.3e-10  1.4e-10  1.0e-12  3.51e-01   1.252003357e-01   1.252006883e-01   1.4e-10  937.76\n",
      "30  7.5e-10  1.4e-10  1.0e-12  3.49e-01   1.252001484e-01   1.252005007e-01   1.4e-10  971.54\n",
      "31  7.5e-10  1.4e-10  1.0e-12  3.51e-01   1.252001016e-01   1.252004538e-01   1.4e-10  1005.98\n",
      "32  7.5e-10  1.4e-10  1.0e-12  3.50e-01   1.252001015e-01   1.252004538e-01   1.4e-10  1044.11\n",
      "33  7.5e-10  1.4e-10  1.0e-12  3.50e-01   1.252001015e-01   1.252004538e-01   1.4e-10  1082.26\n",
      "34  7.5e-10  1.4e-10  1.0e-12  3.48e-01   1.252000899e-01   1.252004422e-01   1.4e-10  1117.86\n",
      "35  7.5e-10  1.4e-10  1.0e-12  3.49e-01   1.252000782e-01   1.252004304e-01   1.4e-10  1153.32\n",
      "36  7.5e-10  1.4e-10  1.0e-12  3.52e-01   1.252000768e-01   1.252004290e-01   1.4e-10  1189.91\n",
      "37  7.5e-10  1.4e-10  1.0e-12  3.52e-01   1.252000739e-01   1.252004260e-01   1.4e-10  1226.38\n",
      "38  7.5e-10  1.4e-10  1.0e-12  3.52e-01   1.252000739e-01   1.252004260e-01   1.4e-10  1264.23\n",
      "39  7.5e-10  1.4e-10  1.0e-12  3.48e-01   1.252000709e-01   1.252004231e-01   1.4e-10  1300.62\n",
      "40  7.5e-10  1.4e-10  1.0e-12  3.48e-01   1.252000709e-01   1.252004231e-01   1.4e-10  1338.74\n",
      "41  7.5e-10  1.4e-10  1.0e-12  3.47e-01   1.252000475e-01   1.252003997e-01   1.4e-10  1373.54\n",
      "42  7.5e-10  1.4e-10  1.0e-12  3.47e-01   1.252000475e-01   1.252003997e-01   1.4e-10  1412.11\n",
      "43  7.5e-10  1.4e-10  1.0e-12  3.47e-01   1.252000475e-01   1.252003997e-01   1.4e-10  1449.55\n",
      "Optimizer terminated. Time: 1487.27 \n",
      "\n"
     ]
    },
    {
     "data": {
      "text/plain": [
       "0.12520004754484726"
      ]
     },
     "execution_count": 8,
     "metadata": {},
     "output_type": "execute_result"
    }
   ],
   "source": [
    "p = p_bilocality_24_wtiltedBSM(π/8, π/8, 0.0)\n",
    "pg = bilo_pguess(p, PA, PB, PC, PE4, se, level=3, x=1, z=1, verbose=true)\n",
    "-log2(pg)"
   ]
  },
  {
   "cell_type": "markdown",
   "id": "876db1a2-f94f-4698-917a-dfbbfd59d13b",
   "metadata": {},
   "source": [
    "#### Titlted strategy"
   ]
  },
  {
   "cell_type": "code",
   "execution_count": null,
   "id": "f091e0d3-5ab9-47f7-9603-3d6a2279d85a",
   "metadata": {},
   "outputs": [
    {
     "name": "stdout",
     "output_type": "stream",
     "text": [
      " δ = 0.32651914291880924\tφ = 0.0\tPg = 0.12518067327149984"
     ]
    }
   ],
   "source": [
    "N, M = 10, 10\n",
    "δ_interval = [0.1, π/6-.1]\n",
    "φ_interval = [0, π/2]\n",
    "level = 3\n",
    "#PE = PE2\n",
    "PE = PE4\n",
    "ebits = Int(log2(size(PE)[1]))\n",
    "\n",
    "δs = collect(δ_interval[1]:(δ_interval[2]-δ_interval[1])/N:δ_interval[2])\n",
    "φs = collect(φ_interval[1]:(φ_interval[2]-φ_interval[1])/M:φ_interval[2])\n",
    "pgs_24_tiltedBSM1 = ones((length(δs),length(φs)))\n",
    "\n",
    "for ((i,δ), (j,φ)) ∈ collect(Iterators.product(enumerate(δs), enumerate(φs)))\n",
    "    p = p_bilocality_24_wtiltedBSM(δ, π/8, φ)\n",
    "    pg = bilo_pguess(p, PA, PB, PC, PE, se; level=level, x=1, z=1)\n",
    "    print(\"\\r δ = $δ\\tφ = $φ\\tPg = $pg\")\n",
    "    pgs_24_tiltedBSM1[i,j] = pg\n",
    "end"
   ]
  },
  {
   "cell_type": "code",
   "execution_count": null,
   "id": "018e0931-cae9-4832-ad5b-bba71d233018",
   "metadata": {},
   "outputs": [],
   "source": [
    "ebits = Int(log2(size(PE)[1]))\n",
    "open(\"data/pguess_vs_δφ_bilo24_eve$(ebits)_npa$(level)_x1y1_phase.txt\", \"w\") do io\n",
    "    writedlm(io, [pgs_24_tiltedBSM1, δs, φs])\n",
    "end"
   ]
  },
  {
   "cell_type": "code",
   "execution_count": null,
   "id": "395fc58a-a851-4f44-94c1-62c43a0f308c",
   "metadata": {},
   "outputs": [],
   "source": [
    "maximum(-log2.(pgs_24_tiltedBSM1))"
   ]
  },
  {
   "cell_type": "code",
   "execution_count": 9,
   "id": "a27e0168-723e-4ca8-a1f6-ec5ba21f1ae0",
   "metadata": {},
   "outputs": [
    {
     "data": {
      "text/plain": [
       "11-element Vector{Float64}:\n",
       " 0.7\n",
       " 0.73\n",
       " 0.76\n",
       " 0.79\n",
       " 0.82\n",
       " 0.85\n",
       " 0.88\n",
       " 0.91\n",
       " 0.94\n",
       " 0.97\n",
       " 1.0"
      ]
     },
     "execution_count": 9,
     "metadata": {},
     "output_type": "execute_result"
    }
   ],
   "source": [
    "N = 10\n",
    "v_interval = [0.7, 1]\n",
    "\n",
    "vs = collect(v_interval[1]:(v_interval[2]-v_interval[1])/N:v_interval[2])"
   ]
  },
  {
   "cell_type": "code",
   "execution_count": 10,
   "id": "9eb27077-305a-4827-84b9-f7ea853a711a",
   "metadata": {
    "scrolled": true
   },
   "outputs": [
    {
     "data": {
      "text/plain": [
       "21-element Vector{Float64}:\n",
       " 0.7\n",
       " 0.715\n",
       " 0.73\n",
       " 0.745\n",
       " 0.76\n",
       " 0.7749999999999999\n",
       " 0.79\n",
       " 0.8049999999999999\n",
       " 0.82\n",
       " 0.835\n",
       " 0.85\n",
       " 0.865\n",
       " 0.88\n",
       " 0.895\n",
       " 0.91\n",
       " 0.925\n",
       " 0.94\n",
       " 0.9550000000000001\n",
       " 0.97\n",
       " 0.985\n",
       " 1.0"
      ]
     },
     "execution_count": 10,
     "metadata": {},
     "output_type": "execute_result"
    }
   ],
   "source": [
    "N = 20\n",
    "v_interval = [0.7, 1]\n",
    "\n",
    "vs = collect(v_interval[1]:(v_interval[2]-v_interval[1])/N:v_interval[2])"
   ]
  },
  {
   "cell_type": "code",
   "execution_count": 11,
   "id": "47a1a334-14d6-4e78-af8c-151537c09f86",
   "metadata": {},
   "outputs": [
    {
     "name": "stdout",
     "output_type": "stream",
     "text": [
      "v = 0.985\tPg = 0.4011086544496689"
     ]
    }
   ],
   "source": [
    "N = 10\n",
    "v_interval = [0.7, 1]\n",
    "level = 3\n",
    "#PE = PE2\n",
    "PE = PE4\n",
    "ebits = Int(log2(size(PE)[1]))\n",
    "\n",
    "#vs = collect(v_interval[1]:(v_interval[2]-v_interval[1])/N:v_interval[2])\n",
    "vs = [0.895, 0.925, 0.955, 0.985]\n",
    "pgs_24_tiltedBSM1 = ones(length(vs))\n",
    "\n",
    "@threads for (i,v) ∈ collect(enumerate(vs))\n",
    "    p = p_bilocality_24_wtiltedBSM(π/6, π/8, 0.0, v=v)\n",
    "    pg = bilo_pguess(p, PA, PB, PC, PE, se; level=level, x=1, y=1, z=1)\n",
    "    print(\"\\rv = $v\\tPg = $pg\")\n",
    "    pgs_24_tiltedBSM1[i] = pg\n",
    "end"
   ]
  },
  {
   "cell_type": "code",
   "execution_count": 12,
   "id": "6400a2ab-7bf1-4dfd-868f-ca3a6de77fb7",
   "metadata": {},
   "outputs": [
    {
     "data": {
      "text/plain": [
       "4-element Vector{Float64}:\n",
       " 0.9246166686535903\n",
       " 0.8139384923280498\n",
       " 0.6593736105868381\n",
       " 0.4011086544496689"
      ]
     },
     "execution_count": 12,
     "metadata": {},
     "output_type": "execute_result"
    }
   ],
   "source": [
    "pgs_24_tiltedBSM1"
   ]
  },
  {
   "cell_type": "code",
   "execution_count": 15,
   "id": "63cde768-9051-44e5-a89f-0aa1db9d5030",
   "metadata": {},
   "outputs": [
    {
     "data": {
      "text/plain": [
       "2×11 Matrix{Float64}:\n",
       " 1.0  1.0   1.0   1.0   1.0   0.997871  …  0.743637  0.55059  0.12521\n",
       " 0.7  0.73  0.76  0.79  0.82  0.85         0.94      0.97     1.0"
      ]
     },
     "execution_count": 15,
     "metadata": {},
     "output_type": "execute_result"
    }
   ],
   "source": [
    "open(\"data/pguess_vs_v_bilo24-θπ8-δπ6_eve4_npa3_x1y1z1.txt\", \"r\") do io\n",
    "    (pgs_old, vs_old) = readdlm(io)\n",
    "end"
   ]
  },
  {
   "cell_type": "code",
   "execution_count": null,
   "id": "2432bbf7-a22b-44c9-9158-8e8aca9b7c4e",
   "metadata": {},
   "outputs": [],
   "source": [
    "ebits = Int(log2(size(PE)[1]))\n",
    "open(\"data/pguess_vs_v_bilo24-θπ9-δπ8_eve$(ebits)_npa$(level)_x1y1z1.txt\", \"w\") do io\n",
    "    writedlm(io, [pgs_24_tiltedBSM1, vs])\n",
    "end"
   ]
  },
  {
   "cell_type": "code",
   "execution_count": 27,
   "id": "f077d446-efd1-4bb0-803d-cb6609f3633e",
   "metadata": {},
   "outputs": [
    {
     "data": {
      "text/plain": [
       "4-element Vector{Vector{Float64}}:\n",
       " [-1.9331717922442362e-11, -5.672067454364662e-8, -2.8476219220080914e-11, -2.653318671699209e-8, 0.0003220418217813328, 0.007387426205288244, 0.05843602121645931, 0.19795412725694245, 0.45011748756999514, 0.9326193309887655, 2.9976929847517964]\n",
       " [-2.8459176988554666e-10, -1.1404438606061316e-9, -1.893080909437741e-10, -4.6126641092652775e-9, -3.2503374811706387e-10, 9.906470083019324e-6, 0.023952926058888463, 0.1305685192263631, 0.3471626072085615, 0.7502919925208142, 2.9967822283837506]\n",
       " [-7.559196617316727e-9, -8.281698067705885e-9, -1.6500849921141205e-12, -8.012657517426957e-8, -5.578348973251179e-8, 0.0030746353892811963, 0.052052572991792535, 0.19374310736519765, 0.4273301905533776, 0.8609494382216718, 2.997578976449448]\n",
       " [-4.587186938019019e-9, -6.138446131227623e-8, -4.12641472035333e-9, -5.256355417077611e-8, 0.0006754462247450998, 0.011579299725332587, 0.06272510634010317, 0.2031256329395349, 0.45870736858493305, 0.947027971573792, 2.9979178244541993]"
      ]
     },
     "execution_count": 27,
     "metadata": {},
     "output_type": "execute_result"
    }
   ],
   "source": [
    "#pgs_24_tBSMθ = [copy(pgs_24_tiltedBSM1)]\n",
    "push!(pgs_24_tBSMθ, copy(pgs_24_tiltedBSM1))\n",
    "Hmin_24_tBSMθ = map(p->-log2.(p), pgs_24_tBSMθ)"
   ]
  },
  {
   "cell_type": "markdown",
   "id": "910e1494-cb1b-4bd9-8f77-821ff0ad98bd",
   "metadata": {},
   "source": [
    "#### Plot"
   ]
  },
  {
   "cell_type": "code",
   "execution_count": 48,
   "id": "5d41c947-64ea-4ccc-afbc-7a10d8ee5164",
   "metadata": {},
   "outputs": [
    {
     "data": {
      "image/png": "[encoded data removed]",
      "image/svg+xml": [
       "<?xml version=\"1.0\" encoding=\"utf-8\"?>\n",
       "<svg xmlns=\"http://www.w3.org/2000/svg\" xmlns:xlink=\"http://www.w3.org/1999/xlink\" width=\"600\" height=\"400\" viewBox=\"0 0 2400 1600\">\n",
       "<defs>\n",
       "  <clipPath id=\"clip500\">\n",
       "    <rect x=\"0\" y=\"0\" width=\"2400\" height=\"1600\"/>\n",
       "  </clipPath>\n",
       "</defs>\n",
       "<path clip-path=\"url(#clip500)\" d=\"M0 1600 L2400 1600 L2400 0 L0 0  Z\" fill=\"#ffffff\" fill-rule=\"evenodd\" fill-opacity=\"1\"/>\n",
       "<defs>\n",
       "  <clipPath id=\"clip501\">\n",
       "    <rect x=\"480\" y=\"0\" width=\"1681\" height=\"1600\"/>\n",
       "  </clipPath>\n",
       "</defs>\n",
       "<path clip-path=\"url(#clip500)\" d=\"M337.944 1423.18 L2352.76 1423.18 L2352.76 47.2441 L337.944 47.2441  Z\" fill=\"#ffffff\" fill-rule=\"evenodd\" fill-opacity=\"1\"/>\n",
       "<defs>\n",
       "  <clipPath id=\"clip502\">\n",
       "    <rect x=\"337\" y=\"47\" width=\"2016\" height=\"1377\"/>\n",
       "  </clipPath>\n",
       "</defs>\n",
       "<polyline clip-path=\"url(#clip502)\" style=\"stroke:#000000; stroke-linecap:round; stroke-linejoin:round; stroke-width:2; stroke-opacity:0.1; fill:none\" points=\"394.967,1423.18 394.967,47.2441 \"/>\n",
       "<polyline clip-path=\"url(#clip502)\" style=\"stroke:#000000; stroke-linecap:round; stroke-linejoin:round; stroke-width:2; stroke-opacity:0.1; fill:none\" points=\"982.351,1423.18 982.351,47.2441 \"/>\n",
       "<polyline clip-path=\"url(#clip502)\" style=\"stroke:#000000; stroke-linecap:round; stroke-linejoin:round; stroke-width:2; stroke-opacity:0.1; fill:none\" points=\"1569.73,1423.18 1569.73,47.2441 \"/>\n",
       "<polyline clip-path=\"url(#clip502)\" style=\"stroke:#000000; stroke-linecap:round; stroke-linejoin:round; stroke-width:2; stroke-opacity:0.1; fill:none\" points=\"2157.12,1423.18 2157.12,47.2441 \"/>\n",
       "<polyline clip-path=\"url(#clip500)\" style=\"stroke:#000000; stroke-linecap:round; stroke-linejoin:round; stroke-width:4; stroke-opacity:1; fill:none\" points=\"337.944,1423.18 2352.76,1423.18 \"/>\n",
       "<polyline clip-path=\"url(#clip500)\" style=\"stroke:#000000; stroke-linecap:round; stroke-linejoin:round; stroke-width:4; stroke-opacity:1; fill:none\" points=\"394.967,1423.18 394.967,1404.28 \"/>\n",
       "<polyline clip-path=\"url(#clip500)\" style=\"stroke:#000000; stroke-linecap:round; stroke-linejoin:round; stroke-width:4; stroke-opacity:1; fill:none\" points=\"982.351,1423.18 982.351,1404.28 \"/>\n",
       "<polyline clip-path=\"url(#clip500)\" style=\"stroke:#000000; stroke-linecap:round; stroke-linejoin:round; stroke-width:4; stroke-opacity:1; fill:none\" points=\"1569.73,1423.18 1569.73,1404.28 \"/>\n",
       "<polyline clip-path=\"url(#clip500)\" style=\"stroke:#000000; stroke-linecap:round; stroke-linejoin:round; stroke-width:4; stroke-opacity:1; fill:none\" points=\"2157.12,1423.18 2157.12,1404.28 \"/>\n",
       "<path clip-path=\"url(#clip500)\" d=\"M372.965 1454.1 Q369.354 1454.1 367.525 1457.66 Q365.72 1461.2 365.72 1468.33 Q365.72 1475.44 367.525 1479.01 Q369.354 1482.55 372.965 1482.55 Q376.599 1482.55 378.405 1479.01 Q380.234 1475.44 380.234 1468.33 Q380.234 1461.2 378.405 1457.66 Q376.599 1454.1 372.965 1454.1 M372.965 1450.39 Q378.775 1450.39 381.831 1455 Q384.909 1459.58 384.909 1468.33 Q384.909 1477.06 381.831 1481.67 Q378.775 1486.25 372.965 1486.25 Q367.155 1486.25 364.076 1481.67 Q361.021 1477.06 361.021 1468.33 Q361.021 1459.58 364.076 1455 Q367.155 1450.39 372.965 1450.39 Z\" fill=\"#000000\" fill-rule=\"nonzero\" fill-opacity=\"1\" /><path clip-path=\"url(#clip500)\" d=\"M393.127 1479.7 L398.011 1479.7 L398.011 1485.58 L393.127 1485.58 L393.127 1479.7 Z\" fill=\"#000000\" fill-rule=\"nonzero\" fill-opacity=\"1\" /><path clip-path=\"url(#clip500)\" d=\"M409.007 1481.64 L416.645 1481.64 L416.645 1455.28 L408.335 1456.95 L408.335 1452.69 L416.599 1451.02 L421.275 1451.02 L421.275 1481.64 L428.914 1481.64 L428.914 1485.58 L409.007 1485.58 L409.007 1481.64 Z\" fill=\"#000000\" fill-rule=\"nonzero\" fill-opacity=\"1\" /><path clip-path=\"url(#clip500)\" d=\"M960.534 1454.1 Q956.923 1454.1 955.094 1457.66 Q953.288 1461.2 953.288 1468.33 Q953.288 1475.44 955.094 1479.01 Q956.923 1482.55 960.534 1482.55 Q964.168 1482.55 965.974 1479.01 Q967.802 1475.44 967.802 1468.33 Q967.802 1461.2 965.974 1457.66 Q964.168 1454.1 960.534 1454.1 M960.534 1450.39 Q966.344 1450.39 969.399 1455 Q972.478 1459.58 972.478 1468.33 Q972.478 1477.06 969.399 1481.67 Q966.344 1486.25 960.534 1486.25 Q954.724 1486.25 951.645 1481.67 Q948.589 1477.06 948.589 1468.33 Q948.589 1459.58 951.645 1455 Q954.724 1450.39 960.534 1450.39 Z\" fill=\"#000000\" fill-rule=\"nonzero\" fill-opacity=\"1\" /><path clip-path=\"url(#clip500)\" d=\"M980.696 1479.7 L985.58 1479.7 L985.58 1485.58 L980.696 1485.58 L980.696 1479.7 Z\" fill=\"#000000\" fill-rule=\"nonzero\" fill-opacity=\"1\" /><path clip-path=\"url(#clip500)\" d=\"M999.793 1481.64 L1016.11 1481.64 L1016.11 1485.58 L994.168 1485.58 L994.168 1481.64 Q996.83 1478.89 1001.41 1474.26 Q1006.02 1469.61 1007.2 1468.27 Q1009.45 1465.74 1010.33 1464.01 Q1011.23 1462.25 1011.23 1460.56 Q1011.23 1457.8 1009.28 1456.07 Q1007.36 1454.33 1004.26 1454.33 Q1002.06 1454.33 999.608 1455.09 Q997.177 1455.86 994.399 1457.41 L994.399 1452.69 Q997.223 1451.55 999.677 1450.97 Q1002.13 1450.39 1004.17 1450.39 Q1009.54 1450.39 1012.73 1453.08 Q1015.93 1455.77 1015.93 1460.26 Q1015.93 1462.39 1015.12 1464.31 Q1014.33 1466.2 1012.22 1468.8 Q1011.64 1469.47 1008.54 1472.69 Q1005.44 1475.88 999.793 1481.64 Z\" fill=\"#000000\" fill-rule=\"nonzero\" fill-opacity=\"1\" /><path clip-path=\"url(#clip500)\" d=\"M1547.44 1454.1 Q1543.83 1454.1 1542 1457.66 Q1540.2 1461.2 1540.2 1468.33 Q1540.2 1475.44 1542 1479.01 Q1543.83 1482.55 1547.44 1482.55 Q1551.08 1482.55 1552.88 1479.01 Q1554.71 1475.44 1554.71 1468.33 Q1554.71 1461.2 1552.88 1457.66 Q1551.08 1454.1 1547.44 1454.1 M1547.44 1450.39 Q1553.25 1450.39 1556.31 1455 Q1559.39 1459.58 1559.39 1468.33 Q1559.39 1477.06 1556.31 1481.67 Q1553.25 1486.25 1547.44 1486.25 Q1541.63 1486.25 1538.55 1481.67 Q1535.5 1477.06 1535.5 1468.33 Q1535.5 1459.58 1538.55 1455 Q1541.63 1450.39 1547.44 1450.39 Z\" fill=\"#000000\" fill-rule=\"nonzero\" fill-opacity=\"1\" /><path clip-path=\"url(#clip500)\" d=\"M1567.6 1479.7 L1572.49 1479.7 L1572.49 1485.58 L1567.6 1485.58 L1567.6 1479.7 Z\" fill=\"#000000\" fill-rule=\"nonzero\" fill-opacity=\"1\" /><path clip-path=\"url(#clip500)\" d=\"M1596.84 1466.95 Q1600.2 1467.66 1602.07 1469.93 Q1603.97 1472.2 1603.97 1475.53 Q1603.97 1480.65 1600.45 1483.45 Q1596.93 1486.25 1590.45 1486.25 Q1588.28 1486.25 1585.96 1485.81 Q1583.67 1485.39 1581.22 1484.54 L1581.22 1480.02 Q1583.16 1481.16 1585.47 1481.74 Q1587.79 1482.32 1590.31 1482.32 Q1594.71 1482.32 1597 1480.58 Q1599.32 1478.84 1599.32 1475.53 Q1599.32 1472.48 1597.16 1470.77 Q1595.03 1469.03 1591.22 1469.03 L1587.19 1469.03 L1587.19 1465.19 L1591.4 1465.19 Q1594.85 1465.19 1596.68 1463.82 Q1598.51 1462.43 1598.51 1459.84 Q1598.51 1457.18 1596.61 1455.77 Q1594.73 1454.33 1591.22 1454.33 Q1589.29 1454.33 1587.1 1454.75 Q1584.9 1455.16 1582.26 1456.04 L1582.26 1451.88 Q1584.92 1451.14 1587.23 1450.77 Q1589.57 1450.39 1591.63 1450.39 Q1596.96 1450.39 1600.06 1452.83 Q1603.16 1455.23 1603.16 1459.35 Q1603.16 1462.22 1601.52 1464.21 Q1599.87 1466.18 1596.84 1466.95 Z\" fill=\"#000000\" fill-rule=\"nonzero\" fill-opacity=\"1\" /><path clip-path=\"url(#clip500)\" d=\"M2134.26 1454.1 Q2130.65 1454.1 2128.82 1457.66 Q2127.01 1461.2 2127.01 1468.33 Q2127.01 1475.44 2128.82 1479.01 Q2130.65 1482.55 2134.26 1482.55 Q2137.89 1482.55 2139.7 1479.01 Q2141.53 1475.44 2141.53 1468.33 Q2141.53 1461.2 2139.7 1457.66 Q2137.89 1454.1 2134.26 1454.1 M2134.26 1450.39 Q2140.07 1450.39 2143.12 1455 Q2146.2 1459.58 2146.2 1468.33 Q2146.2 1477.06 2143.12 1481.67 Q2140.07 1486.25 2134.26 1486.25 Q2128.45 1486.25 2125.37 1481.67 Q2122.31 1477.06 2122.31 1468.33 Q2122.31 1459.58 2125.37 1455 Q2128.45 1450.39 2134.26 1450.39 Z\" fill=\"#000000\" fill-rule=\"nonzero\" fill-opacity=\"1\" /><path clip-path=\"url(#clip500)\" d=\"M2154.42 1479.7 L2159.31 1479.7 L2159.31 1485.58 L2154.42 1485.58 L2154.42 1479.7 Z\" fill=\"#000000\" fill-rule=\"nonzero\" fill-opacity=\"1\" /><path clip-path=\"url(#clip500)\" d=\"M2182.34 1455.09 L2170.53 1473.54 L2182.34 1473.54 L2182.34 1455.09 M2181.11 1451.02 L2186.99 1451.02 L2186.99 1473.54 L2191.92 1473.54 L2191.92 1477.43 L2186.99 1477.43 L2186.99 1485.58 L2182.34 1485.58 L2182.34 1477.43 L2166.74 1477.43 L2166.74 1472.92 L2181.11 1451.02 Z\" fill=\"#000000\" fill-rule=\"nonzero\" fill-opacity=\"1\" /><path clip-path=\"url(#clip500)\" d=\"M1357.84 1518.43 Q1357.84 1518.91 1357.49 1519.62 Q1357.16 1520.26 1356.49 1520.68 Q1355.84 1521.07 1355.14 1521.07 Q1354.91 1521.07 1354.39 1520.94 Q1353.53 1520.55 1352.17 1519.69 Q1350.82 1518.82 1349.6 1518.27 Q1348.4 1517.69 1347.08 1517.62 Q1345.92 1517.62 1344.96 1518.04 Q1344.09 1518.53 1343.51 1519.56 Q1343.25 1519.98 1343.25 1520.68 Q1343.25 1521.68 1343.8 1523 Q1344.35 1524.32 1345.47 1526.03 Q1346.63 1527.74 1347.47 1528.9 Q1348.31 1530.02 1349.76 1531.89 Q1349.89 1532.05 1349.95 1532.15 Q1350.01 1532.21 1350.11 1532.37 Q1350.21 1532.5 1350.3 1532.6 Q1353.36 1536.43 1354.14 1540.65 Q1354.33 1542.13 1354.33 1543.68 Q1354.33 1546.77 1353.4 1550.41 Q1352.59 1553.73 1350.88 1556.59 Q1349.18 1559.43 1346.6 1561.3 Q1344.06 1563.16 1341.29 1563.16 Q1338.55 1563.16 1336.3 1561.97 Q1334.04 1560.75 1332.69 1558.65 Q1330.85 1555.88 1330.85 1552.05 Q1330.85 1549.89 1331.37 1548.06 Q1332.08 1545.13 1333.75 1542.42 Q1335.43 1539.72 1337.84 1537.62 Q1341.51 1534.53 1345.51 1533.66 Q1343.64 1530.12 1342.54 1527.38 Q1341.48 1524.61 1341.48 1522.26 Q1341.48 1520.2 1342.25 1518.88 Q1342.93 1517.46 1344.31 1516.66 Q1345.47 1515.95 1347.15 1515.6 Q1348.18 1515.47 1348.86 1515.47 Q1351.14 1515.47 1356.46 1516.72 Q1357.84 1517.04 1357.84 1518.43 M1349.79 1546.32 Q1349.79 1544.35 1349.47 1543.03 Q1348.86 1539.81 1346.41 1535.37 L1346.21 1535.05 Q1343.09 1535.95 1340.55 1538.69 Q1337.36 1542.04 1335.75 1548.38 Q1334.88 1551.92 1334.88 1553.92 Q1334.88 1556.08 1335.68 1557.95 Q1336.46 1559.68 1337.91 1560.68 Q1339.39 1561.68 1341.35 1561.68 Q1342.83 1561.68 1344.12 1560.84 Q1345.41 1559.97 1346.34 1558.46 Q1347.28 1556.95 1347.92 1555.3 Q1348.6 1553.63 1349.11 1551.67 Q1349.79 1549.02 1349.79 1546.32 Z\" fill=\"#000000\" fill-rule=\"nonzero\" fill-opacity=\"1\" /><polyline clip-path=\"url(#clip502)\" style=\"stroke:#000000; stroke-linecap:round; stroke-linejoin:round; stroke-width:2; stroke-opacity:0.1; fill:none\" points=\"337.944,1339.36 2352.76,1339.36 \"/>\n",
       "<polyline clip-path=\"url(#clip502)\" style=\"stroke:#000000; stroke-linecap:round; stroke-linejoin:round; stroke-width:2; stroke-opacity:0.1; fill:none\" points=\"337.944,1060.4 2352.76,1060.4 \"/>\n",
       "<polyline clip-path=\"url(#clip502)\" style=\"stroke:#000000; stroke-linecap:round; stroke-linejoin:round; stroke-width:2; stroke-opacity:0.1; fill:none\" points=\"337.944,781.442 2352.76,781.442 \"/>\n",
       "<polyline clip-path=\"url(#clip502)\" style=\"stroke:#000000; stroke-linecap:round; stroke-linejoin:round; stroke-width:2; stroke-opacity:0.1; fill:none\" points=\"337.944,502.484 2352.76,502.484 \"/>\n",
       "<polyline clip-path=\"url(#clip502)\" style=\"stroke:#000000; stroke-linecap:round; stroke-linejoin:round; stroke-width:2; stroke-opacity:0.1; fill:none\" points=\"337.944,223.526 2352.76,223.526 \"/>\n",
       "<polyline clip-path=\"url(#clip500)\" style=\"stroke:#000000; stroke-linecap:round; stroke-linejoin:round; stroke-width:4; stroke-opacity:1; fill:none\" points=\"337.944,1423.18 337.944,47.2441 \"/>\n",
       "<polyline clip-path=\"url(#clip500)\" style=\"stroke:#000000; stroke-linecap:round; stroke-linejoin:round; stroke-width:4; stroke-opacity:1; fill:none\" points=\"337.944,1339.36 356.842,1339.36 \"/>\n",
       "<polyline clip-path=\"url(#clip500)\" style=\"stroke:#000000; stroke-linecap:round; stroke-linejoin:round; stroke-width:4; stroke-opacity:1; fill:none\" points=\"337.944,1060.4 356.842,1060.4 \"/>\n",
       "<polyline clip-path=\"url(#clip500)\" style=\"stroke:#000000; stroke-linecap:round; stroke-linejoin:round; stroke-width:4; stroke-opacity:1; fill:none\" points=\"337.944,781.442 356.842,781.442 \"/>\n",
       "<polyline clip-path=\"url(#clip500)\" style=\"stroke:#000000; stroke-linecap:round; stroke-linejoin:round; stroke-width:4; stroke-opacity:1; fill:none\" points=\"337.944,502.484 356.842,502.484 \"/>\n",
       "<polyline clip-path=\"url(#clip500)\" style=\"stroke:#000000; stroke-linecap:round; stroke-linejoin:round; stroke-width:4; stroke-opacity:1; fill:none\" points=\"337.944,223.526 356.842,223.526 \"/>\n",
       "<path clip-path=\"url(#clip500)\" d=\"M115.927 1352.7 L123.566 1352.7 L123.566 1326.34 L115.256 1328 L115.256 1323.74 L123.519 1322.08 L128.195 1322.08 L128.195 1352.7 L135.834 1352.7 L135.834 1356.64 L115.927 1356.64 L115.927 1352.7 Z\" fill=\"#000000\" fill-rule=\"nonzero\" fill-opacity=\"1\" /><path clip-path=\"url(#clip500)\" d=\"M145.279 1350.76 L150.163 1350.76 L150.163 1356.64 L145.279 1356.64 L145.279 1350.76 Z\" fill=\"#000000\" fill-rule=\"nonzero\" fill-opacity=\"1\" /><path clip-path=\"url(#clip500)\" d=\"M173.195 1326.15 L161.39 1344.6 L173.195 1344.6 L173.195 1326.15 M171.968 1322.08 L177.848 1322.08 L177.848 1344.6 L182.778 1344.6 L182.778 1348.49 L177.848 1348.49 L177.848 1356.64 L173.195 1356.64 L173.195 1348.49 L157.593 1348.49 L157.593 1343.98 L171.968 1322.08 Z\" fill=\"#000000\" fill-rule=\"nonzero\" fill-opacity=\"1\" /><path clip-path=\"url(#clip500)\" d=\"M191.32 1352.7 L198.959 1352.7 L198.959 1326.34 L190.649 1328 L190.649 1323.74 L198.912 1322.08 L203.588 1322.08 L203.588 1352.7 L211.227 1352.7 L211.227 1356.64 L191.32 1356.64 L191.32 1352.7 Z\" fill=\"#000000\" fill-rule=\"nonzero\" fill-opacity=\"1\" /><path clip-path=\"url(#clip500)\" d=\"M234.838 1338 Q238.195 1338.72 240.07 1340.99 Q241.968 1343.26 241.968 1346.59 Q241.968 1351.71 238.449 1354.51 Q234.931 1357.31 228.449 1357.31 Q226.273 1357.31 223.959 1356.87 Q221.667 1356.45 219.213 1355.6 L219.213 1351.08 Q221.158 1352.22 223.473 1352.79 Q225.787 1353.37 228.31 1353.37 Q232.709 1353.37 235 1351.64 Q237.315 1349.9 237.315 1346.59 Q237.315 1343.54 235.162 1341.82 Q233.033 1340.09 229.213 1340.09 L225.185 1340.09 L225.185 1336.24 L229.398 1336.24 Q232.847 1336.24 234.676 1334.88 Q236.505 1333.49 236.505 1330.9 Q236.505 1328.23 234.607 1326.82 Q232.732 1325.39 229.213 1325.39 Q227.292 1325.39 225.093 1325.8 Q222.894 1326.22 220.255 1327.1 L220.255 1322.93 Q222.917 1322.19 225.232 1321.82 Q227.57 1321.45 229.63 1321.45 Q234.954 1321.45 238.056 1323.88 Q241.158 1326.29 241.158 1330.41 Q241.158 1333.28 239.514 1335.27 Q237.871 1337.24 234.838 1338 Z\" fill=\"#000000\" fill-rule=\"nonzero\" fill-opacity=\"1\" /><path clip-path=\"url(#clip500)\" d=\"M254.861 1352.7 L271.181 1352.7 L271.181 1356.64 L249.236 1356.64 L249.236 1352.7 Q251.898 1349.95 256.482 1345.32 Q261.088 1340.67 262.269 1339.32 Q264.514 1336.8 265.394 1335.06 Q266.296 1333.3 266.296 1331.61 Q266.296 1328.86 264.352 1327.12 Q262.431 1325.39 259.329 1325.39 Q257.13 1325.39 254.676 1326.15 Q252.246 1326.92 249.468 1328.47 L249.468 1323.74 Q252.292 1322.61 254.746 1322.03 Q257.199 1321.45 259.236 1321.45 Q264.607 1321.45 267.801 1324.14 Q270.995 1326.82 270.995 1331.31 Q270.995 1333.44 270.185 1335.36 Q269.398 1337.26 267.292 1339.86 Q266.713 1340.53 263.611 1343.74 Q260.509 1346.94 254.861 1352.7 Z\" fill=\"#000000\" fill-rule=\"nonzero\" fill-opacity=\"1\" /><path clip-path=\"url(#clip500)\" d=\"M281.042 1322.08 L299.398 1322.08 L299.398 1326.01 L285.324 1326.01 L285.324 1334.48 Q286.343 1334.14 287.361 1333.98 Q288.38 1333.79 289.398 1333.79 Q295.185 1333.79 298.565 1336.96 Q301.944 1340.13 301.944 1345.55 Q301.944 1351.13 298.472 1354.23 Q295 1357.31 288.681 1357.31 Q286.505 1357.31 284.236 1356.94 Q281.991 1356.57 279.583 1355.83 L279.583 1351.13 Q281.667 1352.26 283.889 1352.82 Q286.111 1353.37 288.588 1353.37 Q292.593 1353.37 294.93 1351.27 Q297.268 1349.16 297.268 1345.55 Q297.268 1341.94 294.93 1339.83 Q292.593 1337.73 288.588 1337.73 Q286.713 1337.73 284.838 1338.14 Q282.986 1338.56 281.042 1339.44 L281.042 1322.08 Z\" fill=\"#000000\" fill-rule=\"nonzero\" fill-opacity=\"1\" /><path clip-path=\"url(#clip500)\" d=\"M114.931 1073.74 L122.57 1073.74 L122.57 1047.38 L114.26 1049.05 L114.26 1044.79 L122.524 1043.12 L127.2 1043.12 L127.2 1073.74 L134.839 1073.74 L134.839 1077.68 L114.931 1077.68 L114.931 1073.74 Z\" fill=\"#000000\" fill-rule=\"nonzero\" fill-opacity=\"1\" /><path clip-path=\"url(#clip500)\" d=\"M144.283 1071.8 L149.167 1071.8 L149.167 1077.68 L144.283 1077.68 L144.283 1071.8 Z\" fill=\"#000000\" fill-rule=\"nonzero\" fill-opacity=\"1\" /><path clip-path=\"url(#clip500)\" d=\"M172.2 1047.19 L160.394 1065.64 L172.2 1065.64 L172.2 1047.19 M170.973 1043.12 L176.852 1043.12 L176.852 1065.64 L181.783 1065.64 L181.783 1069.53 L176.852 1069.53 L176.852 1077.68 L172.2 1077.68 L172.2 1069.53 L156.598 1069.53 L156.598 1065.02 L170.973 1043.12 Z\" fill=\"#000000\" fill-rule=\"nonzero\" fill-opacity=\"1\" /><path clip-path=\"url(#clip500)\" d=\"M190.325 1073.74 L197.963 1073.74 L197.963 1047.38 L189.653 1049.05 L189.653 1044.79 L197.917 1043.12 L202.593 1043.12 L202.593 1073.74 L210.232 1073.74 L210.232 1077.68 L190.325 1077.68 L190.325 1073.74 Z\" fill=\"#000000\" fill-rule=\"nonzero\" fill-opacity=\"1\" /><path clip-path=\"url(#clip500)\" d=\"M233.843 1059.05 Q237.199 1059.76 239.074 1062.03 Q240.972 1064.3 240.972 1067.63 Q240.972 1072.75 237.454 1075.55 Q233.935 1078.35 227.454 1078.35 Q225.278 1078.35 222.963 1077.91 Q220.672 1077.49 218.218 1076.64 L218.218 1072.12 Q220.162 1073.26 222.477 1073.84 Q224.792 1074.42 227.315 1074.42 Q231.713 1074.42 234.005 1072.68 Q236.32 1070.94 236.32 1067.63 Q236.32 1064.58 234.167 1062.86 Q232.037 1061.13 228.218 1061.13 L224.19 1061.13 L224.19 1057.29 L228.403 1057.29 Q231.852 1057.29 233.681 1055.92 Q235.51 1054.53 235.51 1051.94 Q235.51 1049.28 233.611 1047.86 Q231.736 1046.43 228.218 1046.43 Q226.297 1046.43 224.098 1046.85 Q221.898 1047.26 219.26 1048.14 L219.26 1043.98 Q221.922 1043.24 224.236 1042.86 Q226.574 1042.49 228.635 1042.49 Q233.959 1042.49 237.06 1044.93 Q240.162 1047.33 240.162 1051.45 Q240.162 1054.32 238.519 1056.31 Q236.875 1058.28 233.843 1059.05 Z\" fill=\"#000000\" fill-rule=\"nonzero\" fill-opacity=\"1\" /><path clip-path=\"url(#clip500)\" d=\"M249.884 1043.12 L268.241 1043.12 L268.241 1047.05 L254.167 1047.05 L254.167 1055.53 Q255.185 1055.18 256.204 1055.02 Q257.222 1054.83 258.241 1054.83 Q264.028 1054.83 267.407 1058 Q270.787 1061.18 270.787 1066.59 Q270.787 1072.17 267.315 1075.27 Q263.843 1078.35 257.523 1078.35 Q255.347 1078.35 253.079 1077.98 Q250.833 1077.61 248.426 1076.87 L248.426 1072.17 Q250.509 1073.3 252.732 1073.86 Q254.954 1074.42 257.431 1074.42 Q261.435 1074.42 263.773 1072.31 Q266.111 1070.2 266.111 1066.59 Q266.111 1062.98 263.773 1060.87 Q261.435 1058.77 257.431 1058.77 Q255.556 1058.77 253.681 1059.18 Q251.829 1059.6 249.884 1060.48 L249.884 1043.12 Z\" fill=\"#000000\" fill-rule=\"nonzero\" fill-opacity=\"1\" /><path clip-path=\"url(#clip500)\" d=\"M290 1046.2 Q286.389 1046.2 284.56 1049.76 Q282.755 1053.3 282.755 1060.43 Q282.755 1067.54 284.56 1071.11 Q286.389 1074.65 290 1074.65 Q293.634 1074.65 295.44 1071.11 Q297.268 1067.54 297.268 1060.43 Q297.268 1053.3 295.44 1049.76 Q293.634 1046.2 290 1046.2 M290 1042.49 Q295.81 1042.49 298.866 1047.1 Q301.944 1051.68 301.944 1060.43 Q301.944 1069.16 298.866 1073.77 Q295.81 1078.35 290 1078.35 Q284.19 1078.35 281.111 1073.77 Q278.056 1069.16 278.056 1060.43 Q278.056 1051.68 281.111 1047.1 Q284.19 1042.49 290 1042.49 Z\" fill=\"#000000\" fill-rule=\"nonzero\" fill-opacity=\"1\" /><path clip-path=\"url(#clip500)\" d=\"M115.927 794.787 L123.566 794.787 L123.566 768.421 L115.256 770.088 L115.256 765.828 L123.519 764.162 L128.195 764.162 L128.195 794.787 L135.834 794.787 L135.834 798.722 L115.927 798.722 L115.927 794.787 Z\" fill=\"#000000\" fill-rule=\"nonzero\" fill-opacity=\"1\" /><path clip-path=\"url(#clip500)\" d=\"M145.279 792.842 L150.163 792.842 L150.163 798.722 L145.279 798.722 L145.279 792.842 Z\" fill=\"#000000\" fill-rule=\"nonzero\" fill-opacity=\"1\" /><path clip-path=\"url(#clip500)\" d=\"M173.195 768.236 L161.39 786.685 L173.195 786.685 L173.195 768.236 M171.968 764.162 L177.848 764.162 L177.848 786.685 L182.778 786.685 L182.778 790.574 L177.848 790.574 L177.848 798.722 L173.195 798.722 L173.195 790.574 L157.593 790.574 L157.593 786.06 L171.968 764.162 Z\" fill=\"#000000\" fill-rule=\"nonzero\" fill-opacity=\"1\" /><path clip-path=\"url(#clip500)\" d=\"M191.32 794.787 L198.959 794.787 L198.959 768.421 L190.649 770.088 L190.649 765.828 L198.912 764.162 L203.588 764.162 L203.588 794.787 L211.227 794.787 L211.227 798.722 L191.32 798.722 L191.32 794.787 Z\" fill=\"#000000\" fill-rule=\"nonzero\" fill-opacity=\"1\" /><path clip-path=\"url(#clip500)\" d=\"M234.838 780.088 Q238.195 780.805 240.07 783.074 Q241.968 785.342 241.968 788.675 Q241.968 793.791 238.449 796.592 Q234.931 799.393 228.449 799.393 Q226.273 799.393 223.959 798.953 Q221.667 798.537 219.213 797.68 L219.213 793.166 Q221.158 794.3 223.473 794.879 Q225.787 795.458 228.31 795.458 Q232.709 795.458 235 793.722 Q237.315 791.986 237.315 788.675 Q237.315 785.62 235.162 783.907 Q233.033 782.171 229.213 782.171 L225.185 782.171 L225.185 778.328 L229.398 778.328 Q232.847 778.328 234.676 776.963 Q236.505 775.574 236.505 772.981 Q236.505 770.319 234.607 768.907 Q232.732 767.472 229.213 767.472 Q227.292 767.472 225.093 767.889 Q222.894 768.305 220.255 769.185 L220.255 765.018 Q222.917 764.277 225.232 763.907 Q227.57 763.537 229.63 763.537 Q234.954 763.537 238.056 765.967 Q241.158 768.375 241.158 772.495 Q241.158 775.365 239.514 777.356 Q237.871 779.324 234.838 780.088 Z\" fill=\"#000000\" fill-rule=\"nonzero\" fill-opacity=\"1\" /><path clip-path=\"url(#clip500)\" d=\"M249.653 764.162 L271.875 764.162 L271.875 766.152 L259.329 798.722 L254.445 798.722 L266.25 768.097 L249.653 768.097 L249.653 764.162 Z\" fill=\"#000000\" fill-rule=\"nonzero\" fill-opacity=\"1\" /><path clip-path=\"url(#clip500)\" d=\"M281.042 764.162 L299.398 764.162 L299.398 768.097 L285.324 768.097 L285.324 776.569 Q286.343 776.222 287.361 776.06 Q288.38 775.875 289.398 775.875 Q295.185 775.875 298.565 779.046 Q301.944 782.217 301.944 787.634 Q301.944 793.212 298.472 796.314 Q295 799.393 288.681 799.393 Q286.505 799.393 284.236 799.023 Q281.991 798.652 279.583 797.912 L279.583 793.212 Q281.667 794.347 283.889 794.902 Q286.111 795.458 288.588 795.458 Q292.593 795.458 294.93 793.351 Q297.268 791.245 297.268 787.634 Q297.268 784.023 294.93 781.916 Q292.593 779.81 288.588 779.81 Q286.713 779.81 284.838 780.226 Q282.986 780.643 281.042 781.523 L281.042 764.162 Z\" fill=\"#000000\" fill-rule=\"nonzero\" fill-opacity=\"1\" /><path clip-path=\"url(#clip500)\" d=\"M114.931 515.829 L122.57 515.829 L122.57 489.463 L114.26 491.13 L114.26 486.871 L122.524 485.204 L127.2 485.204 L127.2 515.829 L134.839 515.829 L134.839 519.764 L114.931 519.764 L114.931 515.829 Z\" fill=\"#000000\" fill-rule=\"nonzero\" fill-opacity=\"1\" /><path clip-path=\"url(#clip500)\" d=\"M144.283 513.884 L149.167 513.884 L149.167 519.764 L144.283 519.764 L144.283 513.884 Z\" fill=\"#000000\" fill-rule=\"nonzero\" fill-opacity=\"1\" /><path clip-path=\"url(#clip500)\" d=\"M172.2 489.278 L160.394 507.727 L172.2 507.727 L172.2 489.278 M170.973 485.204 L176.852 485.204 L176.852 507.727 L181.783 507.727 L181.783 511.616 L176.852 511.616 L176.852 519.764 L172.2 519.764 L172.2 511.616 L156.598 511.616 L156.598 507.102 L170.973 485.204 Z\" fill=\"#000000\" fill-rule=\"nonzero\" fill-opacity=\"1\" /><path clip-path=\"url(#clip500)\" d=\"M190.325 515.829 L197.963 515.829 L197.963 489.463 L189.653 491.13 L189.653 486.871 L197.917 485.204 L202.593 485.204 L202.593 515.829 L210.232 515.829 L210.232 519.764 L190.325 519.764 L190.325 515.829 Z\" fill=\"#000000\" fill-rule=\"nonzero\" fill-opacity=\"1\" /><path clip-path=\"url(#clip500)\" d=\"M232.523 489.278 L220.718 507.727 L232.523 507.727 L232.523 489.278 M231.297 485.204 L237.176 485.204 L237.176 507.727 L242.107 507.727 L242.107 511.616 L237.176 511.616 L237.176 519.764 L232.523 519.764 L232.523 511.616 L216.922 511.616 L216.922 507.102 L231.297 485.204 Z\" fill=\"#000000\" fill-rule=\"nonzero\" fill-opacity=\"1\" /><path clip-path=\"url(#clip500)\" d=\"M259.838 488.283 Q256.227 488.283 254.398 491.847 Q252.593 495.389 252.593 502.519 Q252.593 509.625 254.398 513.19 Q256.227 516.731 259.838 516.731 Q263.472 516.731 265.278 513.19 Q267.107 509.625 267.107 502.519 Q267.107 495.389 265.278 491.847 Q263.472 488.283 259.838 488.283 M259.838 484.579 Q265.648 484.579 268.704 489.185 Q271.782 493.769 271.782 502.519 Q271.782 511.245 268.704 515.852 Q265.648 520.435 259.838 520.435 Q254.028 520.435 250.949 515.852 Q247.894 511.245 247.894 502.519 Q247.894 493.769 250.949 489.185 Q254.028 484.579 259.838 484.579 Z\" fill=\"#000000\" fill-rule=\"nonzero\" fill-opacity=\"1\" /><path clip-path=\"url(#clip500)\" d=\"M290 488.283 Q286.389 488.283 284.56 491.847 Q282.755 495.389 282.755 502.519 Q282.755 509.625 284.56 513.19 Q286.389 516.731 290 516.731 Q293.634 516.731 295.44 513.19 Q297.268 509.625 297.268 502.519 Q297.268 495.389 295.44 491.847 Q293.634 488.283 290 488.283 M290 484.579 Q295.81 484.579 298.866 489.185 Q301.944 493.769 301.944 502.519 Q301.944 511.245 298.866 515.852 Q295.81 520.435 290 520.435 Q284.19 520.435 281.111 515.852 Q278.056 511.245 278.056 502.519 Q278.056 493.769 281.111 489.185 Q284.19 484.579 290 484.579 Z\" fill=\"#000000\" fill-rule=\"nonzero\" fill-opacity=\"1\" /><path clip-path=\"url(#clip500)\" d=\"M115.927 236.871 L123.566 236.871 L123.566 210.505 L115.256 212.172 L115.256 207.913 L123.519 206.246 L128.195 206.246 L128.195 236.871 L135.834 236.871 L135.834 240.806 L115.927 240.806 L115.927 236.871 Z\" fill=\"#000000\" fill-rule=\"nonzero\" fill-opacity=\"1\" /><path clip-path=\"url(#clip500)\" d=\"M145.279 234.926 L150.163 234.926 L150.163 240.806 L145.279 240.806 L145.279 234.926 Z\" fill=\"#000000\" fill-rule=\"nonzero\" fill-opacity=\"1\" /><path clip-path=\"url(#clip500)\" d=\"M173.195 210.32 L161.39 228.769 L173.195 228.769 L173.195 210.32 M171.968 206.246 L177.848 206.246 L177.848 228.769 L182.778 228.769 L182.778 232.658 L177.848 232.658 L177.848 240.806 L173.195 240.806 L173.195 232.658 L157.593 232.658 L157.593 228.144 L171.968 206.246 Z\" fill=\"#000000\" fill-rule=\"nonzero\" fill-opacity=\"1\" /><path clip-path=\"url(#clip500)\" d=\"M191.32 236.871 L198.959 236.871 L198.959 210.505 L190.649 212.172 L190.649 207.913 L198.912 206.246 L203.588 206.246 L203.588 236.871 L211.227 236.871 L211.227 240.806 L191.32 240.806 L191.32 236.871 Z\" fill=\"#000000\" fill-rule=\"nonzero\" fill-opacity=\"1\" /><path clip-path=\"url(#clip500)\" d=\"M233.519 210.32 L221.713 228.769 L233.519 228.769 L233.519 210.32 M232.292 206.246 L238.172 206.246 L238.172 228.769 L243.102 228.769 L243.102 232.658 L238.172 232.658 L238.172 240.806 L233.519 240.806 L233.519 232.658 L217.917 232.658 L217.917 228.144 L232.292 206.246 Z\" fill=\"#000000\" fill-rule=\"nonzero\" fill-opacity=\"1\" /><path clip-path=\"url(#clip500)\" d=\"M254.861 236.871 L271.181 236.871 L271.181 240.806 L249.236 240.806 L249.236 236.871 Q251.898 234.116 256.482 229.487 Q261.088 224.834 262.269 223.491 Q264.514 220.968 265.394 219.232 Q266.296 217.473 266.296 215.783 Q266.296 213.028 264.352 211.292 Q262.431 209.556 259.329 209.556 Q257.13 209.556 254.676 210.32 Q252.246 211.084 249.468 212.635 L249.468 207.913 Q252.292 206.778 254.746 206.2 Q257.199 205.621 259.236 205.621 Q264.607 205.621 267.801 208.306 Q270.995 210.991 270.995 215.482 Q270.995 217.612 270.185 219.533 Q269.398 221.431 267.292 224.024 Q266.713 224.695 263.611 227.913 Q260.509 231.107 254.861 236.871 Z\" fill=\"#000000\" fill-rule=\"nonzero\" fill-opacity=\"1\" /><path clip-path=\"url(#clip500)\" d=\"M281.042 206.246 L299.398 206.246 L299.398 210.181 L285.324 210.181 L285.324 218.653 Q286.343 218.306 287.361 218.144 Q288.38 217.959 289.398 217.959 Q295.185 217.959 298.565 221.13 Q301.944 224.301 301.944 229.718 Q301.944 235.297 298.472 238.399 Q295 241.477 288.681 241.477 Q286.505 241.477 284.236 241.107 Q281.991 240.737 279.583 239.996 L279.583 235.297 Q281.667 236.431 283.889 236.987 Q286.111 237.542 288.588 237.542 Q292.593 237.542 294.93 235.436 Q297.268 233.329 297.268 229.718 Q297.268 226.107 294.93 224.001 Q292.593 221.894 288.588 221.894 Q286.713 221.894 284.838 222.311 Q282.986 222.727 281.042 223.607 L281.042 206.246 Z\" fill=\"#000000\" fill-rule=\"nonzero\" fill-opacity=\"1\" /><path clip-path=\"url(#clip500)\" d=\"M18.419 755.979 Q19.353 755.979 19.5462 756.398 Q19.7394 756.785 19.7394 758.202 Q19.7394 760.617 20.0615 761.712 Q20.3513 762.775 20.8666 763.097 Q21.3497 763.387 22.7668 763.741 L58.3865 772.662 Q58.4187 772.662 58.8695 772.759 Q59.2882 772.855 59.5137 772.855 Q59.9323 772.855 60.19 772.598 Q60.4476 772.308 60.5765 771.599 Q60.6731 770.891 60.7053 770.343 Q60.7053 769.764 60.7053 768.572 Q60.7053 767.09 60.9629 766.865 Q61.124 766.736 61.4138 766.736 Q62.0257 766.736 62.3478 766.994 Q62.6376 767.219 62.702 767.445 Q62.7343 767.638 62.7343 768.024 Q62.7343 768.701 62.6698 770.15 Q62.6054 771.599 62.6054 772.34 L62.541 776.559 L62.7343 784.933 Q62.7343 785.834 61.9935 785.834 Q61.3494 785.834 61.0595 785.609 Q60.7697 785.383 60.7375 785.158 Q60.7053 784.9 60.7053 784.256 Q60.7053 780.939 60.3832 779.844 Q60.029 778.717 58.5153 778.266 L40.319 773.725 L40.319 793.821 L58.3865 798.33 Q58.4187 798.33 58.8695 798.427 Q59.2882 798.523 59.5137 798.523 Q59.9323 798.523 60.19 798.266 Q60.4476 797.976 60.5765 797.267 Q60.6731 796.559 60.7053 796.011 Q60.7053 795.432 60.7053 794.24 Q60.7053 792.759 60.9629 792.501 Q61.124 792.372 61.4138 792.372 Q61.8647 792.372 62.1868 792.501 Q62.4766 792.598 62.5732 792.855 Q62.6698 793.081 62.702 793.242 Q62.7343 793.403 62.7343 793.693 Q62.7343 794.369 62.6698 795.818 Q62.6054 797.235 62.6054 797.976 L62.541 802.195 L62.7343 810.568 Q62.7343 811.502 61.9935 811.502 Q61.3494 811.502 61.0918 811.277 Q60.8019 811.051 60.7697 810.762 Q60.7053 810.472 60.7053 809.731 Q60.7053 808.121 60.6087 807.155 Q60.512 806.188 60.3832 805.576 Q60.2222 804.932 59.7713 804.61 Q59.3204 804.256 58.934 804.095 Q58.5153 803.934 57.5813 803.709 L22.1549 794.884 Q21.0921 794.627 20.931 794.627 Q20.3191 794.627 20.1581 795.013 Q19.9649 795.367 19.8682 796.398 L19.7394 798.91 Q19.7394 799.683 19.7072 800.005 Q19.675 800.295 19.514 800.52 Q19.353 800.746 18.9987 800.746 Q18.5478 800.746 18.258 800.649 Q17.9359 800.52 17.8393 800.295 Q17.7427 800.069 17.7105 799.908 Q17.6783 799.747 17.6783 799.49 L17.8715 790.987 L17.6783 782.549 Q17.6783 781.615 18.419 781.615 Q19.353 781.615 19.5462 782.034 Q19.7394 782.453 19.7394 783.87 Q19.7394 786.221 20.0615 787.316 Q20.3513 788.411 20.8666 788.765 Q21.3819 789.087 22.7668 789.409 L38.2578 793.306 L38.2578 773.177 L22.1549 769.216 Q20.9955 768.958 20.931 768.958 Q20.3191 768.958 20.1581 769.345 Q19.9649 769.699 19.8682 770.73 L19.7394 773.242 Q19.7394 774.015 19.7072 774.337 Q19.675 774.627 19.514 774.884 Q19.353 775.11 18.9987 775.11 Q18.5478 775.11 18.258 775.013 Q17.9359 774.884 17.8393 774.659 Q17.7427 774.433 17.7105 774.272 Q17.6783 774.111 17.6783 773.854 L17.8715 765.351 L17.6783 756.881 Q17.6783 755.979 18.419 755.979 Z\" fill=\"#000000\" fill-rule=\"nonzero\" fill-opacity=\"1\" /><path clip-path=\"url(#clip500)\" d=\"M74.2676 711.649 Q74.4479 711.649 75.1468 711.852 Q75.8457 712.055 76.9278 712.551 Q78.0099 713.024 79.0018 713.701 Q79.9712 714.354 80.6926 715.436 Q81.3915 716.496 81.3915 717.713 Q81.3915 719.337 80.3094 720.419 Q79.2273 721.501 77.6041 721.501 Q76.7249 721.501 75.0566 720.892 Q67.4367 718.029 64.7089 718.029 Q61.4851 718.029 61.4851 720.531 Q61.4851 721.952 62.0712 723.237 Q62.6574 724.522 63.469 725.356 Q64.2805 726.19 65.2048 726.844 Q66.1292 727.497 66.7378 727.791 Q67.3465 728.061 67.6171 728.129 L78.7539 730.902 Q79.7007 731.127 80.1516 731.285 Q80.6025 731.443 80.9857 731.871 Q81.3915 732.299 81.3915 732.976 Q81.3915 733.539 81.0534 733.945 Q80.7152 734.328 80.129 734.328 Q80.0389 734.328 79.5654 734.216 Q79.092 734.103 78.4382 733.945 Q77.7845 733.787 77.4012 733.72 Q74.3352 732.908 73.9069 732.795 L68.5414 731.51 Q65.8812 730.811 64.7089 730.811 Q61.4851 730.811 61.4851 733.314 Q61.4851 734.554 61.9585 735.726 Q62.4094 736.876 63.0406 737.665 Q63.6719 738.454 64.5511 739.175 Q65.4077 739.874 65.9939 740.235 Q66.5575 740.573 67.1211 740.844 L69.4206 741.43 Q70.0518 741.565 72.5091 742.219 L76.6798 743.233 Q79.7909 743.955 80.084 744.113 Q80.7152 744.338 81.0534 744.834 Q81.3915 745.33 81.3915 745.826 Q81.3915 746.389 81.0534 746.773 Q80.7152 747.156 80.129 747.156 Q80.0389 747.156 79.7007 747.088 Q79.3625 747.021 78.8891 746.908 Q78.4157 746.795 78.1452 746.75 L67.4818 744.067 Q65.543 743.571 64.9343 743.459 Q64.3031 743.323 63.6042 743.323 Q61.4851 743.323 61.4851 744.766 Q61.4851 745.939 62.8828 746.705 Q64.2805 747.472 66.9858 748.125 Q67.7298 748.328 67.8876 748.464 Q68.0454 748.576 68.0454 748.914 Q68.0229 749.478 67.572 749.478 Q67.4593 749.478 66.7378 749.298 Q66.0164 749.117 64.9343 748.779 Q63.8297 748.418 63.1082 748.035 Q62.6348 747.81 62.3192 747.607 Q62.0036 747.404 61.5076 746.998 Q61.0116 746.592 60.7411 745.984 Q60.4706 745.375 60.4706 744.631 Q60.4706 742.985 61.5302 741.768 Q62.5897 740.528 64.4834 740.37 Q60.4706 737.372 60.4706 733.179 Q60.4706 730.811 61.6654 729.391 Q62.8152 728.061 64.9343 727.903 Q60.4706 724.792 60.4706 720.374 Q60.4706 717.826 61.8007 716.451 Q63.1082 715.076 65.4077 715.076 Q66.6026 715.076 68.8795 715.684 Q71.1339 716.293 72.2612 716.699 Q73.3884 717.105 75.5526 717.894 Q77.6267 718.728 78.844 718.728 Q79.6331 718.728 79.9938 718.457 Q80.3545 718.187 80.3545 717.601 Q80.3545 716.699 79.836 715.91 Q79.2949 715.121 78.4157 714.557 Q77.5139 713.971 76.6122 713.588 Q75.6879 713.205 74.6508 712.911 Q74.0872 712.731 73.952 712.641 Q73.8167 712.528 73.8167 712.213 Q73.8167 711.649 74.2676 711.649 Z\" fill=\"#000000\" fill-rule=\"nonzero\" fill-opacity=\"1\" /><path clip-path=\"url(#clip500)\" d=\"M52.0165 697.725 Q53.0085 697.725 53.7524 698.536 Q54.4739 699.325 54.4739 700.182 Q54.4739 700.971 54.0004 701.467 Q53.5045 701.941 52.8056 701.941 Q51.8813 701.941 51.1148 701.151 Q50.3483 700.362 50.3483 699.438 Q50.3483 698.672 50.8217 698.198 Q51.2951 697.725 52.0165 697.725 M74.2676 697.319 Q74.4479 697.319 75.1693 697.522 Q75.8682 697.725 76.9503 698.221 Q78.0099 698.694 79.0018 699.348 Q79.9938 700.002 80.6926 701.084 Q81.3915 702.143 81.3915 703.361 Q81.3915 705.007 80.3094 706.089 Q79.2273 707.148 77.6041 707.148 Q76.7249 707.148 73.9069 706.089 Q65.7008 703.023 65.3627 702.91 Q64.0776 702.391 62.9504 702.391 Q62.4319 702.391 62.1163 702.504 Q61.7781 702.617 61.6654 702.842 Q61.5302 703.068 61.5076 703.203 Q61.4851 703.316 61.4851 703.541 Q61.4851 704.871 62.8377 706.111 Q64.1904 707.351 67.2113 708.208 Q67.7749 708.388 67.9101 708.501 Q68.0454 708.614 68.0454 708.952 Q68.0229 709.515 67.572 709.515 Q67.4367 709.515 66.9182 709.358 Q66.3771 709.2 65.5656 708.907 Q64.7314 708.614 63.8747 708.095 Q62.9955 707.577 62.229 706.945 Q61.4625 706.292 60.9666 705.367 Q60.4706 704.443 60.4706 703.406 Q60.4706 701.715 61.5752 700.678 Q62.6574 699.618 64.258 699.618 Q65.1372 699.618 66.6928 700.227 Q68.7217 700.971 69.3755 701.242 L74.2225 703.045 Q75.9809 703.699 76.522 703.902 Q77.0405 704.082 77.6717 704.24 Q78.2804 704.375 78.844 704.375 Q79.6331 704.375 79.9938 704.127 Q80.3545 703.857 80.3545 703.271 Q80.3545 701.647 78.7539 700.453 Q77.1307 699.258 74.6508 698.559 Q74.5832 698.536 74.4705 698.514 Q73.9069 698.333 73.8392 698.153 Q73.8167 698.063 73.8167 697.883 Q73.8167 697.319 74.2676 697.319 Z\" fill=\"#000000\" fill-rule=\"nonzero\" fill-opacity=\"1\" /><path clip-path=\"url(#clip500)\" d=\"M74.2676 668.358 Q74.4479 668.358 75.1468 668.56 Q75.8457 668.763 76.9278 669.259 Q78.0099 669.733 79.0018 670.387 Q79.9712 671.04 80.6926 672.122 Q81.3915 673.182 81.3915 674.399 Q81.3915 676.023 80.3094 677.105 Q79.2273 678.187 77.6041 678.187 Q76.7023 678.187 75.4624 677.713 Q67.4593 674.715 64.7089 674.715 Q61.4851 674.715 61.4851 677.217 Q61.4851 678.457 61.9585 679.63 Q62.4094 680.779 63.0406 681.568 Q63.6719 682.357 64.5511 683.079 Q65.4077 683.778 65.9939 684.138 Q66.5575 684.477 67.1211 684.747 L69.4206 685.333 Q70.0518 685.469 72.5091 686.122 L76.6798 687.137 Q79.7909 687.858 80.084 688.016 Q80.7152 688.241 81.0534 688.737 Q81.3915 689.233 81.3915 689.729 Q81.3915 690.293 81.0534 690.676 Q80.7152 691.059 80.129 691.059 Q80.0389 691.059 79.7007 690.992 Q79.3625 690.924 78.8891 690.811 Q78.4157 690.699 78.1452 690.654 L67.4818 687.971 Q65.543 687.475 64.9343 687.362 Q64.3031 687.227 63.6042 687.227 Q61.4851 687.227 61.4851 688.67 Q61.4851 689.842 62.8828 690.609 Q64.2805 691.375 66.9858 692.029 Q67.7298 692.232 67.8876 692.367 Q68.0454 692.48 68.0454 692.818 Q68.0229 693.382 67.572 693.382 Q67.4593 693.382 66.7153 693.201 Q65.9713 693.021 64.9118 692.683 Q63.8297 692.322 63.1082 691.984 Q62.5672 691.691 62.3192 691.533 Q62.0487 691.353 61.5302 690.924 Q60.9891 690.473 60.7411 689.887 Q60.4706 689.278 60.4706 688.535 Q60.4706 686.866 61.5527 685.649 Q62.6123 684.432 64.4834 684.274 Q60.4706 681.275 60.4706 677.082 Q60.4706 674.602 61.7781 673.182 Q63.0857 671.762 65.4077 671.762 Q65.9488 671.762 66.6477 671.874 Q67.324 671.965 68.1807 672.19 Q69.0373 672.393 69.6911 672.573 Q70.3449 672.754 71.4045 673.114 Q72.4415 673.475 72.8924 673.633 Q73.3433 673.791 74.4028 674.174 Q75.4399 674.535 75.5526 674.58 Q77.6492 675.414 78.844 675.414 Q79.6331 675.414 79.9938 675.166 Q80.3545 674.895 80.3545 674.309 Q80.3545 672.731 78.7989 671.559 Q77.2209 670.364 74.6508 669.597 Q74.0872 669.417 73.952 669.327 Q73.8167 669.214 73.8167 668.899 Q73.8167 668.358 74.2676 668.358 Z\" fill=\"#000000\" fill-rule=\"nonzero\" fill-opacity=\"1\" /><polyline clip-path=\"url(#clip502)\" style=\"stroke:#009af9; stroke-linecap:round; stroke-linejoin:round; stroke-width:4; stroke-opacity:1; fill:none\" points=\"394.967,1384.24 585.044,1318.81 775.12,396.732 965.197,324.181 1155.27,302.849 1345.35,310.972 1535.43,350.338 1725.5,200.305 1915.58,189.559 2105.66,138.847 2295.73,86.1857 \"/>\n",
       "<path clip-path=\"url(#clip500)\" d=\"M405.105 196.789 L717.535 196.789 L717.535 93.1086 L405.105 93.1086  Z\" fill=\"#ffffff\" fill-rule=\"evenodd\" fill-opacity=\"1\"/>\n",
       "<polyline clip-path=\"url(#clip500)\" style=\"stroke:#000000; stroke-linecap:round; stroke-linejoin:round; stroke-width:4; stroke-opacity:1; fill:none\" points=\"405.105,196.789 717.535,196.789 717.535,93.1086 405.105,93.1086 405.105,196.789 \"/>\n",
       "<polyline clip-path=\"url(#clip500)\" style=\"stroke:#009af9; stroke-linecap:round; stroke-linejoin:round; stroke-width:4; stroke-opacity:1; fill:none\" points=\"427.492,144.949 561.812,144.949 \"/>\n",
       "<path clip-path=\"url(#clip500)\" d=\"M624.579 122.165 Q624.579 122.844 624.275 122.984 Q623.994 123.125 622.963 123.125 Q621.207 123.125 620.41 123.359 Q619.637 123.57 619.403 123.945 Q619.192 124.296 618.935 125.327 L612.447 151.232 Q612.447 151.255 612.376 151.583 Q612.306 151.888 612.306 152.052 Q612.306 152.356 612.493 152.544 Q612.704 152.731 613.219 152.825 Q613.735 152.895 614.133 152.918 Q614.555 152.918 615.421 152.918 Q616.499 152.918 616.663 153.106 Q616.756 153.223 616.756 153.434 Q616.756 153.879 616.569 154.113 Q616.405 154.324 616.241 154.371 Q616.1 154.394 615.819 154.394 Q615.328 154.394 614.274 154.347 Q613.219 154.3 612.681 154.3 L609.612 154.253 L603.523 154.394 Q602.867 154.394 602.867 153.855 Q602.867 153.387 603.031 153.176 Q603.195 152.965 603.359 152.942 Q603.546 152.918 604.014 152.918 Q606.427 152.918 607.223 152.684 Q608.043 152.426 608.371 151.326 L611.674 138.092 L597.058 138.092 L593.779 151.232 Q593.779 151.255 593.709 151.583 Q593.638 151.888 593.638 152.052 Q593.638 152.356 593.826 152.544 Q594.037 152.731 594.552 152.825 Q595.067 152.895 595.465 152.918 Q595.887 152.918 596.754 152.918 Q597.831 152.918 598.018 153.106 Q598.112 153.223 598.112 153.434 Q598.112 153.762 598.018 153.996 Q597.948 154.207 597.761 154.277 Q597.597 154.347 597.48 154.371 Q597.362 154.394 597.152 154.394 Q596.66 154.394 595.606 154.347 Q594.575 154.3 594.037 154.3 L590.968 154.253 L584.878 154.394 Q584.199 154.394 584.199 153.855 Q584.199 153.387 584.363 153.199 Q584.527 152.989 584.738 152.965 Q584.949 152.918 585.487 152.918 Q586.658 152.918 587.361 152.848 Q588.064 152.778 588.509 152.684 Q588.977 152.567 589.211 152.239 Q589.469 151.911 589.586 151.63 Q589.703 151.326 589.867 150.646 L596.285 124.882 Q596.472 124.109 596.472 123.992 Q596.472 123.547 596.191 123.429 Q595.934 123.289 595.184 123.219 L593.357 123.125 Q592.795 123.125 592.561 123.102 Q592.35 123.078 592.186 122.961 Q592.022 122.844 592.022 122.586 Q592.022 122.258 592.092 122.048 Q592.186 121.813 592.35 121.743 Q592.514 121.673 592.631 121.649 Q592.748 121.626 592.936 121.626 L599.119 121.766 L605.256 121.626 Q605.935 121.626 605.935 122.165 Q605.935 122.844 605.631 122.984 Q605.326 123.125 604.296 123.125 Q602.586 123.125 601.789 123.359 Q600.993 123.57 600.735 123.945 Q600.501 124.32 600.267 125.327 L597.433 136.593 L612.072 136.593 L614.953 124.882 Q615.14 124.038 615.14 123.992 Q615.14 123.547 614.859 123.429 Q614.601 123.289 613.852 123.219 L612.025 123.125 Q611.463 123.125 611.229 123.102 Q611.018 123.078 610.83 122.961 Q610.666 122.844 610.666 122.586 Q610.666 122.258 610.737 122.048 Q610.83 121.813 610.994 121.743 Q611.158 121.673 611.275 121.649 Q611.393 121.626 611.58 121.626 L617.763 121.766 L623.924 121.626 Q624.579 121.626 624.579 122.165 Z\" fill=\"#000000\" fill-rule=\"nonzero\" fill-opacity=\"1\" /><path clip-path=\"url(#clip500)\" d=\"M656.815 162.781 Q656.815 162.912 656.668 163.42 Q656.52 163.928 656.16 164.715 Q655.815 165.502 655.323 166.224 Q654.848 166.929 654.061 167.453 Q653.29 167.962 652.405 167.962 Q651.225 167.962 650.438 167.175 Q649.651 166.388 649.651 165.207 Q649.651 164.568 650.093 163.354 Q652.175 157.813 652.175 155.829 Q652.175 153.484 650.356 153.484 Q649.323 153.484 648.388 153.911 Q647.454 154.337 646.847 154.927 Q646.24 155.517 645.765 156.19 Q645.289 156.862 645.076 157.304 Q644.879 157.747 644.83 157.944 L642.814 166.043 Q642.65 166.732 642.535 167.06 Q642.42 167.388 642.109 167.667 Q641.797 167.962 641.305 167.962 Q640.895 167.962 640.6 167.716 Q640.321 167.47 640.321 167.043 Q640.321 166.978 640.403 166.634 Q640.485 166.289 640.6 165.814 Q640.715 165.338 640.764 165.06 Q641.354 162.83 641.436 162.518 L642.371 158.616 Q642.879 156.681 642.879 155.829 Q642.879 153.484 641.059 153.484 Q640.157 153.484 639.305 153.829 Q638.469 154.156 637.895 154.616 Q637.321 155.075 636.796 155.714 Q636.288 156.337 636.026 156.763 Q635.78 157.173 635.583 157.583 L635.157 159.256 Q635.058 159.715 634.583 161.502 L633.845 164.535 Q633.32 166.798 633.206 167.011 Q633.042 167.47 632.681 167.716 Q632.32 167.962 631.96 167.962 Q631.55 167.962 631.271 167.716 Q630.992 167.47 630.992 167.043 Q630.992 166.978 631.041 166.732 Q631.091 166.486 631.173 166.142 Q631.255 165.797 631.287 165.601 L633.238 157.846 Q633.599 156.435 633.681 155.993 Q633.779 155.534 633.779 155.025 Q633.779 153.484 632.73 153.484 Q631.878 153.484 631.32 154.501 Q630.763 155.517 630.287 157.485 Q630.14 158.026 630.041 158.141 Q629.959 158.255 629.713 158.255 Q629.303 158.239 629.303 157.911 Q629.303 157.829 629.435 157.304 Q629.566 156.78 629.812 155.993 Q630.074 155.189 630.353 154.665 Q630.517 154.32 630.664 154.091 Q630.812 153.861 631.107 153.501 Q631.402 153.14 631.845 152.943 Q632.287 152.746 632.829 152.746 Q634.025 152.746 634.911 153.517 Q635.813 154.288 635.927 155.665 Q638.108 152.746 641.158 152.746 Q642.879 152.746 643.912 153.615 Q644.879 154.452 644.994 155.993 Q647.257 152.746 650.47 152.746 Q652.323 152.746 653.323 153.714 Q654.323 154.665 654.323 156.337 Q654.323 157.206 653.881 158.862 Q653.438 160.502 653.143 161.321 Q652.848 162.141 652.274 163.715 Q651.667 165.224 651.667 166.109 Q651.667 166.683 651.864 166.945 Q652.061 167.207 652.487 167.207 Q653.143 167.207 653.717 166.83 Q654.291 166.437 654.7 165.797 Q655.127 165.142 655.405 164.486 Q655.684 163.814 655.897 163.059 Q656.028 162.649 656.094 162.551 Q656.176 162.453 656.406 162.453 Q656.815 162.453 656.815 162.781 Z\" fill=\"#000000\" fill-rule=\"nonzero\" fill-opacity=\"1\" /><path clip-path=\"url(#clip500)\" d=\"M666.935 146.598 Q666.935 147.319 666.345 147.861 Q665.771 148.385 665.148 148.385 Q664.574 148.385 664.213 148.041 Q663.869 147.68 663.869 147.172 Q663.869 146.5 664.443 145.942 Q665.017 145.385 665.689 145.385 Q666.247 145.385 666.591 145.729 Q666.935 146.073 666.935 146.598 M667.23 162.781 Q667.23 162.912 667.083 163.436 Q666.935 163.945 666.574 164.732 Q666.23 165.502 665.755 166.224 Q665.279 166.945 664.492 167.453 Q663.722 167.962 662.836 167.962 Q661.639 167.962 660.852 167.175 Q660.082 166.388 660.082 165.207 Q660.082 164.568 660.852 162.518 Q663.082 156.55 663.164 156.304 Q663.541 155.37 663.541 154.55 Q663.541 154.173 663.459 153.943 Q663.377 153.697 663.213 153.615 Q663.049 153.517 662.951 153.501 Q662.869 153.484 662.705 153.484 Q661.738 153.484 660.836 154.468 Q659.934 155.452 659.311 157.649 Q659.18 158.059 659.098 158.157 Q659.016 158.255 658.77 158.255 Q658.36 158.239 658.36 157.911 Q658.36 157.813 658.475 157.436 Q658.59 157.042 658.803 156.452 Q659.016 155.845 659.393 155.222 Q659.77 154.583 660.229 154.025 Q660.705 153.468 661.377 153.107 Q662.049 152.746 662.803 152.746 Q664.033 152.746 664.787 153.55 Q665.558 154.337 665.558 155.501 Q665.558 156.14 665.115 157.272 Q664.574 158.747 664.377 159.223 L663.066 162.748 Q662.59 164.027 662.443 164.42 Q662.312 164.797 662.197 165.256 Q662.098 165.699 662.098 166.109 Q662.098 166.683 662.279 166.945 Q662.476 167.207 662.902 167.207 Q664.082 167.207 664.951 166.043 Q665.82 164.863 666.329 163.059 Q666.345 163.01 666.361 162.928 Q666.492 162.518 666.624 162.469 Q666.689 162.453 666.82 162.453 Q667.23 162.453 667.23 162.781 Z\" fill=\"#000000\" fill-rule=\"nonzero\" fill-opacity=\"1\" /><path clip-path=\"url(#clip500)\" d=\"M688.29 162.781 Q688.29 162.912 688.143 163.42 Q687.995 163.928 687.635 164.715 Q687.29 165.502 686.815 166.224 Q686.339 166.929 685.552 167.453 Q684.782 167.962 683.896 167.962 Q682.716 167.962 681.929 167.175 Q681.142 166.388 681.142 165.207 Q681.142 164.551 681.486 163.65 Q683.667 157.829 683.667 155.829 Q683.667 153.484 681.847 153.484 Q680.945 153.484 680.093 153.829 Q679.256 154.156 678.683 154.616 Q678.109 155.075 677.584 155.714 Q677.076 156.337 676.813 156.763 Q676.567 157.173 676.371 157.583 L675.944 159.256 Q675.846 159.715 675.371 161.502 L674.633 164.535 Q674.108 166.798 673.993 167.011 Q673.829 167.47 673.469 167.716 Q673.108 167.962 672.747 167.962 Q672.337 167.962 672.059 167.716 Q671.78 167.47 671.78 167.043 Q671.78 166.978 671.829 166.732 Q671.878 166.486 671.96 166.142 Q672.042 165.797 672.075 165.601 L674.026 157.846 Q674.387 156.435 674.469 155.993 Q674.567 155.534 674.567 155.025 Q674.567 153.484 673.518 153.484 Q672.665 153.484 672.108 154.501 Q671.55 155.517 671.075 157.485 Q670.927 158.026 670.829 158.141 Q670.747 158.255 670.501 158.255 Q670.091 158.239 670.091 157.911 Q670.091 157.829 670.222 157.288 Q670.354 156.747 670.599 155.976 Q670.862 155.189 671.108 154.665 Q671.321 154.271 671.436 154.091 Q671.567 153.894 671.878 153.517 Q672.206 153.124 672.633 152.943 Q673.075 152.746 673.616 152.746 Q674.83 152.746 675.715 153.533 Q676.6 154.304 676.715 155.665 Q678.896 152.746 681.945 152.746 Q683.749 152.746 684.782 153.697 Q685.815 154.648 685.815 156.337 Q685.815 156.731 685.733 157.239 Q685.667 157.731 685.503 158.354 Q685.356 158.977 685.224 159.452 Q685.093 159.928 684.831 160.698 Q684.569 161.453 684.454 161.78 Q684.339 162.108 684.06 162.879 Q683.798 163.633 683.765 163.715 Q683.159 165.24 683.159 166.109 Q683.159 166.683 683.339 166.945 Q683.536 167.207 683.962 167.207 Q685.11 167.207 685.962 166.076 Q686.831 164.928 687.389 163.059 Q687.52 162.649 687.585 162.551 Q687.667 162.453 687.897 162.453 Q688.29 162.453 688.29 162.781 Z\" fill=\"#000000\" fill-rule=\"nonzero\" fill-opacity=\"1\" /></svg>\n"
      ],
      "text/html": [
       "<?xml version=\"1.0\" encoding=\"utf-8\"?>\n",
       "<svg xmlns=\"http://www.w3.org/2000/svg\" xmlns:xlink=\"http://www.w3.org/1999/xlink\" width=\"600\" height=\"400\" viewBox=\"0 0 2400 1600\">\n",
       "<defs>\n",
       "  <clipPath id=\"clip550\">\n",
       "    <rect x=\"0\" y=\"0\" width=\"2400\" height=\"1600\"/>\n",
       "  </clipPath>\n",
       "</defs>\n",
       "<path clip-path=\"url(#clip550)\" d=\"M0 1600 L2400 1600 L2400 0 L0 0  Z\" fill=\"#ffffff\" fill-rule=\"evenodd\" fill-opacity=\"1\"/>\n",
       "<defs>\n",
       "  <clipPath id=\"clip551\">\n",
       "    <rect x=\"480\" y=\"0\" width=\"1681\" height=\"1600\"/>\n",
       "  </clipPath>\n",
       "</defs>\n",
       "<path clip-path=\"url(#clip550)\" d=\"M337.944 1423.18 L2352.76 1423.18 L2352.76 47.2441 L337.944 47.2441  Z\" fill=\"#ffffff\" fill-rule=\"evenodd\" fill-opacity=\"1\"/>\n",
       "<defs>\n",
       "  <clipPath id=\"clip552\">\n",
       "    <rect x=\"337\" y=\"47\" width=\"2016\" height=\"1377\"/>\n",
       "  </clipPath>\n",
       "</defs>\n",
       "<polyline clip-path=\"url(#clip552)\" style=\"stroke:#000000; stroke-linecap:round; stroke-linejoin:round; stroke-width:2; stroke-opacity:0.1; fill:none\" points=\"394.967,1423.18 394.967,47.2441 \"/>\n",
       "<polyline clip-path=\"url(#clip552)\" style=\"stroke:#000000; stroke-linecap:round; stroke-linejoin:round; stroke-width:2; stroke-opacity:0.1; fill:none\" points=\"982.351,1423.18 982.351,47.2441 \"/>\n",
       "<polyline clip-path=\"url(#clip552)\" style=\"stroke:#000000; stroke-linecap:round; stroke-linejoin:round; stroke-width:2; stroke-opacity:0.1; fill:none\" points=\"1569.73,1423.18 1569.73,47.2441 \"/>\n",
       "<polyline clip-path=\"url(#clip552)\" style=\"stroke:#000000; stroke-linecap:round; stroke-linejoin:round; stroke-width:2; stroke-opacity:0.1; fill:none\" points=\"2157.12,1423.18 2157.12,47.2441 \"/>\n",
       "<polyline clip-path=\"url(#clip550)\" style=\"stroke:#000000; stroke-linecap:round; stroke-linejoin:round; stroke-width:4; stroke-opacity:1; fill:none\" points=\"337.944,1423.18 2352.76,1423.18 \"/>\n",
       "<polyline clip-path=\"url(#clip550)\" style=\"stroke:#000000; stroke-linecap:round; stroke-linejoin:round; stroke-width:4; stroke-opacity:1; fill:none\" points=\"394.967,1423.18 394.967,1404.28 \"/>\n",
       "<polyline clip-path=\"url(#clip550)\" style=\"stroke:#000000; stroke-linecap:round; stroke-linejoin:round; stroke-width:4; stroke-opacity:1; fill:none\" points=\"982.351,1423.18 982.351,1404.28 \"/>\n",
       "<polyline clip-path=\"url(#clip550)\" style=\"stroke:#000000; stroke-linecap:round; stroke-linejoin:round; stroke-width:4; stroke-opacity:1; fill:none\" points=\"1569.73,1423.18 1569.73,1404.28 \"/>\n",
       "<polyline clip-path=\"url(#clip550)\" style=\"stroke:#000000; stroke-linecap:round; stroke-linejoin:round; stroke-width:4; stroke-opacity:1; fill:none\" points=\"2157.12,1423.18 2157.12,1404.28 \"/>\n",
       "<path clip-path=\"url(#clip550)\" d=\"M372.965 1454.1 Q369.354 1454.1 367.525 1457.66 Q365.72 1461.2 365.72 1468.33 Q365.72 1475.44 367.525 1479.01 Q369.354 1482.55 372.965 1482.55 Q376.599 1482.55 378.405 1479.01 Q380.234 1475.44 380.234 1468.33 Q380.234 1461.2 378.405 1457.66 Q376.599 1454.1 372.965 1454.1 M372.965 1450.39 Q378.775 1450.39 381.831 1455 Q384.909 1459.58 384.909 1468.33 Q384.909 1477.06 381.831 1481.67 Q378.775 1486.25 372.965 1486.25 Q367.155 1486.25 364.076 1481.67 Q361.021 1477.06 361.021 1468.33 Q361.021 1459.58 364.076 1455 Q367.155 1450.39 372.965 1450.39 Z\" fill=\"#000000\" fill-rule=\"nonzero\" fill-opacity=\"1\" /><path clip-path=\"url(#clip550)\" d=\"M393.127 1479.7 L398.011 1479.7 L398.011 1485.58 L393.127 1485.58 L393.127 1479.7 Z\" fill=\"#000000\" fill-rule=\"nonzero\" fill-opacity=\"1\" /><path clip-path=\"url(#clip550)\" d=\"M409.007 1481.64 L416.645 1481.64 L416.645 1455.28 L408.335 1456.95 L408.335 1452.69 L416.599 1451.02 L421.275 1451.02 L421.275 1481.64 L428.914 1481.64 L428.914 1485.58 L409.007 1485.58 L409.007 1481.64 Z\" fill=\"#000000\" fill-rule=\"nonzero\" fill-opacity=\"1\" /><path clip-path=\"url(#clip550)\" d=\"M960.534 1454.1 Q956.923 1454.1 955.094 1457.66 Q953.288 1461.2 953.288 1468.33 Q953.288 1475.44 955.094 1479.01 Q956.923 1482.55 960.534 1482.55 Q964.168 1482.55 965.974 1479.01 Q967.802 1475.44 967.802 1468.33 Q967.802 1461.2 965.974 1457.66 Q964.168 1454.1 960.534 1454.1 M960.534 1450.39 Q966.344 1450.39 969.399 1455 Q972.478 1459.58 972.478 1468.33 Q972.478 1477.06 969.399 1481.67 Q966.344 1486.25 960.534 1486.25 Q954.724 1486.25 951.645 1481.67 Q948.589 1477.06 948.589 1468.33 Q948.589 1459.58 951.645 1455 Q954.724 1450.39 960.534 1450.39 Z\" fill=\"#000000\" fill-rule=\"nonzero\" fill-opacity=\"1\" /><path clip-path=\"url(#clip550)\" d=\"M980.696 1479.7 L985.58 1479.7 L985.58 1485.58 L980.696 1485.58 L980.696 1479.7 Z\" fill=\"#000000\" fill-rule=\"nonzero\" fill-opacity=\"1\" /><path clip-path=\"url(#clip550)\" d=\"M999.793 1481.64 L1016.11 1481.64 L1016.11 1485.58 L994.168 1485.58 L994.168 1481.64 Q996.83 1478.89 1001.41 1474.26 Q1006.02 1469.61 1007.2 1468.27 Q1009.45 1465.74 1010.33 1464.01 Q1011.23 1462.25 1011.23 1460.56 Q1011.23 1457.8 1009.28 1456.07 Q1007.36 1454.33 1004.26 1454.33 Q1002.06 1454.33 999.608 1455.09 Q997.177 1455.86 994.399 1457.41 L994.399 1452.69 Q997.223 1451.55 999.677 1450.97 Q1002.13 1450.39 1004.17 1450.39 Q1009.54 1450.39 1012.73 1453.08 Q1015.93 1455.77 1015.93 1460.26 Q1015.93 1462.39 1015.12 1464.31 Q1014.33 1466.2 1012.22 1468.8 Q1011.64 1469.47 1008.54 1472.69 Q1005.44 1475.88 999.793 1481.64 Z\" fill=\"#000000\" fill-rule=\"nonzero\" fill-opacity=\"1\" /><path clip-path=\"url(#clip550)\" d=\"M1547.44 1454.1 Q1543.83 1454.1 1542 1457.66 Q1540.2 1461.2 1540.2 1468.33 Q1540.2 1475.44 1542 1479.01 Q1543.83 1482.55 1547.44 1482.55 Q1551.08 1482.55 1552.88 1479.01 Q1554.71 1475.44 1554.71 1468.33 Q1554.71 1461.2 1552.88 1457.66 Q1551.08 1454.1 1547.44 1454.1 M1547.44 1450.39 Q1553.25 1450.39 1556.31 1455 Q1559.39 1459.58 1559.39 1468.33 Q1559.39 1477.06 1556.31 1481.67 Q1553.25 1486.25 1547.44 1486.25 Q1541.63 1486.25 1538.55 1481.67 Q1535.5 1477.06 1535.5 1468.33 Q1535.5 1459.58 1538.55 1455 Q1541.63 1450.39 1547.44 1450.39 Z\" fill=\"#000000\" fill-rule=\"nonzero\" fill-opacity=\"1\" /><path clip-path=\"url(#clip550)\" d=\"M1567.6 1479.7 L1572.49 1479.7 L1572.49 1485.58 L1567.6 1485.58 L1567.6 1479.7 Z\" fill=\"#000000\" fill-rule=\"nonzero\" fill-opacity=\"1\" /><path clip-path=\"url(#clip550)\" d=\"M1596.84 1466.95 Q1600.2 1467.66 1602.07 1469.93 Q1603.97 1472.2 1603.97 1475.53 Q1603.97 1480.65 1600.45 1483.45 Q1596.93 1486.25 1590.45 1486.25 Q1588.28 1486.25 1585.96 1485.81 Q1583.67 1485.39 1581.22 1484.54 L1581.22 1480.02 Q1583.16 1481.16 1585.47 1481.74 Q1587.79 1482.32 1590.31 1482.32 Q1594.71 1482.32 1597 1480.58 Q1599.32 1478.84 1599.32 1475.53 Q1599.32 1472.48 1597.16 1470.77 Q1595.03 1469.03 1591.22 1469.03 L1587.19 1469.03 L1587.19 1465.19 L1591.4 1465.19 Q1594.85 1465.19 1596.68 1463.82 Q1598.51 1462.43 1598.51 1459.84 Q1598.51 1457.18 1596.61 1455.77 Q1594.73 1454.33 1591.22 1454.33 Q1589.29 1454.33 1587.1 1454.75 Q1584.9 1455.16 1582.26 1456.04 L1582.26 1451.88 Q1584.92 1451.14 1587.23 1450.77 Q1589.57 1450.39 1591.63 1450.39 Q1596.96 1450.39 1600.06 1452.83 Q1603.16 1455.23 1603.16 1459.35 Q1603.16 1462.22 1601.52 1464.21 Q1599.87 1466.18 1596.84 1466.95 Z\" fill=\"#000000\" fill-rule=\"nonzero\" fill-opacity=\"1\" /><path clip-path=\"url(#clip550)\" d=\"M2134.26 1454.1 Q2130.65 1454.1 2128.82 1457.66 Q2127.01 1461.2 2127.01 1468.33 Q2127.01 1475.44 2128.82 1479.01 Q2130.65 1482.55 2134.26 1482.55 Q2137.89 1482.55 2139.7 1479.01 Q2141.53 1475.44 2141.53 1468.33 Q2141.53 1461.2 2139.7 1457.66 Q2137.89 1454.1 2134.26 1454.1 M2134.26 1450.39 Q2140.07 1450.39 2143.12 1455 Q2146.2 1459.58 2146.2 1468.33 Q2146.2 1477.06 2143.12 1481.67 Q2140.07 1486.25 2134.26 1486.25 Q2128.45 1486.25 2125.37 1481.67 Q2122.31 1477.06 2122.31 1468.33 Q2122.31 1459.58 2125.37 1455 Q2128.45 1450.39 2134.26 1450.39 Z\" fill=\"#000000\" fill-rule=\"nonzero\" fill-opacity=\"1\" /><path clip-path=\"url(#clip550)\" d=\"M2154.42 1479.7 L2159.31 1479.7 L2159.31 1485.58 L2154.42 1485.58 L2154.42 1479.7 Z\" fill=\"#000000\" fill-rule=\"nonzero\" fill-opacity=\"1\" /><path clip-path=\"url(#clip550)\" d=\"M2182.34 1455.09 L2170.53 1473.54 L2182.34 1473.54 L2182.34 1455.09 M2181.11 1451.02 L2186.99 1451.02 L2186.99 1473.54 L2191.92 1473.54 L2191.92 1477.43 L2186.99 1477.43 L2186.99 1485.58 L2182.34 1485.58 L2182.34 1477.43 L2166.74 1477.43 L2166.74 1472.92 L2181.11 1451.02 Z\" fill=\"#000000\" fill-rule=\"nonzero\" fill-opacity=\"1\" /><path clip-path=\"url(#clip550)\" d=\"M1357.84 1518.43 Q1357.84 1518.91 1357.49 1519.62 Q1357.16 1520.26 1356.49 1520.68 Q1355.84 1521.07 1355.14 1521.07 Q1354.91 1521.07 1354.39 1520.94 Q1353.53 1520.55 1352.17 1519.69 Q1350.82 1518.82 1349.6 1518.27 Q1348.4 1517.69 1347.08 1517.62 Q1345.92 1517.62 1344.96 1518.04 Q1344.09 1518.53 1343.51 1519.56 Q1343.25 1519.98 1343.25 1520.68 Q1343.25 1521.68 1343.8 1523 Q1344.35 1524.32 1345.47 1526.03 Q1346.63 1527.74 1347.47 1528.9 Q1348.31 1530.02 1349.76 1531.89 Q1349.89 1532.05 1349.95 1532.15 Q1350.01 1532.21 1350.11 1532.37 Q1350.21 1532.5 1350.3 1532.6 Q1353.36 1536.43 1354.14 1540.65 Q1354.33 1542.13 1354.33 1543.68 Q1354.33 1546.77 1353.4 1550.41 Q1352.59 1553.73 1350.88 1556.59 Q1349.18 1559.43 1346.6 1561.3 Q1344.06 1563.16 1341.29 1563.16 Q1338.55 1563.16 1336.3 1561.97 Q1334.04 1560.75 1332.69 1558.65 Q1330.85 1555.88 1330.85 1552.05 Q1330.85 1549.89 1331.37 1548.06 Q1332.08 1545.13 1333.75 1542.42 Q1335.43 1539.72 1337.84 1537.62 Q1341.51 1534.53 1345.51 1533.66 Q1343.64 1530.12 1342.54 1527.38 Q1341.48 1524.61 1341.48 1522.26 Q1341.48 1520.2 1342.25 1518.88 Q1342.93 1517.46 1344.31 1516.66 Q1345.47 1515.95 1347.15 1515.6 Q1348.18 1515.47 1348.86 1515.47 Q1351.14 1515.47 1356.46 1516.72 Q1357.84 1517.04 1357.84 1518.43 M1349.79 1546.32 Q1349.79 1544.35 1349.47 1543.03 Q1348.86 1539.81 1346.41 1535.37 L1346.21 1535.05 Q1343.09 1535.95 1340.55 1538.69 Q1337.36 1542.04 1335.75 1548.38 Q1334.88 1551.92 1334.88 1553.92 Q1334.88 1556.08 1335.68 1557.95 Q1336.46 1559.68 1337.91 1560.68 Q1339.39 1561.68 1341.35 1561.68 Q1342.83 1561.68 1344.12 1560.84 Q1345.41 1559.97 1346.34 1558.46 Q1347.28 1556.95 1347.92 1555.3 Q1348.6 1553.63 1349.11 1551.67 Q1349.79 1549.02 1349.79 1546.32 Z\" fill=\"#000000\" fill-rule=\"nonzero\" fill-opacity=\"1\" /><polyline clip-path=\"url(#clip552)\" style=\"stroke:#000000; stroke-linecap:round; stroke-linejoin:round; stroke-width:2; stroke-opacity:0.1; fill:none\" points=\"337.944,1339.36 2352.76,1339.36 \"/>\n",
       "<polyline clip-path=\"url(#clip552)\" style=\"stroke:#000000; stroke-linecap:round; stroke-linejoin:round; stroke-width:2; stroke-opacity:0.1; fill:none\" points=\"337.944,1060.4 2352.76,1060.4 \"/>\n",
       "<polyline clip-path=\"url(#clip552)\" style=\"stroke:#000000; stroke-linecap:round; stroke-linejoin:round; stroke-width:2; stroke-opacity:0.1; fill:none\" points=\"337.944,781.442 2352.76,781.442 \"/>\n",
       "<polyline clip-path=\"url(#clip552)\" style=\"stroke:#000000; stroke-linecap:round; stroke-linejoin:round; stroke-width:2; stroke-opacity:0.1; fill:none\" points=\"337.944,502.484 2352.76,502.484 \"/>\n",
       "<polyline clip-path=\"url(#clip552)\" style=\"stroke:#000000; stroke-linecap:round; stroke-linejoin:round; stroke-width:2; stroke-opacity:0.1; fill:none\" points=\"337.944,223.526 2352.76,223.526 \"/>\n",
       "<polyline clip-path=\"url(#clip550)\" style=\"stroke:#000000; stroke-linecap:round; stroke-linejoin:round; stroke-width:4; stroke-opacity:1; fill:none\" points=\"337.944,1423.18 337.944,47.2441 \"/>\n",
       "<polyline clip-path=\"url(#clip550)\" style=\"stroke:#000000; stroke-linecap:round; stroke-linejoin:round; stroke-width:4; stroke-opacity:1; fill:none\" points=\"337.944,1339.36 356.842,1339.36 \"/>\n",
       "<polyline clip-path=\"url(#clip550)\" style=\"stroke:#000000; stroke-linecap:round; stroke-linejoin:round; stroke-width:4; stroke-opacity:1; fill:none\" points=\"337.944,1060.4 356.842,1060.4 \"/>\n",
       "<polyline clip-path=\"url(#clip550)\" style=\"stroke:#000000; stroke-linecap:round; stroke-linejoin:round; stroke-width:4; stroke-opacity:1; fill:none\" points=\"337.944,781.442 356.842,781.442 \"/>\n",
       "<polyline clip-path=\"url(#clip550)\" style=\"stroke:#000000; stroke-linecap:round; stroke-linejoin:round; stroke-width:4; stroke-opacity:1; fill:none\" points=\"337.944,502.484 356.842,502.484 \"/>\n",
       "<polyline clip-path=\"url(#clip550)\" style=\"stroke:#000000; stroke-linecap:round; stroke-linejoin:round; stroke-width:4; stroke-opacity:1; fill:none\" points=\"337.944,223.526 356.842,223.526 \"/>\n",
       "<path clip-path=\"url(#clip550)\" d=\"M115.927 1352.7 L123.566 1352.7 L123.566 1326.34 L115.256 1328 L115.256 1323.74 L123.519 1322.08 L128.195 1322.08 L128.195 1352.7 L135.834 1352.7 L135.834 1356.64 L115.927 1356.64 L115.927 1352.7 Z\" fill=\"#000000\" fill-rule=\"nonzero\" fill-opacity=\"1\" /><path clip-path=\"url(#clip550)\" d=\"M145.279 1350.76 L150.163 1350.76 L150.163 1356.64 L145.279 1356.64 L145.279 1350.76 Z\" fill=\"#000000\" fill-rule=\"nonzero\" fill-opacity=\"1\" /><path clip-path=\"url(#clip550)\" d=\"M173.195 1326.15 L161.39 1344.6 L173.195 1344.6 L173.195 1326.15 M171.968 1322.08 L177.848 1322.08 L177.848 1344.6 L182.778 1344.6 L182.778 1348.49 L177.848 1348.49 L177.848 1356.64 L173.195 1356.64 L173.195 1348.49 L157.593 1348.49 L157.593 1343.98 L171.968 1322.08 Z\" fill=\"#000000\" fill-rule=\"nonzero\" fill-opacity=\"1\" /><path clip-path=\"url(#clip550)\" d=\"M191.32 1352.7 L198.959 1352.7 L198.959 1326.34 L190.649 1328 L190.649 1323.74 L198.912 1322.08 L203.588 1322.08 L203.588 1352.7 L211.227 1352.7 L211.227 1356.64 L191.32 1356.64 L191.32 1352.7 Z\" fill=\"#000000\" fill-rule=\"nonzero\" fill-opacity=\"1\" /><path clip-path=\"url(#clip550)\" d=\"M234.838 1338 Q238.195 1338.72 240.07 1340.99 Q241.968 1343.26 241.968 1346.59 Q241.968 1351.71 238.449 1354.51 Q234.931 1357.31 228.449 1357.31 Q226.273 1357.31 223.959 1356.87 Q221.667 1356.45 219.213 1355.6 L219.213 1351.08 Q221.158 1352.22 223.473 1352.79 Q225.787 1353.37 228.31 1353.37 Q232.709 1353.37 235 1351.64 Q237.315 1349.9 237.315 1346.59 Q237.315 1343.54 235.162 1341.82 Q233.033 1340.09 229.213 1340.09 L225.185 1340.09 L225.185 1336.24 L229.398 1336.24 Q232.847 1336.24 234.676 1334.88 Q236.505 1333.49 236.505 1330.9 Q236.505 1328.23 234.607 1326.82 Q232.732 1325.39 229.213 1325.39 Q227.292 1325.39 225.093 1325.8 Q222.894 1326.22 220.255 1327.1 L220.255 1322.93 Q222.917 1322.19 225.232 1321.82 Q227.57 1321.45 229.63 1321.45 Q234.954 1321.45 238.056 1323.88 Q241.158 1326.29 241.158 1330.41 Q241.158 1333.28 239.514 1335.27 Q237.871 1337.24 234.838 1338 Z\" fill=\"#000000\" fill-rule=\"nonzero\" fill-opacity=\"1\" /><path clip-path=\"url(#clip550)\" d=\"M254.861 1352.7 L271.181 1352.7 L271.181 1356.64 L249.236 1356.64 L249.236 1352.7 Q251.898 1349.95 256.482 1345.32 Q261.088 1340.67 262.269 1339.32 Q264.514 1336.8 265.394 1335.06 Q266.296 1333.3 266.296 1331.61 Q266.296 1328.86 264.352 1327.12 Q262.431 1325.39 259.329 1325.39 Q257.13 1325.39 254.676 1326.15 Q252.246 1326.92 249.468 1328.47 L249.468 1323.74 Q252.292 1322.61 254.746 1322.03 Q257.199 1321.45 259.236 1321.45 Q264.607 1321.45 267.801 1324.14 Q270.995 1326.82 270.995 1331.31 Q270.995 1333.44 270.185 1335.36 Q269.398 1337.26 267.292 1339.86 Q266.713 1340.53 263.611 1343.74 Q260.509 1346.94 254.861 1352.7 Z\" fill=\"#000000\" fill-rule=\"nonzero\" fill-opacity=\"1\" /><path clip-path=\"url(#clip550)\" d=\"M281.042 1322.08 L299.398 1322.08 L299.398 1326.01 L285.324 1326.01 L285.324 1334.48 Q286.343 1334.14 287.361 1333.98 Q288.38 1333.79 289.398 1333.79 Q295.185 1333.79 298.565 1336.96 Q301.944 1340.13 301.944 1345.55 Q301.944 1351.13 298.472 1354.23 Q295 1357.31 288.681 1357.31 Q286.505 1357.31 284.236 1356.94 Q281.991 1356.57 279.583 1355.83 L279.583 1351.13 Q281.667 1352.26 283.889 1352.82 Q286.111 1353.37 288.588 1353.37 Q292.593 1353.37 294.93 1351.27 Q297.268 1349.16 297.268 1345.55 Q297.268 1341.94 294.93 1339.83 Q292.593 1337.73 288.588 1337.73 Q286.713 1337.73 284.838 1338.14 Q282.986 1338.56 281.042 1339.44 L281.042 1322.08 Z\" fill=\"#000000\" fill-rule=\"nonzero\" fill-opacity=\"1\" /><path clip-path=\"url(#clip550)\" d=\"M114.931 1073.74 L122.57 1073.74 L122.57 1047.38 L114.26 1049.05 L114.26 1044.79 L122.524 1043.12 L127.2 1043.12 L127.2 1073.74 L134.839 1073.74 L134.839 1077.68 L114.931 1077.68 L114.931 1073.74 Z\" fill=\"#000000\" fill-rule=\"nonzero\" fill-opacity=\"1\" /><path clip-path=\"url(#clip550)\" d=\"M144.283 1071.8 L149.167 1071.8 L149.167 1077.68 L144.283 1077.68 L144.283 1071.8 Z\" fill=\"#000000\" fill-rule=\"nonzero\" fill-opacity=\"1\" /><path clip-path=\"url(#clip550)\" d=\"M172.2 1047.19 L160.394 1065.64 L172.2 1065.64 L172.2 1047.19 M170.973 1043.12 L176.852 1043.12 L176.852 1065.64 L181.783 1065.64 L181.783 1069.53 L176.852 1069.53 L176.852 1077.68 L172.2 1077.68 L172.2 1069.53 L156.598 1069.53 L156.598 1065.02 L170.973 1043.12 Z\" fill=\"#000000\" fill-rule=\"nonzero\" fill-opacity=\"1\" /><path clip-path=\"url(#clip550)\" d=\"M190.325 1073.74 L197.963 1073.74 L197.963 1047.38 L189.653 1049.05 L189.653 1044.79 L197.917 1043.12 L202.593 1043.12 L202.593 1073.74 L210.232 1073.74 L210.232 1077.68 L190.325 1077.68 L190.325 1073.74 Z\" fill=\"#000000\" fill-rule=\"nonzero\" fill-opacity=\"1\" /><path clip-path=\"url(#clip550)\" d=\"M233.843 1059.05 Q237.199 1059.76 239.074 1062.03 Q240.972 1064.3 240.972 1067.63 Q240.972 1072.75 237.454 1075.55 Q233.935 1078.35 227.454 1078.35 Q225.278 1078.35 222.963 1077.91 Q220.672 1077.49 218.218 1076.64 L218.218 1072.12 Q220.162 1073.26 222.477 1073.84 Q224.792 1074.42 227.315 1074.42 Q231.713 1074.42 234.005 1072.68 Q236.32 1070.94 236.32 1067.63 Q236.32 1064.58 234.167 1062.86 Q232.037 1061.13 228.218 1061.13 L224.19 1061.13 L224.19 1057.29 L228.403 1057.29 Q231.852 1057.29 233.681 1055.92 Q235.51 1054.53 235.51 1051.94 Q235.51 1049.28 233.611 1047.86 Q231.736 1046.43 228.218 1046.43 Q226.297 1046.43 224.098 1046.85 Q221.898 1047.26 219.26 1048.14 L219.26 1043.98 Q221.922 1043.24 224.236 1042.86 Q226.574 1042.49 228.635 1042.49 Q233.959 1042.49 237.06 1044.93 Q240.162 1047.33 240.162 1051.45 Q240.162 1054.32 238.519 1056.31 Q236.875 1058.28 233.843 1059.05 Z\" fill=\"#000000\" fill-rule=\"nonzero\" fill-opacity=\"1\" /><path clip-path=\"url(#clip550)\" d=\"M249.884 1043.12 L268.241 1043.12 L268.241 1047.05 L254.167 1047.05 L254.167 1055.53 Q255.185 1055.18 256.204 1055.02 Q257.222 1054.83 258.241 1054.83 Q264.028 1054.83 267.407 1058 Q270.787 1061.18 270.787 1066.59 Q270.787 1072.17 267.315 1075.27 Q263.843 1078.35 257.523 1078.35 Q255.347 1078.35 253.079 1077.98 Q250.833 1077.61 248.426 1076.87 L248.426 1072.17 Q250.509 1073.3 252.732 1073.86 Q254.954 1074.42 257.431 1074.42 Q261.435 1074.42 263.773 1072.31 Q266.111 1070.2 266.111 1066.59 Q266.111 1062.98 263.773 1060.87 Q261.435 1058.77 257.431 1058.77 Q255.556 1058.77 253.681 1059.18 Q251.829 1059.6 249.884 1060.48 L249.884 1043.12 Z\" fill=\"#000000\" fill-rule=\"nonzero\" fill-opacity=\"1\" /><path clip-path=\"url(#clip550)\" d=\"M290 1046.2 Q286.389 1046.2 284.56 1049.76 Q282.755 1053.3 282.755 1060.43 Q282.755 1067.54 284.56 1071.11 Q286.389 1074.65 290 1074.65 Q293.634 1074.65 295.44 1071.11 Q297.268 1067.54 297.268 1060.43 Q297.268 1053.3 295.44 1049.76 Q293.634 1046.2 290 1046.2 M290 1042.49 Q295.81 1042.49 298.866 1047.1 Q301.944 1051.68 301.944 1060.43 Q301.944 1069.16 298.866 1073.77 Q295.81 1078.35 290 1078.35 Q284.19 1078.35 281.111 1073.77 Q278.056 1069.16 278.056 1060.43 Q278.056 1051.68 281.111 1047.1 Q284.19 1042.49 290 1042.49 Z\" fill=\"#000000\" fill-rule=\"nonzero\" fill-opacity=\"1\" /><path clip-path=\"url(#clip550)\" d=\"M115.927 794.787 L123.566 794.787 L123.566 768.421 L115.256 770.088 L115.256 765.828 L123.519 764.162 L128.195 764.162 L128.195 794.787 L135.834 794.787 L135.834 798.722 L115.927 798.722 L115.927 794.787 Z\" fill=\"#000000\" fill-rule=\"nonzero\" fill-opacity=\"1\" /><path clip-path=\"url(#clip550)\" d=\"M145.279 792.842 L150.163 792.842 L150.163 798.722 L145.279 798.722 L145.279 792.842 Z\" fill=\"#000000\" fill-rule=\"nonzero\" fill-opacity=\"1\" /><path clip-path=\"url(#clip550)\" d=\"M173.195 768.236 L161.39 786.685 L173.195 786.685 L173.195 768.236 M171.968 764.162 L177.848 764.162 L177.848 786.685 L182.778 786.685 L182.778 790.574 L177.848 790.574 L177.848 798.722 L173.195 798.722 L173.195 790.574 L157.593 790.574 L157.593 786.06 L171.968 764.162 Z\" fill=\"#000000\" fill-rule=\"nonzero\" fill-opacity=\"1\" /><path clip-path=\"url(#clip550)\" d=\"M191.32 794.787 L198.959 794.787 L198.959 768.421 L190.649 770.088 L190.649 765.828 L198.912 764.162 L203.588 764.162 L203.588 794.787 L211.227 794.787 L211.227 798.722 L191.32 798.722 L191.32 794.787 Z\" fill=\"#000000\" fill-rule=\"nonzero\" fill-opacity=\"1\" /><path clip-path=\"url(#clip550)\" d=\"M234.838 780.088 Q238.195 780.805 240.07 783.074 Q241.968 785.342 241.968 788.675 Q241.968 793.791 238.449 796.592 Q234.931 799.393 228.449 799.393 Q226.273 799.393 223.959 798.953 Q221.667 798.537 219.213 797.68 L219.213 793.166 Q221.158 794.3 223.473 794.879 Q225.787 795.458 228.31 795.458 Q232.709 795.458 235 793.722 Q237.315 791.986 237.315 788.675 Q237.315 785.62 235.162 783.907 Q233.033 782.171 229.213 782.171 L225.185 782.171 L225.185 778.328 L229.398 778.328 Q232.847 778.328 234.676 776.963 Q236.505 775.574 236.505 772.981 Q236.505 770.319 234.607 768.907 Q232.732 767.472 229.213 767.472 Q227.292 767.472 225.093 767.889 Q222.894 768.305 220.255 769.185 L220.255 765.018 Q222.917 764.277 225.232 763.907 Q227.57 763.537 229.63 763.537 Q234.954 763.537 238.056 765.967 Q241.158 768.375 241.158 772.495 Q241.158 775.365 239.514 777.356 Q237.871 779.324 234.838 780.088 Z\" fill=\"#000000\" fill-rule=\"nonzero\" fill-opacity=\"1\" /><path clip-path=\"url(#clip550)\" d=\"M249.653 764.162 L271.875 764.162 L271.875 766.152 L259.329 798.722 L254.445 798.722 L266.25 768.097 L249.653 768.097 L249.653 764.162 Z\" fill=\"#000000\" fill-rule=\"nonzero\" fill-opacity=\"1\" /><path clip-path=\"url(#clip550)\" d=\"M281.042 764.162 L299.398 764.162 L299.398 768.097 L285.324 768.097 L285.324 776.569 Q286.343 776.222 287.361 776.06 Q288.38 775.875 289.398 775.875 Q295.185 775.875 298.565 779.046 Q301.944 782.217 301.944 787.634 Q301.944 793.212 298.472 796.314 Q295 799.393 288.681 799.393 Q286.505 799.393 284.236 799.023 Q281.991 798.652 279.583 797.912 L279.583 793.212 Q281.667 794.347 283.889 794.902 Q286.111 795.458 288.588 795.458 Q292.593 795.458 294.93 793.351 Q297.268 791.245 297.268 787.634 Q297.268 784.023 294.93 781.916 Q292.593 779.81 288.588 779.81 Q286.713 779.81 284.838 780.226 Q282.986 780.643 281.042 781.523 L281.042 764.162 Z\" fill=\"#000000\" fill-rule=\"nonzero\" fill-opacity=\"1\" /><path clip-path=\"url(#clip550)\" d=\"M114.931 515.829 L122.57 515.829 L122.57 489.463 L114.26 491.13 L114.26 486.871 L122.524 485.204 L127.2 485.204 L127.2 515.829 L134.839 515.829 L134.839 519.764 L114.931 519.764 L114.931 515.829 Z\" fill=\"#000000\" fill-rule=\"nonzero\" fill-opacity=\"1\" /><path clip-path=\"url(#clip550)\" d=\"M144.283 513.884 L149.167 513.884 L149.167 519.764 L144.283 519.764 L144.283 513.884 Z\" fill=\"#000000\" fill-rule=\"nonzero\" fill-opacity=\"1\" /><path clip-path=\"url(#clip550)\" d=\"M172.2 489.278 L160.394 507.727 L172.2 507.727 L172.2 489.278 M170.973 485.204 L176.852 485.204 L176.852 507.727 L181.783 507.727 L181.783 511.616 L176.852 511.616 L176.852 519.764 L172.2 519.764 L172.2 511.616 L156.598 511.616 L156.598 507.102 L170.973 485.204 Z\" fill=\"#000000\" fill-rule=\"nonzero\" fill-opacity=\"1\" /><path clip-path=\"url(#clip550)\" d=\"M190.325 515.829 L197.963 515.829 L197.963 489.463 L189.653 491.13 L189.653 486.871 L197.917 485.204 L202.593 485.204 L202.593 515.829 L210.232 515.829 L210.232 519.764 L190.325 519.764 L190.325 515.829 Z\" fill=\"#000000\" fill-rule=\"nonzero\" fill-opacity=\"1\" /><path clip-path=\"url(#clip550)\" d=\"M232.523 489.278 L220.718 507.727 L232.523 507.727 L232.523 489.278 M231.297 485.204 L237.176 485.204 L237.176 507.727 L242.107 507.727 L242.107 511.616 L237.176 511.616 L237.176 519.764 L232.523 519.764 L232.523 511.616 L216.922 511.616 L216.922 507.102 L231.297 485.204 Z\" fill=\"#000000\" fill-rule=\"nonzero\" fill-opacity=\"1\" /><path clip-path=\"url(#clip550)\" d=\"M259.838 488.283 Q256.227 488.283 254.398 491.847 Q252.593 495.389 252.593 502.519 Q252.593 509.625 254.398 513.19 Q256.227 516.731 259.838 516.731 Q263.472 516.731 265.278 513.19 Q267.107 509.625 267.107 502.519 Q267.107 495.389 265.278 491.847 Q263.472 488.283 259.838 488.283 M259.838 484.579 Q265.648 484.579 268.704 489.185 Q271.782 493.769 271.782 502.519 Q271.782 511.245 268.704 515.852 Q265.648 520.435 259.838 520.435 Q254.028 520.435 250.949 515.852 Q247.894 511.245 247.894 502.519 Q247.894 493.769 250.949 489.185 Q254.028 484.579 259.838 484.579 Z\" fill=\"#000000\" fill-rule=\"nonzero\" fill-opacity=\"1\" /><path clip-path=\"url(#clip550)\" d=\"M290 488.283 Q286.389 488.283 284.56 491.847 Q282.755 495.389 282.755 502.519 Q282.755 509.625 284.56 513.19 Q286.389 516.731 290 516.731 Q293.634 516.731 295.44 513.19 Q297.268 509.625 297.268 502.519 Q297.268 495.389 295.44 491.847 Q293.634 488.283 290 488.283 M290 484.579 Q295.81 484.579 298.866 489.185 Q301.944 493.769 301.944 502.519 Q301.944 511.245 298.866 515.852 Q295.81 520.435 290 520.435 Q284.19 520.435 281.111 515.852 Q278.056 511.245 278.056 502.519 Q278.056 493.769 281.111 489.185 Q284.19 484.579 290 484.579 Z\" fill=\"#000000\" fill-rule=\"nonzero\" fill-opacity=\"1\" /><path clip-path=\"url(#clip550)\" d=\"M115.927 236.871 L123.566 236.871 L123.566 210.505 L115.256 212.172 L115.256 207.913 L123.519 206.246 L128.195 206.246 L128.195 236.871 L135.834 236.871 L135.834 240.806 L115.927 240.806 L115.927 236.871 Z\" fill=\"#000000\" fill-rule=\"nonzero\" fill-opacity=\"1\" /><path clip-path=\"url(#clip550)\" d=\"M145.279 234.926 L150.163 234.926 L150.163 240.806 L145.279 240.806 L145.279 234.926 Z\" fill=\"#000000\" fill-rule=\"nonzero\" fill-opacity=\"1\" /><path clip-path=\"url(#clip550)\" d=\"M173.195 210.32 L161.39 228.769 L173.195 228.769 L173.195 210.32 M171.968 206.246 L177.848 206.246 L177.848 228.769 L182.778 228.769 L182.778 232.658 L177.848 232.658 L177.848 240.806 L173.195 240.806 L173.195 232.658 L157.593 232.658 L157.593 228.144 L171.968 206.246 Z\" fill=\"#000000\" fill-rule=\"nonzero\" fill-opacity=\"1\" /><path clip-path=\"url(#clip550)\" d=\"M191.32 236.871 L198.959 236.871 L198.959 210.505 L190.649 212.172 L190.649 207.913 L198.912 206.246 L203.588 206.246 L203.588 236.871 L211.227 236.871 L211.227 240.806 L191.32 240.806 L191.32 236.871 Z\" fill=\"#000000\" fill-rule=\"nonzero\" fill-opacity=\"1\" /><path clip-path=\"url(#clip550)\" d=\"M233.519 210.32 L221.713 228.769 L233.519 228.769 L233.519 210.32 M232.292 206.246 L238.172 206.246 L238.172 228.769 L243.102 228.769 L243.102 232.658 L238.172 232.658 L238.172 240.806 L233.519 240.806 L233.519 232.658 L217.917 232.658 L217.917 228.144 L232.292 206.246 Z\" fill=\"#000000\" fill-rule=\"nonzero\" fill-opacity=\"1\" /><path clip-path=\"url(#clip550)\" d=\"M254.861 236.871 L271.181 236.871 L271.181 240.806 L249.236 240.806 L249.236 236.871 Q251.898 234.116 256.482 229.487 Q261.088 224.834 262.269 223.491 Q264.514 220.968 265.394 219.232 Q266.296 217.473 266.296 215.783 Q266.296 213.028 264.352 211.292 Q262.431 209.556 259.329 209.556 Q257.13 209.556 254.676 210.32 Q252.246 211.084 249.468 212.635 L249.468 207.913 Q252.292 206.778 254.746 206.2 Q257.199 205.621 259.236 205.621 Q264.607 205.621 267.801 208.306 Q270.995 210.991 270.995 215.482 Q270.995 217.612 270.185 219.533 Q269.398 221.431 267.292 224.024 Q266.713 224.695 263.611 227.913 Q260.509 231.107 254.861 236.871 Z\" fill=\"#000000\" fill-rule=\"nonzero\" fill-opacity=\"1\" /><path clip-path=\"url(#clip550)\" d=\"M281.042 206.246 L299.398 206.246 L299.398 210.181 L285.324 210.181 L285.324 218.653 Q286.343 218.306 287.361 218.144 Q288.38 217.959 289.398 217.959 Q295.185 217.959 298.565 221.13 Q301.944 224.301 301.944 229.718 Q301.944 235.297 298.472 238.399 Q295 241.477 288.681 241.477 Q286.505 241.477 284.236 241.107 Q281.991 240.737 279.583 239.996 L279.583 235.297 Q281.667 236.431 283.889 236.987 Q286.111 237.542 288.588 237.542 Q292.593 237.542 294.93 235.436 Q297.268 233.329 297.268 229.718 Q297.268 226.107 294.93 224.001 Q292.593 221.894 288.588 221.894 Q286.713 221.894 284.838 222.311 Q282.986 222.727 281.042 223.607 L281.042 206.246 Z\" fill=\"#000000\" fill-rule=\"nonzero\" fill-opacity=\"1\" /><path clip-path=\"url(#clip550)\" d=\"M18.419 755.979 Q19.353 755.979 19.5462 756.398 Q19.7394 756.785 19.7394 758.202 Q19.7394 760.617 20.0615 761.712 Q20.3513 762.775 20.8666 763.097 Q21.3497 763.387 22.7668 763.741 L58.3865 772.662 Q58.4187 772.662 58.8695 772.759 Q59.2882 772.855 59.5137 772.855 Q59.9323 772.855 60.19 772.598 Q60.4476 772.308 60.5765 771.599 Q60.6731 770.891 60.7053 770.343 Q60.7053 769.764 60.7053 768.572 Q60.7053 767.09 60.9629 766.865 Q61.124 766.736 61.4138 766.736 Q62.0257 766.736 62.3478 766.994 Q62.6376 767.219 62.702 767.445 Q62.7343 767.638 62.7343 768.024 Q62.7343 768.701 62.6698 770.15 Q62.6054 771.599 62.6054 772.34 L62.541 776.559 L62.7343 784.933 Q62.7343 785.834 61.9935 785.834 Q61.3494 785.834 61.0595 785.609 Q60.7697 785.383 60.7375 785.158 Q60.7053 784.9 60.7053 784.256 Q60.7053 780.939 60.3832 779.844 Q60.029 778.717 58.5153 778.266 L40.319 773.725 L40.319 793.821 L58.3865 798.33 Q58.4187 798.33 58.8695 798.427 Q59.2882 798.523 59.5137 798.523 Q59.9323 798.523 60.19 798.266 Q60.4476 797.976 60.5765 797.267 Q60.6731 796.559 60.7053 796.011 Q60.7053 795.432 60.7053 794.24 Q60.7053 792.759 60.9629 792.501 Q61.124 792.372 61.4138 792.372 Q61.8647 792.372 62.1868 792.501 Q62.4766 792.598 62.5732 792.855 Q62.6698 793.081 62.702 793.242 Q62.7343 793.403 62.7343 793.693 Q62.7343 794.369 62.6698 795.818 Q62.6054 797.235 62.6054 797.976 L62.541 802.195 L62.7343 810.568 Q62.7343 811.502 61.9935 811.502 Q61.3494 811.502 61.0918 811.277 Q60.8019 811.051 60.7697 810.762 Q60.7053 810.472 60.7053 809.731 Q60.7053 808.121 60.6087 807.155 Q60.512 806.188 60.3832 805.576 Q60.2222 804.932 59.7713 804.61 Q59.3204 804.256 58.934 804.095 Q58.5153 803.934 57.5813 803.709 L22.1549 794.884 Q21.0921 794.627 20.931 794.627 Q20.3191 794.627 20.1581 795.013 Q19.9649 795.367 19.8682 796.398 L19.7394 798.91 Q19.7394 799.683 19.7072 800.005 Q19.675 800.295 19.514 800.52 Q19.353 800.746 18.9987 800.746 Q18.5478 800.746 18.258 800.649 Q17.9359 800.52 17.8393 800.295 Q17.7427 800.069 17.7105 799.908 Q17.6783 799.747 17.6783 799.49 L17.8715 790.987 L17.6783 782.549 Q17.6783 781.615 18.419 781.615 Q19.353 781.615 19.5462 782.034 Q19.7394 782.453 19.7394 783.87 Q19.7394 786.221 20.0615 787.316 Q20.3513 788.411 20.8666 788.765 Q21.3819 789.087 22.7668 789.409 L38.2578 793.306 L38.2578 773.177 L22.1549 769.216 Q20.9955 768.958 20.931 768.958 Q20.3191 768.958 20.1581 769.345 Q19.9649 769.699 19.8682 770.73 L19.7394 773.242 Q19.7394 774.015 19.7072 774.337 Q19.675 774.627 19.514 774.884 Q19.353 775.11 18.9987 775.11 Q18.5478 775.11 18.258 775.013 Q17.9359 774.884 17.8393 774.659 Q17.7427 774.433 17.7105 774.272 Q17.6783 774.111 17.6783 773.854 L17.8715 765.351 L17.6783 756.881 Q17.6783 755.979 18.419 755.979 Z\" fill=\"#000000\" fill-rule=\"nonzero\" fill-opacity=\"1\" /><path clip-path=\"url(#clip550)\" d=\"M74.2676 711.649 Q74.4479 711.649 75.1468 711.852 Q75.8457 712.055 76.9278 712.551 Q78.0099 713.024 79.0018 713.701 Q79.9712 714.354 80.6926 715.436 Q81.3915 716.496 81.3915 717.713 Q81.3915 719.337 80.3094 720.419 Q79.2273 721.501 77.6041 721.501 Q76.7249 721.501 75.0566 720.892 Q67.4367 718.029 64.7089 718.029 Q61.4851 718.029 61.4851 720.531 Q61.4851 721.952 62.0712 723.237 Q62.6574 724.522 63.469 725.356 Q64.2805 726.19 65.2048 726.844 Q66.1292 727.497 66.7378 727.791 Q67.3465 728.061 67.6171 728.129 L78.7539 730.902 Q79.7007 731.127 80.1516 731.285 Q80.6025 731.443 80.9857 731.871 Q81.3915 732.299 81.3915 732.976 Q81.3915 733.539 81.0534 733.945 Q80.7152 734.328 80.129 734.328 Q80.0389 734.328 79.5654 734.216 Q79.092 734.103 78.4382 733.945 Q77.7845 733.787 77.4012 733.72 Q74.3352 732.908 73.9069 732.795 L68.5414 731.51 Q65.8812 730.811 64.7089 730.811 Q61.4851 730.811 61.4851 733.314 Q61.4851 734.554 61.9585 735.726 Q62.4094 736.876 63.0406 737.665 Q63.6719 738.454 64.5511 739.175 Q65.4077 739.874 65.9939 740.235 Q66.5575 740.573 67.1211 740.844 L69.4206 741.43 Q70.0518 741.565 72.5091 742.219 L76.6798 743.233 Q79.7909 743.955 80.084 744.113 Q80.7152 744.338 81.0534 744.834 Q81.3915 745.33 81.3915 745.826 Q81.3915 746.389 81.0534 746.773 Q80.7152 747.156 80.129 747.156 Q80.0389 747.156 79.7007 747.088 Q79.3625 747.021 78.8891 746.908 Q78.4157 746.795 78.1452 746.75 L67.4818 744.067 Q65.543 743.571 64.9343 743.459 Q64.3031 743.323 63.6042 743.323 Q61.4851 743.323 61.4851 744.766 Q61.4851 745.939 62.8828 746.705 Q64.2805 747.472 66.9858 748.125 Q67.7298 748.328 67.8876 748.464 Q68.0454 748.576 68.0454 748.914 Q68.0229 749.478 67.572 749.478 Q67.4593 749.478 66.7378 749.298 Q66.0164 749.117 64.9343 748.779 Q63.8297 748.418 63.1082 748.035 Q62.6348 747.81 62.3192 747.607 Q62.0036 747.404 61.5076 746.998 Q61.0116 746.592 60.7411 745.984 Q60.4706 745.375 60.4706 744.631 Q60.4706 742.985 61.5302 741.768 Q62.5897 740.528 64.4834 740.37 Q60.4706 737.372 60.4706 733.179 Q60.4706 730.811 61.6654 729.391 Q62.8152 728.061 64.9343 727.903 Q60.4706 724.792 60.4706 720.374 Q60.4706 717.826 61.8007 716.451 Q63.1082 715.076 65.4077 715.076 Q66.6026 715.076 68.8795 715.684 Q71.1339 716.293 72.2612 716.699 Q73.3884 717.105 75.5526 717.894 Q77.6267 718.728 78.844 718.728 Q79.6331 718.728 79.9938 718.457 Q80.3545 718.187 80.3545 717.601 Q80.3545 716.699 79.836 715.91 Q79.2949 715.121 78.4157 714.557 Q77.5139 713.971 76.6122 713.588 Q75.6879 713.205 74.6508 712.911 Q74.0872 712.731 73.952 712.641 Q73.8167 712.528 73.8167 712.213 Q73.8167 711.649 74.2676 711.649 Z\" fill=\"#000000\" fill-rule=\"nonzero\" fill-opacity=\"1\" /><path clip-path=\"url(#clip550)\" d=\"M52.0165 697.725 Q53.0085 697.725 53.7524 698.536 Q54.4739 699.325 54.4739 700.182 Q54.4739 700.971 54.0004 701.467 Q53.5045 701.941 52.8056 701.941 Q51.8813 701.941 51.1148 701.151 Q50.3483 700.362 50.3483 699.438 Q50.3483 698.672 50.8217 698.198 Q51.2951 697.725 52.0165 697.725 M74.2676 697.319 Q74.4479 697.319 75.1693 697.522 Q75.8682 697.725 76.9503 698.221 Q78.0099 698.694 79.0018 699.348 Q79.9938 700.002 80.6926 701.084 Q81.3915 702.143 81.3915 703.361 Q81.3915 705.007 80.3094 706.089 Q79.2273 707.148 77.6041 707.148 Q76.7249 707.148 73.9069 706.089 Q65.7008 703.023 65.3627 702.91 Q64.0776 702.391 62.9504 702.391 Q62.4319 702.391 62.1163 702.504 Q61.7781 702.617 61.6654 702.842 Q61.5302 703.068 61.5076 703.203 Q61.4851 703.316 61.4851 703.541 Q61.4851 704.871 62.8377 706.111 Q64.1904 707.351 67.2113 708.208 Q67.7749 708.388 67.9101 708.501 Q68.0454 708.614 68.0454 708.952 Q68.0229 709.515 67.572 709.515 Q67.4367 709.515 66.9182 709.358 Q66.3771 709.2 65.5656 708.907 Q64.7314 708.614 63.8747 708.095 Q62.9955 707.577 62.229 706.945 Q61.4625 706.292 60.9666 705.367 Q60.4706 704.443 60.4706 703.406 Q60.4706 701.715 61.5752 700.678 Q62.6574 699.618 64.258 699.618 Q65.1372 699.618 66.6928 700.227 Q68.7217 700.971 69.3755 701.242 L74.2225 703.045 Q75.9809 703.699 76.522 703.902 Q77.0405 704.082 77.6717 704.24 Q78.2804 704.375 78.844 704.375 Q79.6331 704.375 79.9938 704.127 Q80.3545 703.857 80.3545 703.271 Q80.3545 701.647 78.7539 700.453 Q77.1307 699.258 74.6508 698.559 Q74.5832 698.536 74.4705 698.514 Q73.9069 698.333 73.8392 698.153 Q73.8167 698.063 73.8167 697.883 Q73.8167 697.319 74.2676 697.319 Z\" fill=\"#000000\" fill-rule=\"nonzero\" fill-opacity=\"1\" /><path clip-path=\"url(#clip550)\" d=\"M74.2676 668.358 Q74.4479 668.358 75.1468 668.56 Q75.8457 668.763 76.9278 669.259 Q78.0099 669.733 79.0018 670.387 Q79.9712 671.04 80.6926 672.122 Q81.3915 673.182 81.3915 674.399 Q81.3915 676.023 80.3094 677.105 Q79.2273 678.187 77.6041 678.187 Q76.7023 678.187 75.4624 677.713 Q67.4593 674.715 64.7089 674.715 Q61.4851 674.715 61.4851 677.217 Q61.4851 678.457 61.9585 679.63 Q62.4094 680.779 63.0406 681.568 Q63.6719 682.357 64.5511 683.079 Q65.4077 683.778 65.9939 684.138 Q66.5575 684.477 67.1211 684.747 L69.4206 685.333 Q70.0518 685.469 72.5091 686.122 L76.6798 687.137 Q79.7909 687.858 80.084 688.016 Q80.7152 688.241 81.0534 688.737 Q81.3915 689.233 81.3915 689.729 Q81.3915 690.293 81.0534 690.676 Q80.7152 691.059 80.129 691.059 Q80.0389 691.059 79.7007 690.992 Q79.3625 690.924 78.8891 690.811 Q78.4157 690.699 78.1452 690.654 L67.4818 687.971 Q65.543 687.475 64.9343 687.362 Q64.3031 687.227 63.6042 687.227 Q61.4851 687.227 61.4851 688.67 Q61.4851 689.842 62.8828 690.609 Q64.2805 691.375 66.9858 692.029 Q67.7298 692.232 67.8876 692.367 Q68.0454 692.48 68.0454 692.818 Q68.0229 693.382 67.572 693.382 Q67.4593 693.382 66.7153 693.201 Q65.9713 693.021 64.9118 692.683 Q63.8297 692.322 63.1082 691.984 Q62.5672 691.691 62.3192 691.533 Q62.0487 691.353 61.5302 690.924 Q60.9891 690.473 60.7411 689.887 Q60.4706 689.278 60.4706 688.535 Q60.4706 686.866 61.5527 685.649 Q62.6123 684.432 64.4834 684.274 Q60.4706 681.275 60.4706 677.082 Q60.4706 674.602 61.7781 673.182 Q63.0857 671.762 65.4077 671.762 Q65.9488 671.762 66.6477 671.874 Q67.324 671.965 68.1807 672.19 Q69.0373 672.393 69.6911 672.573 Q70.3449 672.754 71.4045 673.114 Q72.4415 673.475 72.8924 673.633 Q73.3433 673.791 74.4028 674.174 Q75.4399 674.535 75.5526 674.58 Q77.6492 675.414 78.844 675.414 Q79.6331 675.414 79.9938 675.166 Q80.3545 674.895 80.3545 674.309 Q80.3545 672.731 78.7989 671.559 Q77.2209 670.364 74.6508 669.597 Q74.0872 669.417 73.952 669.327 Q73.8167 669.214 73.8167 668.899 Q73.8167 668.358 74.2676 668.358 Z\" fill=\"#000000\" fill-rule=\"nonzero\" fill-opacity=\"1\" /><polyline clip-path=\"url(#clip552)\" style=\"stroke:#009af9; stroke-linecap:round; stroke-linejoin:round; stroke-width:4; stroke-opacity:1; fill:none\" points=\"394.967,1384.24 585.044,1318.81 775.12,396.732 965.197,324.181 1155.27,302.849 1345.35,310.972 1535.43,350.338 1725.5,200.305 1915.58,189.559 2105.66,138.847 2295.73,86.1857 \"/>\n",
       "<path clip-path=\"url(#clip550)\" d=\"M405.105 196.789 L717.535 196.789 L717.535 93.1086 L405.105 93.1086  Z\" fill=\"#ffffff\" fill-rule=\"evenodd\" fill-opacity=\"1\"/>\n",
       "<polyline clip-path=\"url(#clip550)\" style=\"stroke:#000000; stroke-linecap:round; stroke-linejoin:round; stroke-width:4; stroke-opacity:1; fill:none\" points=\"405.105,196.789 717.535,196.789 717.535,93.1086 405.105,93.1086 405.105,196.789 \"/>\n",
       "<polyline clip-path=\"url(#clip550)\" style=\"stroke:#009af9; stroke-linecap:round; stroke-linejoin:round; stroke-width:4; stroke-opacity:1; fill:none\" points=\"427.492,144.949 561.812,144.949 \"/>\n",
       "<path clip-path=\"url(#clip550)\" d=\"M624.579 122.165 Q624.579 122.844 624.275 122.984 Q623.994 123.125 622.963 123.125 Q621.207 123.125 620.41 123.359 Q619.637 123.57 619.403 123.945 Q619.192 124.296 618.935 125.327 L612.447 151.232 Q612.447 151.255 612.376 151.583 Q612.306 151.888 612.306 152.052 Q612.306 152.356 612.493 152.544 Q612.704 152.731 613.219 152.825 Q613.735 152.895 614.133 152.918 Q614.555 152.918 615.421 152.918 Q616.499 152.918 616.663 153.106 Q616.756 153.223 616.756 153.434 Q616.756 153.879 616.569 154.113 Q616.405 154.324 616.241 154.371 Q616.1 154.394 615.819 154.394 Q615.328 154.394 614.274 154.347 Q613.219 154.3 612.681 154.3 L609.612 154.253 L603.523 154.394 Q602.867 154.394 602.867 153.855 Q602.867 153.387 603.031 153.176 Q603.195 152.965 603.359 152.942 Q603.546 152.918 604.014 152.918 Q606.427 152.918 607.223 152.684 Q608.043 152.426 608.371 151.326 L611.674 138.092 L597.058 138.092 L593.779 151.232 Q593.779 151.255 593.709 151.583 Q593.638 151.888 593.638 152.052 Q593.638 152.356 593.826 152.544 Q594.037 152.731 594.552 152.825 Q595.067 152.895 595.465 152.918 Q595.887 152.918 596.754 152.918 Q597.831 152.918 598.018 153.106 Q598.112 153.223 598.112 153.434 Q598.112 153.762 598.018 153.996 Q597.948 154.207 597.761 154.277 Q597.597 154.347 597.48 154.371 Q597.362 154.394 597.152 154.394 Q596.66 154.394 595.606 154.347 Q594.575 154.3 594.037 154.3 L590.968 154.253 L584.878 154.394 Q584.199 154.394 584.199 153.855 Q584.199 153.387 584.363 153.199 Q584.527 152.989 584.738 152.965 Q584.949 152.918 585.487 152.918 Q586.658 152.918 587.361 152.848 Q588.064 152.778 588.509 152.684 Q588.977 152.567 589.211 152.239 Q589.469 151.911 589.586 151.63 Q589.703 151.326 589.867 150.646 L596.285 124.882 Q596.472 124.109 596.472 123.992 Q596.472 123.547 596.191 123.429 Q595.934 123.289 595.184 123.219 L593.357 123.125 Q592.795 123.125 592.561 123.102 Q592.35 123.078 592.186 122.961 Q592.022 122.844 592.022 122.586 Q592.022 122.258 592.092 122.048 Q592.186 121.813 592.35 121.743 Q592.514 121.673 592.631 121.649 Q592.748 121.626 592.936 121.626 L599.119 121.766 L605.256 121.626 Q605.935 121.626 605.935 122.165 Q605.935 122.844 605.631 122.984 Q605.326 123.125 604.296 123.125 Q602.586 123.125 601.789 123.359 Q600.993 123.57 600.735 123.945 Q600.501 124.32 600.267 125.327 L597.433 136.593 L612.072 136.593 L614.953 124.882 Q615.14 124.038 615.14 123.992 Q615.14 123.547 614.859 123.429 Q614.601 123.289 613.852 123.219 L612.025 123.125 Q611.463 123.125 611.229 123.102 Q611.018 123.078 610.83 122.961 Q610.666 122.844 610.666 122.586 Q610.666 122.258 610.737 122.048 Q610.83 121.813 610.994 121.743 Q611.158 121.673 611.275 121.649 Q611.393 121.626 611.58 121.626 L617.763 121.766 L623.924 121.626 Q624.579 121.626 624.579 122.165 Z\" fill=\"#000000\" fill-rule=\"nonzero\" fill-opacity=\"1\" /><path clip-path=\"url(#clip550)\" d=\"M656.815 162.781 Q656.815 162.912 656.668 163.42 Q656.52 163.928 656.16 164.715 Q655.815 165.502 655.323 166.224 Q654.848 166.929 654.061 167.453 Q653.29 167.962 652.405 167.962 Q651.225 167.962 650.438 167.175 Q649.651 166.388 649.651 165.207 Q649.651 164.568 650.093 163.354 Q652.175 157.813 652.175 155.829 Q652.175 153.484 650.356 153.484 Q649.323 153.484 648.388 153.911 Q647.454 154.337 646.847 154.927 Q646.24 155.517 645.765 156.19 Q645.289 156.862 645.076 157.304 Q644.879 157.747 644.83 157.944 L642.814 166.043 Q642.65 166.732 642.535 167.06 Q642.42 167.388 642.109 167.667 Q641.797 167.962 641.305 167.962 Q640.895 167.962 640.6 167.716 Q640.321 167.47 640.321 167.043 Q640.321 166.978 640.403 166.634 Q640.485 166.289 640.6 165.814 Q640.715 165.338 640.764 165.06 Q641.354 162.83 641.436 162.518 L642.371 158.616 Q642.879 156.681 642.879 155.829 Q642.879 153.484 641.059 153.484 Q640.157 153.484 639.305 153.829 Q638.469 154.156 637.895 154.616 Q637.321 155.075 636.796 155.714 Q636.288 156.337 636.026 156.763 Q635.78 157.173 635.583 157.583 L635.157 159.256 Q635.058 159.715 634.583 161.502 L633.845 164.535 Q633.32 166.798 633.206 167.011 Q633.042 167.47 632.681 167.716 Q632.32 167.962 631.96 167.962 Q631.55 167.962 631.271 167.716 Q630.992 167.47 630.992 167.043 Q630.992 166.978 631.041 166.732 Q631.091 166.486 631.173 166.142 Q631.255 165.797 631.287 165.601 L633.238 157.846 Q633.599 156.435 633.681 155.993 Q633.779 155.534 633.779 155.025 Q633.779 153.484 632.73 153.484 Q631.878 153.484 631.32 154.501 Q630.763 155.517 630.287 157.485 Q630.14 158.026 630.041 158.141 Q629.959 158.255 629.713 158.255 Q629.303 158.239 629.303 157.911 Q629.303 157.829 629.435 157.304 Q629.566 156.78 629.812 155.993 Q630.074 155.189 630.353 154.665 Q630.517 154.32 630.664 154.091 Q630.812 153.861 631.107 153.501 Q631.402 153.14 631.845 152.943 Q632.287 152.746 632.829 152.746 Q634.025 152.746 634.911 153.517 Q635.813 154.288 635.927 155.665 Q638.108 152.746 641.158 152.746 Q642.879 152.746 643.912 153.615 Q644.879 154.452 644.994 155.993 Q647.257 152.746 650.47 152.746 Q652.323 152.746 653.323 153.714 Q654.323 154.665 654.323 156.337 Q654.323 157.206 653.881 158.862 Q653.438 160.502 653.143 161.321 Q652.848 162.141 652.274 163.715 Q651.667 165.224 651.667 166.109 Q651.667 166.683 651.864 166.945 Q652.061 167.207 652.487 167.207 Q653.143 167.207 653.717 166.83 Q654.291 166.437 654.7 165.797 Q655.127 165.142 655.405 164.486 Q655.684 163.814 655.897 163.059 Q656.028 162.649 656.094 162.551 Q656.176 162.453 656.406 162.453 Q656.815 162.453 656.815 162.781 Z\" fill=\"#000000\" fill-rule=\"nonzero\" fill-opacity=\"1\" /><path clip-path=\"url(#clip550)\" d=\"M666.935 146.598 Q666.935 147.319 666.345 147.861 Q665.771 148.385 665.148 148.385 Q664.574 148.385 664.213 148.041 Q663.869 147.68 663.869 147.172 Q663.869 146.5 664.443 145.942 Q665.017 145.385 665.689 145.385 Q666.247 145.385 666.591 145.729 Q666.935 146.073 666.935 146.598 M667.23 162.781 Q667.23 162.912 667.083 163.436 Q666.935 163.945 666.574 164.732 Q666.23 165.502 665.755 166.224 Q665.279 166.945 664.492 167.453 Q663.722 167.962 662.836 167.962 Q661.639 167.962 660.852 167.175 Q660.082 166.388 660.082 165.207 Q660.082 164.568 660.852 162.518 Q663.082 156.55 663.164 156.304 Q663.541 155.37 663.541 154.55 Q663.541 154.173 663.459 153.943 Q663.377 153.697 663.213 153.615 Q663.049 153.517 662.951 153.501 Q662.869 153.484 662.705 153.484 Q661.738 153.484 660.836 154.468 Q659.934 155.452 659.311 157.649 Q659.18 158.059 659.098 158.157 Q659.016 158.255 658.77 158.255 Q658.36 158.239 658.36 157.911 Q658.36 157.813 658.475 157.436 Q658.59 157.042 658.803 156.452 Q659.016 155.845 659.393 155.222 Q659.77 154.583 660.229 154.025 Q660.705 153.468 661.377 153.107 Q662.049 152.746 662.803 152.746 Q664.033 152.746 664.787 153.55 Q665.558 154.337 665.558 155.501 Q665.558 156.14 665.115 157.272 Q664.574 158.747 664.377 159.223 L663.066 162.748 Q662.59 164.027 662.443 164.42 Q662.312 164.797 662.197 165.256 Q662.098 165.699 662.098 166.109 Q662.098 166.683 662.279 166.945 Q662.476 167.207 662.902 167.207 Q664.082 167.207 664.951 166.043 Q665.82 164.863 666.329 163.059 Q666.345 163.01 666.361 162.928 Q666.492 162.518 666.624 162.469 Q666.689 162.453 666.82 162.453 Q667.23 162.453 667.23 162.781 Z\" fill=\"#000000\" fill-rule=\"nonzero\" fill-opacity=\"1\" /><path clip-path=\"url(#clip550)\" d=\"M688.29 162.781 Q688.29 162.912 688.143 163.42 Q687.995 163.928 687.635 164.715 Q687.29 165.502 686.815 166.224 Q686.339 166.929 685.552 167.453 Q684.782 167.962 683.896 167.962 Q682.716 167.962 681.929 167.175 Q681.142 166.388 681.142 165.207 Q681.142 164.551 681.486 163.65 Q683.667 157.829 683.667 155.829 Q683.667 153.484 681.847 153.484 Q680.945 153.484 680.093 153.829 Q679.256 154.156 678.683 154.616 Q678.109 155.075 677.584 155.714 Q677.076 156.337 676.813 156.763 Q676.567 157.173 676.371 157.583 L675.944 159.256 Q675.846 159.715 675.371 161.502 L674.633 164.535 Q674.108 166.798 673.993 167.011 Q673.829 167.47 673.469 167.716 Q673.108 167.962 672.747 167.962 Q672.337 167.962 672.059 167.716 Q671.78 167.47 671.78 167.043 Q671.78 166.978 671.829 166.732 Q671.878 166.486 671.96 166.142 Q672.042 165.797 672.075 165.601 L674.026 157.846 Q674.387 156.435 674.469 155.993 Q674.567 155.534 674.567 155.025 Q674.567 153.484 673.518 153.484 Q672.665 153.484 672.108 154.501 Q671.55 155.517 671.075 157.485 Q670.927 158.026 670.829 158.141 Q670.747 158.255 670.501 158.255 Q670.091 158.239 670.091 157.911 Q670.091 157.829 670.222 157.288 Q670.354 156.747 670.599 155.976 Q670.862 155.189 671.108 154.665 Q671.321 154.271 671.436 154.091 Q671.567 153.894 671.878 153.517 Q672.206 153.124 672.633 152.943 Q673.075 152.746 673.616 152.746 Q674.83 152.746 675.715 153.533 Q676.6 154.304 676.715 155.665 Q678.896 152.746 681.945 152.746 Q683.749 152.746 684.782 153.697 Q685.815 154.648 685.815 156.337 Q685.815 156.731 685.733 157.239 Q685.667 157.731 685.503 158.354 Q685.356 158.977 685.224 159.452 Q685.093 159.928 684.831 160.698 Q684.569 161.453 684.454 161.78 Q684.339 162.108 684.06 162.879 Q683.798 163.633 683.765 163.715 Q683.159 165.24 683.159 166.109 Q683.159 166.683 683.339 166.945 Q683.536 167.207 683.962 167.207 Q685.11 167.207 685.962 166.076 Q686.831 164.928 687.389 163.059 Q687.52 162.649 687.585 162.551 Q687.667 162.453 687.897 162.453 Q688.29 162.453 688.29 162.781 Z\" fill=\"#000000\" fill-rule=\"nonzero\" fill-opacity=\"1\" /></svg>\n"
      ]
     },
     "execution_count": 48,
     "metadata": {},
     "output_type": "execute_result"
    }
   ],
   "source": [
    "p = plot(δs, -log2.(pgs_22_wtilted), label=\"\\$H_{min}\\$\")# for \\$v=$(round(vs[end], digits=3))\\$\")\n",
    "#for i in [13,15,17,18,19,20]\n",
    "#    plot!(p, γs, -log2.(pgs_wtilted2[i,:]), label=\"\\$H_{min}\\$ for \\$v=$(round(vs[i], digits=3))\\$\")\n",
    "#end\n",
    "xlabel!(\"\\$\\\\delta\\$\")\n",
    "ylabel!(\"\\$H_{min}\\$\")\n",
    "#savefig(p, \"plots/hmin_vs_δ_bilo22_eve$ebits.svg\")\n",
    "p"
   ]
  },
  {
   "cell_type": "code",
   "execution_count": 70,
   "id": "321e5491-a3c0-4575-88ce-bd1d4c16c81e",
   "metadata": {},
   "outputs": [],
   "source": [
    "using NPZ"
   ]
  },
  {
   "cell_type": "markdown",
   "id": "0fab889b-6f6a-4be3-a8d2-eaa76c642dc2",
   "metadata": {},
   "source": [
    "## Paper Plots"
   ]
  },
  {
   "cell_type": "markdown",
   "id": "f4997f0c-6f12-4ada-ae8b-c3410faabb5e",
   "metadata": {},
   "source": [
    "## Figure 2 - simulations"
   ]
  },
  {
   "cell_type": "markdown",
   "id": "91a3195b-78e4-40ec-b812-a0f3cd286b41",
   "metadata": {},
   "source": [
    "### Panel (a) - Case 14, single Eve"
   ]
  },
  {
   "cell_type": "code",
   "execution_count": null,
   "id": "8f2954d4-1e03-4341-8529-d9e86cdc11c0",
   "metadata": {},
   "outputs": [],
   "source": [
    "p = plot(vs3, -log2.(pgs3), label=\"\\$H_{min}\\$\", markershape=:circle)"
   ]
  },
  {
   "cell_type": "markdown",
   "id": "8883b514-7e67-49e1-aa1e-46287e3d24eb",
   "metadata": {},
   "source": [
    "### Panel (a) - Case 22, single Eve"
   ]
  },
  {
   "cell_type": "code",
   "execution_count": null,
   "id": "9f76ff40-16e4-4db4-aa90-3ea916e99cc1",
   "metadata": {},
   "outputs": [],
   "source": []
  },
  {
   "cell_type": "markdown",
   "id": "86eedabe-2b0f-42ca-8647-cf35e6f46f89",
   "metadata": {},
   "source": [
    "## Figure 4 - Experimental Data"
   ]
  },
  {
   "cell_type": "code",
   "execution_count": null,
   "id": "76a048fb-f6aa-4280-a3a7-05625f2e49d6",
   "metadata": {},
   "outputs": [],
   "source": [
    "exp_data = npzread(\"data/exp_data/Punti_exp.npz\")"
   ]
  },
  {
   "cell_type": "code",
   "execution_count": 67,
   "id": "6a797508-eea0-4af6-8fa8-47186ce654a4",
   "metadata": {},
   "outputs": [
    {
     "data": {
      "image/png": "[encoded data removed]",
      "image/svg+xml": [
       "<?xml version=\"1.0\" encoding=\"utf-8\"?>\n",
       "<svg xmlns=\"http://www.w3.org/2000/svg\" xmlns:xlink=\"http://www.w3.org/1999/xlink\" width=\"600\" height=\"400\" viewBox=\"0 0 2400 1600\">\n",
       "<defs>\n",
       "  <clipPath id=\"clip000\">\n",
       "    <rect x=\"0\" y=\"0\" width=\"2400\" height=\"1600\"/>\n",
       "  </clipPath>\n",
       "</defs>\n",
       "<path clip-path=\"url(#clip000)\" d=\"M0 1600 L2400 1600 L2400 0 L0 0  Z\" fill=\"#ffffff\" fill-rule=\"evenodd\" fill-opacity=\"1\"/>\n",
       "<defs>\n",
       "  <clipPath id=\"clip001\">\n",
       "    <rect x=\"480\" y=\"0\" width=\"1681\" height=\"1600\"/>\n",
       "  </clipPath>\n",
       "</defs>\n",
       "<path clip-path=\"url(#clip000)\" d=\"M156.598 1486.45 L2352.76 1486.45 L2352.76 47.2441 L156.598 47.2441  Z\" fill=\"#ffffff\" fill-rule=\"evenodd\" fill-opacity=\"1\"/>\n",
       "<defs>\n",
       "  <clipPath id=\"clip002\">\n",
       "    <rect x=\"156\" y=\"47\" width=\"2197\" height=\"1440\"/>\n",
       "  </clipPath>\n",
       "</defs>\n",
       "<polyline clip-path=\"url(#clip002)\" style=\"stroke:#000000; stroke-linecap:round; stroke-linejoin:round; stroke-width:2; stroke-opacity:0.1; fill:none\" points=\"248.061,1486.45 248.061,47.2441 \"/>\n",
       "<polyline clip-path=\"url(#clip002)\" style=\"stroke:#000000; stroke-linecap:round; stroke-linejoin:round; stroke-width:2; stroke-opacity:0.1; fill:none\" points=\"679.788,1486.45 679.788,47.2441 \"/>\n",
       "<polyline clip-path=\"url(#clip002)\" style=\"stroke:#000000; stroke-linecap:round; stroke-linejoin:round; stroke-width:2; stroke-opacity:0.1; fill:none\" points=\"1111.51,1486.45 1111.51,47.2441 \"/>\n",
       "<polyline clip-path=\"url(#clip002)\" style=\"stroke:#000000; stroke-linecap:round; stroke-linejoin:round; stroke-width:2; stroke-opacity:0.1; fill:none\" points=\"1543.24,1486.45 1543.24,47.2441 \"/>\n",
       "<polyline clip-path=\"url(#clip002)\" style=\"stroke:#000000; stroke-linecap:round; stroke-linejoin:round; stroke-width:2; stroke-opacity:0.1; fill:none\" points=\"1974.97,1486.45 1974.97,47.2441 \"/>\n",
       "<polyline clip-path=\"url(#clip000)\" style=\"stroke:#000000; stroke-linecap:round; stroke-linejoin:round; stroke-width:4; stroke-opacity:1; fill:none\" points=\"156.598,1486.45 2352.76,1486.45 \"/>\n",
       "<polyline clip-path=\"url(#clip000)\" style=\"stroke:#000000; stroke-linecap:round; stroke-linejoin:round; stroke-width:4; stroke-opacity:1; fill:none\" points=\"248.061,1486.45 248.061,1467.55 \"/>\n",
       "<polyline clip-path=\"url(#clip000)\" style=\"stroke:#000000; stroke-linecap:round; stroke-linejoin:round; stroke-width:4; stroke-opacity:1; fill:none\" points=\"679.788,1486.45 679.788,1467.55 \"/>\n",
       "<polyline clip-path=\"url(#clip000)\" style=\"stroke:#000000; stroke-linecap:round; stroke-linejoin:round; stroke-width:4; stroke-opacity:1; fill:none\" points=\"1111.51,1486.45 1111.51,1467.55 \"/>\n",
       "<polyline clip-path=\"url(#clip000)\" style=\"stroke:#000000; stroke-linecap:round; stroke-linejoin:round; stroke-width:4; stroke-opacity:1; fill:none\" points=\"1543.24,1486.45 1543.24,1467.55 \"/>\n",
       "<polyline clip-path=\"url(#clip000)\" style=\"stroke:#000000; stroke-linecap:round; stroke-linejoin:round; stroke-width:4; stroke-opacity:1; fill:none\" points=\"1974.97,1486.45 1974.97,1467.55 \"/>\n",
       "<path clip-path=\"url(#clip000)\" d=\"M225.897 1517.37 Q222.286 1517.37 220.457 1520.93 Q218.652 1524.47 218.652 1531.6 Q218.652 1538.71 220.457 1542.27 Q222.286 1545.82 225.897 1545.82 Q229.531 1545.82 231.337 1542.27 Q233.165 1538.71 233.165 1531.6 Q233.165 1524.47 231.337 1520.93 Q229.531 1517.37 225.897 1517.37 M225.897 1513.66 Q231.707 1513.66 234.763 1518.27 Q237.841 1522.85 237.841 1531.6 Q237.841 1540.33 234.763 1544.94 Q231.707 1549.52 225.897 1549.52 Q220.087 1549.52 217.008 1544.94 Q213.952 1540.33 213.952 1531.6 Q213.952 1522.85 217.008 1518.27 Q220.087 1513.66 225.897 1513.66 Z\" fill=\"#000000\" fill-rule=\"nonzero\" fill-opacity=\"1\" /><path clip-path=\"url(#clip000)\" d=\"M246.059 1542.97 L250.943 1542.97 L250.943 1548.85 L246.059 1548.85 L246.059 1542.97 Z\" fill=\"#000000\" fill-rule=\"nonzero\" fill-opacity=\"1\" /><path clip-path=\"url(#clip000)\" d=\"M259.948 1514.29 L282.17 1514.29 L282.17 1516.28 L269.623 1548.85 L264.739 1548.85 L276.545 1518.22 L259.948 1518.22 L259.948 1514.29 Z\" fill=\"#000000\" fill-rule=\"nonzero\" fill-opacity=\"1\" /><path clip-path=\"url(#clip000)\" d=\"M657.219 1517.37 Q653.607 1517.37 651.779 1520.93 Q649.973 1524.47 649.973 1531.6 Q649.973 1538.71 651.779 1542.27 Q653.607 1545.82 657.219 1545.82 Q660.853 1545.82 662.658 1542.27 Q664.487 1538.71 664.487 1531.6 Q664.487 1524.47 662.658 1520.93 Q660.853 1517.37 657.219 1517.37 M657.219 1513.66 Q663.029 1513.66 666.084 1518.27 Q669.163 1522.85 669.163 1531.6 Q669.163 1540.33 666.084 1544.94 Q663.029 1549.52 657.219 1549.52 Q651.408 1549.52 648.33 1544.94 Q645.274 1540.33 645.274 1531.6 Q645.274 1522.85 648.33 1518.27 Q651.408 1513.66 657.219 1513.66 Z\" fill=\"#000000\" fill-rule=\"nonzero\" fill-opacity=\"1\" /><path clip-path=\"url(#clip000)\" d=\"M677.381 1542.97 L682.265 1542.97 L682.265 1548.85 L677.381 1548.85 L677.381 1542.97 Z\" fill=\"#000000\" fill-rule=\"nonzero\" fill-opacity=\"1\" /><path clip-path=\"url(#clip000)\" d=\"M702.45 1532.44 Q699.117 1532.44 697.195 1534.22 Q695.297 1536 695.297 1539.13 Q695.297 1542.25 697.195 1544.03 Q699.117 1545.82 702.45 1545.82 Q705.783 1545.82 707.704 1544.03 Q709.626 1542.23 709.626 1539.13 Q709.626 1536 707.704 1534.22 Q705.806 1532.44 702.45 1532.44 M697.774 1530.45 Q694.765 1529.7 693.075 1527.64 Q691.408 1525.58 691.408 1522.62 Q691.408 1518.48 694.348 1516.07 Q697.311 1513.66 702.45 1513.66 Q707.612 1513.66 710.552 1516.07 Q713.491 1518.48 713.491 1522.62 Q713.491 1525.58 711.802 1527.64 Q710.135 1529.7 707.149 1530.45 Q710.528 1531.23 712.403 1533.52 Q714.302 1535.82 714.302 1539.13 Q714.302 1544.15 711.223 1546.83 Q708.167 1549.52 702.45 1549.52 Q696.732 1549.52 693.654 1546.83 Q690.598 1544.15 690.598 1539.13 Q690.598 1535.82 692.496 1533.52 Q694.394 1531.23 697.774 1530.45 M696.061 1523.06 Q696.061 1525.75 697.728 1527.25 Q699.417 1528.76 702.45 1528.76 Q705.459 1528.76 707.149 1527.25 Q708.862 1525.75 708.862 1523.06 Q708.862 1520.38 707.149 1518.87 Q705.459 1517.37 702.45 1517.37 Q699.417 1517.37 697.728 1518.87 Q696.061 1520.38 696.061 1523.06 Z\" fill=\"#000000\" fill-rule=\"nonzero\" fill-opacity=\"1\" /><path clip-path=\"url(#clip000)\" d=\"M1088.99 1517.37 Q1085.38 1517.37 1083.55 1520.93 Q1081.75 1524.47 1081.75 1531.6 Q1081.75 1538.71 1083.55 1542.27 Q1085.38 1545.82 1088.99 1545.82 Q1092.63 1545.82 1094.43 1542.27 Q1096.26 1538.71 1096.26 1531.6 Q1096.26 1524.47 1094.43 1520.93 Q1092.63 1517.37 1088.99 1517.37 M1088.99 1513.66 Q1094.8 1513.66 1097.86 1518.27 Q1100.94 1522.85 1100.94 1531.6 Q1100.94 1540.33 1097.86 1544.94 Q1094.8 1549.52 1088.99 1549.52 Q1083.18 1549.52 1080.1 1544.94 Q1077.05 1540.33 1077.05 1531.6 Q1077.05 1522.85 1080.1 1518.27 Q1083.18 1513.66 1088.99 1513.66 Z\" fill=\"#000000\" fill-rule=\"nonzero\" fill-opacity=\"1\" /><path clip-path=\"url(#clip000)\" d=\"M1109.15 1542.97 L1114.04 1542.97 L1114.04 1548.85 L1109.15 1548.85 L1109.15 1542.97 Z\" fill=\"#000000\" fill-rule=\"nonzero\" fill-opacity=\"1\" /><path clip-path=\"url(#clip000)\" d=\"M1124.36 1548.13 L1124.36 1543.87 Q1126.12 1544.7 1127.93 1545.14 Q1129.73 1545.58 1131.47 1545.58 Q1136.1 1545.58 1138.53 1542.48 Q1140.98 1539.36 1141.33 1533.01 Q1139.99 1535.01 1137.93 1536.07 Q1135.87 1537.13 1133.37 1537.13 Q1128.18 1537.13 1125.15 1534.01 Q1122.14 1530.86 1122.14 1525.42 Q1122.14 1520.1 1125.29 1516.88 Q1128.44 1513.66 1133.67 1513.66 Q1139.66 1513.66 1142.81 1518.27 Q1145.98 1522.85 1145.98 1531.6 Q1145.98 1539.77 1142.09 1544.66 Q1138.23 1549.52 1131.68 1549.52 Q1129.92 1549.52 1128.11 1549.17 Q1126.31 1548.82 1124.36 1548.13 M1133.67 1533.48 Q1136.82 1533.48 1138.64 1531.32 Q1140.5 1529.17 1140.5 1525.42 Q1140.5 1521.7 1138.64 1519.54 Q1136.82 1517.37 1133.67 1517.37 Q1130.52 1517.37 1128.67 1519.54 Q1126.84 1521.7 1126.84 1525.42 Q1126.84 1529.17 1128.67 1531.32 Q1130.52 1533.48 1133.67 1533.48 Z\" fill=\"#000000\" fill-rule=\"nonzero\" fill-opacity=\"1\" /><path clip-path=\"url(#clip000)\" d=\"M1510.39 1544.91 L1518.03 1544.91 L1518.03 1518.55 L1509.72 1520.21 L1509.72 1515.95 L1517.99 1514.29 L1522.66 1514.29 L1522.66 1544.91 L1530.3 1544.91 L1530.3 1548.85 L1510.39 1548.85 L1510.39 1544.91 Z\" fill=\"#000000\" fill-rule=\"nonzero\" fill-opacity=\"1\" /><path clip-path=\"url(#clip000)\" d=\"M1539.75 1542.97 L1544.63 1542.97 L1544.63 1548.85 L1539.75 1548.85 L1539.75 1542.97 Z\" fill=\"#000000\" fill-rule=\"nonzero\" fill-opacity=\"1\" /><path clip-path=\"url(#clip000)\" d=\"M1564.82 1517.37 Q1561.2 1517.37 1559.38 1520.93 Q1557.57 1524.47 1557.57 1531.6 Q1557.57 1538.71 1559.38 1542.27 Q1561.2 1545.82 1564.82 1545.82 Q1568.45 1545.82 1570.26 1542.27 Q1572.08 1538.71 1572.08 1531.6 Q1572.08 1524.47 1570.26 1520.93 Q1568.45 1517.37 1564.82 1517.37 M1564.82 1513.66 Q1570.63 1513.66 1573.68 1518.27 Q1576.76 1522.85 1576.76 1531.6 Q1576.76 1540.33 1573.68 1544.94 Q1570.63 1549.52 1564.82 1549.52 Q1559.01 1549.52 1555.93 1544.94 Q1552.87 1540.33 1552.87 1531.6 Q1552.87 1522.85 1555.93 1518.27 Q1559.01 1513.66 1564.82 1513.66 Z\" fill=\"#000000\" fill-rule=\"nonzero\" fill-opacity=\"1\" /><path clip-path=\"url(#clip000)\" d=\"M1942.73 1544.91 L1950.37 1544.91 L1950.37 1518.55 L1942.06 1520.21 L1942.06 1515.95 L1950.33 1514.29 L1955 1514.29 L1955 1544.91 L1962.64 1544.91 L1962.64 1548.85 L1942.73 1548.85 L1942.73 1544.91 Z\" fill=\"#000000\" fill-rule=\"nonzero\" fill-opacity=\"1\" /><path clip-path=\"url(#clip000)\" d=\"M1972.09 1542.97 L1976.97 1542.97 L1976.97 1548.85 L1972.09 1548.85 L1972.09 1542.97 Z\" fill=\"#000000\" fill-rule=\"nonzero\" fill-opacity=\"1\" /><path clip-path=\"url(#clip000)\" d=\"M1987.97 1544.91 L1995.6 1544.91 L1995.6 1518.55 L1987.29 1520.21 L1987.29 1515.95 L1995.56 1514.29 L2000.23 1514.29 L2000.23 1544.91 L2007.87 1544.91 L2007.87 1548.85 L1987.97 1548.85 L1987.97 1544.91 Z\" fill=\"#000000\" fill-rule=\"nonzero\" fill-opacity=\"1\" /><polyline clip-path=\"url(#clip002)\" style=\"stroke:#000000; stroke-linecap:round; stroke-linejoin:round; stroke-width:2; stroke-opacity:0.1; fill:none\" points=\"156.598,1450.03 2352.76,1450.03 \"/>\n",
       "<polyline clip-path=\"url(#clip002)\" style=\"stroke:#000000; stroke-linecap:round; stroke-linejoin:round; stroke-width:2; stroke-opacity:0.1; fill:none\" points=\"156.598,1225.45 2352.76,1225.45 \"/>\n",
       "<polyline clip-path=\"url(#clip002)\" style=\"stroke:#000000; stroke-linecap:round; stroke-linejoin:round; stroke-width:2; stroke-opacity:0.1; fill:none\" points=\"156.598,1000.88 2352.76,1000.88 \"/>\n",
       "<polyline clip-path=\"url(#clip002)\" style=\"stroke:#000000; stroke-linecap:round; stroke-linejoin:round; stroke-width:2; stroke-opacity:0.1; fill:none\" points=\"156.598,776.303 2352.76,776.303 \"/>\n",
       "<polyline clip-path=\"url(#clip002)\" style=\"stroke:#000000; stroke-linecap:round; stroke-linejoin:round; stroke-width:2; stroke-opacity:0.1; fill:none\" points=\"156.598,551.728 2352.76,551.728 \"/>\n",
       "<polyline clip-path=\"url(#clip002)\" style=\"stroke:#000000; stroke-linecap:round; stroke-linejoin:round; stroke-width:2; stroke-opacity:0.1; fill:none\" points=\"156.598,327.154 2352.76,327.154 \"/>\n",
       "<polyline clip-path=\"url(#clip002)\" style=\"stroke:#000000; stroke-linecap:round; stroke-linejoin:round; stroke-width:2; stroke-opacity:0.1; fill:none\" points=\"156.598,102.58 2352.76,102.58 \"/>\n",
       "<polyline clip-path=\"url(#clip000)\" style=\"stroke:#000000; stroke-linecap:round; stroke-linejoin:round; stroke-width:4; stroke-opacity:1; fill:none\" points=\"156.598,1486.45 156.598,47.2441 \"/>\n",
       "<polyline clip-path=\"url(#clip000)\" style=\"stroke:#000000; stroke-linecap:round; stroke-linejoin:round; stroke-width:4; stroke-opacity:1; fill:none\" points=\"156.598,1450.03 175.496,1450.03 \"/>\n",
       "<polyline clip-path=\"url(#clip000)\" style=\"stroke:#000000; stroke-linecap:round; stroke-linejoin:round; stroke-width:4; stroke-opacity:1; fill:none\" points=\"156.598,1225.45 175.496,1225.45 \"/>\n",
       "<polyline clip-path=\"url(#clip000)\" style=\"stroke:#000000; stroke-linecap:round; stroke-linejoin:round; stroke-width:4; stroke-opacity:1; fill:none\" points=\"156.598,1000.88 175.496,1000.88 \"/>\n",
       "<polyline clip-path=\"url(#clip000)\" style=\"stroke:#000000; stroke-linecap:round; stroke-linejoin:round; stroke-width:4; stroke-opacity:1; fill:none\" points=\"156.598,776.303 175.496,776.303 \"/>\n",
       "<polyline clip-path=\"url(#clip000)\" style=\"stroke:#000000; stroke-linecap:round; stroke-linejoin:round; stroke-width:4; stroke-opacity:1; fill:none\" points=\"156.598,551.728 175.496,551.728 \"/>\n",
       "<polyline clip-path=\"url(#clip000)\" style=\"stroke:#000000; stroke-linecap:round; stroke-linejoin:round; stroke-width:4; stroke-opacity:1; fill:none\" points=\"156.598,327.154 175.496,327.154 \"/>\n",
       "<polyline clip-path=\"url(#clip000)\" style=\"stroke:#000000; stroke-linecap:round; stroke-linejoin:round; stroke-width:4; stroke-opacity:1; fill:none\" points=\"156.598,102.58 175.496,102.58 \"/>\n",
       "<path clip-path=\"url(#clip000)\" d=\"M64.0708 1435.82 Q60.4597 1435.82 58.631 1439.39 Q56.8254 1442.93 56.8254 1450.06 Q56.8254 1457.17 58.631 1460.73 Q60.4597 1464.27 64.0708 1464.27 Q67.705 1464.27 69.5105 1460.73 Q71.3392 1457.17 71.3392 1450.06 Q71.3392 1442.93 69.5105 1439.39 Q67.705 1435.82 64.0708 1435.82 M64.0708 1432.12 Q69.8809 1432.12 72.9365 1436.73 Q76.0151 1441.31 76.0151 1450.06 Q76.0151 1458.79 72.9365 1463.39 Q69.8809 1467.98 64.0708 1467.98 Q58.2606 1467.98 55.1819 1463.39 Q52.1264 1458.79 52.1264 1450.06 Q52.1264 1441.31 55.1819 1436.73 Q58.2606 1432.12 64.0708 1432.12 Z\" fill=\"#000000\" fill-rule=\"nonzero\" fill-opacity=\"1\" /><path clip-path=\"url(#clip000)\" d=\"M84.2327 1461.43 L89.1169 1461.43 L89.1169 1467.31 L84.2327 1467.31 L84.2327 1461.43 Z\" fill=\"#000000\" fill-rule=\"nonzero\" fill-opacity=\"1\" /><path clip-path=\"url(#clip000)\" d=\"M113.469 1448.67 Q116.825 1449.39 118.7 1451.66 Q120.598 1453.93 120.598 1457.26 Q120.598 1462.37 117.08 1465.18 Q113.561 1467.98 107.08 1467.98 Q104.904 1467.98 102.589 1467.54 Q100.297 1467.12 97.8437 1466.26 L97.8437 1461.75 Q99.7882 1462.88 102.103 1463.46 Q104.418 1464.04 106.941 1464.04 Q111.339 1464.04 113.631 1462.31 Q115.945 1460.57 115.945 1457.26 Q115.945 1454.2 113.793 1452.49 Q111.663 1450.75 107.844 1450.75 L103.816 1450.75 L103.816 1446.91 L108.029 1446.91 Q111.478 1446.91 113.307 1445.55 Q115.135 1444.16 115.135 1441.56 Q115.135 1438.9 113.237 1437.49 Q111.362 1436.06 107.844 1436.06 Q105.922 1436.06 103.723 1436.47 Q101.524 1436.89 98.8854 1437.77 L98.8854 1433.6 Q101.547 1432.86 103.862 1432.49 Q106.2 1432.12 108.26 1432.12 Q113.584 1432.12 116.686 1434.55 Q119.788 1436.96 119.788 1441.08 Q119.788 1443.95 118.145 1445.94 Q116.501 1447.91 113.469 1448.67 Z\" fill=\"#000000\" fill-rule=\"nonzero\" fill-opacity=\"1\" /><path clip-path=\"url(#clip000)\" d=\"M62.9365 1211.25 Q59.3254 1211.25 57.4967 1214.81 Q55.6912 1218.36 55.6912 1225.49 Q55.6912 1232.59 57.4967 1236.16 Q59.3254 1239.7 62.9365 1239.7 Q66.5707 1239.7 68.3763 1236.16 Q70.205 1232.59 70.205 1225.49 Q70.205 1218.36 68.3763 1214.81 Q66.5707 1211.25 62.9365 1211.25 M62.9365 1207.55 Q68.7467 1207.55 71.8022 1212.15 Q74.8809 1216.74 74.8809 1225.49 Q74.8809 1234.21 71.8022 1238.82 Q68.7467 1243.4 62.9365 1243.4 Q57.1264 1243.4 54.0477 1238.82 Q50.9921 1234.21 50.9921 1225.49 Q50.9921 1216.74 54.0477 1212.15 Q57.1264 1207.55 62.9365 1207.55 Z\" fill=\"#000000\" fill-rule=\"nonzero\" fill-opacity=\"1\" /><path clip-path=\"url(#clip000)\" d=\"M83.0984 1236.85 L87.9827 1236.85 L87.9827 1242.73 L83.0984 1242.73 L83.0984 1236.85 Z\" fill=\"#000000\" fill-rule=\"nonzero\" fill-opacity=\"1\" /><path clip-path=\"url(#clip000)\" d=\"M111.015 1212.25 L99.2095 1230.69 L111.015 1230.69 L111.015 1212.25 M109.788 1208.17 L115.668 1208.17 L115.668 1230.69 L120.598 1230.69 L120.598 1234.58 L115.668 1234.58 L115.668 1242.73 L111.015 1242.73 L111.015 1234.58 L95.4132 1234.58 L95.4132 1230.07 L109.788 1208.17 Z\" fill=\"#000000\" fill-rule=\"nonzero\" fill-opacity=\"1\" /><path clip-path=\"url(#clip000)\" d=\"M64.418 986.675 Q60.8069 986.675 58.9782 990.24 Q57.1726 993.782 57.1726 1000.91 Q57.1726 1008.02 58.9782 1011.58 Q60.8069 1015.12 64.418 1015.12 Q68.0522 1015.12 69.8578 1011.58 Q71.6865 1008.02 71.6865 1000.91 Q71.6865 993.782 69.8578 990.24 Q68.0522 986.675 64.418 986.675 M64.418 982.972 Q70.2281 982.972 73.2837 987.578 Q76.3624 992.162 76.3624 1000.91 Q76.3624 1009.64 73.2837 1014.24 Q70.2281 1018.83 64.418 1018.83 Q58.6078 1018.83 55.5291 1014.24 Q52.4736 1009.64 52.4736 1000.91 Q52.4736 992.162 55.5291 987.578 Q58.6078 982.972 64.418 982.972 Z\" fill=\"#000000\" fill-rule=\"nonzero\" fill-opacity=\"1\" /><path clip-path=\"url(#clip000)\" d=\"M84.5799 1012.28 L89.4641 1012.28 L89.4641 1018.16 L84.5799 1018.16 L84.5799 1012.28 Z\" fill=\"#000000\" fill-rule=\"nonzero\" fill-opacity=\"1\" /><path clip-path=\"url(#clip000)\" d=\"M99.6956 983.597 L118.052 983.597 L118.052 987.532 L103.978 987.532 L103.978 996.004 Q104.996 995.657 106.015 995.495 Q107.033 995.31 108.052 995.31 Q113.839 995.31 117.219 998.481 Q120.598 1001.65 120.598 1007.07 Q120.598 1012.65 117.126 1015.75 Q113.654 1018.83 107.334 1018.83 Q105.159 1018.83 102.89 1018.46 Q100.645 1018.09 98.2372 1017.35 L98.2372 1012.65 Q100.321 1013.78 102.543 1014.34 Q104.765 1014.89 107.242 1014.89 Q111.246 1014.89 113.584 1012.79 Q115.922 1010.68 115.922 1007.07 Q115.922 1003.46 113.584 1001.35 Q111.246 999.245 107.242 999.245 Q105.367 999.245 103.492 999.662 Q101.64 1000.08 99.6956 1000.96 L99.6956 983.597 Z\" fill=\"#000000\" fill-rule=\"nonzero\" fill-opacity=\"1\" /><path clip-path=\"url(#clip000)\" d=\"M63.2606 762.101 Q59.6495 762.101 57.8208 765.666 Q56.0152 769.208 56.0152 776.337 Q56.0152 783.444 57.8208 787.009 Q59.6495 790.55 63.2606 790.55 Q66.8948 790.55 68.7004 787.009 Q70.5291 783.444 70.5291 776.337 Q70.5291 769.208 68.7004 765.666 Q66.8948 762.101 63.2606 762.101 M63.2606 758.398 Q69.0707 758.398 72.1263 763.004 Q75.205 767.587 75.205 776.337 Q75.205 785.064 72.1263 789.671 Q69.0707 794.254 63.2606 794.254 Q57.4504 794.254 54.3717 789.671 Q51.3162 785.064 51.3162 776.337 Q51.3162 767.587 54.3717 763.004 Q57.4504 758.398 63.2606 758.398 Z\" fill=\"#000000\" fill-rule=\"nonzero\" fill-opacity=\"1\" /><path clip-path=\"url(#clip000)\" d=\"M83.4225 787.703 L88.3067 787.703 L88.3067 793.583 L83.4225 793.583 L83.4225 787.703 Z\" fill=\"#000000\" fill-rule=\"nonzero\" fill-opacity=\"1\" /><path clip-path=\"url(#clip000)\" d=\"M109.071 774.439 Q105.922 774.439 104.071 776.592 Q102.242 778.745 102.242 782.495 Q102.242 786.221 104.071 788.397 Q105.922 790.55 109.071 790.55 Q112.219 790.55 114.047 788.397 Q115.899 786.221 115.899 782.495 Q115.899 778.745 114.047 776.592 Q112.219 774.439 109.071 774.439 M118.353 759.786 L118.353 764.046 Q116.594 763.212 114.788 762.773 Q113.006 762.333 111.246 762.333 Q106.617 762.333 104.163 765.458 Q101.733 768.583 101.385 774.902 Q102.751 772.888 104.811 771.823 Q106.871 770.735 109.348 770.735 Q114.557 770.735 117.566 773.907 Q120.598 777.055 120.598 782.495 Q120.598 787.819 117.45 791.036 Q114.302 794.254 109.071 794.254 Q103.075 794.254 99.9039 789.671 Q96.7326 785.064 96.7326 776.337 Q96.7326 768.143 100.621 763.282 Q104.51 758.398 111.061 758.398 Q112.82 758.398 114.603 758.745 Q116.408 759.092 118.353 759.786 Z\" fill=\"#000000\" fill-rule=\"nonzero\" fill-opacity=\"1\" /><path clip-path=\"url(#clip000)\" d=\"M64.3254 537.527 Q60.7143 537.527 58.8856 541.092 Q57.0801 544.633 57.0801 551.763 Q57.0801 558.87 58.8856 562.434 Q60.7143 565.976 64.3254 565.976 Q67.9596 565.976 69.7652 562.434 Q71.5939 558.87 71.5939 551.763 Q71.5939 544.633 69.7652 541.092 Q67.9596 537.527 64.3254 537.527 M64.3254 533.823 Q70.1355 533.823 73.1911 538.43 Q76.2698 543.013 76.2698 551.763 Q76.2698 560.49 73.1911 565.096 Q70.1355 569.68 64.3254 569.68 Q58.5152 569.68 55.4365 565.096 Q52.381 560.49 52.381 551.763 Q52.381 543.013 55.4365 538.43 Q58.5152 533.823 64.3254 533.823 Z\" fill=\"#000000\" fill-rule=\"nonzero\" fill-opacity=\"1\" /><path clip-path=\"url(#clip000)\" d=\"M84.4873 563.129 L89.3715 563.129 L89.3715 569.008 L84.4873 569.008 L84.4873 563.129 Z\" fill=\"#000000\" fill-rule=\"nonzero\" fill-opacity=\"1\" /><path clip-path=\"url(#clip000)\" d=\"M98.3761 534.448 L120.598 534.448 L120.598 536.439 L108.052 569.008 L103.168 569.008 L114.973 538.384 L98.3761 538.384 L98.3761 534.448 Z\" fill=\"#000000\" fill-rule=\"nonzero\" fill-opacity=\"1\" /><path clip-path=\"url(#clip000)\" d=\"M63.5152 312.953 Q59.9041 312.953 58.0754 316.518 Q56.2699 320.059 56.2699 327.189 Q56.2699 334.295 58.0754 337.86 Q59.9041 341.402 63.5152 341.402 Q67.1494 341.402 68.955 337.86 Q70.7837 334.295 70.7837 327.189 Q70.7837 320.059 68.955 316.518 Q67.1494 312.953 63.5152 312.953 M63.5152 309.249 Q69.3254 309.249 72.3809 313.856 Q75.4596 318.439 75.4596 327.189 Q75.4596 335.916 72.3809 340.522 Q69.3254 345.105 63.5152 345.105 Q57.7051 345.105 54.6264 340.522 Q51.5708 335.916 51.5708 327.189 Q51.5708 318.439 54.6264 313.856 Q57.7051 309.249 63.5152 309.249 Z\" fill=\"#000000\" fill-rule=\"nonzero\" fill-opacity=\"1\" /><path clip-path=\"url(#clip000)\" d=\"M83.6771 338.555 L88.5614 338.555 L88.5614 344.434 L83.6771 344.434 L83.6771 338.555 Z\" fill=\"#000000\" fill-rule=\"nonzero\" fill-opacity=\"1\" /><path clip-path=\"url(#clip000)\" d=\"M108.746 328.022 Q105.413 328.022 103.492 329.805 Q101.594 331.587 101.594 334.712 Q101.594 337.837 103.492 339.619 Q105.413 341.402 108.746 341.402 Q112.08 341.402 114.001 339.619 Q115.922 337.814 115.922 334.712 Q115.922 331.587 114.001 329.805 Q112.103 328.022 108.746 328.022 M104.071 326.031 Q101.061 325.291 99.3715 323.231 Q97.7048 321.17 97.7048 318.207 Q97.7048 314.064 100.645 311.657 Q103.608 309.249 108.746 309.249 Q113.908 309.249 116.848 311.657 Q119.788 314.064 119.788 318.207 Q119.788 321.17 118.098 323.231 Q116.432 325.291 113.445 326.031 Q116.825 326.818 118.7 329.11 Q120.598 331.402 120.598 334.712 Q120.598 339.735 117.52 342.42 Q114.464 345.105 108.746 345.105 Q103.029 345.105 99.9502 342.42 Q96.8947 339.735 96.8947 334.712 Q96.8947 331.402 98.7928 329.11 Q100.691 326.818 104.071 326.031 M102.358 318.647 Q102.358 321.332 104.024 322.837 Q105.714 324.342 108.746 324.342 Q111.756 324.342 113.445 322.837 Q115.158 321.332 115.158 318.647 Q115.158 315.962 113.445 314.457 Q111.756 312.953 108.746 312.953 Q105.714 312.953 104.024 314.457 Q102.358 315.962 102.358 318.647 Z\" fill=\"#000000\" fill-rule=\"nonzero\" fill-opacity=\"1\" /><path clip-path=\"url(#clip000)\" d=\"M63.6078 88.3786 Q59.9967 88.3786 58.168 91.9434 Q56.3625 95.4851 56.3625 102.615 Q56.3625 109.721 58.168 113.286 Q59.9967 116.828 63.6078 116.828 Q67.242 116.828 69.0476 113.286 Q70.8763 109.721 70.8763 102.615 Q70.8763 95.4851 69.0476 91.9434 Q67.242 88.3786 63.6078 88.3786 M63.6078 84.6749 Q69.418 84.6749 72.4735 89.2814 Q75.5522 93.8647 75.5522 102.615 Q75.5522 111.341 72.4735 115.948 Q69.418 120.531 63.6078 120.531 Q57.7976 120.531 54.719 115.948 Q51.6634 111.341 51.6634 102.615 Q51.6634 93.8647 54.719 89.2814 Q57.7976 84.6749 63.6078 84.6749 Z\" fill=\"#000000\" fill-rule=\"nonzero\" fill-opacity=\"1\" /><path clip-path=\"url(#clip000)\" d=\"M83.7697 113.98 L88.654 113.98 L88.654 119.86 L83.7697 119.86 L83.7697 113.98 Z\" fill=\"#000000\" fill-rule=\"nonzero\" fill-opacity=\"1\" /><path clip-path=\"url(#clip000)\" d=\"M98.978 119.142 L98.978 114.883 Q100.737 115.716 102.543 116.156 Q104.348 116.596 106.084 116.596 Q110.714 116.596 113.145 113.494 Q115.598 110.369 115.945 104.027 Q114.603 106.017 112.543 107.082 Q110.483 108.147 107.983 108.147 Q102.797 108.147 99.765 105.022 Q96.7558 101.874 96.7558 96.4341 Q96.7558 91.1101 99.9039 87.8925 Q103.052 84.6749 108.283 84.6749 Q114.279 84.6749 117.427 89.2814 Q120.598 93.8647 120.598 102.615 Q120.598 110.786 116.709 115.67 Q112.844 120.531 106.293 120.531 Q104.534 120.531 102.728 120.184 Q100.922 119.837 98.978 119.142 M108.283 104.49 Q111.432 104.49 113.26 102.337 Q115.112 100.184 115.112 96.4341 Q115.112 92.7073 113.26 90.5545 Q111.432 88.3786 108.283 88.3786 Q105.135 88.3786 103.284 90.5545 Q101.455 92.7073 101.455 96.4341 Q101.455 100.184 103.284 102.337 Q105.135 104.49 108.283 104.49 Z\" fill=\"#000000\" fill-rule=\"nonzero\" fill-opacity=\"1\" /><polyline clip-path=\"url(#clip002)\" style=\"stroke:#009af9; stroke-linecap:round; stroke-linejoin:round; stroke-width:4; stroke-opacity:1; fill:none\" points=\"218.754,1113.4 236.256,1064.68 472.51,1438.16 475.663,1184.38 769.845,1284.34 845.292,1323.8 893.421,1239.16 986.407,1045.31 1112.64,1445.72 1138.75,1203.5 1223.7,985.916 1317.76,1145.08 1642.95,982.556 1786.69,700.323 1788.98,842.866 1833.79,789.388 1896.26,742.888 1951.28,712.228 1971.6,576.866 2078.3,650.526 2082.96,606.335 2115.32,472.376 2163.68,443.292 2167.36,472.336 2220.51,492.891 2285.08,232.246 2290.6,87.9763 \"/>\n",
       "<circle clip-path=\"url(#clip002)\" cx=\"218.754\" cy=\"1113.4\" r=\"14.4\" fill=\"#009af9\" fill-rule=\"evenodd\" fill-opacity=\"1\" stroke=\"#000000\" stroke-opacity=\"1\" stroke-width=\"3.2\"/>\n",
       "<circle clip-path=\"url(#clip002)\" cx=\"236.256\" cy=\"1064.68\" r=\"14.4\" fill=\"#009af9\" fill-rule=\"evenodd\" fill-opacity=\"1\" stroke=\"#000000\" stroke-opacity=\"1\" stroke-width=\"3.2\"/>\n",
       "<circle clip-path=\"url(#clip002)\" cx=\"472.51\" cy=\"1438.16\" r=\"14.4\" fill=\"#009af9\" fill-rule=\"evenodd\" fill-opacity=\"1\" stroke=\"#000000\" stroke-opacity=\"1\" stroke-width=\"3.2\"/>\n",
       "<circle clip-path=\"url(#clip002)\" cx=\"475.663\" cy=\"1184.38\" r=\"14.4\" fill=\"#009af9\" fill-rule=\"evenodd\" fill-opacity=\"1\" stroke=\"#000000\" stroke-opacity=\"1\" stroke-width=\"3.2\"/>\n",
       "<circle clip-path=\"url(#clip002)\" cx=\"769.845\" cy=\"1284.34\" r=\"14.4\" fill=\"#009af9\" fill-rule=\"evenodd\" fill-opacity=\"1\" stroke=\"#000000\" stroke-opacity=\"1\" stroke-width=\"3.2\"/>\n",
       "<circle clip-path=\"url(#clip002)\" cx=\"845.292\" cy=\"1323.8\" r=\"14.4\" fill=\"#009af9\" fill-rule=\"evenodd\" fill-opacity=\"1\" stroke=\"#000000\" stroke-opacity=\"1\" stroke-width=\"3.2\"/>\n",
       "<circle clip-path=\"url(#clip002)\" cx=\"893.421\" cy=\"1239.16\" r=\"14.4\" fill=\"#009af9\" fill-rule=\"evenodd\" fill-opacity=\"1\" stroke=\"#000000\" stroke-opacity=\"1\" stroke-width=\"3.2\"/>\n",
       "<circle clip-path=\"url(#clip002)\" cx=\"986.407\" cy=\"1045.31\" r=\"14.4\" fill=\"#009af9\" fill-rule=\"evenodd\" fill-opacity=\"1\" stroke=\"#000000\" stroke-opacity=\"1\" stroke-width=\"3.2\"/>\n",
       "<circle clip-path=\"url(#clip002)\" cx=\"1112.64\" cy=\"1445.72\" r=\"14.4\" fill=\"#009af9\" fill-rule=\"evenodd\" fill-opacity=\"1\" stroke=\"#000000\" stroke-opacity=\"1\" stroke-width=\"3.2\"/>\n",
       "<circle clip-path=\"url(#clip002)\" cx=\"1138.75\" cy=\"1203.5\" r=\"14.4\" fill=\"#009af9\" fill-rule=\"evenodd\" fill-opacity=\"1\" stroke=\"#000000\" stroke-opacity=\"1\" stroke-width=\"3.2\"/>\n",
       "<circle clip-path=\"url(#clip002)\" cx=\"1223.7\" cy=\"985.916\" r=\"14.4\" fill=\"#009af9\" fill-rule=\"evenodd\" fill-opacity=\"1\" stroke=\"#000000\" stroke-opacity=\"1\" stroke-width=\"3.2\"/>\n",
       "<circle clip-path=\"url(#clip002)\" cx=\"1317.76\" cy=\"1145.08\" r=\"14.4\" fill=\"#009af9\" fill-rule=\"evenodd\" fill-opacity=\"1\" stroke=\"#000000\" stroke-opacity=\"1\" stroke-width=\"3.2\"/>\n",
       "<circle clip-path=\"url(#clip002)\" cx=\"1642.95\" cy=\"982.556\" r=\"14.4\" fill=\"#009af9\" fill-rule=\"evenodd\" fill-opacity=\"1\" stroke=\"#000000\" stroke-opacity=\"1\" stroke-width=\"3.2\"/>\n",
       "<circle clip-path=\"url(#clip002)\" cx=\"1786.69\" cy=\"700.323\" r=\"14.4\" fill=\"#009af9\" fill-rule=\"evenodd\" fill-opacity=\"1\" stroke=\"#000000\" stroke-opacity=\"1\" stroke-width=\"3.2\"/>\n",
       "<circle clip-path=\"url(#clip002)\" cx=\"1788.98\" cy=\"842.866\" r=\"14.4\" fill=\"#009af9\" fill-rule=\"evenodd\" fill-opacity=\"1\" stroke=\"#000000\" stroke-opacity=\"1\" stroke-width=\"3.2\"/>\n",
       "<circle clip-path=\"url(#clip002)\" cx=\"1833.79\" cy=\"789.388\" r=\"14.4\" fill=\"#009af9\" fill-rule=\"evenodd\" fill-opacity=\"1\" stroke=\"#000000\" stroke-opacity=\"1\" stroke-width=\"3.2\"/>\n",
       "<circle clip-path=\"url(#clip002)\" cx=\"1896.26\" cy=\"742.888\" r=\"14.4\" fill=\"#009af9\" fill-rule=\"evenodd\" fill-opacity=\"1\" stroke=\"#000000\" stroke-opacity=\"1\" stroke-width=\"3.2\"/>\n",
       "<circle clip-path=\"url(#clip002)\" cx=\"1951.28\" cy=\"712.228\" r=\"14.4\" fill=\"#009af9\" fill-rule=\"evenodd\" fill-opacity=\"1\" stroke=\"#000000\" stroke-opacity=\"1\" stroke-width=\"3.2\"/>\n",
       "<circle clip-path=\"url(#clip002)\" cx=\"1971.6\" cy=\"576.866\" r=\"14.4\" fill=\"#009af9\" fill-rule=\"evenodd\" fill-opacity=\"1\" stroke=\"#000000\" stroke-opacity=\"1\" stroke-width=\"3.2\"/>\n",
       "<circle clip-path=\"url(#clip002)\" cx=\"2078.3\" cy=\"650.526\" r=\"14.4\" fill=\"#009af9\" fill-rule=\"evenodd\" fill-opacity=\"1\" stroke=\"#000000\" stroke-opacity=\"1\" stroke-width=\"3.2\"/>\n",
       "<circle clip-path=\"url(#clip002)\" cx=\"2082.96\" cy=\"606.335\" r=\"14.4\" fill=\"#009af9\" fill-rule=\"evenodd\" fill-opacity=\"1\" stroke=\"#000000\" stroke-opacity=\"1\" stroke-width=\"3.2\"/>\n",
       "<circle clip-path=\"url(#clip002)\" cx=\"2115.32\" cy=\"472.376\" r=\"14.4\" fill=\"#009af9\" fill-rule=\"evenodd\" fill-opacity=\"1\" stroke=\"#000000\" stroke-opacity=\"1\" stroke-width=\"3.2\"/>\n",
       "<circle clip-path=\"url(#clip002)\" cx=\"2163.68\" cy=\"443.292\" r=\"14.4\" fill=\"#009af9\" fill-rule=\"evenodd\" fill-opacity=\"1\" stroke=\"#000000\" stroke-opacity=\"1\" stroke-width=\"3.2\"/>\n",
       "<circle clip-path=\"url(#clip002)\" cx=\"2167.36\" cy=\"472.336\" r=\"14.4\" fill=\"#009af9\" fill-rule=\"evenodd\" fill-opacity=\"1\" stroke=\"#000000\" stroke-opacity=\"1\" stroke-width=\"3.2\"/>\n",
       "<circle clip-path=\"url(#clip002)\" cx=\"2220.51\" cy=\"492.891\" r=\"14.4\" fill=\"#009af9\" fill-rule=\"evenodd\" fill-opacity=\"1\" stroke=\"#000000\" stroke-opacity=\"1\" stroke-width=\"3.2\"/>\n",
       "<circle clip-path=\"url(#clip002)\" cx=\"2285.08\" cy=\"232.246\" r=\"14.4\" fill=\"#009af9\" fill-rule=\"evenodd\" fill-opacity=\"1\" stroke=\"#000000\" stroke-opacity=\"1\" stroke-width=\"3.2\"/>\n",
       "<circle clip-path=\"url(#clip002)\" cx=\"2290.6\" cy=\"87.9763\" r=\"14.4\" fill=\"#009af9\" fill-rule=\"evenodd\" fill-opacity=\"1\" stroke=\"#000000\" stroke-opacity=\"1\" stroke-width=\"3.2\"/>\n",
       "<path clip-path=\"url(#clip000)\" d=\"M229.803 198.898 L560.368 198.898 L560.368 95.2176 L229.803 95.2176  Z\" fill=\"#ffffff\" fill-rule=\"evenodd\" fill-opacity=\"1\"/>\n",
       "<polyline clip-path=\"url(#clip000)\" style=\"stroke:#000000; stroke-linecap:round; stroke-linejoin:round; stroke-width:4; stroke-opacity:1; fill:none\" points=\"229.803,198.898 560.368,198.898 560.368,95.2176 229.803,95.2176 229.803,198.898 \"/>\n",
       "<polyline clip-path=\"url(#clip000)\" style=\"stroke:#009af9; stroke-linecap:round; stroke-linejoin:round; stroke-width:4; stroke-opacity:1; fill:none\" points=\"254.205,147.058 400.616,147.058 \"/>\n",
       "<circle clip-path=\"url(#clip000)\" cx=\"327.41\" cy=\"147.058\" r=\"20.3348\" fill=\"#009af9\" fill-rule=\"evenodd\" fill-opacity=\"1\" stroke=\"#000000\" stroke-opacity=\"1\" stroke-width=\"4.55111\"/>\n",
       "<path clip-path=\"url(#clip000)\" d=\"M465.398 124.274 Q465.398 124.953 465.093 125.093 Q464.812 125.234 463.782 125.234 Q462.025 125.234 461.229 125.468 Q460.456 125.679 460.221 126.054 Q460.011 126.405 459.753 127.436 L453.265 153.341 Q453.265 153.364 453.195 153.692 Q453.124 153.997 453.124 154.161 Q453.124 154.465 453.312 154.652 Q453.523 154.84 454.038 154.934 Q454.553 155.004 454.951 155.027 Q455.373 155.027 456.24 155.027 Q457.317 155.027 457.481 155.215 Q457.575 155.332 457.575 155.543 Q457.575 155.988 457.387 156.222 Q457.223 156.433 457.059 156.479 Q456.919 156.503 456.638 156.503 Q456.146 156.503 455.092 156.456 Q454.038 156.409 453.499 156.409 L450.431 156.362 L444.341 156.503 Q443.685 156.503 443.685 155.964 Q443.685 155.496 443.849 155.285 Q444.013 155.074 444.177 155.051 Q444.364 155.027 444.833 155.027 Q447.245 155.027 448.042 154.793 Q448.862 154.535 449.189 153.435 L452.492 140.201 L437.876 140.201 L434.597 153.341 Q434.597 153.364 434.527 153.692 Q434.457 153.997 434.457 154.161 Q434.457 154.465 434.644 154.652 Q434.855 154.84 435.37 154.934 Q435.886 155.004 436.284 155.027 Q436.705 155.027 437.572 155.027 Q438.649 155.027 438.837 155.215 Q438.93 155.332 438.93 155.543 Q438.93 155.87 438.837 156.105 Q438.766 156.315 438.579 156.386 Q438.415 156.456 438.298 156.479 Q438.181 156.503 437.97 156.503 Q437.478 156.503 436.424 156.456 Q435.394 156.409 434.855 156.409 L431.787 156.362 L425.697 156.503 Q425.018 156.503 425.018 155.964 Q425.018 155.496 425.181 155.308 Q425.345 155.098 425.556 155.074 Q425.767 155.027 426.306 155.027 Q427.477 155.027 428.18 154.957 Q428.882 154.887 429.327 154.793 Q429.796 154.676 430.03 154.348 Q430.288 154.02 430.405 153.739 Q430.522 153.435 430.686 152.755 L437.103 126.991 Q437.291 126.218 437.291 126.101 Q437.291 125.656 437.01 125.538 Q436.752 125.398 436.003 125.328 L434.176 125.234 Q433.614 125.234 433.379 125.21 Q433.169 125.187 433.005 125.07 Q432.841 124.953 432.841 124.695 Q432.841 124.367 432.911 124.156 Q433.005 123.922 433.169 123.852 Q433.332 123.782 433.45 123.758 Q433.567 123.735 433.754 123.735 L439.938 123.875 L446.074 123.735 Q446.754 123.735 446.754 124.274 Q446.754 124.953 446.449 125.093 Q446.145 125.234 445.114 125.234 Q443.404 125.234 442.608 125.468 Q441.811 125.679 441.554 126.054 Q441.32 126.428 441.085 127.436 L438.251 138.702 L452.89 138.702 L455.771 126.991 Q455.959 126.147 455.959 126.101 Q455.959 125.656 455.677 125.538 Q455.42 125.398 454.67 125.328 L452.843 125.234 Q452.281 125.234 452.047 125.21 Q451.836 125.187 451.649 125.07 Q451.485 124.953 451.485 124.695 Q451.485 124.367 451.555 124.156 Q451.649 123.922 451.813 123.852 Q451.977 123.782 452.094 123.758 Q452.211 123.735 452.398 123.735 L458.582 123.875 L464.742 123.735 Q465.398 123.735 465.398 124.274 Z\" fill=\"#000000\" fill-rule=\"nonzero\" fill-opacity=\"1\" /><path clip-path=\"url(#clip000)\" d=\"M497.634 164.89 Q497.634 165.021 497.486 165.529 Q497.339 166.037 496.978 166.824 Q496.634 167.611 496.142 168.333 Q495.666 169.038 494.879 169.562 Q494.109 170.071 493.223 170.071 Q492.043 170.071 491.256 169.284 Q490.469 168.497 490.469 167.316 Q490.469 166.677 490.912 165.463 Q492.994 159.922 492.994 157.938 Q492.994 155.593 491.174 155.593 Q490.141 155.593 489.206 156.019 Q488.272 156.446 487.665 157.036 Q487.059 157.626 486.583 158.298 Q486.108 158.971 485.895 159.413 Q485.698 159.856 485.649 160.053 L483.632 168.152 Q483.468 168.841 483.353 169.169 Q483.238 169.497 482.927 169.775 Q482.615 170.071 482.124 170.071 Q481.714 170.071 481.419 169.825 Q481.14 169.579 481.14 169.152 Q481.14 169.087 481.222 168.743 Q481.304 168.398 481.419 167.923 Q481.533 167.447 481.582 167.169 Q482.173 164.939 482.255 164.627 L483.189 160.725 Q483.698 158.79 483.698 157.938 Q483.698 155.593 481.878 155.593 Q480.976 155.593 480.123 155.937 Q479.287 156.265 478.713 156.724 Q478.139 157.184 477.615 157.823 Q477.106 158.446 476.844 158.872 Q476.598 159.282 476.401 159.692 L475.975 161.364 Q475.877 161.824 475.401 163.611 L474.663 166.644 Q474.139 168.906 474.024 169.12 Q473.86 169.579 473.499 169.825 Q473.139 170.071 472.778 170.071 Q472.368 170.071 472.089 169.825 Q471.811 169.579 471.811 169.152 Q471.811 169.087 471.86 168.841 Q471.909 168.595 471.991 168.251 Q472.073 167.906 472.106 167.71 L474.057 159.954 Q474.418 158.544 474.5 158.102 Q474.598 157.643 474.598 157.134 Q474.598 155.593 473.549 155.593 Q472.696 155.593 472.139 156.61 Q471.581 157.626 471.106 159.594 Q470.958 160.135 470.86 160.25 Q470.778 160.364 470.532 160.364 Q470.122 160.348 470.122 160.02 Q470.122 159.938 470.253 159.413 Q470.384 158.889 470.63 158.102 Q470.892 157.298 471.171 156.774 Q471.335 156.429 471.483 156.2 Q471.63 155.97 471.925 155.61 Q472.221 155.249 472.663 155.052 Q473.106 154.855 473.647 154.855 Q474.844 154.855 475.729 155.626 Q476.631 156.397 476.746 157.774 Q478.926 154.855 481.976 154.855 Q483.698 154.855 484.73 155.724 Q485.698 156.561 485.813 158.102 Q488.075 154.855 491.289 154.855 Q493.141 154.855 494.142 155.823 Q495.142 156.774 495.142 158.446 Q495.142 159.315 494.699 160.971 Q494.256 162.611 493.961 163.43 Q493.666 164.25 493.092 165.824 Q492.486 167.333 492.486 168.218 Q492.486 168.792 492.682 169.054 Q492.879 169.316 493.305 169.316 Q493.961 169.316 494.535 168.939 Q495.109 168.546 495.519 167.906 Q495.945 167.251 496.224 166.595 Q496.503 165.922 496.716 165.168 Q496.847 164.758 496.912 164.66 Q496.994 164.562 497.224 164.562 Q497.634 164.562 497.634 164.89 Z\" fill=\"#000000\" fill-rule=\"nonzero\" fill-opacity=\"1\" /><path clip-path=\"url(#clip000)\" d=\"M507.754 148.707 Q507.754 149.428 507.163 149.969 Q506.59 150.494 505.966 150.494 Q505.393 150.494 505.032 150.15 Q504.688 149.789 504.688 149.281 Q504.688 148.609 505.261 148.051 Q505.835 147.494 506.508 147.494 Q507.065 147.494 507.409 147.838 Q507.754 148.182 507.754 148.707 M508.049 164.89 Q508.049 165.021 507.901 165.545 Q507.754 166.054 507.393 166.841 Q507.049 167.611 506.573 168.333 Q506.098 169.054 505.311 169.562 Q504.54 170.071 503.655 170.071 Q502.458 170.071 501.671 169.284 Q500.9 168.497 500.9 167.316 Q500.9 166.677 501.671 164.627 Q503.901 158.659 503.983 158.413 Q504.36 157.479 504.36 156.659 Q504.36 156.282 504.278 156.052 Q504.196 155.806 504.032 155.724 Q503.868 155.626 503.769 155.61 Q503.687 155.593 503.524 155.593 Q502.556 155.593 501.654 156.577 Q500.753 157.561 500.13 159.758 Q499.998 160.168 499.916 160.266 Q499.834 160.364 499.589 160.364 Q499.179 160.348 499.179 160.02 Q499.179 159.922 499.293 159.545 Q499.408 159.151 499.621 158.561 Q499.834 157.954 500.212 157.331 Q500.589 156.692 501.048 156.134 Q501.523 155.577 502.195 155.216 Q502.868 154.855 503.622 154.855 Q504.852 154.855 505.606 155.659 Q506.376 156.446 506.376 157.61 Q506.376 158.249 505.934 159.381 Q505.393 160.856 505.196 161.332 L503.884 164.857 Q503.409 166.136 503.261 166.529 Q503.13 166.906 503.015 167.365 Q502.917 167.808 502.917 168.218 Q502.917 168.792 503.097 169.054 Q503.294 169.316 503.72 169.316 Q504.901 169.316 505.77 168.152 Q506.639 166.972 507.147 165.168 Q507.163 165.119 507.18 165.037 Q507.311 164.627 507.442 164.578 Q507.508 164.562 507.639 164.562 Q508.049 164.562 508.049 164.89 Z\" fill=\"#000000\" fill-rule=\"nonzero\" fill-opacity=\"1\" /><path clip-path=\"url(#clip000)\" d=\"M529.109 164.89 Q529.109 165.021 528.961 165.529 Q528.814 166.037 528.453 166.824 Q528.109 167.611 527.633 168.333 Q527.158 169.038 526.371 169.562 Q525.6 170.071 524.715 170.071 Q523.534 170.071 522.747 169.284 Q521.96 168.497 521.96 167.316 Q521.96 166.66 522.305 165.759 Q524.485 159.938 524.485 157.938 Q524.485 155.593 522.665 155.593 Q521.764 155.593 520.911 155.937 Q520.075 156.265 519.501 156.724 Q518.927 157.184 518.402 157.823 Q517.894 158.446 517.632 158.872 Q517.386 159.282 517.189 159.692 L516.763 161.364 Q516.664 161.824 516.189 163.611 L515.451 166.644 Q514.927 168.906 514.812 169.12 Q514.648 169.579 514.287 169.825 Q513.926 170.071 513.566 170.071 Q513.156 170.071 512.877 169.825 Q512.598 169.579 512.598 169.152 Q512.598 169.087 512.648 168.841 Q512.697 168.595 512.779 168.251 Q512.861 167.906 512.893 167.71 L514.845 159.954 Q515.205 158.544 515.287 158.102 Q515.386 157.643 515.386 157.134 Q515.386 155.593 514.336 155.593 Q513.484 155.593 512.926 156.61 Q512.369 157.626 511.893 159.594 Q511.746 160.135 511.647 160.25 Q511.565 160.364 511.319 160.364 Q510.91 160.348 510.91 160.02 Q510.91 159.938 511.041 159.397 Q511.172 158.856 511.418 158.085 Q511.68 157.298 511.926 156.774 Q512.139 156.38 512.254 156.2 Q512.385 156.003 512.697 155.626 Q513.025 155.232 513.451 155.052 Q513.894 154.855 514.435 154.855 Q515.648 154.855 516.533 155.642 Q517.419 156.413 517.533 157.774 Q519.714 154.855 522.764 154.855 Q524.567 154.855 525.6 155.806 Q526.633 156.757 526.633 158.446 Q526.633 158.84 526.551 159.348 Q526.486 159.84 526.322 160.463 Q526.174 161.086 526.043 161.561 Q525.912 162.037 525.649 162.807 Q525.387 163.561 525.272 163.889 Q525.157 164.217 524.879 164.988 Q524.616 165.742 524.584 165.824 Q523.977 167.349 523.977 168.218 Q523.977 168.792 524.157 169.054 Q524.354 169.316 524.78 169.316 Q525.928 169.316 526.781 168.185 Q527.65 167.037 528.207 165.168 Q528.338 164.758 528.404 164.66 Q528.486 164.562 528.715 164.562 Q529.109 164.562 529.109 164.89 Z\" fill=\"#000000\" fill-rule=\"nonzero\" fill-opacity=\"1\" /></svg>\n"
      ],
      "text/html": [
       "<?xml version=\"1.0\" encoding=\"utf-8\"?>\n",
       "<svg xmlns=\"http://www.w3.org/2000/svg\" xmlns:xlink=\"http://www.w3.org/1999/xlink\" width=\"600\" height=\"400\" viewBox=\"0 0 2400 1600\">\n",
       "<defs>\n",
       "  <clipPath id=\"clip050\">\n",
       "    <rect x=\"0\" y=\"0\" width=\"2400\" height=\"1600\"/>\n",
       "  </clipPath>\n",
       "</defs>\n",
       "<path clip-path=\"url(#clip050)\" d=\"M0 1600 L2400 1600 L2400 0 L0 0  Z\" fill=\"#ffffff\" fill-rule=\"evenodd\" fill-opacity=\"1\"/>\n",
       "<defs>\n",
       "  <clipPath id=\"clip051\">\n",
       "    <rect x=\"480\" y=\"0\" width=\"1681\" height=\"1600\"/>\n",
       "  </clipPath>\n",
       "</defs>\n",
       "<path clip-path=\"url(#clip050)\" d=\"M156.598 1486.45 L2352.76 1486.45 L2352.76 47.2441 L156.598 47.2441  Z\" fill=\"#ffffff\" fill-rule=\"evenodd\" fill-opacity=\"1\"/>\n",
       "<defs>\n",
       "  <clipPath id=\"clip052\">\n",
       "    <rect x=\"156\" y=\"47\" width=\"2197\" height=\"1440\"/>\n",
       "  </clipPath>\n",
       "</defs>\n",
       "<polyline clip-path=\"url(#clip052)\" style=\"stroke:#000000; stroke-linecap:round; stroke-linejoin:round; stroke-width:2; stroke-opacity:0.1; fill:none\" points=\"248.061,1486.45 248.061,47.2441 \"/>\n",
       "<polyline clip-path=\"url(#clip052)\" style=\"stroke:#000000; stroke-linecap:round; stroke-linejoin:round; stroke-width:2; stroke-opacity:0.1; fill:none\" points=\"679.788,1486.45 679.788,47.2441 \"/>\n",
       "<polyline clip-path=\"url(#clip052)\" style=\"stroke:#000000; stroke-linecap:round; stroke-linejoin:round; stroke-width:2; stroke-opacity:0.1; fill:none\" points=\"1111.51,1486.45 1111.51,47.2441 \"/>\n",
       "<polyline clip-path=\"url(#clip052)\" style=\"stroke:#000000; stroke-linecap:round; stroke-linejoin:round; stroke-width:2; stroke-opacity:0.1; fill:none\" points=\"1543.24,1486.45 1543.24,47.2441 \"/>\n",
       "<polyline clip-path=\"url(#clip052)\" style=\"stroke:#000000; stroke-linecap:round; stroke-linejoin:round; stroke-width:2; stroke-opacity:0.1; fill:none\" points=\"1974.97,1486.45 1974.97,47.2441 \"/>\n",
       "<polyline clip-path=\"url(#clip050)\" style=\"stroke:#000000; stroke-linecap:round; stroke-linejoin:round; stroke-width:4; stroke-opacity:1; fill:none\" points=\"156.598,1486.45 2352.76,1486.45 \"/>\n",
       "<polyline clip-path=\"url(#clip050)\" style=\"stroke:#000000; stroke-linecap:round; stroke-linejoin:round; stroke-width:4; stroke-opacity:1; fill:none\" points=\"248.061,1486.45 248.061,1467.55 \"/>\n",
       "<polyline clip-path=\"url(#clip050)\" style=\"stroke:#000000; stroke-linecap:round; stroke-linejoin:round; stroke-width:4; stroke-opacity:1; fill:none\" points=\"679.788,1486.45 679.788,1467.55 \"/>\n",
       "<polyline clip-path=\"url(#clip050)\" style=\"stroke:#000000; stroke-linecap:round; stroke-linejoin:round; stroke-width:4; stroke-opacity:1; fill:none\" points=\"1111.51,1486.45 1111.51,1467.55 \"/>\n",
       "<polyline clip-path=\"url(#clip050)\" style=\"stroke:#000000; stroke-linecap:round; stroke-linejoin:round; stroke-width:4; stroke-opacity:1; fill:none\" points=\"1543.24,1486.45 1543.24,1467.55 \"/>\n",
       "<polyline clip-path=\"url(#clip050)\" style=\"stroke:#000000; stroke-linecap:round; stroke-linejoin:round; stroke-width:4; stroke-opacity:1; fill:none\" points=\"1974.97,1486.45 1974.97,1467.55 \"/>\n",
       "<path clip-path=\"url(#clip050)\" d=\"M225.897 1517.37 Q222.286 1517.37 220.457 1520.93 Q218.652 1524.47 218.652 1531.6 Q218.652 1538.71 220.457 1542.27 Q222.286 1545.82 225.897 1545.82 Q229.531 1545.82 231.337 1542.27 Q233.165 1538.71 233.165 1531.6 Q233.165 1524.47 231.337 1520.93 Q229.531 1517.37 225.897 1517.37 M225.897 1513.66 Q231.707 1513.66 234.763 1518.27 Q237.841 1522.85 237.841 1531.6 Q237.841 1540.33 234.763 1544.94 Q231.707 1549.52 225.897 1549.52 Q220.087 1549.52 217.008 1544.94 Q213.952 1540.33 213.952 1531.6 Q213.952 1522.85 217.008 1518.27 Q220.087 1513.66 225.897 1513.66 Z\" fill=\"#000000\" fill-rule=\"nonzero\" fill-opacity=\"1\" /><path clip-path=\"url(#clip050)\" d=\"M246.059 1542.97 L250.943 1542.97 L250.943 1548.85 L246.059 1548.85 L246.059 1542.97 Z\" fill=\"#000000\" fill-rule=\"nonzero\" fill-opacity=\"1\" /><path clip-path=\"url(#clip050)\" d=\"M259.948 1514.29 L282.17 1514.29 L282.17 1516.28 L269.623 1548.85 L264.739 1548.85 L276.545 1518.22 L259.948 1518.22 L259.948 1514.29 Z\" fill=\"#000000\" fill-rule=\"nonzero\" fill-opacity=\"1\" /><path clip-path=\"url(#clip050)\" d=\"M657.219 1517.37 Q653.607 1517.37 651.779 1520.93 Q649.973 1524.47 649.973 1531.6 Q649.973 1538.71 651.779 1542.27 Q653.607 1545.82 657.219 1545.82 Q660.853 1545.82 662.658 1542.27 Q664.487 1538.71 664.487 1531.6 Q664.487 1524.47 662.658 1520.93 Q660.853 1517.37 657.219 1517.37 M657.219 1513.66 Q663.029 1513.66 666.084 1518.27 Q669.163 1522.85 669.163 1531.6 Q669.163 1540.33 666.084 1544.94 Q663.029 1549.52 657.219 1549.52 Q651.408 1549.52 648.33 1544.94 Q645.274 1540.33 645.274 1531.6 Q645.274 1522.85 648.33 1518.27 Q651.408 1513.66 657.219 1513.66 Z\" fill=\"#000000\" fill-rule=\"nonzero\" fill-opacity=\"1\" /><path clip-path=\"url(#clip050)\" d=\"M677.381 1542.97 L682.265 1542.97 L682.265 1548.85 L677.381 1548.85 L677.381 1542.97 Z\" fill=\"#000000\" fill-rule=\"nonzero\" fill-opacity=\"1\" /><path clip-path=\"url(#clip050)\" d=\"M702.45 1532.44 Q699.117 1532.44 697.195 1534.22 Q695.297 1536 695.297 1539.13 Q695.297 1542.25 697.195 1544.03 Q699.117 1545.82 702.45 1545.82 Q705.783 1545.82 707.704 1544.03 Q709.626 1542.23 709.626 1539.13 Q709.626 1536 707.704 1534.22 Q705.806 1532.44 702.45 1532.44 M697.774 1530.45 Q694.765 1529.7 693.075 1527.64 Q691.408 1525.58 691.408 1522.62 Q691.408 1518.48 694.348 1516.07 Q697.311 1513.66 702.45 1513.66 Q707.612 1513.66 710.552 1516.07 Q713.491 1518.48 713.491 1522.62 Q713.491 1525.58 711.802 1527.64 Q710.135 1529.7 707.149 1530.45 Q710.528 1531.23 712.403 1533.52 Q714.302 1535.82 714.302 1539.13 Q714.302 1544.15 711.223 1546.83 Q708.167 1549.52 702.45 1549.52 Q696.732 1549.52 693.654 1546.83 Q690.598 1544.15 690.598 1539.13 Q690.598 1535.82 692.496 1533.52 Q694.394 1531.23 697.774 1530.45 M696.061 1523.06 Q696.061 1525.75 697.728 1527.25 Q699.417 1528.76 702.45 1528.76 Q705.459 1528.76 707.149 1527.25 Q708.862 1525.75 708.862 1523.06 Q708.862 1520.38 707.149 1518.87 Q705.459 1517.37 702.45 1517.37 Q699.417 1517.37 697.728 1518.87 Q696.061 1520.38 696.061 1523.06 Z\" fill=\"#000000\" fill-rule=\"nonzero\" fill-opacity=\"1\" /><path clip-path=\"url(#clip050)\" d=\"M1088.99 1517.37 Q1085.38 1517.37 1083.55 1520.93 Q1081.75 1524.47 1081.75 1531.6 Q1081.75 1538.71 1083.55 1542.27 Q1085.38 1545.82 1088.99 1545.82 Q1092.63 1545.82 1094.43 1542.27 Q1096.26 1538.71 1096.26 1531.6 Q1096.26 1524.47 1094.43 1520.93 Q1092.63 1517.37 1088.99 1517.37 M1088.99 1513.66 Q1094.8 1513.66 1097.86 1518.27 Q1100.94 1522.85 1100.94 1531.6 Q1100.94 1540.33 1097.86 1544.94 Q1094.8 1549.52 1088.99 1549.52 Q1083.18 1549.52 1080.1 1544.94 Q1077.05 1540.33 1077.05 1531.6 Q1077.05 1522.85 1080.1 1518.27 Q1083.18 1513.66 1088.99 1513.66 Z\" fill=\"#000000\" fill-rule=\"nonzero\" fill-opacity=\"1\" /><path clip-path=\"url(#clip050)\" d=\"M1109.15 1542.97 L1114.04 1542.97 L1114.04 1548.85 L1109.15 1548.85 L1109.15 1542.97 Z\" fill=\"#000000\" fill-rule=\"nonzero\" fill-opacity=\"1\" /><path clip-path=\"url(#clip050)\" d=\"M1124.36 1548.13 L1124.36 1543.87 Q1126.12 1544.7 1127.93 1545.14 Q1129.73 1545.58 1131.47 1545.58 Q1136.1 1545.58 1138.53 1542.48 Q1140.98 1539.36 1141.33 1533.01 Q1139.99 1535.01 1137.93 1536.07 Q1135.87 1537.13 1133.37 1537.13 Q1128.18 1537.13 1125.15 1534.01 Q1122.14 1530.86 1122.14 1525.42 Q1122.14 1520.1 1125.29 1516.88 Q1128.44 1513.66 1133.67 1513.66 Q1139.66 1513.66 1142.81 1518.27 Q1145.98 1522.85 1145.98 1531.6 Q1145.98 1539.77 1142.09 1544.66 Q1138.23 1549.52 1131.68 1549.52 Q1129.92 1549.52 1128.11 1549.17 Q1126.31 1548.82 1124.36 1548.13 M1133.67 1533.48 Q1136.82 1533.48 1138.64 1531.32 Q1140.5 1529.17 1140.5 1525.42 Q1140.5 1521.7 1138.64 1519.54 Q1136.82 1517.37 1133.67 1517.37 Q1130.52 1517.37 1128.67 1519.54 Q1126.84 1521.7 1126.84 1525.42 Q1126.84 1529.17 1128.67 1531.32 Q1130.52 1533.48 1133.67 1533.48 Z\" fill=\"#000000\" fill-rule=\"nonzero\" fill-opacity=\"1\" /><path clip-path=\"url(#clip050)\" d=\"M1510.39 1544.91 L1518.03 1544.91 L1518.03 1518.55 L1509.72 1520.21 L1509.72 1515.95 L1517.99 1514.29 L1522.66 1514.29 L1522.66 1544.91 L1530.3 1544.91 L1530.3 1548.85 L1510.39 1548.85 L1510.39 1544.91 Z\" fill=\"#000000\" fill-rule=\"nonzero\" fill-opacity=\"1\" /><path clip-path=\"url(#clip050)\" d=\"M1539.75 1542.97 L1544.63 1542.97 L1544.63 1548.85 L1539.75 1548.85 L1539.75 1542.97 Z\" fill=\"#000000\" fill-rule=\"nonzero\" fill-opacity=\"1\" /><path clip-path=\"url(#clip050)\" d=\"M1564.82 1517.37 Q1561.2 1517.37 1559.38 1520.93 Q1557.57 1524.47 1557.57 1531.6 Q1557.57 1538.71 1559.38 1542.27 Q1561.2 1545.82 1564.82 1545.82 Q1568.45 1545.82 1570.26 1542.27 Q1572.08 1538.71 1572.08 1531.6 Q1572.08 1524.47 1570.26 1520.93 Q1568.45 1517.37 1564.82 1517.37 M1564.82 1513.66 Q1570.63 1513.66 1573.68 1518.27 Q1576.76 1522.85 1576.76 1531.6 Q1576.76 1540.33 1573.68 1544.94 Q1570.63 1549.52 1564.82 1549.52 Q1559.01 1549.52 1555.93 1544.94 Q1552.87 1540.33 1552.87 1531.6 Q1552.87 1522.85 1555.93 1518.27 Q1559.01 1513.66 1564.82 1513.66 Z\" fill=\"#000000\" fill-rule=\"nonzero\" fill-opacity=\"1\" /><path clip-path=\"url(#clip050)\" d=\"M1942.73 1544.91 L1950.37 1544.91 L1950.37 1518.55 L1942.06 1520.21 L1942.06 1515.95 L1950.33 1514.29 L1955 1514.29 L1955 1544.91 L1962.64 1544.91 L1962.64 1548.85 L1942.73 1548.85 L1942.73 1544.91 Z\" fill=\"#000000\" fill-rule=\"nonzero\" fill-opacity=\"1\" /><path clip-path=\"url(#clip050)\" d=\"M1972.09 1542.97 L1976.97 1542.97 L1976.97 1548.85 L1972.09 1548.85 L1972.09 1542.97 Z\" fill=\"#000000\" fill-rule=\"nonzero\" fill-opacity=\"1\" /><path clip-path=\"url(#clip050)\" d=\"M1987.97 1544.91 L1995.6 1544.91 L1995.6 1518.55 L1987.29 1520.21 L1987.29 1515.95 L1995.56 1514.29 L2000.23 1514.29 L2000.23 1544.91 L2007.87 1544.91 L2007.87 1548.85 L1987.97 1548.85 L1987.97 1544.91 Z\" fill=\"#000000\" fill-rule=\"nonzero\" fill-opacity=\"1\" /><polyline clip-path=\"url(#clip052)\" style=\"stroke:#000000; stroke-linecap:round; stroke-linejoin:round; stroke-width:2; stroke-opacity:0.1; fill:none\" points=\"156.598,1450.03 2352.76,1450.03 \"/>\n",
       "<polyline clip-path=\"url(#clip052)\" style=\"stroke:#000000; stroke-linecap:round; stroke-linejoin:round; stroke-width:2; stroke-opacity:0.1; fill:none\" points=\"156.598,1225.45 2352.76,1225.45 \"/>\n",
       "<polyline clip-path=\"url(#clip052)\" style=\"stroke:#000000; stroke-linecap:round; stroke-linejoin:round; stroke-width:2; stroke-opacity:0.1; fill:none\" points=\"156.598,1000.88 2352.76,1000.88 \"/>\n",
       "<polyline clip-path=\"url(#clip052)\" style=\"stroke:#000000; stroke-linecap:round; stroke-linejoin:round; stroke-width:2; stroke-opacity:0.1; fill:none\" points=\"156.598,776.303 2352.76,776.303 \"/>\n",
       "<polyline clip-path=\"url(#clip052)\" style=\"stroke:#000000; stroke-linecap:round; stroke-linejoin:round; stroke-width:2; stroke-opacity:0.1; fill:none\" points=\"156.598,551.728 2352.76,551.728 \"/>\n",
       "<polyline clip-path=\"url(#clip052)\" style=\"stroke:#000000; stroke-linecap:round; stroke-linejoin:round; stroke-width:2; stroke-opacity:0.1; fill:none\" points=\"156.598,327.154 2352.76,327.154 \"/>\n",
       "<polyline clip-path=\"url(#clip052)\" style=\"stroke:#000000; stroke-linecap:round; stroke-linejoin:round; stroke-width:2; stroke-opacity:0.1; fill:none\" points=\"156.598,102.58 2352.76,102.58 \"/>\n",
       "<polyline clip-path=\"url(#clip050)\" style=\"stroke:#000000; stroke-linecap:round; stroke-linejoin:round; stroke-width:4; stroke-opacity:1; fill:none\" points=\"156.598,1486.45 156.598,47.2441 \"/>\n",
       "<polyline clip-path=\"url(#clip050)\" style=\"stroke:#000000; stroke-linecap:round; stroke-linejoin:round; stroke-width:4; stroke-opacity:1; fill:none\" points=\"156.598,1450.03 175.496,1450.03 \"/>\n",
       "<polyline clip-path=\"url(#clip050)\" style=\"stroke:#000000; stroke-linecap:round; stroke-linejoin:round; stroke-width:4; stroke-opacity:1; fill:none\" points=\"156.598,1225.45 175.496,1225.45 \"/>\n",
       "<polyline clip-path=\"url(#clip050)\" style=\"stroke:#000000; stroke-linecap:round; stroke-linejoin:round; stroke-width:4; stroke-opacity:1; fill:none\" points=\"156.598,1000.88 175.496,1000.88 \"/>\n",
       "<polyline clip-path=\"url(#clip050)\" style=\"stroke:#000000; stroke-linecap:round; stroke-linejoin:round; stroke-width:4; stroke-opacity:1; fill:none\" points=\"156.598,776.303 175.496,776.303 \"/>\n",
       "<polyline clip-path=\"url(#clip050)\" style=\"stroke:#000000; stroke-linecap:round; stroke-linejoin:round; stroke-width:4; stroke-opacity:1; fill:none\" points=\"156.598,551.728 175.496,551.728 \"/>\n",
       "<polyline clip-path=\"url(#clip050)\" style=\"stroke:#000000; stroke-linecap:round; stroke-linejoin:round; stroke-width:4; stroke-opacity:1; fill:none\" points=\"156.598,327.154 175.496,327.154 \"/>\n",
       "<polyline clip-path=\"url(#clip050)\" style=\"stroke:#000000; stroke-linecap:round; stroke-linejoin:round; stroke-width:4; stroke-opacity:1; fill:none\" points=\"156.598,102.58 175.496,102.58 \"/>\n",
       "<path clip-path=\"url(#clip050)\" d=\"M64.0708 1435.82 Q60.4597 1435.82 58.631 1439.39 Q56.8254 1442.93 56.8254 1450.06 Q56.8254 1457.17 58.631 1460.73 Q60.4597 1464.27 64.0708 1464.27 Q67.705 1464.27 69.5105 1460.73 Q71.3392 1457.17 71.3392 1450.06 Q71.3392 1442.93 69.5105 1439.39 Q67.705 1435.82 64.0708 1435.82 M64.0708 1432.12 Q69.8809 1432.12 72.9365 1436.73 Q76.0151 1441.31 76.0151 1450.06 Q76.0151 1458.79 72.9365 1463.39 Q69.8809 1467.98 64.0708 1467.98 Q58.2606 1467.98 55.1819 1463.39 Q52.1264 1458.79 52.1264 1450.06 Q52.1264 1441.31 55.1819 1436.73 Q58.2606 1432.12 64.0708 1432.12 Z\" fill=\"#000000\" fill-rule=\"nonzero\" fill-opacity=\"1\" /><path clip-path=\"url(#clip050)\" d=\"M84.2327 1461.43 L89.1169 1461.43 L89.1169 1467.31 L84.2327 1467.31 L84.2327 1461.43 Z\" fill=\"#000000\" fill-rule=\"nonzero\" fill-opacity=\"1\" /><path clip-path=\"url(#clip050)\" d=\"M113.469 1448.67 Q116.825 1449.39 118.7 1451.66 Q120.598 1453.93 120.598 1457.26 Q120.598 1462.37 117.08 1465.18 Q113.561 1467.98 107.08 1467.98 Q104.904 1467.98 102.589 1467.54 Q100.297 1467.12 97.8437 1466.26 L97.8437 1461.75 Q99.7882 1462.88 102.103 1463.46 Q104.418 1464.04 106.941 1464.04 Q111.339 1464.04 113.631 1462.31 Q115.945 1460.57 115.945 1457.26 Q115.945 1454.2 113.793 1452.49 Q111.663 1450.75 107.844 1450.75 L103.816 1450.75 L103.816 1446.91 L108.029 1446.91 Q111.478 1446.91 113.307 1445.55 Q115.135 1444.16 115.135 1441.56 Q115.135 1438.9 113.237 1437.49 Q111.362 1436.06 107.844 1436.06 Q105.922 1436.06 103.723 1436.47 Q101.524 1436.89 98.8854 1437.77 L98.8854 1433.6 Q101.547 1432.86 103.862 1432.49 Q106.2 1432.12 108.26 1432.12 Q113.584 1432.12 116.686 1434.55 Q119.788 1436.96 119.788 1441.08 Q119.788 1443.95 118.145 1445.94 Q116.501 1447.91 113.469 1448.67 Z\" fill=\"#000000\" fill-rule=\"nonzero\" fill-opacity=\"1\" /><path clip-path=\"url(#clip050)\" d=\"M62.9365 1211.25 Q59.3254 1211.25 57.4967 1214.81 Q55.6912 1218.36 55.6912 1225.49 Q55.6912 1232.59 57.4967 1236.16 Q59.3254 1239.7 62.9365 1239.7 Q66.5707 1239.7 68.3763 1236.16 Q70.205 1232.59 70.205 1225.49 Q70.205 1218.36 68.3763 1214.81 Q66.5707 1211.25 62.9365 1211.25 M62.9365 1207.55 Q68.7467 1207.55 71.8022 1212.15 Q74.8809 1216.74 74.8809 1225.49 Q74.8809 1234.21 71.8022 1238.82 Q68.7467 1243.4 62.9365 1243.4 Q57.1264 1243.4 54.0477 1238.82 Q50.9921 1234.21 50.9921 1225.49 Q50.9921 1216.74 54.0477 1212.15 Q57.1264 1207.55 62.9365 1207.55 Z\" fill=\"#000000\" fill-rule=\"nonzero\" fill-opacity=\"1\" /><path clip-path=\"url(#clip050)\" d=\"M83.0984 1236.85 L87.9827 1236.85 L87.9827 1242.73 L83.0984 1242.73 L83.0984 1236.85 Z\" fill=\"#000000\" fill-rule=\"nonzero\" fill-opacity=\"1\" /><path clip-path=\"url(#clip050)\" d=\"M111.015 1212.25 L99.2095 1230.69 L111.015 1230.69 L111.015 1212.25 M109.788 1208.17 L115.668 1208.17 L115.668 1230.69 L120.598 1230.69 L120.598 1234.58 L115.668 1234.58 L115.668 1242.73 L111.015 1242.73 L111.015 1234.58 L95.4132 1234.58 L95.4132 1230.07 L109.788 1208.17 Z\" fill=\"#000000\" fill-rule=\"nonzero\" fill-opacity=\"1\" /><path clip-path=\"url(#clip050)\" d=\"M64.418 986.675 Q60.8069 986.675 58.9782 990.24 Q57.1726 993.782 57.1726 1000.91 Q57.1726 1008.02 58.9782 1011.58 Q60.8069 1015.12 64.418 1015.12 Q68.0522 1015.12 69.8578 1011.58 Q71.6865 1008.02 71.6865 1000.91 Q71.6865 993.782 69.8578 990.24 Q68.0522 986.675 64.418 986.675 M64.418 982.972 Q70.2281 982.972 73.2837 987.578 Q76.3624 992.162 76.3624 1000.91 Q76.3624 1009.64 73.2837 1014.24 Q70.2281 1018.83 64.418 1018.83 Q58.6078 1018.83 55.5291 1014.24 Q52.4736 1009.64 52.4736 1000.91 Q52.4736 992.162 55.5291 987.578 Q58.6078 982.972 64.418 982.972 Z\" fill=\"#000000\" fill-rule=\"nonzero\" fill-opacity=\"1\" /><path clip-path=\"url(#clip050)\" d=\"M84.5799 1012.28 L89.4641 1012.28 L89.4641 1018.16 L84.5799 1018.16 L84.5799 1012.28 Z\" fill=\"#000000\" fill-rule=\"nonzero\" fill-opacity=\"1\" /><path clip-path=\"url(#clip050)\" d=\"M99.6956 983.597 L118.052 983.597 L118.052 987.532 L103.978 987.532 L103.978 996.004 Q104.996 995.657 106.015 995.495 Q107.033 995.31 108.052 995.31 Q113.839 995.31 117.219 998.481 Q120.598 1001.65 120.598 1007.07 Q120.598 1012.65 117.126 1015.75 Q113.654 1018.83 107.334 1018.83 Q105.159 1018.83 102.89 1018.46 Q100.645 1018.09 98.2372 1017.35 L98.2372 1012.65 Q100.321 1013.78 102.543 1014.34 Q104.765 1014.89 107.242 1014.89 Q111.246 1014.89 113.584 1012.79 Q115.922 1010.68 115.922 1007.07 Q115.922 1003.46 113.584 1001.35 Q111.246 999.245 107.242 999.245 Q105.367 999.245 103.492 999.662 Q101.64 1000.08 99.6956 1000.96 L99.6956 983.597 Z\" fill=\"#000000\" fill-rule=\"nonzero\" fill-opacity=\"1\" /><path clip-path=\"url(#clip050)\" d=\"M63.2606 762.101 Q59.6495 762.101 57.8208 765.666 Q56.0152 769.208 56.0152 776.337 Q56.0152 783.444 57.8208 787.009 Q59.6495 790.55 63.2606 790.55 Q66.8948 790.55 68.7004 787.009 Q70.5291 783.444 70.5291 776.337 Q70.5291 769.208 68.7004 765.666 Q66.8948 762.101 63.2606 762.101 M63.2606 758.398 Q69.0707 758.398 72.1263 763.004 Q75.205 767.587 75.205 776.337 Q75.205 785.064 72.1263 789.671 Q69.0707 794.254 63.2606 794.254 Q57.4504 794.254 54.3717 789.671 Q51.3162 785.064 51.3162 776.337 Q51.3162 767.587 54.3717 763.004 Q57.4504 758.398 63.2606 758.398 Z\" fill=\"#000000\" fill-rule=\"nonzero\" fill-opacity=\"1\" /><path clip-path=\"url(#clip050)\" d=\"M83.4225 787.703 L88.3067 787.703 L88.3067 793.583 L83.4225 793.583 L83.4225 787.703 Z\" fill=\"#000000\" fill-rule=\"nonzero\" fill-opacity=\"1\" /><path clip-path=\"url(#clip050)\" d=\"M109.071 774.439 Q105.922 774.439 104.071 776.592 Q102.242 778.745 102.242 782.495 Q102.242 786.221 104.071 788.397 Q105.922 790.55 109.071 790.55 Q112.219 790.55 114.047 788.397 Q115.899 786.221 115.899 782.495 Q115.899 778.745 114.047 776.592 Q112.219 774.439 109.071 774.439 M118.353 759.786 L118.353 764.046 Q116.594 763.212 114.788 762.773 Q113.006 762.333 111.246 762.333 Q106.617 762.333 104.163 765.458 Q101.733 768.583 101.385 774.902 Q102.751 772.888 104.811 771.823 Q106.871 770.735 109.348 770.735 Q114.557 770.735 117.566 773.907 Q120.598 777.055 120.598 782.495 Q120.598 787.819 117.45 791.036 Q114.302 794.254 109.071 794.254 Q103.075 794.254 99.9039 789.671 Q96.7326 785.064 96.7326 776.337 Q96.7326 768.143 100.621 763.282 Q104.51 758.398 111.061 758.398 Q112.82 758.398 114.603 758.745 Q116.408 759.092 118.353 759.786 Z\" fill=\"#000000\" fill-rule=\"nonzero\" fill-opacity=\"1\" /><path clip-path=\"url(#clip050)\" d=\"M64.3254 537.527 Q60.7143 537.527 58.8856 541.092 Q57.0801 544.633 57.0801 551.763 Q57.0801 558.87 58.8856 562.434 Q60.7143 565.976 64.3254 565.976 Q67.9596 565.976 69.7652 562.434 Q71.5939 558.87 71.5939 551.763 Q71.5939 544.633 69.7652 541.092 Q67.9596 537.527 64.3254 537.527 M64.3254 533.823 Q70.1355 533.823 73.1911 538.43 Q76.2698 543.013 76.2698 551.763 Q76.2698 560.49 73.1911 565.096 Q70.1355 569.68 64.3254 569.68 Q58.5152 569.68 55.4365 565.096 Q52.381 560.49 52.381 551.763 Q52.381 543.013 55.4365 538.43 Q58.5152 533.823 64.3254 533.823 Z\" fill=\"#000000\" fill-rule=\"nonzero\" fill-opacity=\"1\" /><path clip-path=\"url(#clip050)\" d=\"M84.4873 563.129 L89.3715 563.129 L89.3715 569.008 L84.4873 569.008 L84.4873 563.129 Z\" fill=\"#000000\" fill-rule=\"nonzero\" fill-opacity=\"1\" /><path clip-path=\"url(#clip050)\" d=\"M98.3761 534.448 L120.598 534.448 L120.598 536.439 L108.052 569.008 L103.168 569.008 L114.973 538.384 L98.3761 538.384 L98.3761 534.448 Z\" fill=\"#000000\" fill-rule=\"nonzero\" fill-opacity=\"1\" /><path clip-path=\"url(#clip050)\" d=\"M63.5152 312.953 Q59.9041 312.953 58.0754 316.518 Q56.2699 320.059 56.2699 327.189 Q56.2699 334.295 58.0754 337.86 Q59.9041 341.402 63.5152 341.402 Q67.1494 341.402 68.955 337.86 Q70.7837 334.295 70.7837 327.189 Q70.7837 320.059 68.955 316.518 Q67.1494 312.953 63.5152 312.953 M63.5152 309.249 Q69.3254 309.249 72.3809 313.856 Q75.4596 318.439 75.4596 327.189 Q75.4596 335.916 72.3809 340.522 Q69.3254 345.105 63.5152 345.105 Q57.7051 345.105 54.6264 340.522 Q51.5708 335.916 51.5708 327.189 Q51.5708 318.439 54.6264 313.856 Q57.7051 309.249 63.5152 309.249 Z\" fill=\"#000000\" fill-rule=\"nonzero\" fill-opacity=\"1\" /><path clip-path=\"url(#clip050)\" d=\"M83.6771 338.555 L88.5614 338.555 L88.5614 344.434 L83.6771 344.434 L83.6771 338.555 Z\" fill=\"#000000\" fill-rule=\"nonzero\" fill-opacity=\"1\" /><path clip-path=\"url(#clip050)\" d=\"M108.746 328.022 Q105.413 328.022 103.492 329.805 Q101.594 331.587 101.594 334.712 Q101.594 337.837 103.492 339.619 Q105.413 341.402 108.746 341.402 Q112.08 341.402 114.001 339.619 Q115.922 337.814 115.922 334.712 Q115.922 331.587 114.001 329.805 Q112.103 328.022 108.746 328.022 M104.071 326.031 Q101.061 325.291 99.3715 323.231 Q97.7048 321.17 97.7048 318.207 Q97.7048 314.064 100.645 311.657 Q103.608 309.249 108.746 309.249 Q113.908 309.249 116.848 311.657 Q119.788 314.064 119.788 318.207 Q119.788 321.17 118.098 323.231 Q116.432 325.291 113.445 326.031 Q116.825 326.818 118.7 329.11 Q120.598 331.402 120.598 334.712 Q120.598 339.735 117.52 342.42 Q114.464 345.105 108.746 345.105 Q103.029 345.105 99.9502 342.42 Q96.8947 339.735 96.8947 334.712 Q96.8947 331.402 98.7928 329.11 Q100.691 326.818 104.071 326.031 M102.358 318.647 Q102.358 321.332 104.024 322.837 Q105.714 324.342 108.746 324.342 Q111.756 324.342 113.445 322.837 Q115.158 321.332 115.158 318.647 Q115.158 315.962 113.445 314.457 Q111.756 312.953 108.746 312.953 Q105.714 312.953 104.024 314.457 Q102.358 315.962 102.358 318.647 Z\" fill=\"#000000\" fill-rule=\"nonzero\" fill-opacity=\"1\" /><path clip-path=\"url(#clip050)\" d=\"M63.6078 88.3786 Q59.9967 88.3786 58.168 91.9434 Q56.3625 95.4851 56.3625 102.615 Q56.3625 109.721 58.168 113.286 Q59.9967 116.828 63.6078 116.828 Q67.242 116.828 69.0476 113.286 Q70.8763 109.721 70.8763 102.615 Q70.8763 95.4851 69.0476 91.9434 Q67.242 88.3786 63.6078 88.3786 M63.6078 84.6749 Q69.418 84.6749 72.4735 89.2814 Q75.5522 93.8647 75.5522 102.615 Q75.5522 111.341 72.4735 115.948 Q69.418 120.531 63.6078 120.531 Q57.7976 120.531 54.719 115.948 Q51.6634 111.341 51.6634 102.615 Q51.6634 93.8647 54.719 89.2814 Q57.7976 84.6749 63.6078 84.6749 Z\" fill=\"#000000\" fill-rule=\"nonzero\" fill-opacity=\"1\" /><path clip-path=\"url(#clip050)\" d=\"M83.7697 113.98 L88.654 113.98 L88.654 119.86 L83.7697 119.86 L83.7697 113.98 Z\" fill=\"#000000\" fill-rule=\"nonzero\" fill-opacity=\"1\" /><path clip-path=\"url(#clip050)\" d=\"M98.978 119.142 L98.978 114.883 Q100.737 115.716 102.543 116.156 Q104.348 116.596 106.084 116.596 Q110.714 116.596 113.145 113.494 Q115.598 110.369 115.945 104.027 Q114.603 106.017 112.543 107.082 Q110.483 108.147 107.983 108.147 Q102.797 108.147 99.765 105.022 Q96.7558 101.874 96.7558 96.4341 Q96.7558 91.1101 99.9039 87.8925 Q103.052 84.6749 108.283 84.6749 Q114.279 84.6749 117.427 89.2814 Q120.598 93.8647 120.598 102.615 Q120.598 110.786 116.709 115.67 Q112.844 120.531 106.293 120.531 Q104.534 120.531 102.728 120.184 Q100.922 119.837 98.978 119.142 M108.283 104.49 Q111.432 104.49 113.26 102.337 Q115.112 100.184 115.112 96.4341 Q115.112 92.7073 113.26 90.5545 Q111.432 88.3786 108.283 88.3786 Q105.135 88.3786 103.284 90.5545 Q101.455 92.7073 101.455 96.4341 Q101.455 100.184 103.284 102.337 Q105.135 104.49 108.283 104.49 Z\" fill=\"#000000\" fill-rule=\"nonzero\" fill-opacity=\"1\" /><polyline clip-path=\"url(#clip052)\" style=\"stroke:#009af9; stroke-linecap:round; stroke-linejoin:round; stroke-width:4; stroke-opacity:1; fill:none\" points=\"218.754,1113.4 236.256,1064.68 472.51,1438.16 475.663,1184.38 769.845,1284.34 845.292,1323.8 893.421,1239.16 986.407,1045.31 1112.64,1445.72 1138.75,1203.5 1223.7,985.916 1317.76,1145.08 1642.95,982.556 1786.69,700.323 1788.98,842.866 1833.79,789.388 1896.26,742.888 1951.28,712.228 1971.6,576.866 2078.3,650.526 2082.96,606.335 2115.32,472.376 2163.68,443.292 2167.36,472.336 2220.51,492.891 2285.08,232.246 2290.6,87.9763 \"/>\n",
       "<circle clip-path=\"url(#clip052)\" cx=\"218.754\" cy=\"1113.4\" r=\"14.4\" fill=\"#009af9\" fill-rule=\"evenodd\" fill-opacity=\"1\" stroke=\"#000000\" stroke-opacity=\"1\" stroke-width=\"3.2\"/>\n",
       "<circle clip-path=\"url(#clip052)\" cx=\"236.256\" cy=\"1064.68\" r=\"14.4\" fill=\"#009af9\" fill-rule=\"evenodd\" fill-opacity=\"1\" stroke=\"#000000\" stroke-opacity=\"1\" stroke-width=\"3.2\"/>\n",
       "<circle clip-path=\"url(#clip052)\" cx=\"472.51\" cy=\"1438.16\" r=\"14.4\" fill=\"#009af9\" fill-rule=\"evenodd\" fill-opacity=\"1\" stroke=\"#000000\" stroke-opacity=\"1\" stroke-width=\"3.2\"/>\n",
       "<circle clip-path=\"url(#clip052)\" cx=\"475.663\" cy=\"1184.38\" r=\"14.4\" fill=\"#009af9\" fill-rule=\"evenodd\" fill-opacity=\"1\" stroke=\"#000000\" stroke-opacity=\"1\" stroke-width=\"3.2\"/>\n",
       "<circle clip-path=\"url(#clip052)\" cx=\"769.845\" cy=\"1284.34\" r=\"14.4\" fill=\"#009af9\" fill-rule=\"evenodd\" fill-opacity=\"1\" stroke=\"#000000\" stroke-opacity=\"1\" stroke-width=\"3.2\"/>\n",
       "<circle clip-path=\"url(#clip052)\" cx=\"845.292\" cy=\"1323.8\" r=\"14.4\" fill=\"#009af9\" fill-rule=\"evenodd\" fill-opacity=\"1\" stroke=\"#000000\" stroke-opacity=\"1\" stroke-width=\"3.2\"/>\n",
       "<circle clip-path=\"url(#clip052)\" cx=\"893.421\" cy=\"1239.16\" r=\"14.4\" fill=\"#009af9\" fill-rule=\"evenodd\" fill-opacity=\"1\" stroke=\"#000000\" stroke-opacity=\"1\" stroke-width=\"3.2\"/>\n",
       "<circle clip-path=\"url(#clip052)\" cx=\"986.407\" cy=\"1045.31\" r=\"14.4\" fill=\"#009af9\" fill-rule=\"evenodd\" fill-opacity=\"1\" stroke=\"#000000\" stroke-opacity=\"1\" stroke-width=\"3.2\"/>\n",
       "<circle clip-path=\"url(#clip052)\" cx=\"1112.64\" cy=\"1445.72\" r=\"14.4\" fill=\"#009af9\" fill-rule=\"evenodd\" fill-opacity=\"1\" stroke=\"#000000\" stroke-opacity=\"1\" stroke-width=\"3.2\"/>\n",
       "<circle clip-path=\"url(#clip052)\" cx=\"1138.75\" cy=\"1203.5\" r=\"14.4\" fill=\"#009af9\" fill-rule=\"evenodd\" fill-opacity=\"1\" stroke=\"#000000\" stroke-opacity=\"1\" stroke-width=\"3.2\"/>\n",
       "<circle clip-path=\"url(#clip052)\" cx=\"1223.7\" cy=\"985.916\" r=\"14.4\" fill=\"#009af9\" fill-rule=\"evenodd\" fill-opacity=\"1\" stroke=\"#000000\" stroke-opacity=\"1\" stroke-width=\"3.2\"/>\n",
       "<circle clip-path=\"url(#clip052)\" cx=\"1317.76\" cy=\"1145.08\" r=\"14.4\" fill=\"#009af9\" fill-rule=\"evenodd\" fill-opacity=\"1\" stroke=\"#000000\" stroke-opacity=\"1\" stroke-width=\"3.2\"/>\n",
       "<circle clip-path=\"url(#clip052)\" cx=\"1642.95\" cy=\"982.556\" r=\"14.4\" fill=\"#009af9\" fill-rule=\"evenodd\" fill-opacity=\"1\" stroke=\"#000000\" stroke-opacity=\"1\" stroke-width=\"3.2\"/>\n",
       "<circle clip-path=\"url(#clip052)\" cx=\"1786.69\" cy=\"700.323\" r=\"14.4\" fill=\"#009af9\" fill-rule=\"evenodd\" fill-opacity=\"1\" stroke=\"#000000\" stroke-opacity=\"1\" stroke-width=\"3.2\"/>\n",
       "<circle clip-path=\"url(#clip052)\" cx=\"1788.98\" cy=\"842.866\" r=\"14.4\" fill=\"#009af9\" fill-rule=\"evenodd\" fill-opacity=\"1\" stroke=\"#000000\" stroke-opacity=\"1\" stroke-width=\"3.2\"/>\n",
       "<circle clip-path=\"url(#clip052)\" cx=\"1833.79\" cy=\"789.388\" r=\"14.4\" fill=\"#009af9\" fill-rule=\"evenodd\" fill-opacity=\"1\" stroke=\"#000000\" stroke-opacity=\"1\" stroke-width=\"3.2\"/>\n",
       "<circle clip-path=\"url(#clip052)\" cx=\"1896.26\" cy=\"742.888\" r=\"14.4\" fill=\"#009af9\" fill-rule=\"evenodd\" fill-opacity=\"1\" stroke=\"#000000\" stroke-opacity=\"1\" stroke-width=\"3.2\"/>\n",
       "<circle clip-path=\"url(#clip052)\" cx=\"1951.28\" cy=\"712.228\" r=\"14.4\" fill=\"#009af9\" fill-rule=\"evenodd\" fill-opacity=\"1\" stroke=\"#000000\" stroke-opacity=\"1\" stroke-width=\"3.2\"/>\n",
       "<circle clip-path=\"url(#clip052)\" cx=\"1971.6\" cy=\"576.866\" r=\"14.4\" fill=\"#009af9\" fill-rule=\"evenodd\" fill-opacity=\"1\" stroke=\"#000000\" stroke-opacity=\"1\" stroke-width=\"3.2\"/>\n",
       "<circle clip-path=\"url(#clip052)\" cx=\"2078.3\" cy=\"650.526\" r=\"14.4\" fill=\"#009af9\" fill-rule=\"evenodd\" fill-opacity=\"1\" stroke=\"#000000\" stroke-opacity=\"1\" stroke-width=\"3.2\"/>\n",
       "<circle clip-path=\"url(#clip052)\" cx=\"2082.96\" cy=\"606.335\" r=\"14.4\" fill=\"#009af9\" fill-rule=\"evenodd\" fill-opacity=\"1\" stroke=\"#000000\" stroke-opacity=\"1\" stroke-width=\"3.2\"/>\n",
       "<circle clip-path=\"url(#clip052)\" cx=\"2115.32\" cy=\"472.376\" r=\"14.4\" fill=\"#009af9\" fill-rule=\"evenodd\" fill-opacity=\"1\" stroke=\"#000000\" stroke-opacity=\"1\" stroke-width=\"3.2\"/>\n",
       "<circle clip-path=\"url(#clip052)\" cx=\"2163.68\" cy=\"443.292\" r=\"14.4\" fill=\"#009af9\" fill-rule=\"evenodd\" fill-opacity=\"1\" stroke=\"#000000\" stroke-opacity=\"1\" stroke-width=\"3.2\"/>\n",
       "<circle clip-path=\"url(#clip052)\" cx=\"2167.36\" cy=\"472.336\" r=\"14.4\" fill=\"#009af9\" fill-rule=\"evenodd\" fill-opacity=\"1\" stroke=\"#000000\" stroke-opacity=\"1\" stroke-width=\"3.2\"/>\n",
       "<circle clip-path=\"url(#clip052)\" cx=\"2220.51\" cy=\"492.891\" r=\"14.4\" fill=\"#009af9\" fill-rule=\"evenodd\" fill-opacity=\"1\" stroke=\"#000000\" stroke-opacity=\"1\" stroke-width=\"3.2\"/>\n",
       "<circle clip-path=\"url(#clip052)\" cx=\"2285.08\" cy=\"232.246\" r=\"14.4\" fill=\"#009af9\" fill-rule=\"evenodd\" fill-opacity=\"1\" stroke=\"#000000\" stroke-opacity=\"1\" stroke-width=\"3.2\"/>\n",
       "<circle clip-path=\"url(#clip052)\" cx=\"2290.6\" cy=\"87.9763\" r=\"14.4\" fill=\"#009af9\" fill-rule=\"evenodd\" fill-opacity=\"1\" stroke=\"#000000\" stroke-opacity=\"1\" stroke-width=\"3.2\"/>\n",
       "<path clip-path=\"url(#clip050)\" d=\"M229.803 198.898 L560.368 198.898 L560.368 95.2176 L229.803 95.2176  Z\" fill=\"#ffffff\" fill-rule=\"evenodd\" fill-opacity=\"1\"/>\n",
       "<polyline clip-path=\"url(#clip050)\" style=\"stroke:#000000; stroke-linecap:round; stroke-linejoin:round; stroke-width:4; stroke-opacity:1; fill:none\" points=\"229.803,198.898 560.368,198.898 560.368,95.2176 229.803,95.2176 229.803,198.898 \"/>\n",
       "<polyline clip-path=\"url(#clip050)\" style=\"stroke:#009af9; stroke-linecap:round; stroke-linejoin:round; stroke-width:4; stroke-opacity:1; fill:none\" points=\"254.205,147.058 400.616,147.058 \"/>\n",
       "<circle clip-path=\"url(#clip050)\" cx=\"327.41\" cy=\"147.058\" r=\"20.3348\" fill=\"#009af9\" fill-rule=\"evenodd\" fill-opacity=\"1\" stroke=\"#000000\" stroke-opacity=\"1\" stroke-width=\"4.55111\"/>\n",
       "<path clip-path=\"url(#clip050)\" d=\"M465.398 124.274 Q465.398 124.953 465.093 125.093 Q464.812 125.234 463.782 125.234 Q462.025 125.234 461.229 125.468 Q460.456 125.679 460.221 126.054 Q460.011 126.405 459.753 127.436 L453.265 153.341 Q453.265 153.364 453.195 153.692 Q453.124 153.997 453.124 154.161 Q453.124 154.465 453.312 154.652 Q453.523 154.84 454.038 154.934 Q454.553 155.004 454.951 155.027 Q455.373 155.027 456.24 155.027 Q457.317 155.027 457.481 155.215 Q457.575 155.332 457.575 155.543 Q457.575 155.988 457.387 156.222 Q457.223 156.433 457.059 156.479 Q456.919 156.503 456.638 156.503 Q456.146 156.503 455.092 156.456 Q454.038 156.409 453.499 156.409 L450.431 156.362 L444.341 156.503 Q443.685 156.503 443.685 155.964 Q443.685 155.496 443.849 155.285 Q444.013 155.074 444.177 155.051 Q444.364 155.027 444.833 155.027 Q447.245 155.027 448.042 154.793 Q448.862 154.535 449.189 153.435 L452.492 140.201 L437.876 140.201 L434.597 153.341 Q434.597 153.364 434.527 153.692 Q434.457 153.997 434.457 154.161 Q434.457 154.465 434.644 154.652 Q434.855 154.84 435.37 154.934 Q435.886 155.004 436.284 155.027 Q436.705 155.027 437.572 155.027 Q438.649 155.027 438.837 155.215 Q438.93 155.332 438.93 155.543 Q438.93 155.87 438.837 156.105 Q438.766 156.315 438.579 156.386 Q438.415 156.456 438.298 156.479 Q438.181 156.503 437.97 156.503 Q437.478 156.503 436.424 156.456 Q435.394 156.409 434.855 156.409 L431.787 156.362 L425.697 156.503 Q425.018 156.503 425.018 155.964 Q425.018 155.496 425.181 155.308 Q425.345 155.098 425.556 155.074 Q425.767 155.027 426.306 155.027 Q427.477 155.027 428.18 154.957 Q428.882 154.887 429.327 154.793 Q429.796 154.676 430.03 154.348 Q430.288 154.02 430.405 153.739 Q430.522 153.435 430.686 152.755 L437.103 126.991 Q437.291 126.218 437.291 126.101 Q437.291 125.656 437.01 125.538 Q436.752 125.398 436.003 125.328 L434.176 125.234 Q433.614 125.234 433.379 125.21 Q433.169 125.187 433.005 125.07 Q432.841 124.953 432.841 124.695 Q432.841 124.367 432.911 124.156 Q433.005 123.922 433.169 123.852 Q433.332 123.782 433.45 123.758 Q433.567 123.735 433.754 123.735 L439.938 123.875 L446.074 123.735 Q446.754 123.735 446.754 124.274 Q446.754 124.953 446.449 125.093 Q446.145 125.234 445.114 125.234 Q443.404 125.234 442.608 125.468 Q441.811 125.679 441.554 126.054 Q441.32 126.428 441.085 127.436 L438.251 138.702 L452.89 138.702 L455.771 126.991 Q455.959 126.147 455.959 126.101 Q455.959 125.656 455.677 125.538 Q455.42 125.398 454.67 125.328 L452.843 125.234 Q452.281 125.234 452.047 125.21 Q451.836 125.187 451.649 125.07 Q451.485 124.953 451.485 124.695 Q451.485 124.367 451.555 124.156 Q451.649 123.922 451.813 123.852 Q451.977 123.782 452.094 123.758 Q452.211 123.735 452.398 123.735 L458.582 123.875 L464.742 123.735 Q465.398 123.735 465.398 124.274 Z\" fill=\"#000000\" fill-rule=\"nonzero\" fill-opacity=\"1\" /><path clip-path=\"url(#clip050)\" d=\"M497.634 164.89 Q497.634 165.021 497.486 165.529 Q497.339 166.037 496.978 166.824 Q496.634 167.611 496.142 168.333 Q495.666 169.038 494.879 169.562 Q494.109 170.071 493.223 170.071 Q492.043 170.071 491.256 169.284 Q490.469 168.497 490.469 167.316 Q490.469 166.677 490.912 165.463 Q492.994 159.922 492.994 157.938 Q492.994 155.593 491.174 155.593 Q490.141 155.593 489.206 156.019 Q488.272 156.446 487.665 157.036 Q487.059 157.626 486.583 158.298 Q486.108 158.971 485.895 159.413 Q485.698 159.856 485.649 160.053 L483.632 168.152 Q483.468 168.841 483.353 169.169 Q483.238 169.497 482.927 169.775 Q482.615 170.071 482.124 170.071 Q481.714 170.071 481.419 169.825 Q481.14 169.579 481.14 169.152 Q481.14 169.087 481.222 168.743 Q481.304 168.398 481.419 167.923 Q481.533 167.447 481.582 167.169 Q482.173 164.939 482.255 164.627 L483.189 160.725 Q483.698 158.79 483.698 157.938 Q483.698 155.593 481.878 155.593 Q480.976 155.593 480.123 155.937 Q479.287 156.265 478.713 156.724 Q478.139 157.184 477.615 157.823 Q477.106 158.446 476.844 158.872 Q476.598 159.282 476.401 159.692 L475.975 161.364 Q475.877 161.824 475.401 163.611 L474.663 166.644 Q474.139 168.906 474.024 169.12 Q473.86 169.579 473.499 169.825 Q473.139 170.071 472.778 170.071 Q472.368 170.071 472.089 169.825 Q471.811 169.579 471.811 169.152 Q471.811 169.087 471.86 168.841 Q471.909 168.595 471.991 168.251 Q472.073 167.906 472.106 167.71 L474.057 159.954 Q474.418 158.544 474.5 158.102 Q474.598 157.643 474.598 157.134 Q474.598 155.593 473.549 155.593 Q472.696 155.593 472.139 156.61 Q471.581 157.626 471.106 159.594 Q470.958 160.135 470.86 160.25 Q470.778 160.364 470.532 160.364 Q470.122 160.348 470.122 160.02 Q470.122 159.938 470.253 159.413 Q470.384 158.889 470.63 158.102 Q470.892 157.298 471.171 156.774 Q471.335 156.429 471.483 156.2 Q471.63 155.97 471.925 155.61 Q472.221 155.249 472.663 155.052 Q473.106 154.855 473.647 154.855 Q474.844 154.855 475.729 155.626 Q476.631 156.397 476.746 157.774 Q478.926 154.855 481.976 154.855 Q483.698 154.855 484.73 155.724 Q485.698 156.561 485.813 158.102 Q488.075 154.855 491.289 154.855 Q493.141 154.855 494.142 155.823 Q495.142 156.774 495.142 158.446 Q495.142 159.315 494.699 160.971 Q494.256 162.611 493.961 163.43 Q493.666 164.25 493.092 165.824 Q492.486 167.333 492.486 168.218 Q492.486 168.792 492.682 169.054 Q492.879 169.316 493.305 169.316 Q493.961 169.316 494.535 168.939 Q495.109 168.546 495.519 167.906 Q495.945 167.251 496.224 166.595 Q496.503 165.922 496.716 165.168 Q496.847 164.758 496.912 164.66 Q496.994 164.562 497.224 164.562 Q497.634 164.562 497.634 164.89 Z\" fill=\"#000000\" fill-rule=\"nonzero\" fill-opacity=\"1\" /><path clip-path=\"url(#clip050)\" d=\"M507.754 148.707 Q507.754 149.428 507.163 149.969 Q506.59 150.494 505.966 150.494 Q505.393 150.494 505.032 150.15 Q504.688 149.789 504.688 149.281 Q504.688 148.609 505.261 148.051 Q505.835 147.494 506.508 147.494 Q507.065 147.494 507.409 147.838 Q507.754 148.182 507.754 148.707 M508.049 164.89 Q508.049 165.021 507.901 165.545 Q507.754 166.054 507.393 166.841 Q507.049 167.611 506.573 168.333 Q506.098 169.054 505.311 169.562 Q504.54 170.071 503.655 170.071 Q502.458 170.071 501.671 169.284 Q500.9 168.497 500.9 167.316 Q500.9 166.677 501.671 164.627 Q503.901 158.659 503.983 158.413 Q504.36 157.479 504.36 156.659 Q504.36 156.282 504.278 156.052 Q504.196 155.806 504.032 155.724 Q503.868 155.626 503.769 155.61 Q503.687 155.593 503.524 155.593 Q502.556 155.593 501.654 156.577 Q500.753 157.561 500.13 159.758 Q499.998 160.168 499.916 160.266 Q499.834 160.364 499.589 160.364 Q499.179 160.348 499.179 160.02 Q499.179 159.922 499.293 159.545 Q499.408 159.151 499.621 158.561 Q499.834 157.954 500.212 157.331 Q500.589 156.692 501.048 156.134 Q501.523 155.577 502.195 155.216 Q502.868 154.855 503.622 154.855 Q504.852 154.855 505.606 155.659 Q506.376 156.446 506.376 157.61 Q506.376 158.249 505.934 159.381 Q505.393 160.856 505.196 161.332 L503.884 164.857 Q503.409 166.136 503.261 166.529 Q503.13 166.906 503.015 167.365 Q502.917 167.808 502.917 168.218 Q502.917 168.792 503.097 169.054 Q503.294 169.316 503.72 169.316 Q504.901 169.316 505.77 168.152 Q506.639 166.972 507.147 165.168 Q507.163 165.119 507.18 165.037 Q507.311 164.627 507.442 164.578 Q507.508 164.562 507.639 164.562 Q508.049 164.562 508.049 164.89 Z\" fill=\"#000000\" fill-rule=\"nonzero\" fill-opacity=\"1\" /><path clip-path=\"url(#clip050)\" d=\"M529.109 164.89 Q529.109 165.021 528.961 165.529 Q528.814 166.037 528.453 166.824 Q528.109 167.611 527.633 168.333 Q527.158 169.038 526.371 169.562 Q525.6 170.071 524.715 170.071 Q523.534 170.071 522.747 169.284 Q521.96 168.497 521.96 167.316 Q521.96 166.66 522.305 165.759 Q524.485 159.938 524.485 157.938 Q524.485 155.593 522.665 155.593 Q521.764 155.593 520.911 155.937 Q520.075 156.265 519.501 156.724 Q518.927 157.184 518.402 157.823 Q517.894 158.446 517.632 158.872 Q517.386 159.282 517.189 159.692 L516.763 161.364 Q516.664 161.824 516.189 163.611 L515.451 166.644 Q514.927 168.906 514.812 169.12 Q514.648 169.579 514.287 169.825 Q513.926 170.071 513.566 170.071 Q513.156 170.071 512.877 169.825 Q512.598 169.579 512.598 169.152 Q512.598 169.087 512.648 168.841 Q512.697 168.595 512.779 168.251 Q512.861 167.906 512.893 167.71 L514.845 159.954 Q515.205 158.544 515.287 158.102 Q515.386 157.643 515.386 157.134 Q515.386 155.593 514.336 155.593 Q513.484 155.593 512.926 156.61 Q512.369 157.626 511.893 159.594 Q511.746 160.135 511.647 160.25 Q511.565 160.364 511.319 160.364 Q510.91 160.348 510.91 160.02 Q510.91 159.938 511.041 159.397 Q511.172 158.856 511.418 158.085 Q511.68 157.298 511.926 156.774 Q512.139 156.38 512.254 156.2 Q512.385 156.003 512.697 155.626 Q513.025 155.232 513.451 155.052 Q513.894 154.855 514.435 154.855 Q515.648 154.855 516.533 155.642 Q517.419 156.413 517.533 157.774 Q519.714 154.855 522.764 154.855 Q524.567 154.855 525.6 155.806 Q526.633 156.757 526.633 158.446 Q526.633 158.84 526.551 159.348 Q526.486 159.84 526.322 160.463 Q526.174 161.086 526.043 161.561 Q525.912 162.037 525.649 162.807 Q525.387 163.561 525.272 163.889 Q525.157 164.217 524.879 164.988 Q524.616 165.742 524.584 165.824 Q523.977 167.349 523.977 168.218 Q523.977 168.792 524.157 169.054 Q524.354 169.316 524.78 169.316 Q525.928 169.316 526.781 168.185 Q527.65 167.037 528.207 165.168 Q528.338 164.758 528.404 164.66 Q528.486 164.562 528.715 164.562 Q529.109 164.562 529.109 164.89 Z\" fill=\"#000000\" fill-rule=\"nonzero\" fill-opacity=\"1\" /></svg>\n"
      ]
     },
     "execution_count": 67,
     "metadata": {},
     "output_type": "execute_result"
    }
   ],
   "source": [
    "p = plot(viol, -log2.(pgs), label=\"\\$H_{min}\\$\", markershape=:circle)"
   ]
  }
 ],
 "metadata": {
  "kernelspec": {
   "display_name": "Julia 1.9.0",
   "language": "julia",
   "name": "julia-1.9"
  },
  "language_info": {
   "file_extension": ".jl",
   "mimetype": "application/julia",
   "name": "julia",
   "version": "1.9.0"
  }
 },
 "nbformat": 4,
 "nbformat_minor": 5
}
